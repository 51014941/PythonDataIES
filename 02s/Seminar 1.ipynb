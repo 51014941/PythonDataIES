{
 "cells": [
  {
   "cell_type": "markdown",
   "metadata": {},
   "source": [
    "# Seminar 1\n",
    "by Martin Hronec </br>\n",
    "October 12th\n",
    "\n",
    "**Contents**\n",
    "\n",
    "1. [Git revision](#revision)\n",
    "2. [Git's data model](#model) \n",
    "3. [Branching](#branching)\n",
    "4. [Collaboration](#collaboration)"
   ]
  },
  {
   "cell_type": "markdown",
   "metadata": {},
   "source": [
    "# 1. Revision <a name=\"revision\"></a>"
   ]
  },
  {
   "cell_type": "markdown",
   "metadata": {},
   "source": [
    "### Lifecycle of a file/blob\n",
    "\n",
    "* each file in the working directory can be in one of two states: \n",
    "    * tracked`\n",
    "        * files that were in the last snapshot - can be *modified, unmodified or untracked*\n",
    "    * untracked\n",
    "        * any files that weren't in the last snapshot are are not in the staging area (explained later)\n",
    "* a created file will not be automatically untracked until you add it\n",
    "    * when you clone a repository (instead of `git init`-ing it, all of your files will be tracked and unmodified \n",
    "       \n",
    "![From Git pro book](pictures/file_lifecycle.png)"
   ]
  },
  {
   "cell_type": "markdown",
   "metadata": {},
   "source": [
    "# 2. Git's data model <a name=\"model\"></a>\n",
    "\n",
    "* version control is a method for tracking changes to source code\n",
    "* modelling history of a collection of files and folders within some top-level directory through relating snapshots\n",
    "* to be a Git repository, we need objects and system for naming those objects\n",
    "    * refs is the system for naming those objects\n",
    "    \n",
    "* a history is a directed acyclic graph (DAG) of snapshots\n",
    "    * each snapshot refers to a set of \"parents (previous snapshots)\n",
    "        * why set of \"parent\" snapshots instead of just one \"parent\" snapshot?\n",
    "* in Git's terms:        \n",
    "    * these snapshots are called **commits**\n",
    "    * a file is called a **blob** (a bunch of bytes)\n",
    "    * a directory is called a **tree**\n",
    "        * maps names to blobs or trees (directories can contain other directories)\n",
    "        \n",
    "        \n",
    "* a \"snapshot\" is basically the top-level tree in your project\n",
    "\n",
    "* ASCII art for pedagogical purposes:\n",
    "\n",
    "`root_folder (tree)\n",
    "|\n",
    "+- folder (tree)\n",
    "|  |\n",
    "|  + file.txt (blob, contents = \"A barber learns to shave by shaving fools.\")\n",
    "|\n",
    "+- another_file.txt (blob, contents = \"I don't give a git.\")`\n"
   ]
  },
  {
   "cell_type": "markdown",
   "metadata": {
    "Collapsed": "false",
    "slideshow": {
     "slide_type": "slide"
    }
   },
   "source": [
    "### Objects, references and content-addressing\n",
    "\n",
    "* an \"object\" is a blob, tree, commit\n",
    "* in Git data store, all objects are content-addressed by their **SHA-1 hash**\n",
    "    * SHA-1 hash is \n",
    "    * more on this later\n",
    "\n",
    "* all snapshots can be identified by their SHA-1 hash\n",
    "    * inconvevient - try to remember strings of 40 hexadecimal characters\n",
    "    * Git's solution: readeble names for SHA-1 hashes - **references**\n",
    "    \n",
    "* references are pointers to commits\n",
    "* objects are immutable (building blocks)\n",
    "* references are mutable (can be updated to point to a new commit)\n",
    "    * e.g. `master` reference - typically pointing to the the main \"codebase\"\n",
    "    \n",
    "* we want a notion of \"where we currently are\" (e.g. in the history of the project)\n",
    "    * when we take a new snapshot, we know what it is related to\n",
    "    * \"where we are/what are we looking at\" is a special reference called **HEAD**\n",
    "\n",
    "\n",
    "\n",
    "* a Git **repository** is the data objects and references\n",
    "* all Git stores are objects and references\n",
    "    * easy\n",
    "    \n",
    "* all git commands map to some manipulation of the DAG which captures the relation between snapshots (history and development) \n",
    "    * e.g. by adding objects and adding/updating references\n",
    "    "
   ]
  },
  {
   "cell_type": "markdown",
   "metadata": {
    "Collapsed": "false",
    "slideshow": {
     "slide_type": "slide"
    }
   },
   "source": [
    "## Example of Git's data model\n",
    "\n",
    "* after the first commit:\n",
    "    * Git checksums each subdirectory (only the root project directory in this case)\n",
    "    * stores objects (one file in our case) in the Git repository\n",
    "    * then it creates a commit object that has the metadata and a pointer to the root project tree so it can re-create that snapshot when needed\n",
    "    \n",
    "* repository now contains 3 objects:\n",
    "    * one blob for the content of your file, \n",
    "    * one tree that lists the contents of the directory and specifies which file names are stored as which blobs \n",
    "    * one commit with the pointer to that root tree and all the commit metadata\n",
    "\n",
    "![caption](./pictures/single_commit_detailed.PNG)\n"
   ]
  },
  {
   "cell_type": "markdown",
   "metadata": {
    "Collapsed": "false",
    "slideshow": {
     "slide_type": "subslide"
    }
   },
   "source": [
    "* we will use [git-graph](https://github.com/hoduche/git-graph) to quickly show the underlying data model of our repository\n",
    "    * see the github page for the color reference\n",
    "* e.g.\n",
    "\n",
    "![caption](pictures/2020_09_22_19_37_48_git_graph.dot.png)\n",
    "\n",
    "* note that this graph does not correspond to the above one (different hashes)"
   ]
  },
  {
   "cell_type": "markdown",
   "metadata": {
    "Collapsed": "false",
    "slideshow": {
     "slide_type": "subslide"
    }
   },
   "source": [
    "### 2-commits repository representation\n",
    "\n",
    "* if you make some changes and commit againt, the next commit stores a pointer to the commit that came immediately before it\n",
    "  \n",
    "![caption](pictures/2020_09_22_19_37_51_git_graph.dot.png)"
   ]
  },
  {
   "cell_type": "markdown",
   "metadata": {},
   "source": [
    "* even if you are not using the command line interface to Git, you are still working with the same underlying objects\n",
    "* let's quickly look at 2 \"GUI\" Git interfaces\n",
    "    * Visual Studio Code\n",
    "    * GitKraken"
   ]
  },
  {
   "cell_type": "markdown",
   "metadata": {
    "Collapsed": "false",
    "slideshow": {
     "slide_type": "subslide"
    }
   },
   "source": [
    "### 3-commits repository representation\n",
    "![caption](pictures/2020_09_22_19_37_54_git_graph.dot.png)"
   ]
  },
  {
   "cell_type": "markdown",
   "metadata": {
    "Collapsed": "false"
   },
   "source": [
    "# 3. Branches <a name=\"branches\"></a>\n",
    "\n",
    "* branching means:\n",
    "    * diverging from the main line of development\n",
    "        * and continue to do work without affecting the main (stable/production) development line\n",
    "    * developing multiple things in parallel\n",
    "\n",
    "* in other VCS tools, this requires a lot of resources\n",
    "    * e.g. to create a newcopy of your source code directory   \n",
    "* not in Git! - very lightweight, killer feature\n",
    "\n",
    "* when you commit in Git, Git stores a commit object that contains a pointer to the snapshot of the content you staged:\n",
    "    * the author and message metadata\n",
    "    * and zero or more pointers to the commit or commits that were the direct parents of this commit:\n",
    "        * zero parents for the first commit\n",
    "        * one parent for a normal commit\n",
    "        * and multiple parents for a commit that results from a merge of two or more branches\n",
    "        \n",
    "* you can view all commits across branches using `git log --branches=*`        "
   ]
  },
  {
   "cell_type": "markdown",
   "metadata": {
    "Collapsed": "false"
   },
   "source": [
    "### Creating a new branch\n",
    "\n",
    "* a branch in Git is simply a lightweight movable pointer to one of the commits\n",
    "* the default branch name in Git is *master*\n",
    "    * as you initially make commits, you're given a master branch that points to the last commit you made\n",
    "    and every time you commit, it moves forward automatically\n",
    "* **what happens when you create a new branch?** \n",
    "    * it creates a new pointer for you to move around\n",
    "    \n",
    "* `git branch <branch_name>` to create a new branch\n",
    "* look at the following 2 graphs to see that indeed, new branch is just another pointer pointing to the last commit"
   ]
  },
  {
   "cell_type": "markdown",
   "metadata": {},
   "source": [
    "![caption](./pictures/before_branch.png)"
   ]
  },
  {
   "cell_type": "markdown",
   "metadata": {
    "Collapsed": "false"
   },
   "source": [
    "* added a new branch called \"brave\" with `git branch brave`\n",
    "![caption](./pictures/branch_as_pointer.png)\n",
    "* HEAD is still pointing to the master\n",
    "    * if we would add another commit now, we would be contributing to the master"
   ]
  },
  {
   "cell_type": "markdown",
   "metadata": {
    "Collapsed": "false"
   },
   "source": [
    "### HEAD\n",
    "\n",
    "* how does Git know what branch you're currently on?\n",
    "    * it keeps a special pointer called *HEAD*\n",
    "        * a pointer to the local branch you're currently on\n",
    "        * you can see it in the file .git/HEAD\n",
    "        \n",
    "* for now we are still on the \"master\" branch, we did not yet switched to the \"new branch\"\n",
    "\n",
    "* to switch to another branch, you can use `git checkout <new_branch>`\n",
    "    * `git status` will confirm that you are indeed looking at it\n",
    "    * `git log` will show *HEAD* pointing to the \"new branch\"\n",
    "* if you change a file, stage it and commit it, your project history will diverge"
   ]
  },
  {
   "cell_type": "markdown",
   "metadata": {
    "Collapsed": "false"
   },
   "source": [
    "### Basic branching and merging\n",
    "\n",
    "* you've decided that you're going to work on issue #12\n",
    "    * issues are generally the way code development is organized and managed, see [github manual](https://guides.github.com/features/issues/)\n",
    "\n",
    "* `git checkout -b iss12`\n"
   ]
  },
  {
   "cell_type": "markdown",
   "metadata": {
    "Collapsed": "false"
   },
   "source": [
    "* now on the new branch\n",
    "    * create some new file or make some changes\n",
    "    * commit it and look at the graph again\n",
    "        * your project history has diverged\n",
    "\n",
    "\n",
    "* a branch in Git is actually a simple file that contains the 40 character SHA-1 checksum of the commit it points to\n",
    "    * => branches are cheap to create and destroy\n",
    "    * creating a new branch is as quick and simple as writing 41 bytes to a file (40 characters and a newline)."
   ]
  },
  {
   "cell_type": "markdown",
   "metadata": {
    "Collapsed": "false"
   },
   "source": [
    "* now imagine you need to make a *hotfix*, to do this, you need to move away from the iss53 back to the main line of the development\n",
    "* to switch from the current branch to another, you need to commit your changes\n",
    "    * or stash them, which we will be talking about later\n",
    "    \n",
    "* you switch back to *master*\n",
    "    * you create a new branch named \"hotfix\"\n",
    "    * you hotfix what you need\n",
    "    * then you need to merge it back to the master (after some tests)\n",
    "\n"
   ]
  },
  {
   "cell_type": "markdown",
   "metadata": {
    "Collapsed": "false"
   },
   "source": [
    "## Merging - fastforward\n",
    "* branching is usefull only if we can combine things back in the end\n",
    "* `git merge <branch_to_be_merged_into_where_HEAD_is_pointing>`\n",
    "* because the commit pointed to by the branch you merged in was directly upstream of the commit you’re on, Git moves the pointer forward\n",
    "    * when you try to merge one commit with a commit that can be reached by following the first commit’s history, Git simplifies things by moving the pointer forward because there is no divergent work to merge together—this is called a **fast-forward.**\n",
    "    * notice that Git itself tells us this was a fast-forwart type of the merge\n",
    "    * Git does the best job to automatically merge things, if not possible you need to do it manually or use `git mergetool`\n",
    "\n",
    "* `git branch -d hotfix`"
   ]
  },
  {
   "cell_type": "markdown",
   "metadata": {
    "Collapsed": "false"
   },
   "source": [
    "### Merging - recursive (three-way merge)\n",
    "\n",
    "* your development history has diverged from some older point\n",
    "* becausee the commit on the branch you’re on isn’t a direct ancestor of the branch you’re merging in, Git has to do some work\n",
    "    * in this case, Git does a simple **three-way merge**, using the two snapshots pointed to by the branch tips and the common ancestor of the two.\n",
    "\n",
    "* `git checkout master` & `git merge iss12`\n",
    "\n",
    "* instead of just moving the branch pointer forward, Gitcreates a new snapshot that results from this three-way merge and automatically creates a new commit that points to it \n",
    "    * this is referred to as a merge commit\n",
    "        * it is special by the fact that it has more than one parent"
   ]
  },
  {
   "cell_type": "markdown",
   "metadata": {
    "Collapsed": "false"
   },
   "source": [
    "* `git add <changed file>` \n",
    "* `git merge --continue` \n",
    "* if something goes wrong, e.g. there is a conflict, use `git merge --abort`\n",
    "* look at the git log to see the branched development"
   ]
  },
  {
   "cell_type": "markdown",
   "metadata": {
    "Collapsed": "false"
   },
   "source": [
    "### Merge conflicts - diverged paths\n",
    "\n",
    "* if you changed the same part of the same file differently in the two branches you-re merging together, Git won't be able to merge them cleanly\n",
    "\n",
    "* this is how you repository looks like ![](./pictures/pre_conflict_diverged.png)"
   ]
  },
  {
   "cell_type": "markdown",
   "metadata": {
    "Collapsed": "false"
   },
   "source": [
    "### Merge conflicts - resolving\n",
    "* if we run `git merge branch` when there is a conflict we will get (something like) following message\n",
    "\n",
    "    * `CONFLICT (content): Merge conflict in index.html` \n",
    "      `Automatic merge failed; fix conflicts and then commit the result.`\n",
    "\n",
    "* Git hasn’t automatically created a new merge commit\n",
    "    * it has paused the process while you resolve the conflict.\n",
    "    * `git status` to see which files are unmerged at any point after a merge conflict\n",
    "\n",
    "\n",
    "* open the conflicting file\n",
    "    * `<<<<<<<< HEAD:`\n",
    "    \n",
    "    `......one version`\n",
    "    \n",
    "    `=========`\n",
    "    \n",
    "    `...... second version`\n",
    "    \n",
    "    `>>>>>>>>> <conflicting branch name>`\n",
    "\n",
    "* resolve each of the conflicted section in the conflicted file\n",
    "* run `git add` on each file\n",
    "    * staging the file marks it as resolved in Git\n",
    "\n",
    "* run `git commit` to finalize the merge commit\n",
    "\n",
    "* see the resulting graph on the next slide"
   ]
  },
  {
   "cell_type": "markdown",
   "metadata": {},
   "source": [
    "### Merged - conflict resolved \n",
    "![.](./pictures/conflict_resolved.png)"
   ]
  },
  {
   "cell_type": "markdown",
   "metadata": {},
   "source": [
    "# 4. Collaboration <a name=\"collaboration\"></a>\n",
    "\n",
    "* make groups of 2, e.g. using [this](https://docs.google.com/spreadsheets/d/1Ajav7uEDKNhNS1VcxUMsIOwzMgK9P4BHi129YmOF95k/edit?usp=sharing) spreadsheet\n",
    "* do the following:\n",
    "    * create public Github repo\n",
    "    * each member clones the repository \n",
    "    * each member of the group makes some changes locally\n",
    "    * push them to the (central) remote repository\n",
    "    * other member pulls the changes\n",
    "    * adds other changes and pushes them again\n",
    "    \n",
    "* put link to your github repositories next to your names in the matching spreadsheet\n",
    " "
   ]
  }
 ],
 "metadata": {
  "kernelspec": {
   "display_name": "Python 3",
   "language": "python",
   "name": "python3"
  },
  "language_info": {
   "codemirror_mode": {
    "name": "ipython",
    "version": 3
   },
   "file_extension": ".py",
   "mimetype": "text/x-python",
   "name": "python",
   "nbconvert_exporter": "python",
   "pygments_lexer": "ipython3",
   "version": "3.7.3"
  }
 },
 "nbformat": 4,
 "nbformat_minor": 4
}
