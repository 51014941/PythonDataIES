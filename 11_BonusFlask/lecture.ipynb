{
 "cells": [
  {
   "cell_type": "code",
   "execution_count": null,
   "metadata": {},
   "outputs": [],
   "source": [
    "import requests"
   ]
  },
  {
   "cell_type": "markdown",
   "metadata": {},
   "source": [
    "# Bonus lecture - Flask \n",
    "April 26th 2022, Vítek, Inspired by MIT lecture: https://designftw.mit.edu/lectures/apis/index.html\n",
    "\n",
    "\n",
    "* So far, we have studied how to take advantage of existing data sources for your analysis/application.\n",
    "* But programming is about *exchange* of data.\n",
    "* You want to communicate with your users or other programs\n",
    "* Best way to communicate is using an your own interface: an API\n",
    "* We will also see how we can create our own webistes\n",
    "\n",
    "## Why do you set up an API (or a website)\n",
    "* Share access to your program with others\n",
    "* Share access to your data with others\n",
    "* Coordinate your application with other apps => **Microservice architecture**\n",
    "* Component developers can only cares about their jobs\n",
    "\n",
    "\n",
    "\n",
    "\n",
    "### Microservice architecture examples\n",
    "\n",
    "#### Videostreaming service\n",
    "![microservice architecture](./img/microservices.png)\n",
    "\n",
    "\n",
    "#### Golemio\n",
    "![golemio architecture](./img/microservices.png)\n",
    "\n",
    "\n",
    "\n",
    "\n",
    "## Examples of APIs\n",
    ">\n",
    "> Task: Suggest an API structure for Airbnb microservice architecture\n",
    "> * List endpoints and functional modules that do separate jobs\n",
    "> \n",
    "\n",
    "* [GOLEMIO API](https://operator-ict.gitlab.io/golemio/documentation/cs/architektura/architektura/)\n",
    "* GitHub API\n",
    "\n",
    "\n"
   ]
  },
  {
   "cell_type": "code",
   "execution_count": null,
   "metadata": {},
   "outputs": [],
   "source": [
    "requests.get('https://api.github.com/repos/vitekzkytek/PythonDataIES').json()"
   ]
  },
  {
   "cell_type": "markdown",
   "metadata": {},
   "source": [
    "## API == `Application Programming Interface`\n",
    "* The way your code can ask the application/library/service to do things\n",
    "* The boundary of the application\n",
    "\n",
    "### Components:\n",
    "    * Data model\n",
    "    * Methods\n",
    "    * Syntax\n",
    "\n",
    "## HTTP\n",
    "* API for talking to web servers\n",
    "* Originally, hu\n",
    "* Predefined structure\n",
    "* Main methods:\n",
    "    * GET\n",
    "    * POST\n",
    "    * DELETE\n",
    "    * PUT\n",
    "* see [CRUD](https://en.wikipedia.org/wiki/Create,_read,_update_and_delete)\n",
    "\n",
    "\n",
    "## Request and response structure\n",
    "### Request\n",
    "- long string with components. Serialization necessary.\n",
    "#### URL\n",
    "- identification of the resource\n",
    "- object your ask for\n",
    "- contains \n",
    "    * address (hostname) \n",
    "    * method identification (route) \n",
    "    * parameters\n",
    "#### Headers\n",
    "- Referer: Identification of requester\n",
    "- Accept: Format of data - json, text, pdf, image, etc.\n",
    "- Cookie: User-specific data\n",
    "- Authentization: Security\n",
    "#### Body\n",
    "- Content of the request\n",
    "- not necessary\n",
    "### Response\n",
    "#### Status code\n",
    "- see [list](https://en.wikipedia.org/wiki/List_of_HTTP_status_codes)\n",
    "#### Body\n",
    "- Content of request\n",
    "\n",
    "## Why RESTful?\n",
    "* RESTful API is stateless\n",
    "* In the \"old way\" servers kept state of its users:\n",
    "    * their identity\n",
    "    * so far activity\n",
    "* Modern apps leaves emphemeral information on client's side - role of cookies\n",
    "* Server is just a server - for precise question gives precise answer.\n",
    "* Server only keeps **persistent** data - files, forms, etc.\n",
    "* Scalability\n",
    "* Performance\n",
    "* Managing code\n",
    "\n",
    "## Security\n",
    "* Privacy \n",
    "* Limited resources\n",
    "* Economic reasoning - selling data etc.\n",
    "* Always use HTTPs - encrypts communication\n",
    "\n",
    "### Authentization\n",
    "* Never in URLs - public information\n",
    "* Possibly using cookies - but again can be compromised/faked etc.\n",
    "* Sometimes authorization using standard user:password (HTTP Basic Auth header), perhaps hashed (HTTP Digest Auth)\n",
    "\n",
    "#### HTTP Bearer Auth\n",
    "* Using arbitrary string server can recognize\n",
    "    * Most often server also generates them\n",
    "    * But how to deliver to client ?\n",
    "* Decouples identity from authorization"
   ]
  },
  {
   "cell_type": "code",
   "execution_count": null,
   "metadata": {},
   "outputs": [],
   "source": [
    "endpoint, token = 'https:{hostname}/{route}','<FILLINHERE>'\n",
    "headers = {f\"Authorization\": \"Bearer {token}\"}\n",
    "requests.get(endpoint, headers=headers)"
   ]
  },
  {
   "cell_type": "markdown",
   "metadata": {},
   "source": [
    "## Flask examples"
   ]
  },
  {
   "cell_type": "code",
   "execution_count": null,
   "metadata": {},
   "outputs": [],
   "source": []
  },
  {
   "cell_type": "markdown",
   "metadata": {},
   "source": [
    "## Deployment\n",
    "\n",
    "* Heroku - https://realpython.com/flask-by-example-part-1-project-setup/\n",
    "* AWS Lambda - https://towardsdatascience.com/deploy-a-python-api-on-aws-c8227b3799f0'\n",
    "* Use Serverless framework - https://faun.pub/aws-lambda-serverless-framework-python-part-1-a-step-by-step-hello-world-4182202aba4a\n",
    "* Use your own virtual machine anywhere and start learning Linux and Bash etc. You will need it anyway."
   ]
  },
  {
   "cell_type": "markdown",
   "metadata": {},
   "source": []
  }
 ],
 "metadata": {
  "interpreter": {
   "hash": "469d7ba629a2f236b3e79931835a1b75b57051073bcc41a870369fa1f32184d9"
  },
  "kernelspec": {
   "display_name": "Python 3.8.10 ('venv': venv)",
   "language": "python",
   "name": "python3"
  },
  "language_info": {
   "codemirror_mode": {
    "name": "ipython",
    "version": 3
   },
   "file_extension": ".py",
   "mimetype": "text/x-python",
   "name": "python",
   "nbconvert_exporter": "python",
   "pygments_lexer": "ipython3",
   "version": "3.8.10"
  },
  "orig_nbformat": 4
 },
 "nbformat": 4,
 "nbformat_minor": 2
}
