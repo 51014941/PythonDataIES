{
 "cells": [
  {
   "cell_type": "markdown",
   "metadata": {},
   "source": [
    "## Data Processing in Python: MIDTERM EXAM\n",
    "You have 80 minutes. \"Open browser\" but NO COMMUNICATION between students.\n",
    "\n",
    "Using following [Wikipedia page](https://en.wikipedia.org/wiki/20th_Century%27s_Greatest_Hits:_100_English-Language_Books_of_Fiction):\n",
    "\n",
    "TODO: add example of output for key questions/parts\n",
    "\n",
    "1. Scrape urls linking to the (individual wikipedia pages of)books which are common between the Modern Library list and the Greatest Hits list of books.\n",
    "2. Then, for each book get DataFrame with 2-column MultiIndex and one column with values (long data format). MultiIndex levels should be: \n",
    "    * Name of the book\n",
    "    * Attribute of table scraped from wiki (e.g. Author, Country, etc.) \n",
    "(Hint: Be aware that some of the books might not have table associated with their wiki page. \n",
    "Let User know and skip that page.)\n",
    "3. Answer following questions:\n",
    "    1. For how many books could number of pages be scraped from wiki tables associated with webpage?\n",
    "    2. What is the maximum number of books, single author has in this list? Who she/he is?\n",
    "    3. Which book was published first?\n"
   ]
  },
  {
   "cell_type": "code",
   "execution_count": null,
   "metadata": {},
   "outputs": [],
   "source": []
  }
 ],
 "metadata": {
  "kernelspec": {
   "display_name": "Python 3",
   "language": "python",
   "name": "python3"
  },
  "language_info": {
   "codemirror_mode": {
    "name": "ipython",
    "version": 3
   },
   "file_extension": ".py",
   "mimetype": "text/x-python",
   "name": "python",
   "nbconvert_exporter": "python",
   "pygments_lexer": "ipython3",
   "version": "3.7.1"
  }
 },
 "nbformat": 4,
 "nbformat_minor": 2
}
