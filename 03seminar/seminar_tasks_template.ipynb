{
 "cells": [
  {
   "cell_type": "markdown",
   "metadata": {},
   "source": [
    "# Seminar 2"
   ]
  },
  {
   "cell_type": "markdown",
   "metadata": {},
   "source": [
    "## warmup exercise\n",
    "\n",
    "Given an array of integers nums and an integer target, return indices of the two numbers such that they add up to target.\n",
    "\n",
    "You may assume that each input would have exactly one solution, and you may not use the same element twice.\n",
    "\n",
    "You can return the answer in any order."
   ]
  },
  {
   "cell_type": "code",
   "execution_count": null,
   "metadata": {},
   "outputs": [],
   "source": [
    "#example\n",
    "arr = [1,2,3,4,5]\n",
    "# target is 3\n",
    "# indices are 0,1"
   ]
  },
  {
   "cell_type": "code",
   "execution_count": null,
   "metadata": {},
   "outputs": [],
   "source": [
    "import numpy as np"
   ]
  },
  {
   "cell_type": "markdown",
   "metadata": {},
   "source": [
    "# numpy recap"
   ]
  },
  {
   "cell_type": "code",
   "execution_count": null,
   "metadata": {},
   "outputs": [],
   "source": [
    "# Create a simple array of values from 0 to 15\n",
    "\n",
    "\n",
    "# Using the same object, subset only odd values - make a new object\n",
    "\n",
    "# Using the original object, subset only even values - make a new object\n",
    "\n",
    "# Create a matrix with 2 rows with odd values in first row\n",
    "    # Do you need to make any adjustments?\n",
    "\n",
    "# what is the shape of the matrix?\n",
    "\n",
    "# what is the sum of the second column?\n",
    "    # slicing / subsetting\n",
    "\n",
    "\n",
    "# sum the first, third and fith column\n",
    "\n",
    "# multiply the matrix with itself - create 8 x 8 resulting matrix\n",
    "    #A, B, A-> m x n, B-> n x o => m x o\n",
    "\n",
    "\n",
    "# what is largest elemtn of the matrix? On what index (position) ?\n",
    "\n",
    "# normalize this matrix (subract mean and divide by sd)\n",
    "\n",
    "# make this 8x8 matrix into a single vector - save this object! \n",
    "\n",
    "# check if the resulting vector is monotonous\n",
    "    # write a function that returs true of false\n",
    "    # is it goin up always?\n",
    "        # look at 1st, see if 2nd is higher\n",
    "        # 2dn, if 3rd higher\n",
    "\n",
    "def is_monotonous():\n",
    "    raise NotImplementedError\n",
    "\n",
    "# how many items is smaller than 100?\n",
    "\n",
    "# replace the largest value with its double\n",
    "\n",
    "# simulate data from normal distribution with those mean/sd parameters\n",
    "\n",
    "# Back to the long vector - replace all values which are less than 50 with -1\n",
    "\n",
    "# count exactly how many -1s are there\n",
    "\n",
    "# sort the array\n",
    "    # check if it is monotonous with your function\n",
    "    # in a separate cell, measure how long the execution takes\n",
    "    \n",
    "    \n",
    "    \n",
    "# Bonus task:\n",
    "# Create a 2d array of size 10x10 with 1 on the border and 0 inside\n",
    "\n",
    "\n",
    "\n"
   ]
  },
  {
   "cell_type": "code",
   "execution_count": null,
   "metadata": {},
   "outputs": [],
   "source": [
    "\n",
    "# %%timeit\n",
    "\n",
    "# is_monotonous(np.sort(flat_vec))"
   ]
  },
  {
   "cell_type": "markdown",
   "metadata": {},
   "source": [
    "# Pandas - Kaggle houses dataset"
   ]
  },
  {
   "cell_type": "code",
   "execution_count": null,
   "metadata": {},
   "outputs": [],
   "source": [
    "# lets try some real world problem\n",
    "# It is your job to predict the sales price for each house. For each Id in the test set, you must predict the value of the SalePrice variable. \n",
    "\n",
    "# Ask a home buyer to describe their dream house, and they probably won't begin with the height of the basement ceiling or the proximity to an east-west railroad. \n",
    "# But this playground competition's dataset proves that much more influences price negotiations than the number of bedrooms or a white-picket fence.\n",
    "\n",
    "# With 79 explanatory variables describing (almost) every aspect of residential homes in Ames, Iowa, this competition challenges you to predict the final price of each home.\n",
    "\n",
    "# https://www.kaggle.com/c/house-prices-advanced-regression-techniques/overview\n",
    "\n",
    "# data downloadable from https://soulution-public.s3.amazonaws.com/pythonies/house-prices-advanced-regression-techniques.zip"
   ]
  },
  {
   "cell_type": "code",
   "execution_count": null,
   "metadata": {},
   "outputs": [],
   "source": [
    "import pandas as pd\n",
    "import matplotlib.pyplot as plt\n",
    "import seaborn as sns\n",
    "from scipy import stats\n",
    "\n",
    "\n",
    "%matplotlib inline\n",
    "#https://seaborn.pydata.org/introduction.html"
   ]
  },
  {
   "cell_type": "code",
   "execution_count": null,
   "metadata": {},
   "outputs": [],
   "source": [
    "#load the train data and print columns\n",
    "\n",
    "# describe the target variable SalePrice\n",
    "\n",
    "\n"
   ]
  },
  {
   "cell_type": "code",
   "execution_count": null,
   "metadata": {},
   "outputs": [],
   "source": [
    "# check skewness and kurtosis of SalePrice - is it normally distributed?\n",
    "   # normal dist is 0, 0 \n"
   ]
  },
  {
   "cell_type": "code",
   "execution_count": null,
   "metadata": {},
   "outputs": [],
   "source": [
    "# create distribution plot of the sale price - comment on it\n",
    "\n"
   ]
  },
  {
   "cell_type": "code",
   "execution_count": null,
   "metadata": {},
   "outputs": [],
   "source": [
    "#create q-q plot\n"
   ]
  },
  {
   "cell_type": "code",
   "execution_count": null,
   "metadata": {},
   "outputs": [],
   "source": [
    "# GrLivArea: Above grade (ground) living area square feet\n",
    "# TotalBsmtSF: Total square feet of basement area\n",
    "# YearBuilt: Original construction date\n",
    "# OverallQual: Overall material and finish quality"
   ]
  },
  {
   "cell_type": "code",
   "execution_count": null,
   "metadata": {},
   "outputs": [],
   "source": [
    "#scatter plot grlivarea/saleprice\n",
    "\n",
    "#scatter plot totalbsmtsf/saleprice\n",
    "\n",
    "#box plot overallqual/saleprice\n",
    "\n",
    "# what is the time dynamics of Sale price\n",
    "\n",
    "# create correlation matrix of all variables - seaborn heatmap\n",
    "\n",
    "# find the variables most correlated with SalePrice \n",
    "\n",
    "# for important variables cols = ['SalePrice', 'OverallQual', 'GrLivArea', 'GarageCars', 'TotalBsmtSF', 'FullBath', 'YearBuilt']\n",
    "# see if we can create a plot of relationship between all the variables\n"
   ]
  },
  {
   "cell_type": "code",
   "execution_count": null,
   "metadata": {},
   "outputs": [],
   "source": [
    "# Lets have a look at missing data\n",
    "# how many missing data has each column?\n",
    "# what is the percentage? \n",
    "\n",
    "# how would you handle this?\n",
    "\n",
    "# is this dataset prepared for the submission?\n",
    "\n",
    "#homework; try to make a submission"
   ]
  },
  {
   "cell_type": "code",
   "execution_count": null,
   "metadata": {},
   "outputs": [],
   "source": [
    "#saleprice correlation matrix\n",
    "#box plot overallqual/saleprice\n",
    "#saleprice correlation matrix\n",
    "\n"
   ]
  },
  {
   "cell_type": "code",
   "execution_count": null,
   "metadata": {},
   "outputs": [],
   "source": [
    "#scatterplot\n",
    "\n"
   ]
  }
 ],
 "metadata": {
  "kernelspec": {
   "display_name": "Python 3",
   "language": "python",
   "name": "python3"
  },
  "language_info": {
   "codemirror_mode": {
    "name": "ipython",
    "version": 3
   },
   "file_extension": ".py",
   "mimetype": "text/x-python",
   "name": "python",
   "nbconvert_exporter": "python",
   "pygments_lexer": "ipython3",
   "version": "3.7.5"
  }
 },
 "nbformat": 4,
 "nbformat_minor": 4
}
