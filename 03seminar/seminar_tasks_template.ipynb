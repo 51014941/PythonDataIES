{
 "cells": [
  {
   "cell_type": "markdown",
   "metadata": {},
   "source": [
    "# Seminar 2"
   ]
  },
  {
   "cell_type": "markdown",
   "metadata": {},
   "source": [
    "## warmup exercise\n",
    "\n",
    "Given an array of integers nums and an integer target, return indices of the two numbers such that they add up to target.\n",
    "\n",
    "You may assume that each input would have exactly one solution, and you may not use the same element twice.\n",
    "\n",
    "You can return the answer in any order."
   ]
  },
  {
   "cell_type": "code",
   "execution_count": null,
   "metadata": {},
   "outputs": [],
   "source": [
    "#example\n",
    "arr = [1,2,3,4,5]\n",
    "# target is 3\n",
    "# indices are 0,1"
   ]
  },
  {
   "cell_type": "code",
   "execution_count": 21,
   "metadata": {},
   "outputs": [
    {
     "name": "stdout",
     "output_type": "stream",
     "text": [
      "we have 2 at indx 0. Now look for 2 in [1, 5, 3]\n",
      "2 not found\n",
      "0 2\n",
      "we have 1 at indx 1. Now look for 3 in [5, 3]\n"
     ]
    },
    {
     "data": {
      "text/plain": [
       "(1, 3)"
      ]
     },
     "execution_count": 21,
     "metadata": {},
     "output_type": "execute_result"
    }
   ],
   "source": [
    "def solution(vec=[2,1,5,3],target=4):\n",
    "    #iterate through input array\n",
    "    for idx, item in enumerate(vec):\n",
    "        next_value = target - item\n",
    "        look_here = vec[idx+1:]\n",
    "        print(f'we have {item} at indx {idx}. Now look for {next_value} in {look_here}')\n",
    "\n",
    "        try:\n",
    "            idx2 = look_here.index(next_value)\n",
    "            return idx, idx2+idx+1\n",
    "            \n",
    "        except ValueError:\n",
    "            print(f'{next_value} not found')\n",
    "        \n",
    "        \n",
    "    \n",
    "    \n",
    "        print(idx, item)\n",
    "solution()"
   ]
  },
  {
   "cell_type": "code",
   "execution_count": 4,
   "metadata": {},
   "outputs": [
    {
     "name": "stdout",
     "output_type": "stream",
     "text": [
      "ok\n"
     ]
    }
   ],
   "source": []
  },
  {
   "cell_type": "code",
   "execution_count": 22,
   "metadata": {},
   "outputs": [],
   "source": [
    "import numpy as np"
   ]
  },
  {
   "cell_type": "markdown",
   "metadata": {},
   "source": [
    "# numpy recap"
   ]
  },
  {
   "cell_type": "code",
   "execution_count": 42,
   "metadata": {},
   "outputs": [
    {
     "data": {
      "text/plain": [
       "array([ 1,  3,  5,  7,  9, 11, 13])"
      ]
     },
     "execution_count": 42,
     "metadata": {},
     "output_type": "execute_result"
    }
   ],
   "source": [
    "\n",
    "odd_arr"
   ]
  },
  {
   "cell_type": "code",
   "execution_count": 47,
   "metadata": {},
   "outputs": [
    {
     "data": {
      "text/plain": [
       "array([ 0,  2,  4,  6,  8, 10, 12, 14])"
      ]
     },
     "execution_count": 47,
     "metadata": {},
     "output_type": "execute_result"
    }
   ],
   "source": [
    "even_arr"
   ]
  },
  {
   "cell_type": "code",
   "execution_count": 66,
   "metadata": {},
   "outputs": [],
   "source": [
    "matrix=np.matrix([odd_arr, even_arr])"
   ]
  },
  {
   "cell_type": "code",
   "execution_count": 70,
   "metadata": {},
   "outputs": [],
   "source": [
    "large_matrix=matrix.T.dot(matrix)"
   ]
  },
  {
   "cell_type": "code",
   "execution_count": 78,
   "metadata": {},
   "outputs": [
    {
     "data": {
      "text/plain": [
       "matrix([[-1.05763971, -1.03875328, -1.01986686, -1.00098044, -0.98209401,\n",
       "         -0.96320759, -0.94432117, -0.92543474],\n",
       "        [-1.03875328, -0.94432117, -0.84988905, -0.75545693, -0.66102482,\n",
       "         -0.5665927 , -0.47216058, -0.37772847],\n",
       "        [-1.01986686, -0.84988905, -0.67991124, -0.50993343, -0.33995562,\n",
       "         -0.16997781,  0.        ,  0.16997781],\n",
       "        [-1.00098044, -0.75545693, -0.50993343, -0.26440993, -0.01888642,\n",
       "          0.22663708,  0.47216058,  0.71768409],\n",
       "        [-0.98209401, -0.66102482, -0.33995562, -0.01888642,  0.30218277,\n",
       "          0.62325197,  0.94432117,  1.26539036],\n",
       "        [-0.96320759, -0.5665927 , -0.16997781,  0.22663708,  0.62325197,\n",
       "          1.01986686,  1.41648175,  1.81309664],\n",
       "        [-0.94432117, -0.47216058,  0.        ,  0.47216058,  0.94432117,\n",
       "          1.41648175,  1.88864233,  2.36080292],\n",
       "        [-0.92543474, -0.37772847,  0.16997781,  0.71768409,  1.26539036,\n",
       "          1.81309664,  2.36080292,  2.90850919]])"
      ]
     },
     "execution_count": 78,
     "metadata": {},
     "output_type": "execute_result"
    }
   ],
   "source": [
    "(large_matrix-large_matrix.mean())/(large_matrix.std())"
   ]
  },
  {
   "cell_type": "code",
   "execution_count": 80,
   "metadata": {},
   "outputs": [],
   "source": [
    "m = large_matrix.flatten()"
   ]
  },
  {
   "cell_type": "code",
   "execution_count": 99,
   "metadata": {},
   "outputs": [
    {
     "ename": "TypeError",
     "evalue": "is_monotonous() takes 0 positional arguments but 1 was given",
     "output_type": "error",
     "traceback": [
      "\u001b[0;31m---------------------------------------------------------------------------\u001b[0m",
      "\u001b[0;31mTypeError\u001b[0m                                 Traceback (most recent call last)",
      "\u001b[0;32m<ipython-input-99-6836f593959b>\u001b[0m in \u001b[0;36m<module>\u001b[0;34m\u001b[0m\n\u001b[0;32m----> 1\u001b[0;31m \u001b[0mis_monotonous\u001b[0m\u001b[0;34m(\u001b[0m\u001b[0mnp\u001b[0m\u001b[0;34m.\u001b[0m\u001b[0marange\u001b[0m\u001b[0;34m(\u001b[0m\u001b[0;36m34\u001b[0m\u001b[0;34m)\u001b[0m\u001b[0;34m)\u001b[0m\u001b[0;34m\u001b[0m\u001b[0;34m\u001b[0m\u001b[0m\n\u001b[0m",
      "\u001b[0;31mTypeError\u001b[0m: is_monotonous() takes 0 positional arguments but 1 was given"
     ]
    }
   ],
   "source": [
    "is_monotonous(np.arange(34))"
   ]
  },
  {
   "cell_type": "code",
   "execution_count": 97,
   "metadata": {},
   "outputs": [
    {
     "name": "stdout",
     "output_type": "stream",
     "text": [
      "(2, 8)\n",
      "5\n",
      "[ 1  9 17]\n"
     ]
    },
    {
     "ename": "NameError",
     "evalue": "name 'large_matix' is not defined",
     "output_type": "error",
     "traceback": [
      "\u001b[0;31m---------------------------------------------------------------------------\u001b[0m",
      "\u001b[0;31mNameError\u001b[0m                                 Traceback (most recent call last)",
      "\u001b[0;32m<ipython-input-97-95759712604c>\u001b[0m in \u001b[0;36m<module>\u001b[0;34m\u001b[0m\n\u001b[1;32m     26\u001b[0m \u001b[0;34m\u001b[0m\u001b[0m\n\u001b[1;32m     27\u001b[0m \u001b[0;31m# normalize this matrix (subract mean and divide by sd)\u001b[0m\u001b[0;34m\u001b[0m\u001b[0;34m\u001b[0m\u001b[0;34m\u001b[0m\u001b[0m\n\u001b[0;32m---> 28\u001b[0;31m \u001b[0mnorm_matrix\u001b[0m \u001b[0;34m=\u001b[0m \u001b[0;34m(\u001b[0m\u001b[0mlarge_matrix\u001b[0m\u001b[0;34m-\u001b[0m\u001b[0mlarge_matrix\u001b[0m\u001b[0;34m.\u001b[0m\u001b[0mmean\u001b[0m\u001b[0;34m(\u001b[0m\u001b[0;34m)\u001b[0m\u001b[0;34m)\u001b[0m\u001b[0;34m/\u001b[0m\u001b[0;34m(\u001b[0m\u001b[0mlarge_matix\u001b[0m\u001b[0;34m.\u001b[0m\u001b[0mstd\u001b[0m\u001b[0;34m(\u001b[0m\u001b[0;34m)\u001b[0m\u001b[0;34m)\u001b[0m\u001b[0;34m\u001b[0m\u001b[0;34m\u001b[0m\u001b[0m\n\u001b[0m\u001b[1;32m     29\u001b[0m \u001b[0;34m\u001b[0m\u001b[0m\n\u001b[1;32m     30\u001b[0m \u001b[0;31m# make this 8x8 matrix into a single vector - save this object!\u001b[0m\u001b[0;34m\u001b[0m\u001b[0;34m\u001b[0m\u001b[0;34m\u001b[0m\u001b[0m\n",
      "\u001b[0;31mNameError\u001b[0m: name 'large_matix' is not defined"
     ]
    }
   ],
   "source": [
    "# Create a simple array of values from 0 to 14\n",
    "a = np.arange(16)\n",
    "\n",
    "# Using the same object, subset only odd values - make a new object\n",
    "odd_arr = a[a%2==1].copy()\n",
    "# Using the original object, subset only even values - make a new object\n",
    "even_arr = a[a%2==0].copy()\n",
    "# Create a matrix with 2 rows with odd values in first row\n",
    "    # Do you need to make any adjustments?\n",
    "matrix = np.stack([odd_arr, even_arr])    \n",
    "\n",
    "# what is the shape of the matrix?\n",
    "print(matrix.shape)\n",
    "\n",
    "# what is the sum of the second column?\n",
    "    # slicing / subsetting\n",
    "\n",
    "print(matrix[:,1].sum())\n",
    "# sum the first, third and fith column\n",
    "print(matrix[:,0:5:2].sum(axis=0))\n",
    "# multiply the matrix with itself - create 8 x 8 resulting matrix\n",
    "    #A, B, A-> m x n, B-> n x o => m x o\n",
    "large_matrix=matrix.T.dot(matrix)\n",
    "\n",
    "# what is largest elemtn of the matrix? On what index (position) ?\n",
    "\n",
    "# normalize this matrix (subract mean and divide by sd)\n",
    "norm_matrix = (large_matrix-large_matrix.mean())/(large_matix.std())\n",
    "\n",
    "# make this 8x8 matrix into a single vector - save this object! \n",
    "\n",
    "# check if the resulting vector is monotonous\n",
    "    # write a function that returs true of false\n",
    "    # is it goin up always?\n",
    "        # look at 1st, see if 2nd is higher\n",
    "        # 2dn, if 3rd higher\n",
    "\n",
    "def is_monotonous(m):\n",
    "    return (np.diff(m)>=0).all() or (np.diff(m)<=0).all()\n",
    "\n",
    "\n",
    "# how many items is smaller than 100?\n",
    "\n",
    "# replace the largest value with its double\n",
    "\n",
    "# simulate data from normal distribution with those mean/sd parameters\n",
    "\n",
    "# Back to the long vector - replace all values which are less than 50 with -1\n",
    "\n",
    "# count exactly how many -1s are there\n",
    "\n",
    "# sort the array\n",
    "    # check if it is monotonous with your function\n",
    "    # in a separate cell, measure how long the execution takes\n",
    "    \n",
    "    \n",
    "    \n",
    "# Bonus task:\n",
    "# Create a 2d array of size 10x10 with 1 on the border and 0 inside\n",
    "\n",
    "\n",
    "\n"
   ]
  },
  {
   "cell_type": "code",
   "execution_count": null,
   "metadata": {},
   "outputs": [],
   "source": []
  },
  {
   "cell_type": "code",
   "execution_count": null,
   "metadata": {},
   "outputs": [],
   "source": [
    "\n",
    "# %%timeit\n",
    "\n",
    "# is_monotonous(np.sort(flat_vec))"
   ]
  },
  {
   "cell_type": "markdown",
   "metadata": {},
   "source": [
    "# Pandas - Kaggle houses dataset"
   ]
  },
  {
   "cell_type": "code",
   "execution_count": null,
   "metadata": {},
   "outputs": [],
   "source": [
    "# lets try some real world problem\n",
    "# It is your job to predict the sales price for each house. For each Id in the test set, you must predict the value of the SalePrice variable. \n",
    "\n",
    "# Ask a home buyer to describe their dream house, and they probably won't begin with the height of the basement ceiling or the proximity to an east-west railroad. \n",
    "# But this playground competition's dataset proves that much more influences price negotiations than the number of bedrooms or a white-picket fence.\n",
    "\n",
    "# With 79 explanatory variables describing (almost) every aspect of residential homes in Ames, Iowa, this competition challenges you to predict the final price of each home.\n",
    "\n",
    "# https://www.kaggle.com/c/house-prices-advanced-regression-techniques/overview\n",
    "\n",
    "# data downloadable from https://soulution-public.s3.amazonaws.com/pythonies/house-prices-advanced-regression-techniques.zip"
   ]
  },
  {
   "cell_type": "code",
   "execution_count": null,
   "metadata": {},
   "outputs": [],
   "source": [
    "import pandas as pd\n",
    "import matplotlib.pyplot as plt\n",
    "import seaborn as sns\n",
    "from scipy import stats\n",
    "\n",
    "\n",
    "%matplotlib inline\n",
    "#https://seaborn.pydata.org/introduction.html"
   ]
  },
  {
   "cell_type": "code",
   "execution_count": null,
   "metadata": {},
   "outputs": [],
   "source": [
    "#load the train data and print columns\n",
    "\n",
    "# describe the target variable SalePrice\n",
    "\n",
    "\n"
   ]
  },
  {
   "cell_type": "code",
   "execution_count": null,
   "metadata": {},
   "outputs": [],
   "source": [
    "# check skewness and kurtosis of SalePrice - is it normally distributed?\n",
    "   # normal dist is 0, 0 \n"
   ]
  },
  {
   "cell_type": "code",
   "execution_count": null,
   "metadata": {},
   "outputs": [],
   "source": [
    "# create distribution plot of the sale price - comment on it\n",
    "\n"
   ]
  },
  {
   "cell_type": "code",
   "execution_count": null,
   "metadata": {},
   "outputs": [],
   "source": [
    "#create q-q plot\n"
   ]
  },
  {
   "cell_type": "code",
   "execution_count": null,
   "metadata": {},
   "outputs": [],
   "source": [
    "# GrLivArea: Above grade (ground) living area square feet\n",
    "# TotalBsmtSF: Total square feet of basement area\n",
    "# YearBuilt: Original construction date\n",
    "# OverallQual: Overall material and finish quality"
   ]
  },
  {
   "cell_type": "code",
   "execution_count": null,
   "metadata": {},
   "outputs": [],
   "source": [
    "#scatter plot grlivarea/saleprice\n",
    "\n",
    "#scatter plot totalbsmtsf/saleprice\n",
    "\n",
    "#box plot overallqual/saleprice\n",
    "\n",
    "# what is the time dynamics of Sale price\n",
    "\n",
    "# create correlation matrix of all variables - seaborn heatmap\n",
    "\n",
    "# find the variables most correlated with SalePrice \n",
    "\n",
    "# for important variables cols = ['SalePrice', 'OverallQual', 'GrLivArea', 'GarageCars', 'TotalBsmtSF', 'FullBath', 'YearBuilt']\n",
    "# see if we can create a plot of relationship between all the variables\n"
   ]
  },
  {
   "cell_type": "code",
   "execution_count": null,
   "metadata": {},
   "outputs": [],
   "source": [
    "# Lets have a look at missing data\n",
    "# how many missing data has each column?\n",
    "# what is the percentage? \n",
    "\n",
    "# how would you handle this?\n",
    "\n",
    "# is this dataset prepared for the submission?\n",
    "\n",
    "#homework; try to make a submission"
   ]
  },
  {
   "cell_type": "code",
   "execution_count": null,
   "metadata": {},
   "outputs": [],
   "source": [
    "#saleprice correlation matrix\n",
    "#box plot overallqual/saleprice\n",
    "#saleprice correlation matrix\n",
    "\n"
   ]
  },
  {
   "cell_type": "code",
   "execution_count": null,
   "metadata": {},
   "outputs": [],
   "source": [
    "#scatterplot\n",
    "\n"
   ]
  }
 ],
 "metadata": {
  "kernelspec": {
   "display_name": "Python 3",
   "language": "python",
   "name": "python3"
  },
  "language_info": {
   "codemirror_mode": {
    "name": "ipython",
    "version": 3
   },
   "file_extension": ".py",
   "mimetype": "text/x-python",
   "name": "python",
   "nbconvert_exporter": "python",
   "pygments_lexer": "ipython3",
   "version": "3.7.5"
  }
 },
 "nbformat": 4,
 "nbformat_minor": 4
}
