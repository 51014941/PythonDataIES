{
 "cells": [
  {
   "cell_type": "markdown",
   "metadata": {},
   "source": [
    "# Seminar 2"
   ]
  },
  {
   "cell_type": "code",
   "execution_count": 1,
   "metadata": {},
   "outputs": [],
   "source": [
    "import numpy as np"
   ]
  },
  {
   "cell_type": "markdown",
   "metadata": {},
   "source": [
    "# numpy recap"
   ]
  },
  {
   "cell_type": "code",
   "execution_count": 215,
   "metadata": {},
   "outputs": [
    {
     "data": {
      "text/plain": [
       "24"
      ]
     },
     "execution_count": 215,
     "metadata": {},
     "output_type": "execute_result"
    }
   ],
   "source": [
    "# Create a simple array of values from 0 to 15\n",
    "array = np.arange(16)\n",
    "\n",
    "# Using the same object, subset only odd values - make a new object\n",
    "odd_arr = array[array % 2 == 1].copy()\n",
    "\n",
    "# Using the original object, subset only even values - make a new object\n",
    "even_arr = array[array % 2 == 0].copy()\n",
    "\n",
    "# Create a matrix with 2 rows with odd values in first row\n",
    "    # Do you need to make any adjustments?\n",
    "matrix = np.stack([odd_arr, even_arr])    \n",
    "\n",
    "# what is the shape of the matrix?\n",
    "# print(matrix.shape);\n",
    "\n",
    "# what is the sum of the second column?\n",
    "    # slicing / subsetting\n",
    "matrix[:,1].sum()\n",
    "\n",
    "\n",
    "# sum the first, third and fith column\n",
    "matrix[:,(0,2,4)].sum(axis=1);\n",
    "#iterables - [], (1,2) tuple \n",
    "\n",
    "# multiply the matrix with itself - create 8 x 8 resulting matrix\n",
    "    #A, B, A-> m x n, B-> n x o => m x o\n",
    "\n",
    "large_matrix = matrix.T.dot(matrix)\n",
    "\n",
    "# what is largest elemtn of the matrix? On what index (position) ?\n",
    "large_matrix.max()\n",
    "\n",
    "# normalize this matrix (subract mean and divide by sd)\n",
    "norm_matrix = (large_matrix - large_matrix.mean())/(large_matrix.std())\n",
    "\n",
    "# make this 8x8 matrix into a single vector - save this object! \n",
    "flat_vec = large_matrix.flatten()\n",
    "\n",
    "# check if the resulting vector is monotonous\n",
    "    # write a function that returs true of false\n",
    "    # is it goin up always?\n",
    "        # look at 1st, see if 2nd is higher\n",
    "        # 2dn, if 3rd higher\n",
    "def is_monotonous(flat_vec):\n",
    "    return all(np.diff(flat_vec) >= 0) or all(np.diff(flat_vec) <= 0)\n",
    "# print(is_monotonous(flat_vec))\n",
    "\n",
    "# how many items is smaller than 100?\n",
    "flat_vec[flat_vec<100].shape\n",
    "\n",
    "# replace the largest value with its double\n",
    "flat_vec[np.argmax(flat_vec)] = -1 \n",
    "\n",
    "# simulate data from normal distribution with those mean/sd parameters\n",
    "sim_array = np.random.normal(flat_vec.mean(), flat_vec.std(), 100)\n",
    "\n",
    "\n",
    "# Back to the long vector - replace all values which are less than 50 with -1\n",
    "flat_vec[flat_vec<50] = -1\n",
    "\n",
    "# count exactly how many -1s are there\n",
    "\n",
    "(flat_vec == -1).sum()\n",
    "# sort the array\n",
    "    # check if it is monotonous with your function\n",
    "    # in a separate cell, measure how long the execution takes\n",
    "    \n",
    "    \n",
    "    \n",
    "# Bonus task:\n",
    "# Create a 2d array of size 10x10 with 1 on the border and 0 inside\n",
    "\n",
    "\n",
    "\n"
   ]
  },
  {
   "cell_type": "code",
   "execution_count": 220,
   "metadata": {},
   "outputs": [
    {
     "name": "stdout",
     "output_type": "stream",
     "text": [
      "13.3 µs ± 740 ns per loop (mean ± std. dev. of 7 runs, 100000 loops each)\n"
     ]
    }
   ],
   "source": [
    "%%timeit\n",
    "\n",
    "is_monotonous(np.sort(flat_vec))"
   ]
  },
  {
   "cell_type": "markdown",
   "metadata": {},
   "source": [
    "# OOP recap"
   ]
  },
  {
   "cell_type": "code",
   "execution_count": 6,
   "metadata": {},
   "outputs": [],
   "source": [
    "\n",
    "# create an abstract class Animal \n",
    "    # the animal needs to know how many legs it has\n",
    "        # check this input! i.e. handle negative number of legs\n",
    "    # the animal knows what species it is\n",
    "    # the animal can have a name, but it is not compulsory\n",
    "        # default input value is like 'foo(par1, par2, par3=something)'\n",
    "        # then par1, par2 need to be specified, but if there is nothing for par3, \n",
    "        # the value in the function is 'something'. It can be None (par3=None)\n",
    "        \n",
    "    # it has a method to say hello:\n",
    "     # the methods has a docstring\n",
    "     # Animal says what species it is, if it has a name, it prints the name as well.\n",
    "\n",
    "    # it has a method to walk:\n",
    "     # if animal has legs, print I can walk\n",
    "     # if there are no legs, raise AttributeError\n",
    "    \n",
    "    # it has a method to breath  - it is abstract and does not do anything \n",
    "    \n",
    "\n",
    "# create a class Reptile which inherits from Animal:\n",
    "    # reptiles do not have legs\n",
    "    # reptiles say they breath with their skin\n",
    "    # it cannot walk, so if you call walk on it, it catches the error and prints \"Of course, I cannot walk, I have no legs\"\n",
    "    \n",
    "# create an instance of Reptile without a name and see if it can walk. Make it say hello\n",
    "\n",
    "\n",
    "# create a class Mammal\n",
    "    # Mammals implement a method swim\n",
    "    # mammals say they breath with lungs\n",
    "    # create an instance of Mammal and see if it can walk and greet you.\n",
    "    \n",
    "# Make the reptile swim - what do you expect? \n",
    "# override dynamically reptile's number of legs\n",
    "# can it walk now?"
   ]
  },
  {
   "cell_type": "markdown",
   "metadata": {},
   "source": [
    "# Pandas - Kaggle houses dataset"
   ]
  },
  {
   "cell_type": "code",
   "execution_count": null,
   "metadata": {},
   "outputs": [],
   "source": [
    "# lets try some real world problem\n",
    "# It is your job to predict the sales price for each house. For each Id in the test set, you must predict the value of the SalePrice variable. \n",
    "\n",
    "# Ask a home buyer to describe their dream house, and they probably won't begin with the height of the basement ceiling or the proximity to an east-west railroad. \n",
    "# But this playground competition's dataset proves that much more influences price negotiations than the number of bedrooms or a white-picket fence.\n",
    "\n",
    "# With 79 explanatory variables describing (almost) every aspect of residential homes in Ames, Iowa, this competition challenges you to predict the final price of each home.\n",
    "\n",
    "# https://www.kaggle.com/c/house-prices-advanced-regression-techniques/overview\n",
    "\n",
    "# data downloadable from https://soulution-public.s3.amazonaws.com/pythonies/house-prices-advanced-regression-techniques.zip"
   ]
  },
  {
   "cell_type": "code",
   "execution_count": 45,
   "metadata": {},
   "outputs": [],
   "source": [
    "import pandas as pd\n",
    "import matplotlib.pyplot as plt\n",
    "import seaborn as sns\n",
    "\n",
    "%matplotlib inline\n"
   ]
  },
  {
   "cell_type": "code",
   "execution_count": 13,
   "metadata": {},
   "outputs": [],
   "source": [
    "#load the train data and print columns\n",
    "\n",
    "# describe the target variable SalePrice\n",
    "\n",
    "# create distribution plot of the sale price - comment on it\n",
    "# create probability plot -> q-q plot\n",
    "\n",
    "# check skewness and kurtosis of SalePrice - is it normally distributed?\n",
    "   # normal dist is 0, 0 "
   ]
  },
  {
   "cell_type": "code",
   "execution_count": null,
   "metadata": {},
   "outputs": [],
   "source": [
    "# GrLivArea: Above grade (ground) living area square feet\n",
    "# TotalBsmtSF: Total square feet of basement area\n",
    "# YearBuilt: Original construction date\n",
    "# OverallQual: Overall material and finish quality"
   ]
  },
  {
   "cell_type": "code",
   "execution_count": null,
   "metadata": {},
   "outputs": [],
   "source": [
    "#scatter plot grlivarea/saleprice\n",
    "\n",
    "#scatter plot totalbsmtsf/saleprice\n",
    "\n",
    "#box plot overallqual/saleprice\n",
    "\n",
    "# what is the time dynamics of Sale price>\n",
    "\n",
    "# create correlation matrix of all variables - seaborn heatmap\n",
    "\n",
    "# find the variables most correlated with SalePrice \n",
    "\n",
    "# for important variables cols = ['SalePrice', 'OverallQual', 'GrLivArea', 'GarageCars', 'TotalBsmtSF', 'FullBath', 'YearBuilt']\n",
    "# see if we can create a plot of relationship between all the variables\n"
   ]
  },
  {
   "cell_type": "code",
   "execution_count": null,
   "metadata": {},
   "outputs": [],
   "source": [
    "# Lets have a look at missing data\n",
    "# how many missing data has each column?\n",
    "# what is the percentage? \n",
    "\n",
    "# how would you handle this?\n",
    "\n",
    "# is this dataset prepared for the submission?\n",
    "\n",
    "#homework; try to make a submission"
   ]
  }
 ],
 "metadata": {
  "kernelspec": {
   "display_name": "Python 3",
   "language": "python",
   "name": "python3"
  },
  "language_info": {
   "codemirror_mode": {
    "name": "ipython",
    "version": 3
   },
   "file_extension": ".py",
   "mimetype": "text/x-python",
   "name": "python",
   "nbconvert_exporter": "python",
   "pygments_lexer": "ipython3",
   "version": "3.7.5"
  }
 },
 "nbformat": 4,
 "nbformat_minor": 4
}
