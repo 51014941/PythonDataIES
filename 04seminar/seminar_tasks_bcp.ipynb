{
 "cells": [
  {
   "cell_type": "code",
   "execution_count": 1,
   "metadata": {},
   "outputs": [],
   "source": [
    "import numpy as np"
   ]
  },
  {
   "cell_type": "markdown",
   "metadata": {},
   "source": [
    "# numpy recap"
   ]
  },
  {
   "cell_type": "code",
   "execution_count": 4,
   "metadata": {},
   "outputs": [
    {
     "data": {
      "text/plain": [
       "array([0, 2, 4, 6, 8])"
      ]
     },
     "execution_count": 4,
     "metadata": {},
     "output_type": "execute_result"
    }
   ],
   "source": [
    "# Create a simple array of values from 0 to 15\n",
    "\n",
    "# Using the same object, subset only odd values - make a new object\n",
    "\n",
    "# Using the original object, subset only even values - make a new object\n",
    "\n",
    "\n",
    "\n",
    "\n",
    "# Create a matrix with 2 rows with odd values in first row\n",
    "    # Do you need to make any adjustments?\n",
    "    \n",
    "# what is the shape of the matrix?\n",
    "\n",
    "# what is the sum of the second column?\n",
    "\n",
    "# sum the first, third and fith column\n",
    "\n",
    "# multiply the matrix with itself - create 7 x 7 resulting matrix\n",
    "\n",
    "# what is largest elemtn of the matrix? On what index (position) ?\n",
    "\n",
    "# normalize this matrix (subract mean and divide by sd)\n",
    "\n",
    "# make this 7x7 matrix into a single vector - save this object! \n",
    "\n",
    "# check if the resulting vector is monotonous\n",
    "    # write a function that returs true of false\n",
    "\n",
    "# how many items is smaller than 100?\n",
    "\n",
    "# replace the largest value with its double\n",
    "\n",
    "# what is the mean and standard deviation of the vector?\n",
    "\n",
    "# simulate data from normal distribution with those mean/sd parameters\n",
    "\n",
    "# Back to the long vector - replace all values which are less than 50 with -1\n",
    "\n",
    "# count exactly how many -1s are there\n",
    "\n",
    "# sort the array\n",
    "    # check if it is monotonous with your function\n",
    "    # in a separate cell, measure how long the execution takes\n",
    "\n",
    "# Bonus task:\n",
    "# Create a 2d array of size 10x10 with 1 on the border and 0 inside\n",
    "\n",
    "\n"
   ]
  },
  {
   "cell_type": "markdown",
   "metadata": {},
   "source": [
    "# OOP recap"
   ]
  },
  {
   "cell_type": "code",
   "execution_count": 6,
   "metadata": {},
   "outputs": [],
   "source": [
    "\n",
    "# create an abstract class Animal \n",
    "    # the animal needs to know how many legs it has\n",
    "        # check this input! i.e. handle negative number of legs\n",
    "    # the animal knows what species it is\n",
    "    # the animal can have a name, but it is not compulsory\n",
    "        # default input value is like 'foo(par1, par2, par3=something)'\n",
    "        # then par1, par2 need to be specified, but if there is nothing for par3, \n",
    "        # the value in the function is 'something'. It can be None (par3=None)\n",
    "        \n",
    "    # it has a method to say hello:\n",
    "     # the methods has a docstring\n",
    "     # Animal says what species it is, if it has a name, it prints the name as well.\n",
    "\n",
    "    # it has a method to walk:\n",
    "     # if animal has legs, print I can walk\n",
    "     # if there are no legs, raise AttributeError\n",
    "    \n",
    "    # it has a method to breath  - it is abstract and does not do anything \n",
    "    \n",
    "\n",
    "# create a class Reptile which inherits from Animal:\n",
    "    # reptiles do not have legs\n",
    "    # reptiles say they breath with their skin\n",
    "    # it cannot walk, so if you call walk on it, it catches the error and prints \"Of course, I cannot walk, I have no legs\"\n",
    "    \n",
    "# create an instance of Reptile without a name and see if it can walk. Make it say hello\n",
    "\n",
    "\n",
    "# create a class Mammal\n",
    "    # Mammals implement a method swim\n",
    "    # mammals say they breath with lungs\n",
    "    # create an instance of Mammal and see if it can walk and greet you.\n",
    "    \n",
    "# Make the reptile swim - what do you expect? \n",
    "# override dynamically reptile's number of legs\n",
    "# can it walk now?"
   ]
  },
  {
   "cell_type": "markdown",
   "metadata": {},
   "source": [
    "# Pandas - Kaggle houses dataset"
   ]
  },
  {
   "cell_type": "code",
   "execution_count": null,
   "metadata": {},
   "outputs": [],
   "source": [
    "# lets try some real world problem\n",
    "# It is your job to predict the sales price for each house. For each Id in the test set, you must predict the value of the SalePrice variable. \n",
    "\n",
    "# Ask a home buyer to describe their dream house, and they probably won't begin with the height of the basement ceiling or the proximity to an east-west railroad. \n",
    "# But this playground competition's dataset proves that much more influences price negotiations than the number of bedrooms or a white-picket fence.\n",
    "\n",
    "# With 79 explanatory variables describing (almost) every aspect of residential homes in Ames, Iowa, this competition challenges you to predict the final price of each home.\n",
    "\n",
    "# https://www.kaggle.com/c/house-prices-advanced-regression-techniques/overview\n",
    "\n",
    "# data downloadable from https://soulution-public.s3.amazonaws.com/pythonies/house-prices-advanced-regression-techniques.zip"
   ]
  },
  {
   "cell_type": "code",
   "execution_count": 10,
   "metadata": {},
   "outputs": [],
   "source": [
    "import pandas as pd\n",
    "import matplotlib.pyplot as plt\n",
    "import seaborn as sns\n",
    "\n",
    "%matplotlib inline\n"
   ]
  },
  {
   "cell_type": "code",
   "execution_count": 13,
   "metadata": {},
   "outputs": [],
   "source": [
    "#load the train data and print columns\n",
    "\n",
    "# describe the target variable SalePrice\n",
    "\n",
    "# create distribution plot of the sale price - comment on it\n",
    "# create probability plot -> q-q plot\n",
    "\n",
    "# check skewness and kurtosis of SalePrice - is it normally distributed?\n",
    "   # normal dist is 0, 0 "
   ]
  },
  {
   "cell_type": "code",
   "execution_count": null,
   "metadata": {},
   "outputs": [],
   "source": [
    "# GrLivArea: Above grade (ground) living area square feet\n",
    "# TotalBsmtSF: Total square feet of basement area\n",
    "# YearBuilt: Original construction date\n",
    "# OverallQual: Overall material and finish quality"
   ]
  },
  {
   "cell_type": "code",
   "execution_count": null,
   "metadata": {},
   "outputs": [],
   "source": [
    "#scatter plot grlivarea/saleprice\n",
    "\n",
    "#scatter plot totalbsmtsf/saleprice\n",
    "\n",
    "#box plot overallqual/saleprice\n",
    "\n",
    "# what is the time dynamics of Sale price>\n",
    "\n",
    "# create correlation matrix of all variables - seaborn heatmap\n",
    "\n",
    "# find the variables most correlated with SalePrice \n",
    "\n",
    "# for important variables cols = ['SalePrice', 'OverallQual', 'GrLivArea', 'GarageCars', 'TotalBsmtSF', 'FullBath', 'YearBuilt']\n",
    "# see if we can create a plot of relationship between all the variables\n"
   ]
  },
  {
   "cell_type": "code",
   "execution_count": null,
   "metadata": {},
   "outputs": [],
   "source": [
    "# Lets have a look at missing data\n",
    "# how many missing data has each column?\n",
    "# what is the percentage? \n",
    "\n",
    "# how would you handle this?\n",
    "\n",
    "# is this dataset prepared for the submission?\n",
    "\n",
    "#homework; try to make a submission"
   ]
  }
 ],
 "metadata": {
  "kernelspec": {
   "display_name": "Python 3",
   "language": "python",
   "name": "python3"
  },
  "language_info": {
   "codemirror_mode": {
    "name": "ipython",
    "version": 3
   },
   "file_extension": ".py",
   "mimetype": "text/x-python",
   "name": "python",
   "nbconvert_exporter": "python",
   "pygments_lexer": "ipython3",
   "version": "3.7.5"
  }
 },
 "nbformat": 4,
 "nbformat_minor": 4
}
