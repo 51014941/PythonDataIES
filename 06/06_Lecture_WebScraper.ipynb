{
 "cells": [
  {
   "cell_type": "code",
   "execution_count": 1,
   "metadata": {},
   "outputs": [],
   "source": [
    "import requests\n",
    "from bs4 import BeautifulSoup\n",
    "from time import sleep\n",
    "from tqdm import tqdm\n",
    "from IES_Downloader import IES_Downloader"
   ]
  },
  {
   "cell_type": "code",
   "execution_count": 3,
   "metadata": {},
   "outputs": [
    {
     "name": "stdout",
     "output_type": "stream",
     "text": [
      "Requirement already satisfied: tqdm in /Users/jansila/.virtualenvs/py37/lib/python3.7/site-packages (4.44.1)\n"
     ]
    }
   ],
   "source": [
    "!pip install tqdm"
   ]
  },
  {
   "cell_type": "markdown",
   "metadata": {},
   "source": [
    "# Lecture 6 - IES Web scraper\n",
    "\n",
    "by Jan Šíla, based heavily on work of Vítek Macháček\n",
    "\n",
    "April 1st, 2020\n",
    "\n",
    "* Putting it all together\n",
    "* OOP + Pandas + Requests + BeautifulSoup"
   ]
  },
  {
   "cell_type": "markdown",
   "metadata": {},
   "source": [
    "Midterm April 7th as planned -> mainly scraping. More info to come"
   ]
  },
  {
   "cell_type": "markdown",
   "metadata": {},
   "source": [
    "## Object-oriented Programming\n",
    "* Brief reminder of how objects work\n",
    "\n",
    "### Docstring + Objects + Inheriting + Constructors"
   ]
  },
  {
   "cell_type": "code",
   "execution_count": 4,
   "metadata": {},
   "outputs": [
    {
     "name": "stdout",
     "output_type": "stream",
     "text": [
      "hi\n",
      "hi\n"
     ]
    }
   ],
   "source": [
    "class NoConstructorClasss:\n",
    "    def meth(self):\n",
    "        print('hi')\n",
    "        \n",
    "nc = NoConstructorClasss()\n",
    "nnc = NoConstructorClasss()\n",
    "nnnc = NoConstructorClasss()\n",
    "nc.meth()\n",
    "nnnc.meth()"
   ]
  },
  {
   "cell_type": "code",
   "execution_count": 5,
   "metadata": {},
   "outputs": [],
   "source": [
    "class Parent:\n",
    "    '''\n",
    "    A very brief and helpful description of the Parent class\n",
    "    '''\n",
    "    def __init__(self,arg):\n",
    "        '''\n",
    "        Exact and brief description of parent's constructor\n",
    "        '''\n",
    "        self.attribute = 'x'\n",
    "        self.id = arg\n",
    "\n",
    "    def main_method(self):\n",
    "        raise NotImplementedError(\"override this in child class\")\n",
    "    \n",
    "    def parentMethod(self):\n",
    "        '''\n",
    "        Good description of parentMethod\n",
    "        '''\n",
    "        pass\n",
    "    \n",
    "class Child(Parent):\n",
    "    '''\n",
    "    This is what Child is good for\n",
    "    '''\n",
    "    def __init__(self,arg,desc):\n",
    "        '''\n",
    "        Exact and brief description of Child's contructor\n",
    "        '''\n",
    "        super().__init__(arg) #id is 999 in the example\n",
    "        self.desc = desc\n",
    "        self.id = 2 #id gets overridden here and set as 2\n",
    "    \n",
    "    def main_method(self):\n",
    "        \"\"\" Overriding parent method \"\"\"\n",
    "        print('I am the main method!')\n",
    "        \n",
    "    def childMethod(self,arg):\n",
    "        '''\n",
    "        Good description of childMethod\n",
    "        '''\n",
    "        return len(arg)\n",
    "\n",
    "    \n",
    "par = Parent('A parent')\n",
    "ch = Child(999,'A child')\n"
   ]
  },
  {
   "cell_type": "code",
   "execution_count": 6,
   "metadata": {},
   "outputs": [
    {
     "data": {
      "text/plain": [
       "2"
      ]
     },
     "execution_count": 6,
     "metadata": {},
     "output_type": "execute_result"
    }
   ],
   "source": [
    "ch.id"
   ]
  },
  {
   "cell_type": "code",
   "execution_count": 7,
   "metadata": {},
   "outputs": [
    {
     "data": {
      "text/plain": [
       "\u001b[0;31mType:\u001b[0m           Child\n",
       "\u001b[0;31mString form:\u001b[0m    <__main__.Child object at 0x11eec4c10>\n",
       "\u001b[0;31mDocstring:\u001b[0m      This is what Child is good for\n",
       "\u001b[0;31mInit docstring:\u001b[0m Exact and brief description of Child's contructor\n"
      ]
     },
     "metadata": {},
     "output_type": "display_data"
    }
   ],
   "source": [
    "?ch"
   ]
  },
  {
   "cell_type": "code",
   "execution_count": 8,
   "metadata": {},
   "outputs": [
    {
     "ename": "NotImplementedError",
     "evalue": "override this in child class",
     "output_type": "error",
     "traceback": [
      "\u001b[0;31m---------------------------------------------------------------------------\u001b[0m",
      "\u001b[0;31mNotImplementedError\u001b[0m                       Traceback (most recent call last)",
      "\u001b[0;32m<ipython-input-8-cb18c82e5430>\u001b[0m in \u001b[0;36m<module>\u001b[0;34m\u001b[0m\n\u001b[0;32m----> 1\u001b[0;31m \u001b[0mpar\u001b[0m\u001b[0;34m.\u001b[0m\u001b[0mmain_method\u001b[0m\u001b[0;34m(\u001b[0m\u001b[0;34m)\u001b[0m \u001b[0;31m#this should fail\u001b[0m\u001b[0;34m\u001b[0m\u001b[0;34m\u001b[0m\u001b[0m\n\u001b[0m",
      "\u001b[0;32m<ipython-input-5-0f2d2060044e>\u001b[0m in \u001b[0;36mmain_method\u001b[0;34m(self)\u001b[0m\n\u001b[1;32m     11\u001b[0m \u001b[0;34m\u001b[0m\u001b[0m\n\u001b[1;32m     12\u001b[0m     \u001b[0;32mdef\u001b[0m \u001b[0mmain_method\u001b[0m\u001b[0;34m(\u001b[0m\u001b[0mself\u001b[0m\u001b[0;34m)\u001b[0m\u001b[0;34m:\u001b[0m\u001b[0;34m\u001b[0m\u001b[0;34m\u001b[0m\u001b[0m\n\u001b[0;32m---> 13\u001b[0;31m         \u001b[0;32mraise\u001b[0m \u001b[0mNotImplementedError\u001b[0m\u001b[0;34m(\u001b[0m\u001b[0;34m\"override this in child class\"\u001b[0m\u001b[0;34m)\u001b[0m\u001b[0;34m\u001b[0m\u001b[0;34m\u001b[0m\u001b[0m\n\u001b[0m\u001b[1;32m     14\u001b[0m \u001b[0;34m\u001b[0m\u001b[0m\n\u001b[1;32m     15\u001b[0m     \u001b[0;32mdef\u001b[0m \u001b[0mparentMethod\u001b[0m\u001b[0;34m(\u001b[0m\u001b[0mself\u001b[0m\u001b[0;34m)\u001b[0m\u001b[0;34m:\u001b[0m\u001b[0;34m\u001b[0m\u001b[0;34m\u001b[0m\u001b[0m\n",
      "\u001b[0;31mNotImplementedError\u001b[0m: override this in child class"
     ]
    }
   ],
   "source": [
    "par.main_method() #this should fail"
   ]
  },
  {
   "cell_type": "code",
   "execution_count": 9,
   "metadata": {},
   "outputs": [
    {
     "name": "stdout",
     "output_type": "stream",
     "text": [
      "I am the main method!\n"
     ]
    }
   ],
   "source": [
    "ch.main_method() #this should work ok"
   ]
  },
  {
   "cell_type": "markdown",
   "metadata": {},
   "source": [
    "## Task:\n",
    "* A parser of IES websites with following features:\n",
    "    * All info about people from [Internal faculty](http://ies.fsv.cuni.cz/en/node/48), [External lecturers](http://ies.fsv.cuni.cz/en/node/49), [Ph.D. candidates](http://ies.fsv.cuni.cz/en/node/51) and [Administration](http://ies.fsv.cuni.cz/en/node/50)\n",
    "    * All info about [all](http://ies.fsv.cuni.cz/en/node/109) theses between 1994 and 2019 won'be covered as we have problems with the website\n",
    "    * Also all courses! But no list of courses available ..."
   ]
  },
  {
   "cell_type": "markdown",
   "metadata": {},
   "source": [
    "### Robots.txt\n",
    "\n",
    "* Is it OK to scrape?\n",
    "* Guidance for search engines etc.\n"
   ]
  },
  {
   "cell_type": "markdown",
   "metadata": {},
   "source": [
    "https://www.promptcloud.com/blog/how-to-read-and-respect-robots-file/"
   ]
  },
  {
   "cell_type": "code",
   "execution_count": 10,
   "metadata": {},
   "outputs": [
    {
     "data": {
      "text/plain": [
       "<Response [404]>"
      ]
     },
     "execution_count": 10,
     "metadata": {},
     "output_type": "execute_result"
    }
   ],
   "source": [
    "requests.get('http://ies.fsv.cuni.cz/robots.txt')"
   ]
  },
  {
   "cell_type": "code",
   "execution_count": 11,
   "metadata": {},
   "outputs": [
    {
     "name": "stdout",
     "output_type": "stream",
     "text": [
      "User-agent: *\n",
      "Disallow: /advertpdf/\n",
      "Disallow: /favourites-info\n",
      "Disallow: *_buri=\n",
      "Disallow: /adresar/*page=\n",
      "Disallow: /adresar/*perPage=\n",
      "Disallow: /adresar/*search=\n",
      "Disallow: /adresar/*letter=\n",
      "Disallow: /adresar/*id=\n",
      "Disallow: /firma/*page=\n",
      "Disallow: /firma/*perPage=\n",
      "Disallow: /firma/*search=\n",
      "Disallow: /firma/*letter=\n",
      "Disallow: /firma/*id=\n",
      "Disallow: /hledani/*,\n",
      "Allow: /hledani/*region=*,\n",
      "Disallow: /rk-detail\n",
      "Disallow: *bez-aukce=\n",
      "Disallow: *without-auction=\n",
      "\n",
      "\n",
      "User-agent: SeznamBot\n",
      "Disallow: /advertpdf/\n",
      "Disallow: /en/\n",
      "Disallow: /ru/\n",
      "Disallow: /favourites-info\n",
      "Disallow: *_buri=\n",
      "Disallow: /adresar/*page=\n",
      "Disallow: /adresar/*perPage=\n",
      "Disallow: /adresar/*search=\n",
      "Disallow: /adresar/*letter=\n",
      "Disallow: /adresar/*id=\n",
      "Disallow: /firma/*page=\n",
      "Disallow: /firma/*perPage=\n",
      "Disallow: /firma/*search=\n",
      "Disallow: /firma/*letter=\n",
      "Disallow: /firma/*id=\n",
      "Disallow: /hledani/*,\n",
      "Allow: /hledani/*region=*,\n",
      "Disallow: /rk-detail\n",
      "Disallow: *bez-aukce=\n",
      "Disallow: *without-auction=\n",
      "\n",
      "Sitemap: https://www.sreality.cz/sitemap.xml\n",
      "\n"
     ]
    }
   ],
   "source": [
    "print(requests.get('http://sreality.cz/robots.txt').text)"
   ]
  },
  {
   "cell_type": "markdown",
   "metadata": {},
   "source": [
    "## Pages\n",
    "\n",
    "### Find all persons?\n",
    "[Current faculty](http://ies.fsv.cuni.cz/en/node/48)"
   ]
  },
  {
   "cell_type": "markdown",
   "metadata": {},
   "source": [
    "1. understand structure of the website"
   ]
  },
  {
   "cell_type": "code",
   "execution_count": 2,
   "metadata": {},
   "outputs": [],
   "source": [
    "def getSoup(link):\n",
    "    sleep(0.1) #to be kind to the website\n",
    "    r = requests.get(link)\n",
    "    r.encoding = 'UTF-8'\n",
    "    return BeautifulSoup(r.text,'lxml')"
   ]
  },
  {
   "cell_type": "code",
   "execution_count": 13,
   "metadata": {},
   "outputs": [],
   "source": [
    "bf = getSoup('https://ies.fsv.cuni.cz/en/node/48')"
   ]
  },
  {
   "cell_type": "code",
   "execution_count": 14,
   "metadata": {},
   "outputs": [],
   "source": [
    "tds = bf.findAll('td', {'class':'peopleTableCellName'})"
   ]
  },
  {
   "cell_type": "code",
   "execution_count": null,
   "metadata": {},
   "outputs": [],
   "source": []
  },
  {
   "cell_type": "code",
   "execution_count": 15,
   "metadata": {},
   "outputs": [
    {
     "data": {
      "text/plain": [
       "['https://ies.fsv.cuni.cz/en/staff/barunik',\n",
       " 'https://ies.fsv.cuni.cz/en/staff/bauerm',\n",
       " 'https://ies.fsv.cuni.cz/en/staff/baxajaromir',\n",
       " 'https://ies.fsv.cuni.cz/en/staff/bertoli',\n",
       " 'https://ies.fsv.cuni.cz/en/staff/antosova',\n",
       " 'https://ies.fsv.cuni.cz/en/staff/cahlik',\n",
       " 'https://ies.fsv.cuni.cz/en/staff/fcech',\n",
       " 'https://ies.fsv.cuni.cz/en/staff/cervinka',\n",
       " 'https://ies.fsv.cuni.cz/en/staff/chytilova',\n",
       " 'https://ies.fsv.cuni.cz/en/staff/dedek',\n",
       " 'https://ies.fsv.cuni.cz/en/staff/dolezalova',\n",
       " 'https://ies.fsv.cuni.cz/en/staff/gersl',\n",
       " 'https://ies.fsv.cuni.cz/en/staff/gregor',\n",
       " 'https://ies.fsv.cuni.cz/en/staff/havranek',\n",
       " 'https://ies.fsv.cuni.cz/en/staff/irsova',\n",
       " 'https://ies.fsv.cuni.cz/en/staff/hlavacekm',\n",
       " 'https://ies.fsv.cuni.cz/en/staff/hollmannov',\n",
       " 'https://ies.fsv.cuni.cz/en/staff/holub',\n",
       " 'https://ies.fsv.cuni.cz/en/staff/horvath',\n",
       " 'https://ies.fsv.cuni.cz/en/staff/jakubik',\n",
       " 'https://ies.fsv.cuni.cz/en/staff/janda',\n",
       " 'https://ies.fsv.cuni.cz/en/staff/jansky',\n",
       " 'https://ies.fsv.cuni.cz/en/staff/kemenyova',\n",
       " 'https://ies.fsv.cuni.cz/en/staff/kocenda',\n",
       " 'https://ies.fsv.cuni.cz/en/staff/komarek',\n",
       " 'https://ies.fsv.cuni.cz/en/staff/kristoufek',\n",
       " 'https://ies.fsv.cuni.cz/en/staff/kukacka',\n",
       " 'https://ies.fsv.cuni.cz/en/staff/maresj',\n",
       " 'https://ies.fsv.cuni.cz/en/staff/mejstrik',\n",
       " 'https://ies.fsv.cuni.cz/en/staff/nevrla',\n",
       " 'https://ies.fsv.cuni.cz/en/staff/novakji',\n",
       " 'https://ies.fsv.cuni.cz/en/staff/opatrny',\n",
       " 'https://ies.fsv.cuni.cz/en/staff/malirova',\n",
       " 'https://ies.fsv.cuni.cz/en/staff/palansky',\n",
       " 'https://ies.fsv.cuni.cz/en/staff/paulus',\n",
       " 'https://ies.fsv.cuni.cz/en/staff/neprasova',\n",
       " 'https://ies.fsv.cuni.cz/en/staff/gebicka',\n",
       " 'https://ies.fsv.cuni.cz/en/staff/pinter',\n",
       " 'https://ies.fsv.cuni.cz/en/staff/scasny',\n",
       " 'https://ies.fsv.cuni.cz/en/staff/schneider',\n",
       " 'https://ies.fsv.cuni.cz/en/staff/schwarz',\n",
       " 'https://ies.fsv.cuni.cz/en/staff/sedivy',\n",
       " 'https://ies.fsv.cuni.cz/en/staff/semerak',\n",
       " 'https://ies.fsv.cuni.cz/en/staff/reckova',\n",
       " 'https://ies.fsv.cuni.cz/en/staff/gregorovalenka',\n",
       " 'https://ies.fsv.cuni.cz/en/staff/reichlova',\n",
       " 'https://ies.fsv.cuni.cz/en/staff/teply',\n",
       " 'https://ies.fsv.cuni.cz/en/staff/vacek',\n",
       " 'https://ies.fsv.cuni.cz/en/staff/vacha',\n",
       " 'https://ies.fsv.cuni.cz/en/staff/visek',\n",
       " 'https://ies.fsv.cuni.cz/en/staff/vosvrda',\n",
       " 'https://ies.fsv.cuni.cz/en/staff/prochazkova',\n",
       " 'https://ies.fsv.cuni.cz/en/staff/zacek']"
      ]
     },
     "execution_count": 15,
     "metadata": {},
     "output_type": "execute_result"
    }
   ],
   "source": [
    "def getAllLinks(link):\n",
    "    soup = getSoup(link)\n",
    "    tds = soup.findAll('td', {'class':'peopleTableCellName'})\n",
    "    return ['https://ies.fsv.cuni.cz' + td.find('a')['href'] for td in tds]\n",
    "\n",
    "links = getAllLinks('http://ies.fsv.cuni.cz/en/node/48')\n",
    "links"
   ]
  },
  {
   "cell_type": "markdown",
   "metadata": {},
   "source": [
    "## Person's characteristics?"
   ]
  },
  {
   "cell_type": "code",
   "execution_count": 16,
   "metadata": {},
   "outputs": [],
   "source": [
    "def getName(link):\n",
    "    soup = getSoup(link)\n",
    "    return soup.find('h2').text\n",
    "names = [getName(link) for link in links]"
   ]
  },
  {
   "cell_type": "code",
   "execution_count": 19,
   "metadata": {},
   "outputs": [],
   "source": [
    "bf = getSoup(links[0])"
   ]
  },
  {
   "cell_type": "code",
   "execution_count": 23,
   "metadata": {},
   "outputs": [
    {
     "data": {
      "text/plain": [
       "<h2>doc. PhDr. Jozef Baruník Ph.D.</h2>"
      ]
     },
     "execution_count": 23,
     "metadata": {},
     "output_type": "execute_result"
    }
   ],
   "source": [
    "bf.find('h2')"
   ]
  },
  {
   "cell_type": "code",
   "execution_count": 127,
   "metadata": {},
   "outputs": [
    {
     "data": {
      "text/plain": [
       "'barunik'"
      ]
     },
     "execution_count": 127,
     "metadata": {},
     "output_type": "execute_result"
    }
   ],
   "source": [
    "\"http://ies.fsv.cuni.cz/en/staff/barunik\".split('/')[-1]"
   ]
  },
  {
   "cell_type": "code",
   "execution_count": null,
   "metadata": {},
   "outputs": [],
   "source": []
  },
  {
   "cell_type": "code",
   "execution_count": 43,
   "metadata": {},
   "outputs": [
    {
     "data": {
      "text/plain": [
       "['barunik',\n",
       " 'bauerm',\n",
       " 'baxajaromir',\n",
       " 'bertoli',\n",
       " 'antosova',\n",
       " 'cahlik',\n",
       " 'fcech',\n",
       " 'cervinka',\n",
       " 'chytilova',\n",
       " 'dedek',\n",
       " 'dolezalova',\n",
       " 'gersl',\n",
       " 'gregor',\n",
       " 'havranek',\n",
       " 'irsova',\n",
       " 'hlavacekm',\n",
       " 'hollmannov',\n",
       " 'holub',\n",
       " 'horvath',\n",
       " 'jakubik',\n",
       " 'janda',\n",
       " 'jansky',\n",
       " 'kemenyova',\n",
       " 'kocenda',\n",
       " 'komarek',\n",
       " 'kristoufek',\n",
       " 'kukacka',\n",
       " 'maresj',\n",
       " 'mejstrik',\n",
       " 'nevrla',\n",
       " 'novakji',\n",
       " 'opatrny',\n",
       " 'malirova',\n",
       " 'palansky',\n",
       " 'paulus',\n",
       " 'neprasova',\n",
       " 'gebicka',\n",
       " 'pinter',\n",
       " 'scasny',\n",
       " 'schneider',\n",
       " 'schwarz',\n",
       " 'sedivy',\n",
       " 'semerak',\n",
       " 'reckova',\n",
       " 'gregorovalenka',\n",
       " 'reichlova',\n",
       " 'teply',\n",
       " 'vacek',\n",
       " 'vacha',\n",
       " 'visek',\n",
       " 'vosvrda',\n",
       " 'prochazkova',\n",
       " 'zacek']"
      ]
     },
     "execution_count": 43,
     "metadata": {},
     "output_type": "execute_result"
    }
   ],
   "source": [
    "def getID(link):\n",
    "    #http://ies.fsv.cuni.cz/en/staff/barunik\n",
    "    return link.split('/')[-1]\n",
    "[getID(link) for link in links]"
   ]
  },
  {
   "cell_type": "code",
   "execution_count": 24,
   "metadata": {},
   "outputs": [
    {
     "data": {
      "text/plain": [
       "['https://ies.fsv.cuni.cz/en/staff/barunik',\n",
       " 'https://ies.fsv.cuni.cz/en/staff/bauerm']"
      ]
     },
     "execution_count": 24,
     "metadata": {},
     "output_type": "execute_result"
    }
   ],
   "source": [
    "links[:2]"
   ]
  },
  {
   "cell_type": "code",
   "execution_count": 25,
   "metadata": {},
   "outputs": [],
   "source": [
    "bf = getSoup(links[0])"
   ]
  },
  {
   "cell_type": "code",
   "execution_count": 35,
   "metadata": {},
   "outputs": [],
   "source": [
    "node = bf.find('strong',text='Phone:')"
   ]
  },
  {
   "cell_type": "code",
   "execution_count": 38,
   "metadata": {},
   "outputs": [
    {
     "data": {
      "text/plain": [
       "'+420(776)259273'"
      ]
     },
     "execution_count": 38,
     "metadata": {},
     "output_type": "execute_result"
    }
   ],
   "source": [
    "node.next_sibling.strip()"
   ]
  },
  {
   "cell_type": "code",
   "execution_count": 40,
   "metadata": {},
   "outputs": [
    {
     "data": {
      "text/plain": [
       "[['+420(776)259273', '503', 'Associate Professor'],\n",
       " ['222 112 329', '402', 'Associate Professor']]"
      ]
     },
     "execution_count": 40,
     "metadata": {},
     "output_type": "execute_result"
    }
   ],
   "source": [
    "def getNextSiblingOfStrong(link,characteristic):\n",
    "    soup = getSoup(link)\n",
    "    strong = soup.find('strong',text=characteristic)\n",
    "    return strong.next_sibling.strip()\n",
    "\n",
    "def getMoreCharacteristics(link, characteristics):\n",
    "    return [getNextSiblingOfStrong(link,char) for char in characteristics]\n",
    "\n",
    "\n",
    "\n",
    "[getMoreCharacteristics(link,['Phone:','Office:','Position:']) for link in links[:2]]"
   ]
  },
  {
   "cell_type": "code",
   "execution_count": null,
   "metadata": {},
   "outputs": [],
   "source": []
  },
  {
   "cell_type": "markdown",
   "metadata": {},
   "source": [
    "* Let's do an object!"
   ]
  },
  {
   "cell_type": "code",
   "execution_count": 41,
   "metadata": {},
   "outputs": [],
   "source": [
    "class Person:\n",
    "    def __init__(self,link):\n",
    "        self.soup = getSoup(link)\n",
    "        self.office = self.getNextSiblingOfStrong('Office:')\n",
    "        self.phone = self.getNextSiblingOfStrong('Phone:')\n",
    "        \n",
    "    def getNextSiblingOfStrong(self, characteristic):\n",
    "        strong = self.soup.find('strong',text=characteristic)\n",
    "        return strong.next_sibling\n",
    "\n",
    "people = [Person(link) for link in links[:2]]"
   ]
  },
  {
   "cell_type": "code",
   "execution_count": 42,
   "metadata": {},
   "outputs": [
    {
     "data": {
      "text/plain": [
       "[<__main__.Person at 0x121327e90>, <__main__.Person at 0x121321150>]"
      ]
     },
     "execution_count": 42,
     "metadata": {},
     "output_type": "execute_result"
    }
   ],
   "source": [
    "people"
   ]
  },
  {
   "cell_type": "code",
   "execution_count": 45,
   "metadata": {},
   "outputs": [
    {
     "data": {
      "text/plain": [
       "['doc. PhDr. Jozef Baruník Ph.D.', 'doc. PhDr. Michal Bauer Ph.D.']"
      ]
     },
     "execution_count": 45,
     "metadata": {},
     "output_type": "execute_result"
    }
   ],
   "source": [
    "#forgot to add an attribute to the constructor?\n",
    "[p.soup.find('h2').text for p in people]"
   ]
  },
  {
   "cell_type": "code",
   "execution_count": 48,
   "metadata": {},
   "outputs": [],
   "source": [
    "for p_instance in people:\n",
    "    p_instance.full_name = p_instance.soup.find('h2').text"
   ]
  },
  {
   "cell_type": "code",
   "execution_count": 50,
   "metadata": {},
   "outputs": [
    {
     "data": {
      "text/plain": [
       "'doc. PhDr. Jozef Baruník Ph.D.'"
      ]
     },
     "execution_count": 50,
     "metadata": {},
     "output_type": "execute_result"
    }
   ],
   "source": [
    "people[0].full_name"
   ]
  },
  {
   "cell_type": "code",
   "execution_count": 51,
   "metadata": {},
   "outputs": [
    {
     "ename": "AttributeError",
     "evalue": "'Person' object has no attribute 'full_name'",
     "output_type": "error",
     "traceback": [
      "\u001b[0;31m---------------------------------------------------------------------------\u001b[0m",
      "\u001b[0;31mAttributeError\u001b[0m                            Traceback (most recent call last)",
      "\u001b[0;32m<ipython-input-51-cf7cf9d01a93>\u001b[0m in \u001b[0;36m<module>\u001b[0;34m\u001b[0m\n\u001b[0;32m----> 1\u001b[0;31m \u001b[0mPerson\u001b[0m\u001b[0;34m(\u001b[0m\u001b[0mlinks\u001b[0m\u001b[0;34m[\u001b[0m\u001b[0;36m5\u001b[0m\u001b[0;34m]\u001b[0m\u001b[0;34m)\u001b[0m\u001b[0;34m.\u001b[0m\u001b[0mfull_name\u001b[0m\u001b[0;34m\u001b[0m\u001b[0;34m\u001b[0m\u001b[0m\n\u001b[0m",
      "\u001b[0;31mAttributeError\u001b[0m: 'Person' object has no attribute 'full_name'"
     ]
    }
   ],
   "source": [
    "Person(links[5]).full_name"
   ]
  },
  {
   "cell_type": "code",
   "execution_count": 4,
   "metadata": {},
   "outputs": [],
   "source": [
    "bf = getSoup('https://ies.fsv.cuni.cz/content/tree/index/lang/en')"
   ]
  },
  {
   "cell_type": "code",
   "execution_count": 5,
   "metadata": {},
   "outputs": [
    {
     "data": {
      "text/plain": [
       "25"
      ]
     },
     "execution_count": 5,
     "metadata": {},
     "output_type": "execute_result"
    }
   ],
   "source": [
    "int(bf.find('a',text='Scheduled shutdown of servers').parent.parent.parent.find('span').text)"
   ]
  },
  {
   "cell_type": "code",
   "execution_count": 9,
   "metadata": {},
   "outputs": [
    {
     "data": {
      "text/plain": [
       "['25', '26']"
      ]
     },
     "execution_count": 9,
     "metadata": {},
     "output_type": "execute_result"
    }
   ],
   "source": [
    "[el.parent.parent.parent.find('span').text for el in bf.find_all('a',text='Scheduled shutdown of servers')]"
   ]
  },
  {
   "cell_type": "code",
   "execution_count": 57,
   "metadata": {},
   "outputs": [
    {
     "data": {
      "text/plain": [
       "[[<span>6</span>, <span>25</span>, <span>26</span>, <span>30</span>]]"
      ]
     },
     "execution_count": 57,
     "metadata": {},
     "output_type": "execute_result"
    }
   ],
   "source": [
    "[event.findAll('span') for event in table]"
   ]
  },
  {
   "cell_type": "code",
   "execution_count": 10,
   "metadata": {},
   "outputs": [
    {
     "data": {
      "text/plain": [
       "int"
      ]
     },
     "execution_count": 10,
     "metadata": {},
     "output_type": "execute_result"
    }
   ],
   "source": [
    "type(5)"
   ]
  }
 ],
 "metadata": {
  "kernelspec": {
   "display_name": "Python 3",
   "language": "python",
   "name": "python3"
  },
  "language_info": {
   "codemirror_mode": {
    "name": "ipython",
    "version": 3
   },
   "file_extension": ".py",
   "mimetype": "text/x-python",
   "name": "python",
   "nbconvert_exporter": "python",
   "pygments_lexer": "ipython3",
   "version": "3.7.6"
  }
 },
 "nbformat": 4,
 "nbformat_minor": 4
}
