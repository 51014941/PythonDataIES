{
 "cells": [
  {
   "cell_type": "code",
   "execution_count": 1,
   "metadata": {},
   "outputs": [],
   "source": [
    "import requests\n",
    "from bs4 import BeautifulSoup\n",
    "from tqdm import tqdm\n",
    "from IES_Downloader import IES_Downloader"
   ]
  },
  {
   "cell_type": "markdown",
   "metadata": {},
   "source": [
    "# Lecture 6 - IES Web scraper\n",
    "\n",
    "by Vítek Macháček\n",
    "\n",
    "November 12th, 2019\n",
    "\n",
    "* Putting it all together\n",
    "* OOP + Pandas + Requests + BeautifulSoup"
   ]
  },
  {
   "cell_type": "markdown",
   "metadata": {},
   "source": [
    "## Object-oriented Programming\n",
    "* Brief reminder of how objects work\n",
    "\n",
    "### Docstring + Objects + Inheriting + Constructors"
   ]
  },
  {
   "cell_type": "code",
   "execution_count": 3,
   "metadata": {},
   "outputs": [],
   "source": [
    "class Parent:\n",
    "    '''\n",
    "    A very brief and helpful description of the Parent class\n",
    "    '''\n",
    "    def __init__(self,arg):\n",
    "        '''\n",
    "        Exact and brief description of parent's constructor\n",
    "        '''\n",
    "        self.attribute = 'x'\n",
    "        self.id = arg\n",
    "        \n",
    "    def parentMethod(self):\n",
    "        '''\n",
    "        Good description of parentMethod\n",
    "        '''\n",
    "        pass\n",
    "    \n",
    "class Child(Parent):\n",
    "    '''\n",
    "    This is what Child is good for\n",
    "    '''\n",
    "    def __init__(self,arg,desc):\n",
    "        '''\n",
    "        Exact and brief description of Child's contructor\n",
    "        '''\n",
    "        super().__init__(arg)\n",
    "        self.desc = desc\n",
    "    \n",
    "    def childMethod(self,arg):\n",
    "        '''\n",
    "        Good description of childMethod\n",
    "        '''\n",
    "        return len(arg)\n",
    "\n",
    "    \n",
    "par = Parent('A parent')\n",
    "ch = Child(999,'A child')\n"
   ]
  },
  {
   "cell_type": "code",
   "execution_count": 4,
   "metadata": {},
   "outputs": [
    {
     "data": {
      "text/plain": [
       "999"
      ]
     },
     "execution_count": 4,
     "metadata": {},
     "output_type": "execute_result"
    }
   ],
   "source": [
    "ch.id"
   ]
  },
  {
   "cell_type": "code",
   "execution_count": 6,
   "metadata": {},
   "outputs": [
    {
     "data": {
      "text/plain": [
       "\u001b[0;31mType:\u001b[0m           Child\n",
       "\u001b[0;31mString form:\u001b[0m    <__main__.Child object at 0x7fc4a1077710>\n",
       "\u001b[0;31mDocstring:\u001b[0m      This is what Child is good for\n",
       "\u001b[0;31mInit docstring:\u001b[0m Exact and brief description of Child's contructor\n"
      ]
     },
     "metadata": {},
     "output_type": "display_data"
    }
   ],
   "source": [
    "?ch"
   ]
  },
  {
   "cell_type": "markdown",
   "metadata": {},
   "source": [
    "## Task:\n",
    "* A parser of IES websites with following features:\n",
    "    * All info about people from [Internal faculty](http://ies.fsv.cuni.cz/en/node/48), [External lecturers](http://ies.fsv.cuni.cz/en/node/49), [Ph.D. candidates](http://ies.fsv.cuni.cz/en/node/51) and [Administration](http://ies.fsv.cuni.cz/en/node/50)\n",
    "    * All info about [all](http://ies.fsv.cuni.cz/en/node/109) theses between 1994 and 2019 won'be covered as we have problems with the website\n",
    "    * Also all courses! But no list of courses available ..."
   ]
  },
  {
   "cell_type": "code",
   "execution_count": null,
   "metadata": {},
   "outputs": [],
   "source": []
  },
  {
   "cell_type": "markdown",
   "metadata": {},
   "source": [
    "### Robots.txt\n",
    "\n",
    "* Is it OK to scrape?\n",
    "* Guidance for search engines etc.\n"
   ]
  },
  {
   "cell_type": "code",
   "execution_count": 8,
   "metadata": {},
   "outputs": [
    {
     "data": {
      "text/plain": [
       "<Response [404]>"
      ]
     },
     "execution_count": 8,
     "metadata": {},
     "output_type": "execute_result"
    }
   ],
   "source": [
    "requests.get('http://ies.fsv.cuni.cz/robots.txt')"
   ]
  },
  {
   "cell_type": "code",
   "execution_count": 7,
   "metadata": {},
   "outputs": [
    {
     "name": "stdout",
     "output_type": "stream",
     "text": [
      "User-agent: *\n",
      "Disallow: /advertpdf/\n",
      "Disallow: /favourites-info\n",
      "Disallow: *_buri=\n",
      "Disallow: /adresar/*page=\n",
      "Disallow: /adresar/*perPage=\n",
      "Disallow: /adresar/*search=\n",
      "Disallow: /adresar/*letter=\n",
      "Disallow: /adresar/*id=\n",
      "Disallow: /firma/*page=\n",
      "Disallow: /firma/*perPage=\n",
      "Disallow: /firma/*search=\n",
      "Disallow: /firma/*letter=\n",
      "Disallow: /firma/*id=\n",
      "Disallow: /hledani/*,\n",
      "Allow: /hledani/*region=*,\n",
      "Disallow: /rk-detail\n",
      "Disallow: *bez-aukce=\n",
      "Disallow: *without-auction=\n",
      "\n",
      "\n",
      "User-agent: SeznamBot\n",
      "Disallow: /advertpdf/\n",
      "Disallow: /en/\n",
      "Disallow: /ru/\n",
      "Disallow: /favourites-info\n",
      "Disallow: *_buri=\n",
      "Disallow: /adresar/*page=\n",
      "Disallow: /adresar/*perPage=\n",
      "Disallow: /adresar/*search=\n",
      "Disallow: /adresar/*letter=\n",
      "Disallow: /adresar/*id=\n",
      "Disallow: /firma/*page=\n",
      "Disallow: /firma/*perPage=\n",
      "Disallow: /firma/*search=\n",
      "Disallow: /firma/*letter=\n",
      "Disallow: /firma/*id=\n",
      "Disallow: /hledani/*,\n",
      "Allow: /hledani/*region=*,\n",
      "Disallow: /rk-detail\n",
      "Disallow: *bez-aukce=\n",
      "Disallow: *without-auction=\n",
      "\n",
      "Sitemap: https://www.sreality.cz/sitemap.xml\n",
      "\n"
     ]
    }
   ],
   "source": [
    "print(requests.get('http://sreality.cz/robots.txt').text)"
   ]
  },
  {
   "cell_type": "markdown",
   "metadata": {},
   "source": [
    "## Pages\n",
    "\n",
    "### Find all persons?\n",
    "[Current faculty](http://ies.fsv.cuni.cz/en/node/48)"
   ]
  },
  {
   "cell_type": "code",
   "execution_count": 9,
   "metadata": {},
   "outputs": [],
   "source": [
    "def getSoup(link):\n",
    "    r = requests.get(link)\n",
    "    r.encoding = 'UTF-8'\n",
    "    return BeautifulSoup(r.text,'lxml')"
   ]
  },
  {
   "cell_type": "code",
   "execution_count": 10,
   "metadata": {},
   "outputs": [
    {
     "data": {
      "text/plain": [
       "['http://ies.fsv.cuni.cz/en/staff/barunik',\n",
       " 'http://ies.fsv.cuni.cz/en/staff/bauerm',\n",
       " 'http://ies.fsv.cuni.cz/en/staff/baxajaromir',\n",
       " 'http://ies.fsv.cuni.cz/en/staff/bertoli',\n",
       " 'http://ies.fsv.cuni.cz/en/staff/antosova',\n",
       " 'http://ies.fsv.cuni.cz/en/staff/cahlik',\n",
       " 'http://ies.fsv.cuni.cz/en/staff/fcech',\n",
       " 'http://ies.fsv.cuni.cz/en/staff/cervinka',\n",
       " 'http://ies.fsv.cuni.cz/en/staff/chytilova',\n",
       " 'http://ies.fsv.cuni.cz/en/staff/dedek',\n",
       " 'http://ies.fsv.cuni.cz/en/staff/dolezalova',\n",
       " 'http://ies.fsv.cuni.cz/en/staff/gersl',\n",
       " 'http://ies.fsv.cuni.cz/en/staff/gregor',\n",
       " 'http://ies.fsv.cuni.cz/en/staff/havranek',\n",
       " 'http://ies.fsv.cuni.cz/en/staff/irsova',\n",
       " 'http://ies.fsv.cuni.cz/en/staff/hlavacekm',\n",
       " 'http://ies.fsv.cuni.cz/en/staff/hollmannov',\n",
       " 'http://ies.fsv.cuni.cz/en/staff/holub',\n",
       " 'http://ies.fsv.cuni.cz/en/staff/horvath',\n",
       " 'http://ies.fsv.cuni.cz/en/staff/jakubik',\n",
       " 'http://ies.fsv.cuni.cz/en/staff/janda',\n",
       " 'http://ies.fsv.cuni.cz/en/staff/jansky',\n",
       " 'http://ies.fsv.cuni.cz/en/staff/kemenyova',\n",
       " 'http://ies.fsv.cuni.cz/en/staff/kocenda',\n",
       " 'http://ies.fsv.cuni.cz/en/staff/komarek',\n",
       " 'http://ies.fsv.cuni.cz/en/staff/kristoufek',\n",
       " 'http://ies.fsv.cuni.cz/en/staff/kukacka',\n",
       " 'http://ies.fsv.cuni.cz/en/staff/maresj',\n",
       " 'http://ies.fsv.cuni.cz/en/staff/mejstrik',\n",
       " 'http://ies.fsv.cuni.cz/en/staff/nevrla',\n",
       " 'http://ies.fsv.cuni.cz/en/staff/novakji',\n",
       " 'http://ies.fsv.cuni.cz/en/staff/opatrny',\n",
       " 'http://ies.fsv.cuni.cz/en/staff/malirova',\n",
       " 'http://ies.fsv.cuni.cz/en/staff/palansky',\n",
       " 'http://ies.fsv.cuni.cz/en/staff/paulus',\n",
       " 'http://ies.fsv.cuni.cz/en/staff/neprasova',\n",
       " 'http://ies.fsv.cuni.cz/en/staff/gebicka',\n",
       " 'http://ies.fsv.cuni.cz/en/staff/pinter',\n",
       " 'http://ies.fsv.cuni.cz/en/staff/scasny',\n",
       " 'http://ies.fsv.cuni.cz/en/staff/schneider',\n",
       " 'http://ies.fsv.cuni.cz/en/staff/schwarz',\n",
       " 'http://ies.fsv.cuni.cz/en/staff/sedivy',\n",
       " 'http://ies.fsv.cuni.cz/en/staff/semerak',\n",
       " 'http://ies.fsv.cuni.cz/en/staff/reckova',\n",
       " 'http://ies.fsv.cuni.cz/en/staff/gregorovalenka',\n",
       " 'http://ies.fsv.cuni.cz/en/staff/reichlova',\n",
       " 'http://ies.fsv.cuni.cz/en/staff/teply',\n",
       " 'http://ies.fsv.cuni.cz/en/staff/vacek',\n",
       " 'http://ies.fsv.cuni.cz/en/staff/vacha',\n",
       " 'http://ies.fsv.cuni.cz/en/staff/visek',\n",
       " 'http://ies.fsv.cuni.cz/en/staff/vosvrda',\n",
       " 'http://ies.fsv.cuni.cz/en/staff/prochazkova',\n",
       " 'http://ies.fsv.cuni.cz/en/staff/zacek']"
      ]
     },
     "execution_count": 10,
     "metadata": {},
     "output_type": "execute_result"
    }
   ],
   "source": [
    "def getAllLinks(link):\n",
    "    soup = getSoup(link)\n",
    "    tds = soup.findAll('td', {'class':'peopleTableCellName'})\n",
    "    return ['http://ies.fsv.cuni.cz' + td.find('a')['href'] for td in tds]\n",
    "\n",
    "links = getAllLinks('http://ies.fsv.cuni.cz/en/node/48')\n",
    "links"
   ]
  },
  {
   "cell_type": "markdown",
   "metadata": {},
   "source": [
    "## Person's characteristics?"
   ]
  },
  {
   "cell_type": "code",
   "execution_count": 11,
   "metadata": {},
   "outputs": [
    {
     "data": {
      "text/plain": [
       "['doc. PhDr. Jozef Baruník Ph.D.',\n",
       " 'doc. PhDr. Michal Bauer Ph.D.',\n",
       " 'PhDr. Jaromír Baxa Ph.D.',\n",
       " ' Paola Bertoli M.A., MSc., Ph.D.',\n",
       " 'PhDr. Lucie Bryndová ',\n",
       " 'doc. Ing. Tomáš Cahlík CSc.',\n",
       " 'PhDr. František Čech Ph.D.',\n",
       " 'RNDr. Michal Červinka Ph.D.',\n",
       " 'doc. PhDr. Julie Chytilová Ph.D.',\n",
       " 'prof. Ing. Oldřich Dědek CSc.',\n",
       " 'doc. PhDr. Ing. Antonie Doležalová Ph.D.',\n",
       " 'doc. PhDr. Adam Geršl Ph.D.',\n",
       " 'doc. PhDr. Martin Gregor Ph.D.',\n",
       " 'doc. PhDr. Tomáš Havránek Ph.D.',\n",
       " 'doc. PhDr. Zuzana Havránková Ph.D.',\n",
       " 'PhDr. Michal Hlaváček Ph.D.',\n",
       " 'Ing. Monika Hollmannová ',\n",
       " 'doc. Mgr. Tomáš Holub Ph.D.',\n",
       " 'prof. Roman Horváth Ph.D.',\n",
       " 'doc. PhDr. Ing. Ing. Petr Jakubík Ph.D. Ph.D.',\n",
       " 'prof. Ing. Karel Janda M.A., Dr., Ph.D.',\n",
       " 'doc. Petr Janský Ph.D.',\n",
       " 'Ing. Irena Kemény ',\n",
       " 'prof. Ing. Evžen Kočenda M.A., Ph.D., DSc.',\n",
       " 'prof. Ing. et Ing. Luboš Komárek Ph.D., MSc., MBA',\n",
       " 'doc. PhDr. Ladislav Krištoufek Ph.D.',\n",
       " 'PhDr. Jiří Kukačka Ph.D.',\n",
       " 'Mgr. Jan Mareš ',\n",
       " 'prof. Ing. Michal Mejstřík CSc.',\n",
       " 'Mgr. Ing. Matěj Nevrla ',\n",
       " ' Jiří Novák M.Sc., Ph.D., Deloitte Corporate Chair',\n",
       " ' Matěj Opatrný MSc.',\n",
       " 'Mgr. Tereza Palanská M.A.',\n",
       " 'Mgr. Miroslav Palanský M.A.',\n",
       " 'Mgr. Michal Paulus ',\n",
       " 'Mgr. Magda Pečená  Ph.D.',\n",
       " 'Mgr. Barbara Pertold-Gebická M.A., Ph.D.',\n",
       " ' Julien Pinter Ph.D.',\n",
       " 'Mgr. Milan Ščasný PhD.',\n",
       " 'doc. Ing. Ondřej Schneider MPhil., Ph.D.',\n",
       " 'PhDr. Jiří Schwarz Ph.D.',\n",
       " 'Mgr. Marek Šedivý ',\n",
       " 'Ing. Vilém Semerák M.A., Ph.D.',\n",
       " 'Mgr. Dominika Špolcová ',\n",
       " 'PhDr. Lenka Šťastná Ph.D.',\n",
       " 'PhDr. Natálie Švarcová Ph.D.',\n",
       " 'doc. PhDr. Petr Teplý Ph.D.',\n",
       " 'PhDr. Pavel Vacek Ph.D.',\n",
       " 'Mgr. Lukáš Vácha Ph.D.',\n",
       " 'prof. RNDr. Jan Ámos Víšek CSc.',\n",
       " 'prof. Ing. Miloslav Vošvrda CSc.',\n",
       " 'PhDr. Jana Votápková ',\n",
       " 'Mgr. Jan Žáček ']"
      ]
     },
     "execution_count": 11,
     "metadata": {},
     "output_type": "execute_result"
    }
   ],
   "source": [
    "def getName(link):\n",
    "    soup = getSoup(link)\n",
    "    return soup.find('h2').text\n",
    "[getName(link) for link in links]"
   ]
  },
  {
   "cell_type": "code",
   "execution_count": 12,
   "metadata": {},
   "outputs": [
    {
     "data": {
      "text/plain": [
       "['barunik',\n",
       " 'bauerm',\n",
       " 'baxajaromir',\n",
       " 'bertoli',\n",
       " 'antosova',\n",
       " 'cahlik',\n",
       " 'fcech',\n",
       " 'cervinka',\n",
       " 'chytilova',\n",
       " 'dedek',\n",
       " 'dolezalova',\n",
       " 'gersl',\n",
       " 'gregor',\n",
       " 'havranek',\n",
       " 'irsova',\n",
       " 'hlavacekm',\n",
       " 'hollmannov',\n",
       " 'holub',\n",
       " 'horvath',\n",
       " 'jakubik',\n",
       " 'janda',\n",
       " 'jansky',\n",
       " 'kemenyova',\n",
       " 'kocenda',\n",
       " 'komarek',\n",
       " 'kristoufek',\n",
       " 'kukacka',\n",
       " 'maresj',\n",
       " 'mejstrik',\n",
       " 'nevrla',\n",
       " 'novakji',\n",
       " 'opatrny',\n",
       " 'malirova',\n",
       " 'palansky',\n",
       " 'paulus',\n",
       " 'neprasova',\n",
       " 'gebicka',\n",
       " 'pinter',\n",
       " 'scasny',\n",
       " 'schneider',\n",
       " 'schwarz',\n",
       " 'sedivy',\n",
       " 'semerak',\n",
       " 'reckova',\n",
       " 'gregorovalenka',\n",
       " 'reichlova',\n",
       " 'teply',\n",
       " 'vacek',\n",
       " 'vacha',\n",
       " 'visek',\n",
       " 'vosvrda',\n",
       " 'prochazkova',\n",
       " 'zacek']"
      ]
     },
     "execution_count": 12,
     "metadata": {},
     "output_type": "execute_result"
    }
   ],
   "source": [
    "def getID(link):\n",
    "    #http://ies.fsv.cuni.cz/en/staff/barunik\n",
    "    return link.split('/')[-1]\n",
    "[getID(link) for link in links]"
   ]
  },
  {
   "cell_type": "code",
   "execution_count": 13,
   "metadata": {},
   "outputs": [
    {
     "data": {
      "text/plain": [
       "[[' +420(776)259273', ' 503'], [' 222 112 329', ' 402']]"
      ]
     },
     "execution_count": 13,
     "metadata": {},
     "output_type": "execute_result"
    }
   ],
   "source": [
    "def getNextSiblingOfStrong(link,characteristic):\n",
    "    soup = getSoup(link)\n",
    "    strong = soup.find('strong',text=characteristic)\n",
    "    return strong.next_sibling\n",
    "\n",
    "def getMoreCharacteristics(link, characteristics):\n",
    "    return [getNextSiblingOfStrong(link,char) for char in characteristics]\n",
    "\n",
    "\n",
    "\n",
    "[getMoreCharacteristics(link,['Phone:','Office:']) for link in links[:2]]"
   ]
  },
  {
   "cell_type": "code",
   "execution_count": null,
   "metadata": {},
   "outputs": [],
   "source": [
    "def getAnotherCharacteristic(link,characteristic):\n",
    "    pass"
   ]
  },
  {
   "cell_type": "markdown",
   "metadata": {},
   "source": [
    "* Let's do an object!"
   ]
  },
  {
   "cell_type": "code",
   "execution_count": 14,
   "metadata": {},
   "outputs": [],
   "source": [
    "class Person:\n",
    "    def __init__(self,link):\n",
    "        self.soup = getSoup(link)\n",
    "        self.office = self.getNextSiblingOfStrong('Office:')\n",
    "        self.phone = self.getNextSiblingOfStrong('Phone:')\n",
    "        \n",
    "    def getNextSiblingOfStrong(self,characteristic):\n",
    "        strong = self.soup.find('strong',text=characteristic)\n",
    "        return strong.next_sibling\n",
    "\n",
    "people = [Person(link) for link in links[:2]]"
   ]
  },
  {
   "cell_type": "code",
   "execution_count": 17,
   "metadata": {},
   "outputs": [
    {
     "data": {
      "text/plain": [
       "[<h2>doc. PhDr. Jozef Baruník Ph.D.</h2>,\n",
       " <h2>doc. PhDr. Michal Bauer Ph.D.</h2>]"
      ]
     },
     "execution_count": 17,
     "metadata": {},
     "output_type": "execute_result"
    }
   ],
   "source": [
    "[p.soup.find('h2') for p in people]"
   ]
  },
  {
   "cell_type": "markdown",
   "metadata": {},
   "source": [
    "## Thesis characteristics?"
   ]
  },
  {
   "cell_type": "code",
   "execution_count": null,
   "metadata": {},
   "outputs": [],
   "source": [
    "dl = IES_Downloader(allowLog=False)\n",
    "dl.getThesesLinksForCategory('http://ies.fsv.cuni.cz/en/node/270/','Doctoral')\n",
    "thesesLinks = dl.links['theses']['Doctoral']"
   ]
  },
  {
   "cell_type": "code",
   "execution_count": null,
   "metadata": {},
   "outputs": [],
   "source": []
  },
  {
   "cell_type": "code",
   "execution_count": null,
   "metadata": {},
   "outputs": [],
   "source": [
    "class Thesis:\n",
    "    def __init__(self,link):\n",
    "        pass\n",
    "\n",
    "theses = []\n",
    "for t in tqdm(thesesLinks):\n",
    "    theses.append(Thesis(t))"
   ]
  },
  {
   "cell_type": "code",
   "execution_count": null,
   "metadata": {},
   "outputs": [],
   "source": []
  },
  {
   "cell_type": "markdown",
   "metadata": {},
   "source": [
    "* We are lazy programmers!"
   ]
  },
  {
   "cell_type": "code",
   "execution_count": null,
   "metadata": {},
   "outputs": [],
   "source": [
    "class Parent:\n",
    "    pass\n",
    "\n",
    "class Thesis(Parent):\n",
    "    pass\n",
    "\n",
    "class Person(Parent):\n",
    "    pass"
   ]
  },
  {
   "cell_type": "markdown",
   "metadata": {},
   "source": [
    "See **IES_Pages.py**"
   ]
  },
  {
   "cell_type": "markdown",
   "metadata": {},
   "source": [
    "### Last object missing"
   ]
  },
  {
   "cell_type": "code",
   "execution_count": null,
   "metadata": {},
   "outputs": [],
   "source": []
  },
  {
   "cell_type": "markdown",
   "metadata": {},
   "source": [
    "see **IES_Downloader.py**"
   ]
  },
  {
   "cell_type": "markdown",
   "metadata": {},
   "source": [
    "# Object Structure"
   ]
  },
  {
   "cell_type": "code",
   "execution_count": null,
   "metadata": {},
   "outputs": [],
   "source": []
  },
  {
   "cell_type": "code",
   "execution_count": null,
   "metadata": {},
   "outputs": [],
   "source": []
  },
  {
   "cell_type": "code",
   "execution_count": null,
   "metadata": {},
   "outputs": [],
   "source": []
  },
  {
   "cell_type": "code",
   "execution_count": null,
   "metadata": {},
   "outputs": [],
   "source": []
  },
  {
   "cell_type": "code",
   "execution_count": null,
   "metadata": {},
   "outputs": [],
   "source": []
  },
  {
   "cell_type": "code",
   "execution_count": null,
   "metadata": {},
   "outputs": [],
   "source": []
  }
 ],
 "metadata": {
  "kernelspec": {
   "display_name": "Python 3",
   "language": "python",
   "name": "python3"
  },
  "language_info": {
   "codemirror_mode": {
    "name": "ipython",
    "version": 3
   },
   "file_extension": ".py",
   "mimetype": "text/x-python",
   "name": "python",
   "nbconvert_exporter": "python",
   "pygments_lexer": "ipython3",
   "version": "3.7.1"
  }
 },
 "nbformat": 4,
 "nbformat_minor": 2
}
