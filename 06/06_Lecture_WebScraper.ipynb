{
 "cells": [
  {
   "cell_type": "code",
   "execution_count": 4,
   "metadata": {},
   "outputs": [],
   "source": [
    "import requests\n",
    "from bs4 import BeautifulSoup\n",
    "from time import sleep\n",
    "from tqdm import tqdm\n",
    "import re\n",
    "from IES_Downloader import IES_Downloader"
   ]
  },
  {
   "cell_type": "markdown",
   "metadata": {},
   "source": [
    "# Lecture 6 - IES Web scraper\n",
    "\n",
    "by Vítek Macháček\n",
    "\n",
    "November 3rd, 2020\n",
    "\n",
    "* Putting it all together\n",
    "* OOP + Pandas + Requests + Scraping\n"
   ]
  },
  {
   "cell_type": "markdown",
   "metadata": {},
   "source": [
    "## Object-oriented Programming\n",
    "* Brief reminder of how objects work\n",
    "\n",
    "### Docstring + Objects + Inheriting + Constructors"
   ]
  },
  {
   "cell_type": "markdown",
   "metadata": {},
   "source": [
    "![Simple Object Structure](./img/class_example.png)"
   ]
  },
  {
   "cell_type": "code",
   "execution_count": 2,
   "metadata": {},
   "outputs": [
    {
     "ename": "ZeroDivisionError",
     "evalue": "division by zero",
     "output_type": "error",
     "traceback": [
      "\u001b[1;31m---------------------------------------------------------------------------\u001b[0m",
      "\u001b[1;31mZeroDivisionError\u001b[0m                         Traceback (most recent call last)",
      "\u001b[1;32m<ipython-input-2-0106664d39e8>\u001b[0m in \u001b[0;36m<module>\u001b[1;34m\u001b[0m\n\u001b[1;32m----> 1\u001b[1;33m \u001b[1;36m5\u001b[0m\u001b[1;33m/\u001b[0m\u001b[1;36m0\u001b[0m\u001b[1;33m\u001b[0m\u001b[1;33m\u001b[0m\u001b[0m\n\u001b[0m",
      "\u001b[1;31mZeroDivisionError\u001b[0m: division by zero"
     ]
    }
   ],
   "source": [
    "x = Person()"
   ]
  },
  {
   "cell_type": "code",
   "execution_count": 1,
   "metadata": {},
   "outputs": [
    {
     "name": "stdout",
     "output_type": "stream",
     "text": [
      "cannot divide with zero\n"
     ]
    }
   ],
   "source": [
    "try:\n",
    "    5/0\n",
    "except:\n",
    "    print('cannot divide with zero')"
   ]
  },
  {
   "cell_type": "code",
   "execution_count": 7,
   "metadata": {},
   "outputs": [
    {
     "ename": "PersonException",
     "evalue": "Email is invalid",
     "output_type": "error",
     "traceback": [
      "\u001b[1;31m---------------------------------------------------------------------------\u001b[0m",
      "\u001b[1;31mPersonException\u001b[0m                           Traceback (most recent call last)",
      "\u001b[1;32m<ipython-input-7-e2507653cc9f>\u001b[0m in \u001b[0;36m<module>\u001b[1;34m\u001b[0m\n\u001b[0;32m     73\u001b[0m     \u001b[1;32mdef\u001b[0m \u001b[0mget_email\u001b[0m\u001b[1;33m(\u001b[0m\u001b[0mself\u001b[0m\u001b[1;33m)\u001b[0m\u001b[1;33m:\u001b[0m\u001b[1;33m\u001b[0m\u001b[1;33m\u001b[0m\u001b[0m\n\u001b[0;32m     74\u001b[0m         \u001b[1;32mreturn\u001b[0m \u001b[0mself\u001b[0m\u001b[1;33m.\u001b[0m\u001b[0memail\u001b[0m\u001b[1;33m\u001b[0m\u001b[1;33m\u001b[0m\u001b[0m\n\u001b[1;32m---> 75\u001b[1;33m \u001b[0msomeone\u001b[0m \u001b[1;33m=\u001b[0m \u001b[0mPerson\u001b[0m\u001b[1;33m(\u001b[0m\u001b[1;34m'Name'\u001b[0m\u001b[1;33m,\u001b[0m\u001b[1;34m'email@somewhere'\u001b[0m\u001b[1;33m)\u001b[0m\u001b[1;33m\u001b[0m\u001b[1;33m\u001b[0m\u001b[0m\n\u001b[0m",
      "\u001b[1;32m<ipython-input-7-e2507653cc9f>\u001b[0m in \u001b[0;36m__init__\u001b[1;34m(self, name, email)\u001b[0m\n\u001b[0;32m     26\u001b[0m             \u001b[0mself\u001b[0m\u001b[1;33m.\u001b[0m\u001b[0memail\u001b[0m \u001b[1;33m=\u001b[0m \u001b[0memail\u001b[0m\u001b[1;33m\u001b[0m\u001b[1;33m\u001b[0m\u001b[0m\n\u001b[0;32m     27\u001b[0m         \u001b[1;32melse\u001b[0m\u001b[1;33m:\u001b[0m\u001b[1;33m\u001b[0m\u001b[1;33m\u001b[0m\u001b[0m\n\u001b[1;32m---> 28\u001b[1;33m             \u001b[1;32mraise\u001b[0m \u001b[0mPersonException\u001b[0m\u001b[1;33m(\u001b[0m\u001b[1;34m'Email is invalid'\u001b[0m\u001b[1;33m)\u001b[0m\u001b[1;33m\u001b[0m\u001b[1;33m\u001b[0m\u001b[0m\n\u001b[0m\u001b[0;32m     29\u001b[0m \u001b[1;33m\u001b[0m\u001b[0m\n\u001b[0;32m     30\u001b[0m     \u001b[1;32mdef\u001b[0m \u001b[0m_verify_name\u001b[0m\u001b[1;33m(\u001b[0m\u001b[0mself\u001b[0m\u001b[1;33m,\u001b[0m\u001b[0mname\u001b[0m\u001b[1;33m)\u001b[0m\u001b[1;33m:\u001b[0m\u001b[1;33m\u001b[0m\u001b[1;33m\u001b[0m\u001b[0m\n",
      "\u001b[1;31mPersonException\u001b[0m: Email is invalid"
     ]
    }
   ],
   "source": [
    "class PersonException(Exception):\n",
    "    pass\n",
    "\n",
    "class TeacherException(Exception):\n",
    "    pass\n",
    "\n",
    "class StudentException(Exception):\n",
    "    pass\n",
    "\n",
    "\n",
    "class Person:\n",
    "    '''\n",
    "    A Person class is *Abstract* - Intended not to be used directly, but rather to be inherited.\n",
    "    '''\n",
    "    def __init__(self,name,email):\n",
    "        '''\n",
    "        Person's constructor accepts name and e-mail and set it as class attributes, but first it checks whether they are in valid format\n",
    "        '''\n",
    "\n",
    "        if self._verify_name(name):\n",
    "            self.name = name\n",
    "        else:\n",
    "            raise PersonException('Name is invalid')\n",
    "\n",
    "        if self._verify_email(email):\n",
    "            self.email = email\n",
    "        else:\n",
    "            raise PersonException('Email is invalid')\n",
    "    \n",
    "    def _verify_name(self,name):\n",
    "        '''\n",
    "        Method for ensuring that name is not empty and is string\n",
    "        '''\n",
    "        return len(name) > 0 and type(name) == type('')\n",
    "\n",
    "    def _verify_email(self,email):\n",
    "        '''\n",
    "        Method validating that email is truly an email.\n",
    "        '''\n",
    "\n",
    "        email_pattern = '^[a-zA-Z0-9_.+-]+@[a-zA-Z0-9-]+\\.[a-zA-Z0-9-.]+$'\n",
    "        if(re.search(email_pattern,email)):  \n",
    "            return True \n",
    "        else:  \n",
    "            return False\n",
    "    \n",
    "    def _verify_courses(self,courses):\n",
    "        '''\n",
    "        Is list of courses a list containing valid course ident?\n",
    "        '''\n",
    "        def _verify_course(course):\n",
    "            if type(course) != type(''):\n",
    "                return False\n",
    "            elif len(course) != 6:\n",
    "                return False\n",
    "            elif not (course.startswith('JEM') or course.startswith('JEB')):\n",
    "                return False\n",
    "            else:\n",
    "                return True\n",
    "        \n",
    "        if type(courses) != type([]):\n",
    "            return False\n",
    "\n",
    "        if not all([_verify_course(course) for course in courses]):\n",
    "            return False\n",
    "        return True\n",
    "\n",
    "    def describe(self):\n",
    "        raise PersonException(\"Cannot describe parent Person class. Override this in Teacher or Student class\")\n",
    "    \n",
    "    def get_name(self):\n",
    "        return self.name\n",
    "    def get_email(self):\n",
    "        return self.email\n",
    "someone = Person('Name','email@somewhere')"
   ]
  },
  {
   "cell_type": "code",
   "execution_count": 6,
   "metadata": {},
   "outputs": [
    {
     "data": {
      "text/plain": [
       "<__main__.Person at 0x1eb66333208>"
      ]
     },
     "execution_count": 6,
     "metadata": {},
     "output_type": "execute_result"
    }
   ],
   "source": [
    "someone"
   ]
  },
  {
   "cell_type": "code",
   "execution_count": 8,
   "metadata": {},
   "outputs": [
    {
     "ename": "PersonException",
     "evalue": "Cannot describe parent Person class. Override this in Teacher or Student class",
     "output_type": "error",
     "traceback": [
      "\u001b[1;31m---------------------------------------------------------------------------\u001b[0m",
      "\u001b[1;31mPersonException\u001b[0m                           Traceback (most recent call last)",
      "\u001b[1;32m<ipython-input-8-4765dbcfda6c>\u001b[0m in \u001b[0;36m<module>\u001b[1;34m\u001b[0m\n\u001b[1;32m----> 1\u001b[1;33m \u001b[0msomeone\u001b[0m\u001b[1;33m.\u001b[0m\u001b[0mdescribe\u001b[0m\u001b[1;33m(\u001b[0m\u001b[1;33m)\u001b[0m\u001b[1;33m\u001b[0m\u001b[1;33m\u001b[0m\u001b[0m\n\u001b[0m",
      "\u001b[1;32m<ipython-input-5-37af3c92cc13>\u001b[0m in \u001b[0;36mdescribe\u001b[1;34m(self)\u001b[0m\n\u001b[0;32m     67\u001b[0m \u001b[1;33m\u001b[0m\u001b[0m\n\u001b[0;32m     68\u001b[0m     \u001b[1;32mdef\u001b[0m \u001b[0mdescribe\u001b[0m\u001b[1;33m(\u001b[0m\u001b[0mself\u001b[0m\u001b[1;33m)\u001b[0m\u001b[1;33m:\u001b[0m\u001b[1;33m\u001b[0m\u001b[1;33m\u001b[0m\u001b[0m\n\u001b[1;32m---> 69\u001b[1;33m         \u001b[1;32mraise\u001b[0m \u001b[0mPersonException\u001b[0m\u001b[1;33m(\u001b[0m\u001b[1;34m\"Cannot describe parent Person class. Override this in Teacher or Student class\"\u001b[0m\u001b[1;33m)\u001b[0m\u001b[1;33m\u001b[0m\u001b[1;33m\u001b[0m\u001b[0m\n\u001b[0m\u001b[0;32m     70\u001b[0m \u001b[1;33m\u001b[0m\u001b[0m\n\u001b[0;32m     71\u001b[0m     \u001b[1;32mdef\u001b[0m \u001b[0mget_name\u001b[0m\u001b[1;33m(\u001b[0m\u001b[0mself\u001b[0m\u001b[1;33m)\u001b[0m\u001b[1;33m:\u001b[0m\u001b[1;33m\u001b[0m\u001b[1;33m\u001b[0m\u001b[0m\n",
      "\u001b[1;31mPersonException\u001b[0m: Cannot describe parent Person class. Override this in Teacher or Student class"
     ]
    }
   ],
   "source": [
    "someone.describe()"
   ]
  },
  {
   "cell_type": "code",
   "execution_count": 9,
   "metadata": {},
   "outputs": [
    {
     "name": "stdout",
     "output_type": "stream",
     "text": [
      "I am Vítek, my email is vitezkytek@gmail.com and I teach following courses: ['JEM207']\n"
     ]
    }
   ],
   "source": [
    " class Teacher(Person):\n",
    "    '''\n",
    "    Teacher class inherits from Person and contains name, email and list of courses taught\n",
    "    '''\n",
    "    def __init__(self,name,email,teaching_courses):\n",
    "        '''\n",
    "        Teacher's constructor calls the Person's constructor first and then do his stuff\n",
    "        '''\n",
    "        super().__init__(name,email)\n",
    "        \n",
    "        if self._verify_courses(teaching_courses):\n",
    "            self.teaching_courses = teaching_courses\n",
    "        else:\n",
    "            raise TeacherException('Cannot validate courses.')\n",
    "    \n",
    "    def describe(self):\n",
    "        \"\"\" Overriding parent method \"\"\"\n",
    "        print('I am {}, my email is {} and I teach following courses: {}'.format(self.name,self.email,self.teaching_courses))\n",
    "    \n",
    "        \n",
    "class Student(Person):\n",
    "    '''\n",
    "    Student class inherits from Person and contains name, email and list of courses taught\n",
    "    '''\n",
    "    def __init__(self,name,email,studying_courses):\n",
    "        '''\n",
    "        Student's constructor calls the Person's constructor first and then do his stuff\n",
    "        '''\n",
    "        super().__init__(name,email)\n",
    "        \n",
    "        if self._verify_courses(studying_courses):\n",
    "            self.studying_courses = studying_courses\n",
    "        else:\n",
    "            raise StudentException('Cannot validate courses.')\n",
    "\n",
    "    def describe(self):\n",
    "        \"\"\" Overriding parent method \"\"\"\n",
    "        print(\"I am Vítek's student. My name is not important, although I have one. It will be important during the final evaluation though. I study following courses: {}\".format(self.studying_courses))\n",
    "        \n",
    "vitek = Teacher('Vítek','vitezkytek@gmail.com',['JEM207'])\n",
    "\n",
    "vitek.describe()"
   ]
  },
  {
   "cell_type": "code",
   "execution_count": 11,
   "metadata": {},
   "outputs": [
    {
     "ename": "StudentException",
     "evalue": "Cannot validate courses.",
     "output_type": "error",
     "traceback": [
      "\u001b[1;31m---------------------------------------------------------------------------\u001b[0m",
      "\u001b[1;31mStudentException\u001b[0m                          Traceback (most recent call last)",
      "\u001b[1;32m<ipython-input-11-2c95c3f9bfb2>\u001b[0m in \u001b[0;36m<module>\u001b[1;34m\u001b[0m\n\u001b[1;32m----> 1\u001b[1;33m \u001b[0mmy_student\u001b[0m \u001b[1;33m=\u001b[0m \u001b[0mStudent\u001b[0m\u001b[1;33m(\u001b[0m\u001b[1;34m'Honza'\u001b[0m\u001b[1;33m,\u001b[0m\u001b[1;34m'honza@fsv.cuni.cz'\u001b[0m\u001b[1;33m,\u001b[0m\u001b[1;33m[\u001b[0m\u001b[1;34m'JEM20'\u001b[0m\u001b[1;33m,\u001b[0m\u001b[1;34m'JEB111'\u001b[0m\u001b[1;33m]\u001b[0m\u001b[1;33m)\u001b[0m\u001b[1;33m\u001b[0m\u001b[1;33m\u001b[0m\u001b[0m\n\u001b[0m\u001b[0;32m      2\u001b[0m \u001b[0mmy_student\u001b[0m\u001b[1;33m.\u001b[0m\u001b[0mdescribe\u001b[0m\u001b[1;33m(\u001b[0m\u001b[1;33m)\u001b[0m\u001b[1;33m\u001b[0m\u001b[1;33m\u001b[0m\u001b[0m\n",
      "\u001b[1;32m<ipython-input-9-4eeded172e85>\u001b[0m in \u001b[0;36m__init__\u001b[1;34m(self, name, email, studying_courses)\u001b[0m\n\u001b[0;32m     32\u001b[0m            \u001b[0mself\u001b[0m\u001b[1;33m.\u001b[0m\u001b[0mstudying_courses\u001b[0m \u001b[1;33m=\u001b[0m \u001b[0mstudying_courses\u001b[0m\u001b[1;33m\u001b[0m\u001b[1;33m\u001b[0m\u001b[0m\n\u001b[0;32m     33\u001b[0m        \u001b[1;32melse\u001b[0m\u001b[1;33m:\u001b[0m\u001b[1;33m\u001b[0m\u001b[1;33m\u001b[0m\u001b[0m\n\u001b[1;32m---> 34\u001b[1;33m            \u001b[1;32mraise\u001b[0m \u001b[0mStudentException\u001b[0m\u001b[1;33m(\u001b[0m\u001b[1;34m'Cannot validate courses.'\u001b[0m\u001b[1;33m)\u001b[0m\u001b[1;33m\u001b[0m\u001b[1;33m\u001b[0m\u001b[0m\n\u001b[0m\u001b[0;32m     35\u001b[0m \u001b[1;33m\u001b[0m\u001b[0m\n\u001b[0;32m     36\u001b[0m    \u001b[1;32mdef\u001b[0m \u001b[0mdescribe\u001b[0m\u001b[1;33m(\u001b[0m\u001b[0mself\u001b[0m\u001b[1;33m)\u001b[0m\u001b[1;33m:\u001b[0m\u001b[1;33m\u001b[0m\u001b[1;33m\u001b[0m\u001b[0m\n",
      "\u001b[1;31mStudentException\u001b[0m: Cannot validate courses."
     ]
    }
   ],
   "source": [
    "my_student = Student('Honza','honza@fsv.cuni.cz',['JEM20','JEB111'])\n",
    "my_student.describe()"
   ]
  },
  {
   "cell_type": "code",
   "execution_count": null,
   "metadata": {},
   "outputs": [],
   "source": [
    "my_student.get_name()"
   ]
  },
  {
   "cell_type": "code",
   "execution_count": 12,
   "metadata": {},
   "outputs": [
    {
     "data": {
      "text/plain": [
       "\u001b[1;31mInit signature:\u001b[0m \u001b[0mPerson\u001b[0m\u001b[1;33m(\u001b[0m\u001b[0mname\u001b[0m\u001b[1;33m,\u001b[0m \u001b[0memail\u001b[0m\u001b[1;33m)\u001b[0m\u001b[1;33m\u001b[0m\u001b[1;33m\u001b[0m\u001b[0m\n",
       "\u001b[1;31mDocstring:\u001b[0m      A Person class is *Abstract* - Intended not to be used directly, but rather to be inherited.\n",
       "\u001b[1;31mInit docstring:\u001b[0m Person's constructor accepts name and e-mail and set it as class attributes, but first it checks whether they are in valid format\n",
       "\u001b[1;31mType:\u001b[0m           type\n",
       "\u001b[1;31mSubclasses:\u001b[0m     Teacher, Student\n"
      ]
     },
     "metadata": {},
     "output_type": "display_data"
    }
   ],
   "source": [
    "?Person"
   ]
  },
  {
   "cell_type": "code",
   "execution_count": null,
   "metadata": {},
   "outputs": [],
   "source": [
    "?Teacher"
   ]
  },
  {
   "cell_type": "markdown",
   "metadata": {},
   "source": [
    "### Robots.txt\n",
    "\n",
    "* Is it OK to scrape?\n",
    "* Guidance for search engines etc.\n"
   ]
  },
  {
   "cell_type": "markdown",
   "metadata": {},
   "source": [
    "https://www.promptcloud.com/blog/how-to-read-and-respect-robots-file/"
   ]
  },
  {
   "cell_type": "code",
   "execution_count": 13,
   "metadata": {},
   "outputs": [
    {
     "data": {
      "text/plain": [
       "<Response [404]>"
      ]
     },
     "execution_count": 13,
     "metadata": {},
     "output_type": "execute_result"
    }
   ],
   "source": [
    "requests.get('http://ies.fsv.cuni.cz/robots.txt')"
   ]
  },
  {
   "cell_type": "code",
   "execution_count": 14,
   "metadata": {},
   "outputs": [
    {
     "name": "stdout",
     "output_type": "stream",
     "text": [
      "User-agent: *\n",
      "Disallow: /\n",
      "\n",
      "User-agent: Googlebot\n",
      "Allow: /\n",
      "Disallow: /advertpdf/\n",
      "Disallow: /favourites-info\n",
      "Disallow: *_buri=\n",
      "Disallow: /adresar/*page=\n",
      "Disallow: /adresar/*perPage=\n",
      "Disallow: /adresar/*search=\n",
      "Disallow: /adresar/*letter=\n",
      "Disallow: /adresar/*id=\n",
      "Disallow: /firma/*page=\n",
      "Disallow: /firma/*perPage=\n",
      "Disallow: /firma/*search=\n",
      "Disallow: /firma/*letter=\n",
      "Disallow: /firma/*id=\n",
      "Disallow: /hledani/*,\n",
      "Allow: /hledani/*region=*,\n",
      "Disallow: /rk-detail\n",
      "Disallow: *bez-aukce=\n",
      "Disallow: *without-auction=\n",
      "Disallow: *pois_in_place=\n",
      "Disallow: *pois_in_place_distance=\n",
      "\n",
      "User-agent: SeznamBot\n",
      "Allow: /\n",
      "Disallow: /advertpdf/\n",
      "Disallow: /en/\n",
      "Disallow: /ru/\n",
      "Disallow: /favourites-info\n",
      "Disallow: *_buri=\n",
      "Disallow: /adresar/*page=\n",
      "Disallow: /adresar/*perPage=\n",
      "Disallow: /adresar/*search=\n",
      "Disallow: /adresar/*letter=\n",
      "Disallow: /adresar/*id=\n",
      "Disallow: /firma/*page=\n",
      "Disallow: /firma/*perPage=\n",
      "Disallow: /firma/*search=\n",
      "Disallow: /firma/*letter=\n",
      "Disallow: /firma/*id=\n",
      "Disallow: /hledani/*,\n",
      "Allow: /hledani/*region=*,\n",
      "Disallow: /rk-detail\n",
      "Disallow: *bez-aukce=\n",
      "Disallow: *without-auction=\n",
      "Disallow: *pois_in_place=\n",
      "Disallow: *pois_in_place_distance=\n",
      "\n",
      "User-agent: Bingbot\n",
      "Allow: /\n",
      "Disallow: /advertpdf/\n",
      "Disallow: /favourites-info\n",
      "Disallow: *_buri=\n",
      "Disallow: /adresar/*page=\n",
      "Disallow: /adresar/*perPage=\n",
      "Disallow: /adresar/*search=\n",
      "Disallow: /adresar/*letter=\n",
      "Disallow: /adresar/*id=\n",
      "Disallow: /firma/*page=\n",
      "Disallow: /firma/*perPage=\n",
      "Disallow: /firma/*search=\n",
      "Disallow: /firma/*letter=\n",
      "Disallow: /firma/*id=\n",
      "Disallow: /hledani/*,\n",
      "Allow: /hledani/*region=*,\n",
      "Disallow: /rk-detail\n",
      "Disallow: *bez-aukce=\n",
      "Disallow: *without-auction=\n",
      "Disallow: *pois_in_place=\n",
      "Disallow: *pois_in_place_distance=\n",
      "\n",
      "\n",
      "User-agent: Slurp\n",
      "Allow: /\n",
      "Disallow: /advertpdf/\n",
      "Disallow: /favourites-info\n",
      "Disallow: *_buri=\n",
      "Disallow: /adresar/*page=\n",
      "Disallow: /adresar/*perPage=\n",
      "Disallow: /adresar/*search=\n",
      "Disallow: /adresar/*letter=\n",
      "Disallow: /adresar/*id=\n",
      "Disallow: /firma/*page=\n",
      "Disallow: /firma/*perPage=\n",
      "Disallow: /firma/*search=\n",
      "Disallow: /firma/*letter=\n",
      "Disallow: /firma/*id=\n",
      "Disallow: /hledani/*,\n",
      "Allow: /hledani/*region=*,\n",
      "Disallow: /rk-detail\n",
      "Disallow: *bez-aukce=\n",
      "Disallow: *without-auction=\n",
      "Disallow: *pois_in_place=\n",
      "Disallow: *pois_in_place_distance=\n",
      "\n",
      "\n",
      "User-agent: DuckDuckBot\n",
      "Allow: /\n",
      "Disallow: /advertpdf/\n",
      "Disallow: /favourites-info\n",
      "Disallow: *_buri=\n",
      "Disallow: /adresar/*page=\n",
      "Disallow: /adresar/*perPage=\n",
      "Disallow: /adresar/*search=\n",
      "Disallow: /adresar/*letter=\n",
      "Disallow: /adresar/*id=\n",
      "Disallow: /firma/*page=\n",
      "Disallow: /firma/*perPage=\n",
      "Disallow: /firma/*search=\n",
      "Disallow: /firma/*letter=\n",
      "Disallow: /firma/*id=\n",
      "Disallow: /hledani/*,\n",
      "Allow: /hledani/*region=*,\n",
      "Disallow: /rk-detail\n",
      "Disallow: *bez-aukce=\n",
      "Disallow: *without-auction=\n",
      "Disallow: *pois_in_place=\n",
      "Disallow: *pois_in_place_distance=\n",
      "\n",
      "\n",
      "User-agent: Baiduspider\n",
      "Allow: /\n",
      "Disallow: /advertpdf/\n",
      "Disallow: /favourites-info\n",
      "Disallow: *_buri=\n",
      "Disallow: /adresar/*page=\n",
      "Disallow: /adresar/*perPage=\n",
      "Disallow: /adresar/*search=\n",
      "Disallow: /adresar/*letter=\n",
      "Disallow: /adresar/*id=\n",
      "Disallow: /firma/*page=\n",
      "Disallow: /firma/*perPage=\n",
      "Disallow: /firma/*search=\n",
      "Disallow: /firma/*letter=\n",
      "Disallow: /firma/*id=\n",
      "Disallow: /hledani/*,\n",
      "Allow: /hledani/*region=*,\n",
      "Disallow: /rk-detail\n",
      "Disallow: *bez-aukce=\n",
      "Disallow: *without-auction=\n",
      "Disallow: *pois_in_place=\n",
      "Disallow: *pois_in_place_distance=\n",
      "\n",
      "\n",
      "User-agent: YandexBot\n",
      "Allow: /\n",
      "Disallow: /advertpdf/\n",
      "Disallow: /favourites-info\n",
      "Disallow: *_buri=\n",
      "Disallow: /adresar/*page=\n",
      "Disallow: /adresar/*perPage=\n",
      "Disallow: /adresar/*search=\n",
      "Disallow: /adresar/*letter=\n",
      "Disallow: /adresar/*id=\n",
      "Disallow: /firma/*page=\n",
      "Disallow: /firma/*perPage=\n",
      "Disallow: /firma/*search=\n",
      "Disallow: /firma/*letter=\n",
      "Disallow: /firma/*id=\n",
      "Disallow: /hledani/*,\n",
      "Allow: /hledani/*region=*,\n",
      "Disallow: /rk-detail\n",
      "Disallow: *bez-aukce=\n",
      "Disallow: *without-auction=\n",
      "Disallow: *pois_in_place=\n",
      "Disallow: *pois_in_place_distance=\n",
      "\n",
      "\n",
      "User-agent: Applebot\n",
      "Allow: /\n",
      "Disallow: /advertpdf/\n",
      "Disallow: /favourites-info\n",
      "Disallow: *_buri=\n",
      "Disallow: /adresar/*page=\n",
      "Disallow: /adresar/*perPage=\n",
      "Disallow: /adresar/*search=\n",
      "Disallow: /adresar/*letter=\n",
      "Disallow: /adresar/*id=\n",
      "Disallow: /firma/*page=\n",
      "Disallow: /firma/*perPage=\n",
      "Disallow: /firma/*search=\n",
      "Disallow: /firma/*letter=\n",
      "Disallow: /firma/*id=\n",
      "Disallow: /hledani/*,\n",
      "Allow: /hledani/*region=*,\n",
      "Disallow: /rk-detail\n",
      "Disallow: *bez-aukce=\n",
      "Disallow: *without-auction=\n",
      "Disallow: *pois_in_place=\n",
      "Disallow: *pois_in_place_distance=\n",
      "\n",
      "\n",
      "User-agent: ia_archiver\n",
      "Allow: /\n",
      "Disallow: /advertpdf/\n",
      "Disallow: /favourites-info\n",
      "Disallow: *_buri=\n",
      "Disallow: /adresar/*page=\n",
      "Disallow: /adresar/*perPage=\n",
      "Disallow: /adresar/*search=\n",
      "Disallow: /adresar/*letter=\n",
      "Disallow: /adresar/*id=\n",
      "Disallow: /firma/*page=\n",
      "Disallow: /firma/*perPage=\n",
      "Disallow: /firma/*search=\n",
      "Disallow: /firma/*letter=\n",
      "Disallow: /firma/*id=\n",
      "Disallow: /hledani/*,\n",
      "Allow: /hledani/*region=*,\n",
      "Disallow: /rk-detail\n",
      "Disallow: *bez-aukce=\n",
      "Disallow: *without-auction=\n",
      "Disallow: *pois_in_place=\n",
      "Disallow: *pois_in_place_distance=\n",
      "\n",
      "User-agent: msnbot\n",
      "Allow: /\n",
      "Disallow: /advertpdf/\n",
      "Disallow: /favourites-info\n",
      "Disallow: *_buri=\n",
      "Disallow: /adresar/*page=\n",
      "Disallow: /adresar/*perPage=\n",
      "Disallow: /adresar/*search=\n",
      "Disallow: /adresar/*letter=\n",
      "Disallow: /adresar/*id=\n",
      "Disallow: /firma/*page=\n",
      "Disallow: /firma/*perPage=\n",
      "Disallow: /firma/*search=\n",
      "Disallow: /firma/*letter=\n",
      "Disallow: /firma/*id=\n",
      "Disallow: /hledani/*,\n",
      "Allow: /hledani/*region=*,\n",
      "Disallow: /rk-detail\n",
      "Disallow: *bez-aukce=\n",
      "Disallow: *without-auction=\n",
      "Disallow: *pois_in_place=\n",
      "Disallow: *pois_in_place_distance=\n",
      "\n",
      "User-agent: Naverbot\n",
      "Allow: /\n",
      "Disallow: /advertpdf/\n",
      "Disallow: /favourites-info\n",
      "Disallow: *_buri=\n",
      "Disallow: /adresar/*page=\n",
      "Disallow: /adresar/*perPage=\n",
      "Disallow: /adresar/*search=\n",
      "Disallow: /adresar/*letter=\n",
      "Disallow: /adresar/*id=\n",
      "Disallow: /firma/*page=\n",
      "Disallow: /firma/*perPage=\n",
      "Disallow: /firma/*search=\n",
      "Disallow: /firma/*letter=\n",
      "Disallow: /firma/*id=\n",
      "Disallow: /hledani/*,\n",
      "Allow: /hledani/*region=*,\n",
      "Disallow: /rk-detail\n",
      "Disallow: *bez-aukce=\n",
      "Disallow: *without-auction=\n",
      "Disallow: *pois_in_place=\n",
      "Disallow: *pois_in_place_distance=\n",
      "\n",
      "\n",
      "# Better safe than sorry\n",
      "User-agent: Mediapartners-Google\n",
      "Disallow:\n",
      "\n",
      "User-agent: facebot\n",
      "Disallow:\n",
      "\n",
      "User-agent: facebookexternalhit\n",
      "Disallow:\n",
      "\n",
      "User-agent: Twitterbot\n",
      "Disallow:\n",
      "\n",
      "User-agent: BingPreview\n",
      "Disallow:\n",
      "\n",
      "User-agent: vkShare\n",
      "Disallow:\n",
      "\n",
      "User-agent: Mail.RU_Bot\n",
      "Disallow:\n",
      "\n",
      "\n",
      "Sitemap: https://www.sreality.cz/sitemap.xml\n",
      "\n"
     ]
    }
   ],
   "source": [
    "print(requests.get('http://sreality.cz/robots.txt').text)"
   ]
  },
  {
   "cell_type": "markdown",
   "metadata": {},
   "source": [
    "## Task:\n",
    "* A parser of IES websites with following features:\n",
    "    * All info about people from [Internal faculty](http://ies.fsv.cuni.cz/en/node/48), [External lecturers](http://ies.fsv.cuni.cz/en/node/49), [Ph.D. candidates](http://ies.fsv.cuni.cz/en/node/51) and [Administration](http://ies.fsv.cuni.cz/en/node/50)\n",
    "    * All info about [all](http://ies.fsv.cuni.cz/en/node/109) theses between 1994 and 2019 won'be covered as we have problems with the website\n",
    "    * Also all courses! But no list of courses available ..."
   ]
  },
  {
   "cell_type": "markdown",
   "metadata": {},
   "source": [
    "## Pages\n",
    "\n",
    "### Find all persons?\n",
    "[Current faculty](http://ies.fsv.cuni.cz/en/node/48)"
   ]
  },
  {
   "cell_type": "markdown",
   "metadata": {},
   "source": [
    "1. understand structure of the website"
   ]
  },
  {
   "cell_type": "code",
   "execution_count": 16,
   "metadata": {},
   "outputs": [],
   "source": [
    "def getSoup(link):\n",
    "    sleep(0.1) #to be kind to the website\n",
    "    r = requests.get(link)\n",
    "    r.encoding = 'UTF-8'\n",
    "    return BeautifulSoup(r.text,'lxml')"
   ]
  },
  {
   "cell_type": "code",
   "execution_count": 17,
   "metadata": {},
   "outputs": [],
   "source": [
    "soup = getSoup('https://ies.fsv.cuni.cz/en/node/48')"
   ]
  },
  {
   "cell_type": "code",
   "execution_count": 18,
   "metadata": {},
   "outputs": [
    {
     "data": {
      "text/plain": [
       "[<td class=\"peopleTableCellName\">\n",
       " <a href=\"/en/staff/barunik\"><b>doc. PhDr. Jozef Baruník Ph.D.</b></a>\n",
       " </td>,\n",
       " <td class=\"peopleTableCellName\">\n",
       " <a href=\"/en/staff/bauerm\"><b>doc. PhDr. Michal Bauer Ph.D.</b></a>\n",
       " </td>,\n",
       " <td class=\"peopleTableCellName\">\n",
       " <a href=\"/en/staff/baxajaromir\"><b>PhDr. Jaromír Baxa Ph.D.</b></a>\n",
       " </td>,\n",
       " <td class=\"peopleTableCellName\">\n",
       " <a href=\"/en/staff/bertoli\"><b>doc. Paola Bertoli M.A., MSc., Ph.D.</b></a>\n",
       " </td>,\n",
       " <td class=\"peopleTableCellName\">\n",
       " <a href=\"/en/staff/antosova\"><b>PhDr. Lucie Bryndová </b></a>\n",
       " </td>,\n",
       " <td class=\"peopleTableCellName\">\n",
       " <a href=\"/en/staff/cahlik\"><b>doc. Ing. Tomáš Cahlík CSc.</b></a>\n",
       " </td>,\n",
       " <td class=\"peopleTableCellName\">\n",
       " <a href=\"/en/staff/fcech\"><b>PhDr. František Čech Ph.D.</b></a>\n",
       " </td>,\n",
       " <td class=\"peopleTableCellName\">\n",
       " <a href=\"/en/staff/cervinka\"><b>RNDr. Michal Červinka Ph.D.</b></a>\n",
       " </td>,\n",
       " <td class=\"peopleTableCellName\">\n",
       " <a href=\"/en/staff/chytilova\"><b>doc. PhDr. Julie Chytilová Ph.D.</b></a>\n",
       " </td>,\n",
       " <td class=\"peopleTableCellName\">\n",
       " <a href=\"/en/staff/dedek\"><b>prof. Ing. Oldřich Dědek CSc.</b></a>\n",
       " </td>,\n",
       " <td class=\"peopleTableCellName\">\n",
       " <a href=\"/en/staff/dolezalova\"><b>doc. PhDr. Ing. Antonie Doležalová Ph.D.</b></a>\n",
       " </td>,\n",
       " <td class=\"peopleTableCellName\">\n",
       " <a href=\"/en/staff/gersl\"><b>doc. PhDr. Adam Geršl Ph.D.</b></a>\n",
       " </td>,\n",
       " <td class=\"peopleTableCellName\">\n",
       " <a href=\"/en/staff/gregor\"><b>doc. PhDr. Martin Gregor Ph.D.</b></a>\n",
       " </td>,\n",
       " <td class=\"peopleTableCellName\">\n",
       " <a href=\"/en/staff/havranek\"><b>doc. PhDr. Tomáš Havránek Ph.D.</b></a>\n",
       " </td>,\n",
       " <td class=\"peopleTableCellName\">\n",
       " <a href=\"/en/staff/irsova\"><b>doc. PhDr. Zuzana Havránková Ph.D.</b></a>\n",
       " </td>,\n",
       " <td class=\"peopleTableCellName\">\n",
       " <a href=\"/en/staff/hlavacekm\"><b>PhDr. Michal Hlaváček Ph.D.</b></a>\n",
       " </td>,\n",
       " <td class=\"peopleTableCellName\">\n",
       " <a href=\"/en/staff/hollmannov\"><b>Ing. Monika Hollmannová </b></a>\n",
       " </td>,\n",
       " <td class=\"peopleTableCellName\">\n",
       " <a href=\"/en/staff/holub\"><b>doc. Mgr. Tomáš Holub Ph.D.</b></a>\n",
       " </td>,\n",
       " <td class=\"peopleTableCellName\">\n",
       " <a href=\"/en/staff/horvath\"><b>prof. Roman Horváth Ph.D.</b></a>\n",
       " </td>,\n",
       " <td class=\"peopleTableCellName\">\n",
       " <a href=\"/en/staff/jakubik\"><b>doc. PhDr. Ing. Ing. Petr Jakubík Ph.D. Ph.D.</b></a>\n",
       " </td>,\n",
       " <td class=\"peopleTableCellName\">\n",
       " <a href=\"/en/staff/janda\"><b>prof. Ing. Karel Janda M.A., Dr., Ph.D.</b></a>\n",
       " </td>,\n",
       " <td class=\"peopleTableCellName\">\n",
       " <a href=\"/en/staff/jansky\"><b>doc. Petr Janský Ph.D.</b></a>\n",
       " </td>,\n",
       " <td class=\"peopleTableCellName\">\n",
       " <a href=\"/en/staff/kemenyova\"><b>Ing. Irena Kemény </b></a>\n",
       " </td>,\n",
       " <td class=\"peopleTableCellName\">\n",
       " <a href=\"/en/staff/kocenda\"><b>prof. Ing. Evžen Kočenda M.A., Ph.D., DSc.</b></a>\n",
       " </td>,\n",
       " <td class=\"peopleTableCellName\">\n",
       " <a href=\"/en/staff/komarek\"><b>prof. Ing. et Ing. Luboš Komárek Ph.D., MSc., MBA</b></a>\n",
       " </td>,\n",
       " <td class=\"peopleTableCellName\">\n",
       " <a href=\"/en/staff/kristoufek\"><b>prof. PhDr. Ladislav Krištoufek Ph.D.</b></a>\n",
       " </td>,\n",
       " <td class=\"peopleTableCellName\">\n",
       " <a href=\"/en/staff/kukacka\"><b>PhDr. Jiří Kukačka Ph.D.</b></a>\n",
       " </td>,\n",
       " <td class=\"peopleTableCellName\">\n",
       " <a href=\"/en/staff/maresj\"><b>Mgr. Jan Mareš, Ph.D.</b></a>\n",
       " </td>,\n",
       " <td class=\"peopleTableCellName\">\n",
       " <a href=\"/en/staff/mejstrik\"><b>prof. Ing. Michal Mejstřík CSc.</b></a>\n",
       " </td>,\n",
       " <td class=\"peopleTableCellName\">\n",
       " <a href=\"/en/staff/novakji\"><b> Jiří Novák M.Sc., Ph.D., Deloitte Corporate Chair</b></a>\n",
       " </td>,\n",
       " <td class=\"peopleTableCellName\">\n",
       " <a href=\"/en/staff/opatrny\"><b> Matěj Opatrný MSc.</b></a>\n",
       " </td>,\n",
       " <td class=\"peopleTableCellName\">\n",
       " <a href=\"/en/staff/malirova\"><b>Mgr. Tereza Palanská M.A.</b></a>\n",
       " </td>,\n",
       " <td class=\"peopleTableCellName\">\n",
       " <a href=\"/en/staff/palansky\"><b>PhDr. Miroslav Palanský M.A.</b></a>\n",
       " </td>,\n",
       " <td class=\"peopleTableCellName\">\n",
       " <a href=\"/en/staff/paulus\"><b>Mgr. Michal Paulus </b></a>\n",
       " </td>,\n",
       " <td class=\"peopleTableCellName\">\n",
       " <a href=\"/en/staff/neprasova\"><b>Mgr. Magda Pečená  Ph.D.</b></a>\n",
       " </td>,\n",
       " <td class=\"peopleTableCellName\">\n",
       " <a href=\"/en/staff/gebicka\"><b>Mgr. Barbara Pertold-Gebicka M.A., Ph.D.</b></a>\n",
       " </td>,\n",
       " <td class=\"peopleTableCellName\">\n",
       " <a href=\"/en/staff/pinter\"><b> Julien Pinter Ph.D.</b></a>\n",
       " </td>,\n",
       " <td class=\"peopleTableCellName\">\n",
       " <a href=\"/en/staff/scasny\"><b>Mgr. Milan Ščasný PhD.</b></a>\n",
       " </td>,\n",
       " <td class=\"peopleTableCellName\">\n",
       " <a href=\"/en/staff/schneider\"><b>doc. Ing. Ondřej Schneider MPhil., Ph.D.</b></a>\n",
       " </td>,\n",
       " <td class=\"peopleTableCellName\">\n",
       " <a href=\"/en/staff/schwarz\"><b>PhDr. Jiří Schwarz Ph.D.</b></a>\n",
       " </td>,\n",
       " <td class=\"peopleTableCellName\">\n",
       " <a href=\"/en/staff/sedivy\"><b>Mgr. Marek Šedivý </b></a>\n",
       " </td>,\n",
       " <td class=\"peopleTableCellName\">\n",
       " <a href=\"/en/staff/semerak\"><b>Ing. Vilém Semerák M.A., Ph.D.</b></a>\n",
       " </td>,\n",
       " <td class=\"peopleTableCellName\">\n",
       " <a href=\"/en/staff/reckova\"><b>Mgr. Dominika Špolcová </b></a>\n",
       " </td>,\n",
       " <td class=\"peopleTableCellName\">\n",
       " <a href=\"/en/staff/gregorovalenka\"><b>PhDr. Lenka Šťastná Ph.D.</b></a>\n",
       " </td>,\n",
       " <td class=\"peopleTableCellName\">\n",
       " <a href=\"/en/staff/teply\"><b>prof. PhDr. Petr Teplý Ph.D.</b></a>\n",
       " </td>,\n",
       " <td class=\"peopleTableCellName\">\n",
       " <a href=\"/en/staff/vacek\"><b>PhDr. Pavel Vacek Ph.D.</b></a>\n",
       " </td>,\n",
       " <td class=\"peopleTableCellName\">\n",
       " <a href=\"/en/staff/vacha\"><b>Mgr. Lukáš Vácha Ph.D.</b></a>\n",
       " </td>,\n",
       " <td class=\"peopleTableCellName\">\n",
       " <a href=\"/en/staff/visek\"><b>prof. RNDr. Jan Ámos Víšek CSc.</b></a>\n",
       " </td>,\n",
       " <td class=\"peopleTableCellName\">\n",
       " <a href=\"/en/staff/vosvrda\"><b>prof. Ing. Miloslav Vošvrda CSc.</b></a>\n",
       " </td>,\n",
       " <td class=\"peopleTableCellName\">\n",
       " <a href=\"/en/staff/prochazkova\"><b>PhDr. Jana Votápková Ph.D.</b></a>\n",
       " </td>]"
      ]
     },
     "execution_count": 18,
     "metadata": {},
     "output_type": "execute_result"
    }
   ],
   "source": [
    "names = soup.findAll('td', {'class':'peopleTableCellName'})\n",
    "names"
   ]
  },
  {
   "cell_type": "code",
   "execution_count": 19,
   "metadata": {},
   "outputs": [
    {
     "data": {
      "text/plain": [
       "['https://ies.fsv.cuni.cz/en/staff/barunik',\n",
       " 'https://ies.fsv.cuni.cz/en/staff/bauerm',\n",
       " 'https://ies.fsv.cuni.cz/en/staff/baxajaromir',\n",
       " 'https://ies.fsv.cuni.cz/en/staff/bertoli',\n",
       " 'https://ies.fsv.cuni.cz/en/staff/antosova',\n",
       " 'https://ies.fsv.cuni.cz/en/staff/cahlik',\n",
       " 'https://ies.fsv.cuni.cz/en/staff/fcech',\n",
       " 'https://ies.fsv.cuni.cz/en/staff/cervinka',\n",
       " 'https://ies.fsv.cuni.cz/en/staff/chytilova',\n",
       " 'https://ies.fsv.cuni.cz/en/staff/dedek',\n",
       " 'https://ies.fsv.cuni.cz/en/staff/dolezalova',\n",
       " 'https://ies.fsv.cuni.cz/en/staff/gersl',\n",
       " 'https://ies.fsv.cuni.cz/en/staff/gregor',\n",
       " 'https://ies.fsv.cuni.cz/en/staff/havranek',\n",
       " 'https://ies.fsv.cuni.cz/en/staff/irsova',\n",
       " 'https://ies.fsv.cuni.cz/en/staff/hlavacekm',\n",
       " 'https://ies.fsv.cuni.cz/en/staff/hollmannov',\n",
       " 'https://ies.fsv.cuni.cz/en/staff/holub',\n",
       " 'https://ies.fsv.cuni.cz/en/staff/horvath',\n",
       " 'https://ies.fsv.cuni.cz/en/staff/jakubik',\n",
       " 'https://ies.fsv.cuni.cz/en/staff/janda',\n",
       " 'https://ies.fsv.cuni.cz/en/staff/jansky',\n",
       " 'https://ies.fsv.cuni.cz/en/staff/kemenyova',\n",
       " 'https://ies.fsv.cuni.cz/en/staff/kocenda',\n",
       " 'https://ies.fsv.cuni.cz/en/staff/komarek',\n",
       " 'https://ies.fsv.cuni.cz/en/staff/kristoufek',\n",
       " 'https://ies.fsv.cuni.cz/en/staff/kukacka',\n",
       " 'https://ies.fsv.cuni.cz/en/staff/maresj',\n",
       " 'https://ies.fsv.cuni.cz/en/staff/mejstrik',\n",
       " 'https://ies.fsv.cuni.cz/en/staff/novakji',\n",
       " 'https://ies.fsv.cuni.cz/en/staff/opatrny',\n",
       " 'https://ies.fsv.cuni.cz/en/staff/malirova',\n",
       " 'https://ies.fsv.cuni.cz/en/staff/palansky',\n",
       " 'https://ies.fsv.cuni.cz/en/staff/paulus',\n",
       " 'https://ies.fsv.cuni.cz/en/staff/neprasova',\n",
       " 'https://ies.fsv.cuni.cz/en/staff/gebicka',\n",
       " 'https://ies.fsv.cuni.cz/en/staff/pinter',\n",
       " 'https://ies.fsv.cuni.cz/en/staff/scasny',\n",
       " 'https://ies.fsv.cuni.cz/en/staff/schneider',\n",
       " 'https://ies.fsv.cuni.cz/en/staff/schwarz',\n",
       " 'https://ies.fsv.cuni.cz/en/staff/sedivy',\n",
       " 'https://ies.fsv.cuni.cz/en/staff/semerak',\n",
       " 'https://ies.fsv.cuni.cz/en/staff/reckova',\n",
       " 'https://ies.fsv.cuni.cz/en/staff/gregorovalenka',\n",
       " 'https://ies.fsv.cuni.cz/en/staff/teply',\n",
       " 'https://ies.fsv.cuni.cz/en/staff/vacek',\n",
       " 'https://ies.fsv.cuni.cz/en/staff/vacha',\n",
       " 'https://ies.fsv.cuni.cz/en/staff/visek',\n",
       " 'https://ies.fsv.cuni.cz/en/staff/vosvrda',\n",
       " 'https://ies.fsv.cuni.cz/en/staff/prochazkova']"
      ]
     },
     "execution_count": 19,
     "metadata": {},
     "output_type": "execute_result"
    }
   ],
   "source": [
    "def getAllLinks(link):\n",
    "    soup = getSoup(link)\n",
    "    tds = soup.findAll('td', {'class':'peopleTableCellName'})\n",
    "    return ['https://ies.fsv.cuni.cz' + td.find('a')['href'] for td in tds]\n",
    "\n",
    "links = getAllLinks('http://ies.fsv.cuni.cz/en/node/48')\n",
    "links"
   ]
  },
  {
   "cell_type": "markdown",
   "metadata": {},
   "source": [
    "## Person's characteristics?\n",
    "\n",
    "[A TEACHER!](https://ies.fsv.cuni.cz/en/staff/barunik)"
   ]
  },
  {
   "cell_type": "code",
   "execution_count": 21,
   "metadata": {},
   "outputs": [],
   "source": [
    "def getName(link):\n",
    "    soup = getSoup(link)\n",
    "    return soup.find('h2').text\n",
    "if True:\n",
    "    names = [getName(link) for link in links]\n",
    "    names"
   ]
  },
  {
   "cell_type": "code",
   "execution_count": 25,
   "metadata": {},
   "outputs": [
    {
     "data": {
      "text/plain": [
       "'+420(776)259273'"
      ]
     },
     "execution_count": 25,
     "metadata": {},
     "output_type": "execute_result"
    }
   ],
   "source": [
    "soup = getSoup(links[0])\n",
    "node = soup.find('strong',text='Phone:')\n",
    "node.next_sibling.strip()"
   ]
  },
  {
   "cell_type": "code",
   "execution_count": 26,
   "metadata": {},
   "outputs": [
    {
     "data": {
      "text/plain": [
       "'+420(776)259273'"
      ]
     },
     "execution_count": 26,
     "metadata": {},
     "output_type": "execute_result"
    }
   ],
   "source": [
    "def getNextSiblingOfStrong(soup,characteristic):\n",
    "    strong = soup.find('strong',text=characteristic)\n",
    "    return strong.next_sibling.strip()\n",
    "getNextSiblingOfStrong(soup,'Phone:')"
   ]
  },
  {
   "cell_type": "code",
   "execution_count": 27,
   "metadata": {},
   "outputs": [
    {
     "ename": "NameError",
     "evalue": "name 'link' is not defined",
     "output_type": "error",
     "traceback": [
      "\u001b[1;31m---------------------------------------------------------------------------\u001b[0m",
      "\u001b[1;31mNameError\u001b[0m                                 Traceback (most recent call last)",
      "\u001b[1;32m<ipython-input-27-bddb3201a582>\u001b[0m in \u001b[0;36m<module>\u001b[1;34m\u001b[0m\n\u001b[1;32m----> 1\u001b[1;33m \u001b[0mlink\u001b[0m\u001b[1;33m\u001b[0m\u001b[1;33m\u001b[0m\u001b[0m\n\u001b[0m",
      "\u001b[1;31mNameError\u001b[0m: name 'link' is not defined"
     ]
    }
   ],
   "source": [
    "link"
   ]
  },
  {
   "cell_type": "code",
   "execution_count": 33,
   "metadata": {},
   "outputs": [
    {
     "data": {
      "text/plain": [
       "Phone           +420(776)259273\n",
       "Office                      503\n",
       "Position    Associate Professor\n",
       "dtype: object"
      ]
     },
     "execution_count": 33,
     "metadata": {},
     "output_type": "execute_result"
    }
   ],
   "source": [
    "import pandas as pd\n",
    "def getMoreCharacteristics(link, characteristics):\n",
    "    soup = getSoup(link)\n",
    "    return pd.Series({char.replace(':',''):getNextSiblingOfStrong(soup,char) for char in characteristics})\n",
    "\n",
    "#[getMoreCharacteristics(link,['Phone:','Office:','Position:']) for link in links[:2]]\n",
    "getMoreCharacteristics(links[0],['Phone:','Office:','Position:'])"
   ]
  },
  {
   "cell_type": "markdown",
   "metadata": {},
   "source": [
    "* Let's do an object!"
   ]
  },
  {
   "cell_type": "code",
   "execution_count": 42,
   "metadata": {},
   "outputs": [],
   "source": [
    "class Person:\n",
    "    def __init__(self,link):\n",
    "        self.soup = getSoup(link)\n",
    "        self.name = self.getName()\n",
    "        self.office = self.getNextSiblingOfStrong('Office:')\n",
    "        self.phone = self.getNextSiblingOfStrong('Phone:')\n",
    "        \n",
    "    def getNextSiblingOfStrong(self, characteristic):\n",
    "        strong = self.soup.find('strong',text=characteristic)\n",
    "        return strong.next_sibling.strip()\n",
    "    \n",
    "    def getName(self):\n",
    "        return self.soup.find('h2').text\n",
    "\n",
    "people = [Person(link) for link in links[:2]]"
   ]
  },
  {
   "cell_type": "code",
   "execution_count": 43,
   "metadata": {},
   "outputs": [
    {
     "data": {
      "text/plain": [
       "['doc. PhDr. Jozef Baruník Ph.D.', 'doc. PhDr. Michal Bauer Ph.D.']"
      ]
     },
     "execution_count": 43,
     "metadata": {},
     "output_type": "execute_result"
    }
   ],
   "source": [
    "[p.name for p in people]"
   ]
  },
  {
   "cell_type": "code",
   "execution_count": 39,
   "metadata": {},
   "outputs": [
    {
     "data": {
      "text/plain": [
       "['doc. PhDr. Jozef Baruník Ph.D.', 'doc. PhDr. Michal Bauer Ph.D.']"
      ]
     },
     "execution_count": 39,
     "metadata": {},
     "output_type": "execute_result"
    }
   ],
   "source": [
    "#forgot to add an attribute to the constructor?\n",
    "[p.soup.find('h2').text for p in people]"
   ]
  },
  {
   "cell_type": "code",
   "execution_count": 44,
   "metadata": {},
   "outputs": [],
   "source": [
    "for p_instance in people:\n",
    "    p_instance.full_name = p_instance.soup.find('h2').text"
   ]
  },
  {
   "cell_type": "code",
   "execution_count": 45,
   "metadata": {},
   "outputs": [
    {
     "data": {
      "text/plain": [
       "'doc. PhDr. Jozef Baruník Ph.D.'"
      ]
     },
     "execution_count": 45,
     "metadata": {},
     "output_type": "execute_result"
    }
   ],
   "source": [
    "people[0].full_name"
   ]
  },
  {
   "cell_type": "code",
   "execution_count": 46,
   "metadata": {},
   "outputs": [
    {
     "ename": "AttributeError",
     "evalue": "'Person' object has no attribute 'full_name'",
     "output_type": "error",
     "traceback": [
      "\u001b[1;31m---------------------------------------------------------------------------\u001b[0m",
      "\u001b[1;31mAttributeError\u001b[0m                            Traceback (most recent call last)",
      "\u001b[1;32m<ipython-input-46-cf7cf9d01a93>\u001b[0m in \u001b[0;36m<module>\u001b[1;34m\u001b[0m\n\u001b[1;32m----> 1\u001b[1;33m \u001b[0mPerson\u001b[0m\u001b[1;33m(\u001b[0m\u001b[0mlinks\u001b[0m\u001b[1;33m[\u001b[0m\u001b[1;36m5\u001b[0m\u001b[1;33m]\u001b[0m\u001b[1;33m)\u001b[0m\u001b[1;33m.\u001b[0m\u001b[0mfull_name\u001b[0m\u001b[1;33m\u001b[0m\u001b[1;33m\u001b[0m\u001b[0m\n\u001b[0m",
      "\u001b[1;31mAttributeError\u001b[0m: 'Person' object has no attribute 'full_name'"
     ]
    }
   ],
   "source": [
    "Person(links[5]).full_name"
   ]
  },
  {
   "cell_type": "code",
   "execution_count": null,
   "metadata": {},
   "outputs": [],
   "source": []
  }
 ],
 "metadata": {
  "kernelspec": {
   "display_name": "Python 3",
   "language": "python",
   "name": "python3"
  },
  "language_info": {
   "codemirror_mode": {
    "name": "ipython",
    "version": 3
   },
   "file_extension": ".py",
   "mimetype": "text/x-python",
   "name": "python",
   "nbconvert_exporter": "python",
   "pygments_lexer": "ipython3",
   "version": "3.7.3"
  }
 },
 "nbformat": 4,
 "nbformat_minor": 4
}
