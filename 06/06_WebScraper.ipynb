{
 "cells": [
  {
   "cell_type": "code",
   "execution_count": 9,
   "metadata": {},
   "outputs": [],
   "source": [
    "from IES_Downloader import IES_Downloader\n",
    "import pandas as pd"
   ]
  },
  {
   "cell_type": "code",
   "execution_count": 1,
   "metadata": {},
   "outputs": [
    {
     "ename": "NameError",
     "evalue": "name 'IES_Downloader' is not defined",
     "output_type": "error",
     "traceback": [
      "\u001b[0;31m---------------------------------------------------------------------------\u001b[0m",
      "\u001b[0;31mNameError\u001b[0m                                 Traceback (most recent call last)",
      "\u001b[0;32m<ipython-input-1-17e730c28836>\u001b[0m in \u001b[0;36m<module>\u001b[0;34m\u001b[0m\n\u001b[1;32m      1\u001b[0m \u001b[0;31m#Initialize downloader\u001b[0m\u001b[0;34m\u001b[0m\u001b[0;34m\u001b[0m\u001b[0;34m\u001b[0m\u001b[0m\n\u001b[0;32m----> 2\u001b[0;31m \u001b[0mdl\u001b[0m \u001b[0;34m=\u001b[0m \u001b[0mIES_Downloader\u001b[0m\u001b[0;34m(\u001b[0m\u001b[0;34m)\u001b[0m\u001b[0;34m\u001b[0m\u001b[0;34m\u001b[0m\u001b[0m\n\u001b[0m\u001b[1;32m      3\u001b[0m \u001b[0;34m\u001b[0m\u001b[0m\n\u001b[1;32m      4\u001b[0m \u001b[0;31m# find all links for people\u001b[0m\u001b[0;34m\u001b[0m\u001b[0;34m\u001b[0m\u001b[0;34m\u001b[0m\u001b[0m\n\u001b[1;32m      5\u001b[0m \u001b[0mdl\u001b[0m\u001b[0;34m.\u001b[0m\u001b[0mgetPeopleLinksForCategory\u001b[0m\u001b[0;34m(\u001b[0m\u001b[0;34m'http://ies.fsv.cuni.cz/cs/node/48'\u001b[0m\u001b[0;34m,\u001b[0m\u001b[0;34m'Interní'\u001b[0m\u001b[0;34m)\u001b[0m\u001b[0;34m\u001b[0m\u001b[0;34m\u001b[0m\u001b[0m\n",
      "\u001b[0;31mNameError\u001b[0m: name 'IES_Downloader' is not defined"
     ]
    }
   ],
   "source": [
    "#Initialize downloader\n",
    "dl = IES_Downloader()\n",
    "\n",
    "# find all links for people\n",
    "dl.getPeopleLinksForCategory('http://ies.fsv.cuni.cz/cs/node/48','Interní')\n",
    "dl.getPeopleLinksForCategory('http://ies.fsv.cuni.cz/cs/node/49','Externí')\n",
    "dl.getPeopleLinksForCategory('http://ies.fsv.cuni.cz/cs/node/51','Doktorandi')\n",
    "dl.getPeopleLinksForCategory('http://ies.fsv.cuni.cz/cs/node/50','Administrativa')\n",
    "\n",
    "# find all links for theses \n",
    "dl.getThesesLinksForCategory('http://ies.fsv.cuni.cz/cs/node/112/','Diplomové')\n",
    "dl.getThesesLinksForCategory('http://ies.fsv.cuni.cz/cs/node/111/','Bakalářské')\n",
    "dl.getThesesLinksForCategory('http://ies.fsv.cuni.cz/cs/node/113/','Rigorózní')\n",
    "dl.getThesesLinksForCategory('http://ies.fsv.cuni.cz/cs/node/270/','Disertační')\n",
    "\n",
    "# donload all people from already downloaded links\n",
    "dl.downloadPeople()\n",
    "\n",
    "# find all links on courses from already parsed people\n",
    "dl.getCoursesLinksFromPersons()\n",
    "\n",
    "# download all courses from already downloaded links\n",
    "dl.downloadCourses()\n",
    "\n",
    "# download all theses from already downloaded links\n",
    "dl.downloadTheses()"
   ]
  },
  {
   "cell_type": "code",
   "execution_count": null,
   "metadata": {},
   "outputs": [],
   "source": []
  },
  {
   "cell_type": "code",
   "execution_count": 23,
   "metadata": {},
   "outputs": [],
   "source": [
    "import sys\n",
    "sys.setrecursionlimit(10000)\n",
    "\n",
    "import pickle\n",
    "with open('IES_dl.pkl','wb') as f:\n",
    "    pickle.dump(dl,f)\n"
   ]
  },
  {
   "cell_type": "code",
   "execution_count": null,
   "metadata": {},
   "outputs": [],
   "source": [
    "dlnew = pickle.load(open('IES_dl.pkl','rb'))"
   ]
  },
  {
   "cell_type": "code",
   "execution_count": null,
   "metadata": {},
   "outputs": [],
   "source": [
    "theses = pd.DataFrame([x.characteristics for x in dl.theses])\n",
    "courses = pd.DataFrame([x.characteristics for x in dl.courses])\n",
    "people =  pd.DataFrame([x.characteristics for x in dl.people]) "
   ]
  }
 ],
 "metadata": {
  "kernelspec": {
   "display_name": "Python 3",
   "language": "python",
   "name": "python3"
  },
  "language_info": {
   "codemirror_mode": {
    "name": "ipython",
    "version": 3
   },
   "file_extension": ".py",
   "mimetype": "text/x-python",
   "name": "python",
   "nbconvert_exporter": "python",
   "pygments_lexer": "ipython3",
   "version": "3.7.1"
  }
 },
 "nbformat": 4,
 "nbformat_minor": 2
}
