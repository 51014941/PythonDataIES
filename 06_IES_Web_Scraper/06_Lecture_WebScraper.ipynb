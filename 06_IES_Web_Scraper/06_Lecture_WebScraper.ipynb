{
 "cells": [
  {
   "cell_type": "code",
   "execution_count": 1,
   "metadata": {},
   "outputs": [],
   "source": [
    "import requests\n",
    "from bs4 import BeautifulSoup\n",
    "import pandas as pd\n",
    "from time import sleep\n",
    "from tqdm import tqdm\n",
    "import re\n",
    "from IES_Downloader import IES_Downloader"
   ]
  },
  {
   "cell_type": "markdown",
   "metadata": {},
   "source": [
    "# Lecture 6 - IES Web scraper\n",
    "\n",
    "by Vítek Macháček\n",
    "\n",
    "March 23, 2020\n",
    "\n",
    "* Putting it all together\n",
    "* OOP + Pandas + Requests + Scraping\n"
   ]
  },
  {
   "cell_type": "markdown",
   "metadata": {},
   "source": [
    "## Object-oriented Programming\n",
    "* Brief reminder of how objects work\n",
    "\n",
    "### Docstring + Objects + Inheriting + Constructors"
   ]
  },
  {
   "cell_type": "markdown",
   "metadata": {},
   "source": [
    "![Simple Object Structure](./img/class_example.png)"
   ]
  },
  {
   "cell_type": "code",
   "execution_count": 2,
   "metadata": {},
   "outputs": [],
   "source": [
    "class Person:\n",
    "    '''\n",
    "    A Person class is *Abstract* - Intended not to be used directly, but rather to be inherited.\n",
    "    '''\n",
    "    def __init__(self,name,email):\n",
    "        '''\n",
    "        Person's constructor accepts name and e-mail and set it as class attributes, but first it checks whether they are in valid format\n",
    "        '''\n",
    "\n",
    "        if self._verify_name(name):\n",
    "            self.name = name\n",
    "        else:\n",
    "            raise PersonException('Name is invalid')\n",
    "\n",
    "        if self._verify_email(email):\n",
    "            self.email = email\n",
    "        else:\n",
    "            raise PersonException('Email is invalid')\n",
    "    \n",
    "    def _verify_name(self,name):\n",
    "        '''\n",
    "        Method for ensuring that name is not empty and is string\n",
    "        '''\n",
    "        return len(name) > 0 and type(name) == type('')\n",
    "\n",
    "    def _verify_email(self,email):\n",
    "        '''\n",
    "        Method validating that email is truly an email.\n",
    "        '''\n",
    "\n",
    "        email_pattern = '^[a-zA-Z0-9_.+-]+@[a-zA-Z0-9-]+\\.[a-zA-Z0-9-.]+$'\n",
    "        if(re.search(email_pattern,email)):  \n",
    "            return True \n",
    "        else:  \n",
    "            return False\n",
    "    \n",
    "    def _verify_courses(self,courses):\n",
    "        '''\n",
    "        Is list of courses a list containing valid course idents?\n",
    "        '''\n",
    "        def _verify_course(course):\n",
    "            if type(course) != type(''):\n",
    "                return False\n",
    "            elif len(course) != 6:\n",
    "                return False\n",
    "            elif not (course.startswith('JEM') or course.startswith('JEB')):\n",
    "                return False\n",
    "            else:\n",
    "                return True\n",
    "        \n",
    "        if type(courses) != type([]):\n",
    "            return False\n",
    "\n",
    "        return all([_verify_course(course) for course in courses])\n",
    "        \n",
    "    def describe(self):\n",
    "        \n",
    "        raise PersonException(\"Cannot describe abstract Person class. Override this in Teacher or Student class\")\n",
    "    \n",
    "    def get_name(self):\n",
    "        if self.name:\n",
    "            return self.name\n",
    "        else:\n",
    "            return PersonException('No name defined')\n",
    "    def get_email(self):\n",
    "        if self.email:\n",
    "            return self.email\n",
    "        else: \n",
    "            return PersonException('No email defined')\n",
    "    \n",
    "    \n",
    "class PersonException(Exception):\n",
    "    '''\n",
    "    Object handling Person related errors\n",
    "    '''\n",
    "    pass\n",
    "\n",
    "class TeacherException(Exception):\n",
    "    '''\n",
    "    Object handling Teacher related errors\n",
    "    '''\n",
    "    pass\n",
    "\n",
    "class StudentException(Exception):\n",
    "    '''\n",
    "    Object handling Student related errors\n",
    "    '''\n",
    "    pass\n",
    "\n",
    "someone = Person('Name','email@somewhere.com')"
   ]
  },
  {
   "cell_type": "code",
   "execution_count": 5,
   "metadata": {},
   "outputs": [
    {
     "data": {
      "text/plain": [
       "'email@somewhere.com'"
      ]
     },
     "execution_count": 5,
     "metadata": {},
     "output_type": "execute_result"
    }
   ],
   "source": [
    "someone.email"
   ]
  },
  {
   "cell_type": "code",
   "execution_count": 6,
   "metadata": {},
   "outputs": [
    {
     "ename": "PersonException",
     "evalue": "Cannot describe abstract Person class. Override this in Teacher or Student class",
     "output_type": "error",
     "traceback": [
      "\u001b[0;31m---------------------------------------------------------------------------\u001b[0m",
      "\u001b[0;31mPersonException\u001b[0m                           Traceback (most recent call last)",
      "\u001b[0;32m<ipython-input-6-4765dbcfda6c>\u001b[0m in \u001b[0;36m<module>\u001b[0;34m\u001b[0m\n\u001b[0;32m----> 1\u001b[0;31m \u001b[0msomeone\u001b[0m\u001b[0;34m.\u001b[0m\u001b[0mdescribe\u001b[0m\u001b[0;34m(\u001b[0m\u001b[0;34m)\u001b[0m\u001b[0;34m\u001b[0m\u001b[0;34m\u001b[0m\u001b[0m\n\u001b[0m",
      "\u001b[0;32m<ipython-input-2-5af35bb6e5fc>\u001b[0m in \u001b[0;36mdescribe\u001b[0;34m(self)\u001b[0m\n\u001b[1;32m     56\u001b[0m     \u001b[0;32mdef\u001b[0m \u001b[0mdescribe\u001b[0m\u001b[0;34m(\u001b[0m\u001b[0mself\u001b[0m\u001b[0;34m)\u001b[0m\u001b[0;34m:\u001b[0m\u001b[0;34m\u001b[0m\u001b[0;34m\u001b[0m\u001b[0m\n\u001b[1;32m     57\u001b[0m \u001b[0;34m\u001b[0m\u001b[0m\n\u001b[0;32m---> 58\u001b[0;31m         \u001b[0;32mraise\u001b[0m \u001b[0mPersonException\u001b[0m\u001b[0;34m(\u001b[0m\u001b[0;34m\"Cannot describe abstract Person class. Override this in Teacher or Student class\"\u001b[0m\u001b[0;34m)\u001b[0m\u001b[0;34m\u001b[0m\u001b[0;34m\u001b[0m\u001b[0m\n\u001b[0m\u001b[1;32m     59\u001b[0m \u001b[0;34m\u001b[0m\u001b[0m\n\u001b[1;32m     60\u001b[0m     \u001b[0;32mdef\u001b[0m \u001b[0mget_name\u001b[0m\u001b[0;34m(\u001b[0m\u001b[0mself\u001b[0m\u001b[0;34m)\u001b[0m\u001b[0;34m:\u001b[0m\u001b[0;34m\u001b[0m\u001b[0;34m\u001b[0m\u001b[0m\n",
      "\u001b[0;31mPersonException\u001b[0m: Cannot describe abstract Person class. Override this in Teacher or Student class"
     ]
    }
   ],
   "source": [
    "someone.describe()"
   ]
  },
  {
   "cell_type": "code",
   "execution_count": 7,
   "metadata": {},
   "outputs": [
    {
     "name": "stdout",
     "output_type": "stream",
     "text": [
      "I am Vítek, my email is vitezkytek@gmail.com and I teach following courses: ['JEM207']\n"
     ]
    }
   ],
   "source": [
    " class Teacher(Person):\n",
    "    '''\n",
    "    Teacher class inherits from Person and contains name, email and list of courses taught\n",
    "    '''\n",
    "    def __init__(self,name,email,teaching_courses):\n",
    "        '''\n",
    "        Teacher's constructor calls the Person's constructor first and then do his stuff\n",
    "        '''\n",
    "        super().__init__(name,email)\n",
    "        \n",
    "        if self._verify_courses(teaching_courses):\n",
    "            self.teaching_courses = teaching_courses\n",
    "        else:\n",
    "            raise TeacherException('Cannot validate courses.')\n",
    "    \n",
    "    def describe(self):\n",
    "        \"\"\" Overriding parent method \"\"\"\n",
    "        print('I am {}, my email is {} and I teach following courses: {}'.format(self.name,self.email,self.teaching_courses))\n",
    "    \n",
    "        \n",
    "class Student(Person):\n",
    "    '''\n",
    "    Student class inherits from Person and contains name, email and list of courses taught\n",
    "    '''\n",
    "    def __init__(self,name,email,studying_courses):\n",
    "        '''\n",
    "        Student's constructor calls the Person's constructor first and then do his stuff\n",
    "        '''\n",
    "        super().__init__(name,email)\n",
    "        \n",
    "        if self._verify_courses(studying_courses):\n",
    "            self.studying_courses = studying_courses\n",
    "        else:\n",
    "            raise StudentException('Cannot validate courses.')\n",
    "\n",
    "    def describe(self):\n",
    "        \"\"\" Overriding parent method \"\"\"\n",
    "        print(\"I am Vítek's student. My name is {name}. I study following courses: {courses}\".format(courses=self.studying_courses,name=self.name))\n",
    "        \n",
    "vitek = Teacher('Vítek','vitezkytek@gmail.com',['JEM207'])\n",
    "\n",
    "vitek.describe()"
   ]
  },
  {
   "cell_type": "code",
   "execution_count": 18,
   "metadata": {},
   "outputs": [
    {
     "name": "stdout",
     "output_type": "stream",
     "text": [
      "I am Vítek's student. My name is Honza. I study following courses: ['JEM207', 'JEB111']\n"
     ]
    }
   ],
   "source": [
    "my_student = Student('Honza','honza@fsv.cuni.cz',['JEM207','JEB111'])\n",
    "my_student.describe()"
   ]
  },
  {
   "cell_type": "code",
   "execution_count": 15,
   "metadata": {},
   "outputs": [
    {
     "data": {
      "text/plain": [
       "'Honza'"
      ]
     },
     "execution_count": 15,
     "metadata": {},
     "output_type": "execute_result"
    }
   ],
   "source": [
    "my_student.name"
   ]
  },
  {
   "cell_type": "code",
   "execution_count": 19,
   "metadata": {},
   "outputs": [
    {
     "name": "stdout",
     "output_type": "stream",
     "text": [
      "1.0\n",
      "1.25\n",
      "1.6666666666666667\n",
      "2.5\n",
      "5.0\n",
      "\n",
      "-5.0\n",
      "-2.5\n",
      "-1.6666666666666667\n",
      "-1.25\n"
     ]
    }
   ],
   "source": [
    "for i in range(5,-5,-1):\n",
    "    try:\n",
    "        print(5/i)\n",
    "    except StudentException:\n",
    "        print('you should not divide by zero')\n",
    "    except TeacherException:\n",
    "        pass\n",
    "    except ValueError:\n",
    "        pass\n",
    "    except: \n",
    "        print()"
   ]
  },
  {
   "cell_type": "code",
   "execution_count": 20,
   "metadata": {},
   "outputs": [
    {
     "data": {
      "text/plain": [
       "\u001b[0;31mInit signature:\u001b[0m \u001b[0mPerson\u001b[0m\u001b[0;34m(\u001b[0m\u001b[0mname\u001b[0m\u001b[0;34m,\u001b[0m \u001b[0memail\u001b[0m\u001b[0;34m)\u001b[0m\u001b[0;34m\u001b[0m\u001b[0;34m\u001b[0m\u001b[0m\n",
       "\u001b[0;31mDocstring:\u001b[0m      A Person class is *Abstract* - Intended not to be used directly, but rather to be inherited.\n",
       "\u001b[0;31mInit docstring:\u001b[0m Person's constructor accepts name and e-mail and set it as class attributes, but first it checks whether they are in valid format\n",
       "\u001b[0;31mType:\u001b[0m           type\n",
       "\u001b[0;31mSubclasses:\u001b[0m     Teacher, Student, Teacher, Student, Teacher, Student, Teacher, Student\n"
      ]
     },
     "metadata": {},
     "output_type": "display_data"
    }
   ],
   "source": [
    "?Person"
   ]
  },
  {
   "cell_type": "code",
   "execution_count": 21,
   "metadata": {},
   "outputs": [
    {
     "data": {
      "text/plain": [
       "\u001b[0;31mInit signature:\u001b[0m \u001b[0mTeacher\u001b[0m\u001b[0;34m(\u001b[0m\u001b[0mname\u001b[0m\u001b[0;34m,\u001b[0m \u001b[0memail\u001b[0m\u001b[0;34m,\u001b[0m \u001b[0mteaching_courses\u001b[0m\u001b[0;34m)\u001b[0m\u001b[0;34m\u001b[0m\u001b[0;34m\u001b[0m\u001b[0m\n",
       "\u001b[0;31mDocstring:\u001b[0m      Teacher class inherits from Person and contains name, email and list of courses taught\n",
       "\u001b[0;31mInit docstring:\u001b[0m Teacher's constructor calls the Person's constructor first and then do his stuff\n",
       "\u001b[0;31mType:\u001b[0m           type\n",
       "\u001b[0;31mSubclasses:\u001b[0m     \n"
      ]
     },
     "metadata": {},
     "output_type": "display_data"
    }
   ],
   "source": [
    "?Teacher"
   ]
  },
  {
   "cell_type": "markdown",
   "metadata": {},
   "source": [
    "### Robots.txt\n",
    "\n",
    "* Is it OK to scrape?\n",
    "* Guidance for search engines etc.\n"
   ]
  },
  {
   "cell_type": "markdown",
   "metadata": {},
   "source": [
    "https://www.promptcloud.com/blog/how-to-read-and-respect-robots-file/"
   ]
  },
  {
   "cell_type": "code",
   "execution_count": 8,
   "metadata": {},
   "outputs": [
    {
     "data": {
      "text/plain": [
       "<Response [404]>"
      ]
     },
     "execution_count": 8,
     "metadata": {},
     "output_type": "execute_result"
    }
   ],
   "source": [
    "requests.get('http://ies.fsv.cuni.cz/robots.txt')"
   ]
  },
  {
   "cell_type": "code",
   "execution_count": 23,
   "metadata": {},
   "outputs": [
    {
     "name": "stdout",
     "output_type": "stream",
     "text": [
      "User-agent: *\n",
      "Disallow: /\n",
      "\n",
      "User-agent: Googlebot\n",
      "Allow: /\n",
      "Disallow: /advertpdf/\n",
      "Disallow: /favourites-info\n",
      "Disallow: *_buri=\n",
      "Disallow: /adresar/*page=\n",
      "Disallow: /adresar/*perPage=\n",
      "Disallow: /adresar/*search=\n",
      "Disallow: /adresar/*letter=\n",
      "Disallow: /adresar/*id=\n",
      "Disallow: /firma/*page=\n",
      "Disallow: /firma/*perPage=\n",
      "Disallow: /firma/*search=\n",
      "Disallow: /firma/*letter=\n",
      "Disallow: /firma/*id=\n",
      "Disallow: /hledani/*,\n",
      "Allow: /hledani/*region=*,\n",
      "Disallow: /rk-detail\n",
      "Disallow: *bez-aukce=\n",
      "Disallow: *without-auction=\n",
      "Disallow: *pois_in_place=\n",
      "Disallow: *pois_in_place_distance=\n",
      "\n",
      "User-agent: SeznamBot\n",
      "Allow: /\n",
      "Disallow: /advertpdf/\n",
      "Disallow: /en/\n",
      "Disallow: /ru/\n",
      "Disallow: /favourites-info\n",
      "Disallow: *_buri=\n",
      "Disallow: /adresar/*page=\n",
      "Disallow: /adresar/*perPage=\n",
      "Disallow: /adresar/*search=\n",
      "Disallow: /adresar/*letter=\n",
      "Disallow: /adresar/*id=\n",
      "Disallow: /firma/*page=\n",
      "Disallow: /firma/*perPage=\n",
      "Disallow: /firma/*search=\n",
      "Disallow: /firma/*letter=\n",
      "Disallow: /firma/*id=\n",
      "Disallow: /hledani/*,\n",
      "Allow: /hledani/*region=*,\n",
      "Disallow: /rk-detail\n",
      "Disallow: *bez-aukce=\n",
      "Disallow: *without-auction=\n",
      "Disallow: *pois_in_place=\n",
      "Disallow: *pois_in_place_distance=\n",
      "\n",
      "User-agent: Bingbot\n",
      "Allow: /\n",
      "Disallow: /advertpdf/\n",
      "Disallow: /favourites-info\n",
      "Disallow: *_buri=\n",
      "Disallow: /adresar/*page=\n",
      "Disallow: /adresar/*perPage=\n",
      "Disallow: /adresar/*search=\n",
      "Disallow: /adresar/*letter=\n",
      "Disallow: /adresar/*id=\n",
      "Disallow: /firma/*page=\n",
      "Disallow: /firma/*perPage=\n",
      "Disallow: /firma/*search=\n",
      "Disallow: /firma/*letter=\n",
      "Disallow: /firma/*id=\n",
      "Disallow: /hledani/*,\n",
      "Allow: /hledani/*region=*,\n",
      "Disallow: /rk-detail\n",
      "Disallow: *bez-aukce=\n",
      "Disallow: *without-auction=\n",
      "Disallow: *pois_in_place=\n",
      "Disallow: *pois_in_place_distance=\n",
      "\n",
      "\n",
      "User-agent: Slurp\n",
      "Allow: /\n",
      "Disallow: /advertpdf/\n",
      "Disallow: /favourites-info\n",
      "Disallow: *_buri=\n",
      "Disallow: /adresar/*page=\n",
      "Disallow: /adresar/*perPage=\n",
      "Disallow: /adresar/*search=\n",
      "Disallow: /adresar/*letter=\n",
      "Disallow: /adresar/*id=\n",
      "Disallow: /firma/*page=\n",
      "Disallow: /firma/*perPage=\n",
      "Disallow: /firma/*search=\n",
      "Disallow: /firma/*letter=\n",
      "Disallow: /firma/*id=\n",
      "Disallow: /hledani/*,\n",
      "Allow: /hledani/*region=*,\n",
      "Disallow: /rk-detail\n",
      "Disallow: *bez-aukce=\n",
      "Disallow: *without-auction=\n",
      "Disallow: *pois_in_place=\n",
      "Disallow: *pois_in_place_distance=\n",
      "\n",
      "\n",
      "User-agent: DuckDuckBot\n",
      "Allow: /\n",
      "Disallow: /advertpdf/\n",
      "Disallow: /favourites-info\n",
      "Disallow: *_buri=\n",
      "Disallow: /adresar/*page=\n",
      "Disallow: /adresar/*perPage=\n",
      "Disallow: /adresar/*search=\n",
      "Disallow: /adresar/*letter=\n",
      "Disallow: /adresar/*id=\n",
      "Disallow: /firma/*page=\n",
      "Disallow: /firma/*perPage=\n",
      "Disallow: /firma/*search=\n",
      "Disallow: /firma/*letter=\n",
      "Disallow: /firma/*id=\n",
      "Disallow: /hledani/*,\n",
      "Allow: /hledani/*region=*,\n",
      "Disallow: /rk-detail\n",
      "Disallow: *bez-aukce=\n",
      "Disallow: *without-auction=\n",
      "Disallow: *pois_in_place=\n",
      "Disallow: *pois_in_place_distance=\n",
      "\n",
      "\n",
      "User-agent: Baiduspider\n",
      "Allow: /\n",
      "Disallow: /advertpdf/\n",
      "Disallow: /favourites-info\n",
      "Disallow: *_buri=\n",
      "Disallow: /adresar/*page=\n",
      "Disallow: /adresar/*perPage=\n",
      "Disallow: /adresar/*search=\n",
      "Disallow: /adresar/*letter=\n",
      "Disallow: /adresar/*id=\n",
      "Disallow: /firma/*page=\n",
      "Disallow: /firma/*perPage=\n",
      "Disallow: /firma/*search=\n",
      "Disallow: /firma/*letter=\n",
      "Disallow: /firma/*id=\n",
      "Disallow: /hledani/*,\n",
      "Allow: /hledani/*region=*,\n",
      "Disallow: /rk-detail\n",
      "Disallow: *bez-aukce=\n",
      "Disallow: *without-auction=\n",
      "Disallow: *pois_in_place=\n",
      "Disallow: *pois_in_place_distance=\n",
      "\n",
      "\n",
      "User-agent: YandexBot\n",
      "Allow: /\n",
      "Disallow: /advertpdf/\n",
      "Disallow: /favourites-info\n",
      "Disallow: *_buri=\n",
      "Disallow: /adresar/*page=\n",
      "Disallow: /adresar/*perPage=\n",
      "Disallow: /adresar/*search=\n",
      "Disallow: /adresar/*letter=\n",
      "Disallow: /adresar/*id=\n",
      "Disallow: /firma/*page=\n",
      "Disallow: /firma/*perPage=\n",
      "Disallow: /firma/*search=\n",
      "Disallow: /firma/*letter=\n",
      "Disallow: /firma/*id=\n",
      "Disallow: /hledani/*,\n",
      "Allow: /hledani/*region=*,\n",
      "Disallow: /rk-detail\n",
      "Disallow: *bez-aukce=\n",
      "Disallow: *without-auction=\n",
      "Disallow: *pois_in_place=\n",
      "Disallow: *pois_in_place_distance=\n",
      "\n",
      "\n",
      "User-agent: Applebot\n",
      "Allow: /\n",
      "Disallow: /advertpdf/\n",
      "Disallow: /favourites-info\n",
      "Disallow: *_buri=\n",
      "Disallow: /adresar/*page=\n",
      "Disallow: /adresar/*perPage=\n",
      "Disallow: /adresar/*search=\n",
      "Disallow: /adresar/*letter=\n",
      "Disallow: /adresar/*id=\n",
      "Disallow: /firma/*page=\n",
      "Disallow: /firma/*perPage=\n",
      "Disallow: /firma/*search=\n",
      "Disallow: /firma/*letter=\n",
      "Disallow: /firma/*id=\n",
      "Disallow: /hledani/*,\n",
      "Allow: /hledani/*region=*,\n",
      "Disallow: /rk-detail\n",
      "Disallow: *bez-aukce=\n",
      "Disallow: *without-auction=\n",
      "Disallow: *pois_in_place=\n",
      "Disallow: *pois_in_place_distance=\n",
      "\n",
      "\n",
      "User-agent: ia_archiver\n",
      "Allow: /\n",
      "Disallow: /advertpdf/\n",
      "Disallow: /favourites-info\n",
      "Disallow: *_buri=\n",
      "Disallow: /adresar/*page=\n",
      "Disallow: /adresar/*perPage=\n",
      "Disallow: /adresar/*search=\n",
      "Disallow: /adresar/*letter=\n",
      "Disallow: /adresar/*id=\n",
      "Disallow: /firma/*page=\n",
      "Disallow: /firma/*perPage=\n",
      "Disallow: /firma/*search=\n",
      "Disallow: /firma/*letter=\n",
      "Disallow: /firma/*id=\n",
      "Disallow: /hledani/*,\n",
      "Allow: /hledani/*region=*,\n",
      "Disallow: /rk-detail\n",
      "Disallow: *bez-aukce=\n",
      "Disallow: *without-auction=\n",
      "Disallow: *pois_in_place=\n",
      "Disallow: *pois_in_place_distance=\n",
      "\n",
      "User-agent: msnbot\n",
      "Allow: /\n",
      "Disallow: /advertpdf/\n",
      "Disallow: /favourites-info\n",
      "Disallow: *_buri=\n",
      "Disallow: /adresar/*page=\n",
      "Disallow: /adresar/*perPage=\n",
      "Disallow: /adresar/*search=\n",
      "Disallow: /adresar/*letter=\n",
      "Disallow: /adresar/*id=\n",
      "Disallow: /firma/*page=\n",
      "Disallow: /firma/*perPage=\n",
      "Disallow: /firma/*search=\n",
      "Disallow: /firma/*letter=\n",
      "Disallow: /firma/*id=\n",
      "Disallow: /hledani/*,\n",
      "Allow: /hledani/*region=*,\n",
      "Disallow: /rk-detail\n",
      "Disallow: *bez-aukce=\n",
      "Disallow: *without-auction=\n",
      "Disallow: *pois_in_place=\n",
      "Disallow: *pois_in_place_distance=\n",
      "\n",
      "User-agent: Naverbot\n",
      "Allow: /\n",
      "Disallow: /advertpdf/\n",
      "Disallow: /favourites-info\n",
      "Disallow: *_buri=\n",
      "Disallow: /adresar/*page=\n",
      "Disallow: /adresar/*perPage=\n",
      "Disallow: /adresar/*search=\n",
      "Disallow: /adresar/*letter=\n",
      "Disallow: /adresar/*id=\n",
      "Disallow: /firma/*page=\n",
      "Disallow: /firma/*perPage=\n",
      "Disallow: /firma/*search=\n",
      "Disallow: /firma/*letter=\n",
      "Disallow: /firma/*id=\n",
      "Disallow: /hledani/*,\n",
      "Allow: /hledani/*region=*,\n",
      "Disallow: /rk-detail\n",
      "Disallow: *bez-aukce=\n",
      "Disallow: *without-auction=\n",
      "Disallow: *pois_in_place=\n",
      "Disallow: *pois_in_place_distance=\n",
      "\n",
      "\n",
      "# Better safe than sorry\n",
      "User-agent: Mediapartners-Google\n",
      "Disallow:\n",
      "\n",
      "User-agent: facebot\n",
      "Disallow:\n",
      "\n",
      "User-agent: facebookexternalhit\n",
      "Disallow:\n",
      "\n",
      "User-agent: Twitterbot\n",
      "Disallow:\n",
      "\n",
      "User-agent: BingPreview\n",
      "Disallow:\n",
      "\n",
      "User-agent: vkShare\n",
      "Disallow:\n",
      "\n",
      "User-agent: Mail.RU_Bot\n",
      "Disallow:\n",
      "\n",
      "\n",
      "Sitemap: https://www.sreality.cz/sitemap.xml\n",
      "\n"
     ]
    }
   ],
   "source": [
    "print(requests.get('http://sreality.cz/robots.txt').text)"
   ]
  },
  {
   "cell_type": "markdown",
   "metadata": {},
   "source": [
    "## Task:\n",
    "* A parser of IES websites with following features:\n",
    "    * All info about people from [Internal faculty](http://ies.fsv.cuni.cz/en/node/48), [External lecturers](http://ies.fsv.cuni.cz/en/node/49), [Ph.D. candidates](http://ies.fsv.cuni.cz/en/node/51) and [Administration](http://ies.fsv.cuni.cz/en/node/50)\n",
    "    * All info about [all](http://ies.fsv.cuni.cz/en/node/109) theses between 1994 and 2019 won'be covered as we have problems with the website\n",
    "    * Also all courses! But no list of courses available ..."
   ]
  },
  {
   "cell_type": "markdown",
   "metadata": {},
   "source": [
    "## Pages\n",
    "\n",
    "### Find all persons?\n",
    "[Current faculty](http://ies.fsv.cuni.cz/en/node/48)"
   ]
  },
  {
   "cell_type": "markdown",
   "metadata": {},
   "source": [
    "1. understand structure of the website"
   ]
  },
  {
   "cell_type": "code",
   "execution_count": 9,
   "metadata": {},
   "outputs": [],
   "source": [
    "def getSoup(link):\n",
    "    sleep(0.1) #to be kind to the website\n",
    "    r = requests.get(link)\n",
    "    r.encoding = 'UTF-8'\n",
    "    return BeautifulSoup(r.text,'lxml')"
   ]
  },
  {
   "cell_type": "code",
   "execution_count": 10,
   "metadata": {},
   "outputs": [],
   "source": [
    "soup = getSoup('https://ies.fsv.cuni.cz/en/node/48')"
   ]
  },
  {
   "cell_type": "code",
   "execution_count": 15,
   "metadata": {},
   "outputs": [
    {
     "data": {
      "text/plain": [
       "[<td class=\"peopleTableCellName\">\n",
       " <a href=\"/en/staff/bajgar\"><b> Matěj Bajgar M.Sc., DPhil.</b></a>\n",
       " </td>,\n",
       " <td class=\"peopleTableCellName\">\n",
       " <a href=\"/en/staff/barunik\"><b>doc. PhDr. Jozef Baruník Ph.D.</b></a>\n",
       " </td>,\n",
       " <td class=\"peopleTableCellName\">\n",
       " <a href=\"/en/staff/bauerm\"><b>doc. PhDr. Michal Bauer Ph.D.</b></a>\n",
       " </td>,\n",
       " <td class=\"peopleTableCellName\">\n",
       " <a href=\"/en/staff/baxajaromir\"><b>PhDr. Jaromír Baxa Ph.D.</b></a>\n",
       " </td>,\n",
       " <td class=\"peopleTableCellName\">\n",
       " <a href=\"/en/staff/bertoli\"><b>doc. Paola Bertoli M.A., MSc., Ph.D.</b></a>\n",
       " </td>,\n",
       " <td class=\"peopleTableCellName\">\n",
       " <a href=\"/en/staff/cahlik\"><b>doc. Ing. Tomáš Cahlík CSc.</b></a>\n",
       " </td>,\n",
       " <td class=\"peopleTableCellName\">\n",
       " <a href=\"/en/staff/fcech\"><b>PhDr. František Čech Ph.D.</b></a>\n",
       " </td>,\n",
       " <td class=\"peopleTableCellName\">\n",
       " <a href=\"/en/staff/cervinka\"><b>RNDr. Michal Červinka Ph.D.</b></a>\n",
       " </td>,\n",
       " <td class=\"peopleTableCellName\">\n",
       " <a href=\"/en/staff/chytilova\"><b>doc. PhDr. Julie Chytilová Ph.D.</b></a>\n",
       " </td>,\n",
       " <td class=\"peopleTableCellName\">\n",
       " <a href=\"/en/staff/dedek\"><b>prof. Ing. Oldřich Dědek CSc.</b></a>\n",
       " </td>,\n",
       " <td class=\"peopleTableCellName\">\n",
       " <a href=\"/en/staff/dolezalova\"><b>doc. PhDr. Ing. Antonie Doležalová Ph.D.</b></a>\n",
       " </td>,\n",
       " <td class=\"peopleTableCellName\">\n",
       " <a href=\"/en/staff/gersl\"><b>doc. PhDr. Adam Geršl Ph.D.</b></a>\n",
       " </td>,\n",
       " <td class=\"peopleTableCellName\">\n",
       " <a href=\"/en/staff/gregor\"><b>doc. PhDr. Martin Gregor Ph.D.</b></a>\n",
       " </td>,\n",
       " <td class=\"peopleTableCellName\">\n",
       " <a href=\"/en/staff/havranek\"><b>doc. PhDr. Tomáš Havránek Ph.D.</b></a>\n",
       " </td>,\n",
       " <td class=\"peopleTableCellName\">\n",
       " <a href=\"/en/staff/irsova\"><b>doc. PhDr. Zuzana Havránková Ph.D.</b></a>\n",
       " </td>,\n",
       " <td class=\"peopleTableCellName\">\n",
       " <a href=\"/en/staff/hlavacekm\"><b>PhDr. Michal Hlaváček Ph.D.</b></a>\n",
       " </td>,\n",
       " <td class=\"peopleTableCellName\">\n",
       " <a href=\"/en/staff/hollmannov\"><b>Ing. Monika Hollmannová </b></a>\n",
       " </td>,\n",
       " <td class=\"peopleTableCellName\">\n",
       " <a href=\"/en/staff/holub\"><b>doc. Mgr. Tomáš Holub Ph.D.</b></a>\n",
       " </td>,\n",
       " <td class=\"peopleTableCellName\">\n",
       " <a href=\"/en/staff/horvath\"><b>prof. Roman Horváth Ph.D.</b></a>\n",
       " </td>,\n",
       " <td class=\"peopleTableCellName\">\n",
       " <a href=\"/en/staff/jakubik\"><b>doc. PhDr. Ing. Ing. Petr Jakubík Ph.D. Ph.D.</b></a>\n",
       " </td>,\n",
       " <td class=\"peopleTableCellName\">\n",
       " <a href=\"/en/staff/janda\"><b>prof. Ing. Karel Janda M.A., Dr., Ph.D.</b></a>\n",
       " </td>,\n",
       " <td class=\"peopleTableCellName\">\n",
       " <a href=\"/en/staff/jansky\"><b>doc. Petr Janský Ph.D.</b></a>\n",
       " </td>,\n",
       " <td class=\"peopleTableCellName\">\n",
       " <a href=\"/en/staff/kemenyova\"><b>Ing. Irena Kemény </b></a>\n",
       " </td>,\n",
       " <td class=\"peopleTableCellName\">\n",
       " <a href=\"/en/staff/kocenda\"><b>prof. Ing. Evžen Kočenda M.A., Ph.D., DSc.</b></a>\n",
       " </td>,\n",
       " <td class=\"peopleTableCellName\">\n",
       " <a href=\"/en/staff/komarek\"><b>prof. Ing. et Ing. Luboš Komárek Ph.D., MSc., MBA</b></a>\n",
       " </td>,\n",
       " <td class=\"peopleTableCellName\">\n",
       " <a href=\"/en/staff/kristoufek\"><b>prof. PhDr. Ladislav Krištoufek Ph.D.</b></a>\n",
       " </td>,\n",
       " <td class=\"peopleTableCellName\">\n",
       " <a href=\"/en/staff/kukacka\"><b>PhDr. Jiří Kukačka Ph.D.</b></a>\n",
       " </td>,\n",
       " <td class=\"peopleTableCellName\">\n",
       " <a href=\"/en/staff/novakji\"><b> Jiří Novák M.Sc., Ph.D., Deloitte Corporate Chair</b></a>\n",
       " </td>,\n",
       " <td class=\"peopleTableCellName\">\n",
       " <a href=\"/en/staff/palansky\"><b>PhDr. Miroslav Palanský M.A., Ph.D.</b></a>\n",
       " </td>,\n",
       " <td class=\"peopleTableCellName\">\n",
       " <a href=\"/en/staff/paulus\"><b>Mgr. Michal Paulus </b></a>\n",
       " </td>,\n",
       " <td class=\"peopleTableCellName\">\n",
       " <a href=\"/en/staff/neprasova\"><b>Mgr. Magda Pečená  Ph.D.</b></a>\n",
       " </td>,\n",
       " <td class=\"peopleTableCellName\">\n",
       " <a href=\"/en/staff/gebicka\"><b>Mgr. Barbara Pertold-Gebicka M.A., Ph.D.</b></a>\n",
       " </td>,\n",
       " <td class=\"peopleTableCellName\">\n",
       " <a href=\"/en/staff/scasny\"><b>Mgr. Milan Ščasný PhD.</b></a>\n",
       " </td>,\n",
       " <td class=\"peopleTableCellName\">\n",
       " <a href=\"/en/staff/schneider\"><b>doc. Ing. Ondřej Schneider MPhil., Ph.D.</b></a>\n",
       " </td>,\n",
       " <td class=\"peopleTableCellName\">\n",
       " <a href=\"/en/staff/schwarz\"><b>PhDr. Jiří Schwarz Ph.D.</b></a>\n",
       " </td>,\n",
       " <td class=\"peopleTableCellName\">\n",
       " <a href=\"/en/staff/semerak\"><b>Ing. Vilém Semerák M.A., Ph.D.</b></a>\n",
       " </td>,\n",
       " <td class=\"peopleTableCellName\">\n",
       " <a href=\"/en/staff/gregorovalenka\"><b>PhDr. Lenka Šťastná Ph.D.</b></a>\n",
       " </td>,\n",
       " <td class=\"peopleTableCellName\">\n",
       " <a href=\"/en/staff/teply\"><b>prof. PhDr. Petr Teplý Ph.D.</b></a>\n",
       " </td>,\n",
       " <td class=\"peopleTableCellName\">\n",
       " <a href=\"/en/staff/vacek\"><b>PhDr. Pavel Vacek Ph.D.</b></a>\n",
       " </td>,\n",
       " <td class=\"peopleTableCellName\">\n",
       " <a href=\"/en/staff/vacha\"><b>Mgr. Lukáš Vácha Ph.D.</b></a>\n",
       " </td>,\n",
       " <td class=\"peopleTableCellName\">\n",
       " <a href=\"/en/staff/visek\"><b>prof. RNDr. Jan Ámos Víšek CSc.</b></a>\n",
       " </td>,\n",
       " <td class=\"peopleTableCellName\">\n",
       " <a href=\"/en/staff/vosvrda\"><b>prof. Ing. Miloslav Vošvrda CSc.</b></a>\n",
       " </td>,\n",
       " <td class=\"peopleTableCellName\">\n",
       " <a href=\"/en/staff/prochazkova\"><b>PhDr. Jana Votápková Ph.D.</b></a>\n",
       " </td>]"
      ]
     },
     "execution_count": 15,
     "metadata": {},
     "output_type": "execute_result"
    }
   ],
   "source": [
    "tds = soup.findAll('td', {'class':'peopleTableCellName'})\n",
    "tds"
   ]
  },
  {
   "cell_type": "code",
   "execution_count": 17,
   "metadata": {},
   "outputs": [
    {
     "data": {
      "text/plain": [
       "['https://ies.fsv.cuni.cz/en/staff/bajgar',\n",
       " 'https://ies.fsv.cuni.cz/en/staff/barunik',\n",
       " 'https://ies.fsv.cuni.cz/en/staff/bauerm',\n",
       " 'https://ies.fsv.cuni.cz/en/staff/baxajaromir',\n",
       " 'https://ies.fsv.cuni.cz/en/staff/bertoli',\n",
       " 'https://ies.fsv.cuni.cz/en/staff/cahlik',\n",
       " 'https://ies.fsv.cuni.cz/en/staff/fcech',\n",
       " 'https://ies.fsv.cuni.cz/en/staff/cervinka',\n",
       " 'https://ies.fsv.cuni.cz/en/staff/chytilova',\n",
       " 'https://ies.fsv.cuni.cz/en/staff/dedek',\n",
       " 'https://ies.fsv.cuni.cz/en/staff/dolezalova',\n",
       " 'https://ies.fsv.cuni.cz/en/staff/gersl',\n",
       " 'https://ies.fsv.cuni.cz/en/staff/gregor',\n",
       " 'https://ies.fsv.cuni.cz/en/staff/havranek',\n",
       " 'https://ies.fsv.cuni.cz/en/staff/irsova',\n",
       " 'https://ies.fsv.cuni.cz/en/staff/hlavacekm',\n",
       " 'https://ies.fsv.cuni.cz/en/staff/hollmannov',\n",
       " 'https://ies.fsv.cuni.cz/en/staff/holub',\n",
       " 'https://ies.fsv.cuni.cz/en/staff/horvath',\n",
       " 'https://ies.fsv.cuni.cz/en/staff/jakubik',\n",
       " 'https://ies.fsv.cuni.cz/en/staff/janda',\n",
       " 'https://ies.fsv.cuni.cz/en/staff/jansky',\n",
       " 'https://ies.fsv.cuni.cz/en/staff/kemenyova',\n",
       " 'https://ies.fsv.cuni.cz/en/staff/kocenda',\n",
       " 'https://ies.fsv.cuni.cz/en/staff/komarek',\n",
       " 'https://ies.fsv.cuni.cz/en/staff/kristoufek',\n",
       " 'https://ies.fsv.cuni.cz/en/staff/kukacka',\n",
       " 'https://ies.fsv.cuni.cz/en/staff/novakji',\n",
       " 'https://ies.fsv.cuni.cz/en/staff/palansky',\n",
       " 'https://ies.fsv.cuni.cz/en/staff/paulus',\n",
       " 'https://ies.fsv.cuni.cz/en/staff/neprasova',\n",
       " 'https://ies.fsv.cuni.cz/en/staff/gebicka',\n",
       " 'https://ies.fsv.cuni.cz/en/staff/scasny',\n",
       " 'https://ies.fsv.cuni.cz/en/staff/schneider',\n",
       " 'https://ies.fsv.cuni.cz/en/staff/schwarz',\n",
       " 'https://ies.fsv.cuni.cz/en/staff/semerak',\n",
       " 'https://ies.fsv.cuni.cz/en/staff/gregorovalenka',\n",
       " 'https://ies.fsv.cuni.cz/en/staff/teply',\n",
       " 'https://ies.fsv.cuni.cz/en/staff/vacek',\n",
       " 'https://ies.fsv.cuni.cz/en/staff/vacha',\n",
       " 'https://ies.fsv.cuni.cz/en/staff/visek',\n",
       " 'https://ies.fsv.cuni.cz/en/staff/vosvrda',\n",
       " 'https://ies.fsv.cuni.cz/en/staff/prochazkova']"
      ]
     },
     "execution_count": 17,
     "metadata": {},
     "output_type": "execute_result"
    }
   ],
   "source": [
    "def getAllLinks(link):\n",
    "    soup = getSoup(link)\n",
    "    tds = soup.findAll('td', {'class':'peopleTableCellName'})\n",
    "    return ['https://ies.fsv.cuni.cz' + td.find('a')['href'] for td in tds]\n",
    "\n",
    "links = getAllLinks('http://ies.fsv.cuni.cz/en/node/48')\n",
    "links"
   ]
  },
  {
   "cell_type": "markdown",
   "metadata": {},
   "source": [
    "## Person's characteristics?\n",
    "\n",
    "[A TEACHER!](https://ies.fsv.cuni.cz/en/staff/barunik)"
   ]
  },
  {
   "cell_type": "code",
   "execution_count": 18,
   "metadata": {},
   "outputs": [
    {
     "data": {
      "text/plain": [
       "['Matěj Bajgar M.Sc., DPhil.',\n",
       " 'doc. PhDr. Jozef Baruník Ph.D.',\n",
       " 'doc. PhDr. Michal Bauer Ph.D.',\n",
       " 'PhDr. Jaromír Baxa Ph.D.',\n",
       " 'doc. Paola Bertoli M.A., MSc., Ph.D.',\n",
       " 'doc. Ing. Tomáš Cahlík CSc.',\n",
       " 'PhDr. František Čech Ph.D.',\n",
       " 'RNDr. Michal Červinka Ph.D.',\n",
       " 'doc. PhDr. Julie Chytilová Ph.D.',\n",
       " 'prof. Ing. Oldřich Dědek CSc.',\n",
       " 'doc. PhDr. Ing. Antonie Doležalová Ph.D.',\n",
       " 'doc. PhDr. Adam Geršl Ph.D.',\n",
       " 'doc. PhDr. Martin Gregor Ph.D.',\n",
       " 'doc. PhDr. Tomáš Havránek Ph.D.',\n",
       " 'doc. PhDr. Zuzana Havránková Ph.D.',\n",
       " 'PhDr. Michal Hlaváček Ph.D.',\n",
       " 'Ing. Monika Hollmannová',\n",
       " 'doc. Mgr. Tomáš Holub Ph.D.',\n",
       " 'prof. Roman Horváth Ph.D.',\n",
       " 'doc. PhDr. Ing. Ing. Petr Jakubík Ph.D. Ph.D.',\n",
       " 'prof. Ing. Karel Janda M.A., Dr., Ph.D.',\n",
       " 'doc. Petr Janský Ph.D.',\n",
       " 'Ing. Irena Kemény',\n",
       " 'prof. Ing. Evžen Kočenda M.A., Ph.D., DSc.',\n",
       " 'prof. Ing. et Ing. Luboš Komárek Ph.D., MSc., MBA',\n",
       " 'prof. PhDr. Ladislav Krištoufek Ph.D.',\n",
       " 'PhDr. Jiří Kukačka Ph.D.',\n",
       " 'Jiří Novák M.Sc., Ph.D., Deloitte Corporate Chair',\n",
       " 'PhDr. Miroslav Palanský M.A., Ph.D.',\n",
       " 'Mgr. Michal Paulus',\n",
       " 'Mgr. Magda Pečená  Ph.D.',\n",
       " 'Mgr. Barbara Pertold-Gebicka M.A., Ph.D.',\n",
       " 'Mgr. Milan Ščasný PhD.',\n",
       " 'doc. Ing. Ondřej Schneider MPhil., Ph.D.',\n",
       " 'PhDr. Jiří Schwarz Ph.D.',\n",
       " 'Ing. Vilém Semerák M.A., Ph.D.',\n",
       " 'PhDr. Lenka Šťastná Ph.D.',\n",
       " 'prof. PhDr. Petr Teplý Ph.D.',\n",
       " 'PhDr. Pavel Vacek Ph.D.',\n",
       " 'Mgr. Lukáš Vácha Ph.D.',\n",
       " 'prof. RNDr. Jan Ámos Víšek CSc.',\n",
       " 'prof. Ing. Miloslav Vošvrda CSc.',\n",
       " 'PhDr. Jana Votápková Ph.D.']"
      ]
     },
     "execution_count": 18,
     "metadata": {},
     "output_type": "execute_result"
    }
   ],
   "source": [
    "def getName(link):\n",
    "    soup = getSoup(link)\n",
    "    return soup.find('h2').text.strip()\n",
    "\n",
    "names = [getName(link) for link in links]\n",
    "names"
   ]
  },
  {
   "cell_type": "code",
   "execution_count": 19,
   "metadata": {},
   "outputs": [
    {
     "data": {
      "text/plain": [
       "'+420(776)259273'"
      ]
     },
     "execution_count": 19,
     "metadata": {},
     "output_type": "execute_result"
    }
   ],
   "source": [
    "def getPhone(link):\n",
    "    soup = getSoup(link)\n",
    "    node = soup.find('strong',text='Phone:')\n",
    "    return node.next_sibling.strip()\n",
    "\n",
    "[getPhone(link) for link in links]"
   ]
  },
  {
   "cell_type": "code",
   "execution_count": 21,
   "metadata": {},
   "outputs": [
    {
     "data": {
      "text/plain": [
       "'barunik [AT] fsv [DOT] cuni [DOT] cz'"
      ]
     },
     "execution_count": 21,
     "metadata": {},
     "output_type": "execute_result"
    }
   ],
   "source": [
    "def getNextSiblingOfStrong(soup,characteristic):\n",
    "    strong = soup.find('strong',text=characteristic)\n",
    "    return strong.next_sibling.strip()\n",
    "soup = getSoup(links[1])\n",
    "getNextSiblingOfStrong(soup,'Email:')"
   ]
  },
  {
   "cell_type": "code",
   "execution_count": 25,
   "metadata": {},
   "outputs": [
    {
     "data": {
      "text/plain": [
       "Phone           +420(776)259273\n",
       "Office                      503\n",
       "Position    Associate Professor\n",
       "dtype: object"
      ]
     },
     "execution_count": 25,
     "metadata": {},
     "output_type": "execute_result"
    }
   ],
   "source": [
    "def getMoreCharacteristics(link, characteristics):\n",
    "    soup = getSoup(link)\n",
    "    return pd.Series({\n",
    "        char.replace(':',''):getNextSiblingOfStrong(soup,char) \n",
    "        for char in characteristics\n",
    "    })\n",
    "\n",
    "#[getMoreCharacteristics(link,['Phone:','Office:','Position:']) for link in links[:2]]\n",
    "getMoreCharacteristics(links[1],['Phone:','Office:','Position:'])"
   ]
  },
  {
   "cell_type": "markdown",
   "metadata": {},
   "source": [
    "* Let's do an object!"
   ]
  },
  {
   "cell_type": "code",
   "execution_count": 26,
   "metadata": {},
   "outputs": [],
   "source": [
    "class Person:\n",
    "    def __init__(self,link):\n",
    "        self.soup = getSoup(link)\n",
    "        self.name = self.getName()\n",
    "        self.office = self.getNextSiblingOfStrong('Office:')\n",
    "        self.phone = self.getNextSiblingOfStrong('Phone:')\n",
    "        \n",
    "    def getNextSiblingOfStrong(self, characteristic):\n",
    "        strong = self.soup.find('strong',text=characteristic)\n",
    "        return strong.next_sibling.strip()\n",
    "    \n",
    "    def getName(self):\n",
    "        return self.soup.find('h2').text\n",
    "    \n",
    "    def getCharacteristics(self):\n",
    "        return pd.Series({\n",
    "            'name':self.name,\n",
    "            'office':self.office,\n",
    "            'phone':self.phone\n",
    "        })\n",
    "\n",
    "people = [Person(link) for link in links[:2]]"
   ]
  },
  {
   "cell_type": "code",
   "execution_count": 27,
   "metadata": {},
   "outputs": [
    {
     "data": {
      "text/plain": [
       "[' Matěj Bajgar M.Sc., DPhil.', 'doc. PhDr. Jozef Baruník Ph.D.']"
      ]
     },
     "execution_count": 27,
     "metadata": {},
     "output_type": "execute_result"
    }
   ],
   "source": [
    "[p.name for p in people]"
   ]
  },
  {
   "cell_type": "code",
   "execution_count": null,
   "metadata": {},
   "outputs": [],
   "source": [
    "#We still have raw data if needed!\n",
    "[p.soup.find('h2').text for p in people]"
   ]
  },
  {
   "cell_type": "code",
   "execution_count": 28,
   "metadata": {},
   "outputs": [
    {
     "data": {
      "text/html": [
       "<div>\n",
       "<style scoped>\n",
       "    .dataframe tbody tr th:only-of-type {\n",
       "        vertical-align: middle;\n",
       "    }\n",
       "\n",
       "    .dataframe tbody tr th {\n",
       "        vertical-align: top;\n",
       "    }\n",
       "\n",
       "    .dataframe thead th {\n",
       "        text-align: right;\n",
       "    }\n",
       "</style>\n",
       "<table border=\"1\" class=\"dataframe\">\n",
       "  <thead>\n",
       "    <tr style=\"text-align: right;\">\n",
       "      <th></th>\n",
       "      <th>name</th>\n",
       "      <th>office</th>\n",
       "      <th>phone</th>\n",
       "    </tr>\n",
       "  </thead>\n",
       "  <tbody>\n",
       "    <tr>\n",
       "      <th>0</th>\n",
       "      <td>Matěj Bajgar M.Sc., DPhil.</td>\n",
       "      <td></td>\n",
       "      <td></td>\n",
       "    </tr>\n",
       "    <tr>\n",
       "      <th>1</th>\n",
       "      <td>doc. PhDr. Jozef Baruník Ph.D.</td>\n",
       "      <td>503</td>\n",
       "      <td>+420(776)259273</td>\n",
       "    </tr>\n",
       "  </tbody>\n",
       "</table>\n",
       "</div>"
      ],
      "text/plain": [
       "                             name office            phone\n",
       "0      Matěj Bajgar M.Sc., DPhil.                        \n",
       "1  doc. PhDr. Jozef Baruník Ph.D.    503  +420(776)259273"
      ]
     },
     "execution_count": 28,
     "metadata": {},
     "output_type": "execute_result"
    }
   ],
   "source": [
    "pd.DataFrame([p.getCharacteristics() for p in people])"
   ]
  },
  {
   "cell_type": "code",
   "execution_count": 44,
   "metadata": {},
   "outputs": [
    {
     "data": {
      "text/plain": [
       "list"
      ]
     },
     "execution_count": 44,
     "metadata": {},
     "output_type": "execute_result"
    }
   ],
   "source": [
    "type([p.getCharacteristics() for p in people]"
   ]
  },
  {
   "cell_type": "code",
   "execution_count": null,
   "metadata": {},
   "outputs": [],
   "source": []
  }
 ],
 "metadata": {
  "kernelspec": {
   "display_name": "PythonDataIES",
   "language": "python",
   "name": "pythondataies"
  },
  "language_info": {
   "codemirror_mode": {
    "name": "ipython",
    "version": 3
   },
   "file_extension": ".py",
   "mimetype": "text/x-python",
   "name": "python",
   "nbconvert_exporter": "python",
   "pygments_lexer": "ipython3",
   "version": "3.8.8"
  }
 },
 "nbformat": 4,
 "nbformat_minor": 4
}
