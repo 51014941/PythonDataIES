{
 "cells": [
  {
   "cell_type": "code",
   "execution_count": null,
   "metadata": {},
   "outputs": [],
   "source": [
    "import requests\n",
    "from bs4 import BeautifulSoup\n",
    "import pandas as pd\n",
    "from time import sleep\n",
    "from tqdm import tqdm\n",
    "import re\n",
    "from IES_Downloader import IES_Downloader"
   ]
  },
  {
   "cell_type": "markdown",
   "metadata": {},
   "source": [
    "# Lecture 6 - IES Web scraper\n",
    "\n",
    "by Vítek Macháček\n",
    "\n",
    "March 23, 2020\n",
    "\n",
    "* Putting it all together\n",
    "* OOP + Pandas + Requests + Scraping\n"
   ]
  },
  {
   "cell_type": "markdown",
   "metadata": {},
   "source": [
    "## Object-oriented Programming\n",
    "* Brief reminder of how objects work\n",
    "\n",
    "### Docstring + Objects + Inheriting + Constructors"
   ]
  },
  {
   "cell_type": "markdown",
   "metadata": {},
   "source": [
    "![Simple Object Structure](./img/class_example.png)"
   ]
  },
  {
   "cell_type": "code",
   "execution_count": null,
   "metadata": {},
   "outputs": [],
   "source": [
    "class Person:\n",
    "    '''\n",
    "    A Person class is *Abstract* - Intended not to be used directly, but rather to be inherited.\n",
    "    '''\n",
    "    def __init__(self,name,email):\n",
    "        '''\n",
    "        Person's constructor accepts name and e-mail and set it as class attributes, but first it checks whether they are in valid format\n",
    "        '''\n",
    "\n",
    "        if self._verify_name(name):\n",
    "            self.name = name\n",
    "        else:\n",
    "            raise PersonException('Name is invalid')\n",
    "\n",
    "        if self._verify_email(email):\n",
    "            self.email = email\n",
    "        else:\n",
    "            raise PersonException('Email is invalid')\n",
    "    \n",
    "    def _verify_name(self,name):\n",
    "        '''\n",
    "        Method for ensuring that name is not empty and is string\n",
    "        '''\n",
    "        return len(name) > 0 and type(name) == type('')\n",
    "\n",
    "    def _verify_email(self,email):\n",
    "        '''\n",
    "        Method validating that email is truly an email.\n",
    "        '''\n",
    "\n",
    "        email_pattern = '^[a-zA-Z0-9_.+-]+@[a-zA-Z0-9-]+\\.[a-zA-Z0-9-.]+$'\n",
    "        if(re.search(email_pattern,email)):  \n",
    "            return True \n",
    "        else:  \n",
    "            return False\n",
    "    \n",
    "    def _verify_courses(self,courses):\n",
    "        '''\n",
    "        Is list of courses a list containing valid course idents?\n",
    "        '''\n",
    "        def _verify_course(course):\n",
    "            if type(course) != type(''):\n",
    "                return False\n",
    "            elif len(course) != 6:\n",
    "                return False\n",
    "            elif not (course.startswith('JEM') or course.startswith('JEB')):\n",
    "                return False\n",
    "            else:\n",
    "                return True\n",
    "        \n",
    "        if type(courses) != type([]):\n",
    "            return False\n",
    "\n",
    "        if not all([_verify_course(course) for course in courses]):\n",
    "            return False\n",
    "        return True\n",
    "\n",
    "    def describe(self):\n",
    "        \n",
    "        raise PersonException(\"Cannot describe parent Person class. Override this in Teacher or Student class\")\n",
    "    \n",
    "    def get_name(self):\n",
    "        if self.name:\n",
    "            return self.name\n",
    "        else:\n",
    "            return PersonException('No name defined')\n",
    "    def get_email(self):\n",
    "        if self.email:\n",
    "            return self.email\n",
    "        else: \n",
    "            return PersonException('No email defined')\n",
    "    \n",
    "    \n",
    "class PersonException(Exception):\n",
    "    '''\n",
    "    Object handling Person related errors\n",
    "    '''\n",
    "    pass\n",
    "\n",
    "class TeacherException(Exception):\n",
    "    '''\n",
    "    Object handling Teacher related errors\n",
    "    '''\n",
    "    pass\n",
    "\n",
    "class StudentException(Exception):\n",
    "    '''\n",
    "    Object handling Student related errors\n",
    "    '''\n",
    "    pass\n",
    "\n",
    "someone = Person('Name','email@somewhere.com')"
   ]
  },
  {
   "cell_type": "code",
   "execution_count": null,
   "metadata": {},
   "outputs": [],
   "source": [
    "someone"
   ]
  },
  {
   "cell_type": "code",
   "execution_count": null,
   "metadata": {},
   "outputs": [],
   "source": [
    "someone.describe()"
   ]
  },
  {
   "cell_type": "code",
   "execution_count": null,
   "metadata": {},
   "outputs": [],
   "source": [
    " class Teacher(Person):\n",
    "    '''\n",
    "    Teacher class inherits from Person and contains name, email and list of courses taught\n",
    "    '''\n",
    "    def __init__(self,name,email,teaching_courses):\n",
    "        '''\n",
    "        Teacher's constructor calls the Person's constructor first and then do his stuff\n",
    "        '''\n",
    "        super().__init__(name,email)\n",
    "        \n",
    "        if self._verify_courses(teaching_courses):\n",
    "            self.teaching_courses = teaching_courses\n",
    "        else:\n",
    "            raise TeacherException('Cannot validate courses.')\n",
    "    \n",
    "    def describe(self):\n",
    "        \"\"\" Overriding parent method \"\"\"\n",
    "        print('I am {}, my email is {} and I teach following courses: {}'.format(self.name,self.email,self.teaching_courses))\n",
    "    \n",
    "        \n",
    "class Student(Person):\n",
    "    '''\n",
    "    Student class inherits from Person and contains name, email and list of courses taught\n",
    "    '''\n",
    "    def __init__(self,name,email,studying_courses):\n",
    "        '''\n",
    "        Student's constructor calls the Person's constructor first and then do his stuff\n",
    "        '''\n",
    "        super().__init__(name,email)\n",
    "        \n",
    "        if self._verify_courses(studying_courses):\n",
    "            self.studying_courses = studying_courses\n",
    "        else:\n",
    "            raise StudentException('Cannot validate courses.')\n",
    "\n",
    "    def describe(self):\n",
    "        \"\"\" Overriding parent method \"\"\"\n",
    "        print(\"I am Vítek's student. My name is not important, although I have one. It will be important during the final evaluation though. I study following courses: {}\".format(self.studying_courses))\n",
    "        \n",
    "vitek = Teacher('Vítek','vitezkytek@gmail.com',['JEM207'])\n",
    "\n",
    "vitek.describe()"
   ]
  },
  {
   "cell_type": "code",
   "execution_count": null,
   "metadata": {},
   "outputs": [],
   "source": [
    "my_student = Student('Honza','honza@fsv.cuni.cz',['JEM20','JEB111'])\n",
    "my_student.describe()"
   ]
  },
  {
   "cell_type": "code",
   "execution_count": null,
   "metadata": {},
   "outputs": [],
   "source": [
    "my_student.get_name()"
   ]
  },
  {
   "cell_type": "code",
   "execution_count": null,
   "metadata": {},
   "outputs": [],
   "source": [
    "?Person"
   ]
  },
  {
   "cell_type": "code",
   "execution_count": null,
   "metadata": {},
   "outputs": [],
   "source": [
    "?Teacher"
   ]
  },
  {
   "cell_type": "markdown",
   "metadata": {},
   "source": [
    "### Robots.txt\n",
    "\n",
    "* Is it OK to scrape?\n",
    "* Guidance for search engines etc.\n"
   ]
  },
  {
   "cell_type": "markdown",
   "metadata": {},
   "source": [
    "https://www.promptcloud.com/blog/how-to-read-and-respect-robots-file/"
   ]
  },
  {
   "cell_type": "code",
   "execution_count": null,
   "metadata": {},
   "outputs": [],
   "source": [
    "requests.get('http://ies.fsv.cuni.cz/robots.txt')"
   ]
  },
  {
   "cell_type": "code",
   "execution_count": null,
   "metadata": {},
   "outputs": [],
   "source": [
    "print(requests.get('http://sreality.cz/robots.txt').text)"
   ]
  },
  {
   "cell_type": "markdown",
   "metadata": {},
   "source": [
    "## Task:\n",
    "* A parser of IES websites with following features:\n",
    "    * All info about people from [Internal faculty](http://ies.fsv.cuni.cz/en/node/48), [External lecturers](http://ies.fsv.cuni.cz/en/node/49), [Ph.D. candidates](http://ies.fsv.cuni.cz/en/node/51) and [Administration](http://ies.fsv.cuni.cz/en/node/50)\n",
    "    * All info about [all](http://ies.fsv.cuni.cz/en/node/109) theses between 1994 and 2019 won'be covered as we have problems with the website\n",
    "    * Also all courses! But no list of courses available ..."
   ]
  },
  {
   "cell_type": "markdown",
   "metadata": {},
   "source": [
    "## Pages\n",
    "\n",
    "### Find all persons?\n",
    "[Current faculty](http://ies.fsv.cuni.cz/en/node/48)"
   ]
  },
  {
   "cell_type": "markdown",
   "metadata": {},
   "source": [
    "1. understand structure of the website"
   ]
  },
  {
   "cell_type": "code",
   "execution_count": null,
   "metadata": {},
   "outputs": [],
   "source": [
    "def getSoup(link):\n",
    "    sleep(0.1) #to be kind to the website\n",
    "    r = requests.get(link)\n",
    "    r.encoding = 'UTF-8'\n",
    "    return BeautifulSoup(r.text,'lxml')"
   ]
  },
  {
   "cell_type": "code",
   "execution_count": null,
   "metadata": {},
   "outputs": [],
   "source": [
    "soup = getSoup('https://ies.fsv.cuni.cz/en/node/48')"
   ]
  },
  {
   "cell_type": "code",
   "execution_count": null,
   "metadata": {},
   "outputs": [],
   "source": [
    "names = soup.findAll('td', {'class':'peopleTableCellName'})\n",
    "names"
   ]
  },
  {
   "cell_type": "code",
   "execution_count": null,
   "metadata": {},
   "outputs": [],
   "source": [
    "def getAllLinks(link):\n",
    "    soup = getSoup(link)\n",
    "    tds = soup.findAll('td', {'class':'peopleTableCellName'})\n",
    "    return ['https://ies.fsv.cuni.cz' + td.find('a')['href'] for td in tds]\n",
    "\n",
    "links = getAllLinks('http://ies.fsv.cuni.cz/en/node/48')\n",
    "links"
   ]
  },
  {
   "cell_type": "markdown",
   "metadata": {},
   "source": [
    "## Person's characteristics?\n",
    "\n",
    "[A TEACHER!](https://ies.fsv.cuni.cz/en/staff/barunik)"
   ]
  },
  {
   "cell_type": "code",
   "execution_count": null,
   "metadata": {},
   "outputs": [],
   "source": [
    "def getName(link):\n",
    "    soup = getSoup(link)\n",
    "    return soup.find('h2').text.strip()\n",
    "if True:\n",
    "    names = [getName(link) for link in links]\n",
    "    names"
   ]
  },
  {
   "cell_type": "code",
   "execution_count": null,
   "metadata": {},
   "outputs": [],
   "source": [
    "names"
   ]
  },
  {
   "cell_type": "code",
   "execution_count": null,
   "metadata": {},
   "outputs": [],
   "source": [
    "soup = getSoup(links[0])\n",
    "node = soup.find('strong',text='Phone:')\n",
    "node.next_sibling.strip()"
   ]
  },
  {
   "cell_type": "code",
   "execution_count": null,
   "metadata": {},
   "outputs": [],
   "source": [
    "def getNextSiblingOfStrong(soup,characteristic):\n",
    "    strong = soup.find('strong',text=characteristic)\n",
    "    return strong.next_sibling.strip()\n",
    "getNextSiblingOfStrong(soup,'Phone:')"
   ]
  },
  {
   "cell_type": "code",
   "execution_count": null,
   "metadata": {},
   "outputs": [],
   "source": [
    "def getMoreCharacteristics(link, characteristics):\n",
    "    soup = getSoup(link)\n",
    "    return pd.Series({char.replace(':',''):getNextSiblingOfStrong(soup,char) for char in characteristics})\n",
    "\n",
    "#[getMoreCharacteristics(link,['Phone:','Office:','Position:']) for link in links[:2]]\n",
    "getMoreCharacteristics(links[0],['Phone:','Office:','Position:'])"
   ]
  },
  {
   "cell_type": "markdown",
   "metadata": {},
   "source": [
    "* Let's do an object!"
   ]
  },
  {
   "cell_type": "code",
   "execution_count": null,
   "metadata": {},
   "outputs": [],
   "source": [
    "class Person:\n",
    "    def __init__(self,link):\n",
    "        self.soup = getSoup(link)\n",
    "        self.name = self.getName()\n",
    "        self.office = self.getNextSiblingOfStrong('Office:')\n",
    "        self.phone = self.getNextSiblingOfStrong('Phone:')\n",
    "        \n",
    "    def getNextSiblingOfStrong(self, characteristic):\n",
    "        strong = self.soup.find('strong',text=characteristic)\n",
    "        return strong.next_sibling.strip()\n",
    "    \n",
    "    def getName(self):\n",
    "        return self.soup.find('h2').text\n",
    "    \n",
    "    def getCharacteristics(self):\n",
    "        return pd.Series({\n",
    "            'name':self.name,\n",
    "            'office':self.office,\n",
    "            'phone':self.phone\n",
    "        })\n",
    "\n",
    "people = [Person(link) for link in links[:2]]"
   ]
  },
  {
   "cell_type": "code",
   "execution_count": null,
   "metadata": {},
   "outputs": [],
   "source": [
    "[p.name for p in people]"
   ]
  },
  {
   "cell_type": "code",
   "execution_count": null,
   "metadata": {},
   "outputs": [],
   "source": [
    "#We still have raw data if needed!\n",
    "[p.soup.find('h2').text for p in people]"
   ]
  },
  {
   "cell_type": "code",
   "execution_count": null,
   "metadata": {},
   "outputs": [],
   "source": [
    "pd.DataFrame([p.getCharacteristics() for p in people])"
   ]
  },
  {
   "cell_type": "code",
   "execution_count": null,
   "metadata": {},
   "outputs": [],
   "source": []
  }
 ],
 "metadata": {
  "kernelspec": {
   "display_name": "PythonDataIES",
   "language": "python",
   "name": "pythondataies"
  },
  "language_info": {
   "codemirror_mode": {
    "name": "ipython",
    "version": 3
   },
   "file_extension": ".py",
   "mimetype": "text/x-python",
   "name": "python",
   "nbconvert_exporter": "python",
   "pygments_lexer": "ipython3",
   "version": "3.8.8"
  }
 },
 "nbformat": 4,
 "nbformat_minor": 4
}
