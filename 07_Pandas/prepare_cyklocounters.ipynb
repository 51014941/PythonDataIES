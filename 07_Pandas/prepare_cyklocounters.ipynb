{
 "cells": [
  {
   "cell_type": "markdown",
   "id": "earlier-eugene",
   "metadata": {},
   "source": [
    "### Definitions"
   ]
  },
  {
   "cell_type": "code",
   "execution_count": 7,
   "id": "sticky-transcript",
   "metadata": {},
   "outputs": [],
   "source": [
    "import pandas as pd\n",
    "from sqlalchemy import create_engine\n",
    "import os\n",
    "\n",
    "db = create_engine(os.environ['GOLEM_CONNSTRING'])"
   ]
  },
  {
   "cell_type": "markdown",
   "id": "chicken-posting",
   "metadata": {},
   "source": [
    "### Locations"
   ]
  },
  {
   "cell_type": "code",
   "execution_count": 8,
   "id": "built-success",
   "metadata": {},
   "outputs": [],
   "source": [
    "locations = pd.read_sql_query('''\n",
    "    select * from bicyclecounters_locations\n",
    "''',db).set_index('id')\n",
    "locations.reset_index().to_csv('csv/locations.csv', index=False)\n"
   ]
  },
  {
   "cell_type": "markdown",
   "id": "geological-injury",
   "metadata": {},
   "source": [
    "### Directions"
   ]
  },
  {
   "cell_type": "code",
   "execution_count": 9,
   "id": "greenhouse-empty",
   "metadata": {},
   "outputs": [],
   "source": [
    "directions = pd.read_sql_query('''\n",
    "    select * from bicyclecounters_directions\n",
    "''',db).set_index('id')\n",
    "directions.reset_index().to_csv('csv/directions.csv', index=False)\n"
   ]
  },
  {
   "cell_type": "markdown",
   "id": "dramatic-midnight",
   "metadata": {},
   "source": [
    "### Detections"
   ]
  },
  {
   "cell_type": "code",
   "execution_count": 10,
   "id": "charitable-plymouth",
   "metadata": {},
   "outputs": [],
   "source": [
    "det = pd.read_sql_query('''\n",
    "    select \n",
    "        date_trunc('day',to_timestamp(measured_from/1000)) as ts,\n",
    "        locations_id as loc_id,\n",
    "        directions_id as dir_id,\n",
    "        sum(value) as value\n",
    "    from public.bicyclecounters_detections\n",
    "    group by ts,loc_id,dir_id\n",
    "''',db)\n",
    "det['ts'] = pd.to_datetime(det.ts,utc=True)\n",
    "det.ts = det.ts.dt.tz_convert(tz='Europe/Prague').dt.tz_localize(None)"
   ]
  },
  {
   "cell_type": "code",
   "execution_count": 11,
   "id": "timely-combat",
   "metadata": {},
   "outputs": [],
   "source": [
    "det['location'] = det.loc_id.map(locations.name)\n",
    "det['direction'] = det.dir_id.map(directions.name)\n"
   ]
  },
  {
   "cell_type": "code",
   "execution_count": 12,
   "id": "sonic-bottom",
   "metadata": {},
   "outputs": [],
   "source": [
    "det = det.set_index(['location','direction','ts']).value\n",
    "\n",
    "det = det[~det.index.duplicated()]\n",
    "det.reset_index().to_csv('csv/detections.csv', index=False)"
   ]
  },
  {
   "cell_type": "code",
   "execution_count": null,
   "id": "conceptual-rebecca",
   "metadata": {},
   "outputs": [],
   "source": []
  }
 ],
 "metadata": {
  "kernelspec": {
   "display_name": "Python 3",
   "language": "python",
   "name": "python3"
  },
  "language_info": {
   "codemirror_mode": {
    "name": "ipython",
    "version": 3
   },
   "file_extension": ".py",
   "mimetype": "text/x-python",
   "name": "python",
   "nbconvert_exporter": "python",
   "pygments_lexer": "ipython3",
   "version": "3.8.8"
  }
 },
 "nbformat": 4,
 "nbformat_minor": 5
}
