{
 "cells": [
  {
   "cell_type": "markdown",
   "id": "killing-cornwall",
   "metadata": {},
   "source": [
    "### Definitions"
   ]
  },
  {
   "cell_type": "code",
   "execution_count": 1,
   "id": "democratic-madrid",
   "metadata": {},
   "outputs": [],
   "source": [
    "import pandas as pd\n",
    "from sqlalchemy import create_engine\n",
    "import os\n",
    "\n",
    "db = create_engine(os.environ['RABIN_CONNSTRING'])"
   ]
  },
  {
   "cell_type": "markdown",
   "id": "wrapped-shareware",
   "metadata": {},
   "source": [
    "### Locations"
   ]
  },
  {
   "cell_type": "code",
   "execution_count": 2,
   "id": "external-blond",
   "metadata": {},
   "outputs": [],
   "source": [
    "locations = pd.read_sql_query('''\n",
    "    select * from bicyclecounters_locations\n",
    "''',db).set_index('id')\n",
    "locations.reset_index().to_csv('csv/locations.csv', index=False)\n"
   ]
  },
  {
   "cell_type": "markdown",
   "id": "sufficient-coordination",
   "metadata": {},
   "source": [
    "### Directions"
   ]
  },
  {
   "cell_type": "code",
   "execution_count": 4,
   "id": "requested-turning",
   "metadata": {},
   "outputs": [],
   "source": [
    "directions = pd.read_sql_query('''\n",
    "    select * from bicyclecounters_directions\n",
    "''',db).set_index('id')\n",
    "directions.reset_index().to_csv('csv/directions.csv', index=False)\n"
   ]
  },
  {
   "cell_type": "markdown",
   "id": "twenty-rehabilitation",
   "metadata": {},
   "source": [
    "### Detections"
   ]
  },
  {
   "cell_type": "code",
   "execution_count": 19,
   "id": "outside-sessions",
   "metadata": {},
   "outputs": [],
   "source": [
    "det = pd.read_sql_query('''\n",
    "    select \n",
    "        date_trunc('day',to_timestamp(measured_from/1000)) as ts,\n",
    "        locations_id as loc_id,\n",
    "        directions_id as dir_id,\n",
    "        sum(value) as value\n",
    "    from public.bicyclecounters_detections\n",
    "    group by ts,loc_id,dir_id\n",
    "''',db)\n",
    "det['ts'] = pd.to_datetime(det.ts,utc=True)\n",
    "det.ts = det.ts.dt.tz_convert(tz='Europe/Prague').dt.tz_localize(None)"
   ]
  },
  {
   "cell_type": "code",
   "execution_count": 20,
   "id": "behind-virginia",
   "metadata": {},
   "outputs": [],
   "source": [
    "det['location'] = det.loc_id.map(locations.name)\n",
    "det['direction'] = det.dir_id.map(directions.name)\n"
   ]
  },
  {
   "cell_type": "code",
   "execution_count": 21,
   "id": "negative-typing",
   "metadata": {},
   "outputs": [],
   "source": [
    "det = det.set_index(['location','direction','ts']).value\n",
    "\n",
    "det = det[~det.index.duplicated()]\n",
    "det.reset_index().to_csv('csv/detections.csv', index=False)"
   ]
  },
  {
   "cell_type": "code",
   "execution_count": null,
   "id": "regulation-correspondence",
   "metadata": {},
   "outputs": [],
   "source": []
  }
 ],
 "metadata": {
  "kernelspec": {
   "display_name": "PythonDataIES",
   "language": "python",
   "name": "pythondataies"
  },
  "language_info": {
   "codemirror_mode": {
    "name": "ipython",
    "version": 3
   },
   "file_extension": ".py",
   "mimetype": "text/x-python",
   "name": "python",
   "nbconvert_exporter": "python",
   "pygments_lexer": "ipython3",
   "version": "3.8.8"
  }
 },
 "nbformat": 4,
 "nbformat_minor": 5
}
