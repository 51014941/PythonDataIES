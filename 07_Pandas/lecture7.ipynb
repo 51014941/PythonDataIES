{
 "cells": [
  {
   "cell_type": "code",
   "execution_count": 1,
   "metadata": {},
   "outputs": [],
   "source": [
    "import pandas as pd\n",
    "import numpy as np\n",
    "import matplotlib.pyplot as plt\n",
    "\n",
    "import os\n",
    "idx = pd.IndexSlice\n",
    "\n",
    "plotconfig = {\n",
    "    'style':'.',\n",
    "    'ylim':(0,2000),\n",
    "    'xlim':('2018-01-01','2021-01-01'),\n",
    "    'grid':True,\n",
    "    'markersize':5,\n",
    "    'figsize':(20,6)\n",
    "}\n",
    "\n",
    "locations = pd.read_csv('csv/locations.csv',index_col='name')\n",
    "directions = pd.read_csv('csv/directions.csv',index_col='name')\n",
    "\n",
    "detections = pd.read_csv('csv/detections.csv',index_col=['location','direction','ts'],parse_dates=True).value.sort_index()\n",
    "\n",
    "def series_for_direction(detections,location,direction):\n",
    "    return detections.loc[(location, direction)].rename((location, direction))\n",
    "\n",
    "series = series_for_direction(detections,'Podolské nábřeží - stezka','do centra (Výtoň)')\n",
    "another = series_for_direction(detections,'Podolské nábřeží - stezka','z centra (Braník)')"
   ]
  },
  {
   "cell_type": "markdown",
   "metadata": {},
   "source": [
    "# Lecture 7 - Pandas\n",
    "\n",
    "by Vítek Macháček, inspired by Martin Hronec\n",
    "\n",
    "* Pan(el) Da(ta)\n",
    "* go-to package for data analysis in Python\n",
    "* designed for working with \"labeled\" (relational data)\n",
    "* developed by Wes McKinney in 2008 while at AQR Capital Management out of the need for a tool to perform quantitative analysis on financial data (convinced AQR to open-source it)\n",
    "\n",
    "* two primary data structures:\n",
    "    * *Series* (1D labeled homogeneously-typed array)\n",
    "    * *DataFrame* (2D labeled, tabular structure with potentially heterogeneously-typed column)\n",
    "\n",
    "* built on top of NumPy\n",
    "* Most of your python data work will start and many of it will end in Pandas.\n",
    "* Huge ecosystem that built around "
   ]
  },
  {
   "cell_type": "markdown",
   "metadata": {},
   "source": [
    "Here are just a few of the things that pandas does well:\n",
    "\n",
    "* Easy handling of missing data (represented as NaN) in floating point as well as non-floating point data\n",
    "\n",
    "* Size mutability: columns can be inserted and deleted from DataFrame and higher dimensional objects\n",
    "\n",
    "* Automatic and explicit data alignment: objects can be explicitly aligned to a set of labels, or the user can simply ignore the labels and let Series, DataFrame, etc. automatically align the data for you in computations\n",
    "\n",
    "* Powerful, flexible group by functionality to perform split-apply-combine operations on data sets, for both aggregating and transforming data\n",
    "\n",
    "* Make it easy to convert ragged, differently-indexed data in other Python and NumPy data structures into DataFrame objects\n",
    "\n",
    "* Intelligent label-based slicing, fancy indexing, and subsetting of large data sets\n",
    "\n",
    "* Intuitive merging and joining data sets\n",
    "\n",
    "* Flexible reshaping and pivoting of data sets\n",
    "\n",
    "* Hierarchical labeling of axes (possible to have multiple labels per tick)\n",
    "\n",
    "* Robust IO tools for loading data from flat files (CSV and delimited), Excel files, databases, and saving / loading data from the ultrafast HDF5 format\n",
    "\n",
    "* Time series-specific functionality: date range generation and frequency conversion, moving window statistics, date shifting and lagging.\n",
    "\n"
   ]
  },
  {
   "cell_type": "markdown",
   "metadata": {},
   "source": [
    "## `pd.Series` - labelled 1D object\n",
    "\n",
    "###  Construction\n",
    "\n",
    "Series can be created using:\n",
    "* `dict`\n",
    "\n",
    "\n",
    "```python \n",
    "pd.Series({'Vítek':31,'Martin':30, 'Honza':30})\n",
    "```\n",
    "\n",
    "* `list`, `tuple` or `np.array`\n",
    "\n",
    "\n",
    "```python \n",
    "pd.Series(np.random.randint(100,size=(10,)),index=[f'Person {i}' for i in range(10)],name='Age')\n",
    "```\n",
    "\n",
    "* scalar\n",
    "\n",
    "```python\n",
    "pd.Series(np.nan,index=['Vítek','Martin','Honza'],name='NANs')\n",
    "```\n",
    "\n",
    "Main features:\n",
    "\n",
    "* `values` - collection of measurements, categories etc.\n",
    "* `name` - column name\n",
    "* `dtype` - datatype - `int`,`float`,`pd.Timestamp`,`object`\n",
    "* `shape`"
   ]
  },
  {
   "cell_type": "code",
   "execution_count": 5,
   "metadata": {},
   "outputs": [
    {
     "data": {
      "text/plain": [
       "0.029321008980874308"
      ]
     },
     "execution_count": 5,
     "metadata": {},
     "output_type": "execute_result"
    }
   ],
   "source": [
    "import random\n",
    "random.random()"
   ]
  },
  {
   "cell_type": "code",
   "execution_count": 12,
   "metadata": {},
   "outputs": [
    {
     "data": {
      "text/plain": [
       "ts\n",
       "2018-01-01     115.0\n",
       "2018-01-02     190.0\n",
       "2018-01-03      72.0\n",
       "2018-01-04     149.0\n",
       "2018-01-05     155.0\n",
       "               ...  \n",
       "2021-03-23     371.0\n",
       "2021-03-24     668.0\n",
       "2021-03-25     971.0\n",
       "2021-03-26    1142.0\n",
       "2021-03-27     103.0\n",
       "Name: (Podolské nábřeží - stezka, do centra (Výtoň)), Length: 1182, dtype: float64"
      ]
     },
     "execution_count": 12,
     "metadata": {},
     "output_type": "execute_result"
    }
   ],
   "source": [
    "series#.plot()"
   ]
  },
  {
   "cell_type": "markdown",
   "metadata": {},
   "source": [
    "`name`"
   ]
  },
  {
   "cell_type": "code",
   "execution_count": 13,
   "metadata": {},
   "outputs": [
    {
     "data": {
      "text/plain": [
       "('Podolské nábřeží - stezka', 'do centra (Výtoň)')"
      ]
     },
     "execution_count": 13,
     "metadata": {},
     "output_type": "execute_result"
    }
   ],
   "source": [
    "series.name"
   ]
  },
  {
   "cell_type": "markdown",
   "metadata": {},
   "source": [
    "`values`"
   ]
  },
  {
   "cell_type": "code",
   "execution_count": 16,
   "metadata": {},
   "outputs": [
    {
     "data": {
      "text/plain": [
       "array([ 115.,  190.,   72., ...,  971., 1142.,  103.])"
      ]
     },
     "execution_count": 16,
     "metadata": {},
     "output_type": "execute_result"
    }
   ],
   "source": [
    "series.values"
   ]
  },
  {
   "cell_type": "markdown",
   "metadata": {},
   "source": [
    "`index`"
   ]
  },
  {
   "cell_type": "code",
   "execution_count": 17,
   "metadata": {},
   "outputs": [
    {
     "data": {
      "text/plain": [
       "DatetimeIndex(['2018-01-01', '2018-01-02', '2018-01-03', '2018-01-04',\n",
       "               '2018-01-05', '2018-01-06', '2018-01-07', '2018-01-08',\n",
       "               '2018-01-09', '2018-01-10',\n",
       "               ...\n",
       "               '2021-03-18', '2021-03-19', '2021-03-20', '2021-03-21',\n",
       "               '2021-03-22', '2021-03-23', '2021-03-24', '2021-03-25',\n",
       "               '2021-03-26', '2021-03-27'],\n",
       "              dtype='datetime64[ns]', name='ts', length=1182, freq=None)"
      ]
     },
     "execution_count": 17,
     "metadata": {},
     "output_type": "execute_result"
    }
   ],
   "source": [
    "series.index"
   ]
  },
  {
   "cell_type": "markdown",
   "metadata": {},
   "source": [
    "`dtype`"
   ]
  },
  {
   "cell_type": "code",
   "execution_count": 18,
   "metadata": {},
   "outputs": [
    {
     "data": {
      "text/plain": [
       "dtype('float64')"
      ]
     },
     "execution_count": 18,
     "metadata": {},
     "output_type": "execute_result"
    }
   ],
   "source": [
    "series.dtype"
   ]
  },
  {
   "cell_type": "markdown",
   "metadata": {},
   "source": [
    "`shape`"
   ]
  },
  {
   "cell_type": "code",
   "execution_count": 19,
   "metadata": {},
   "outputs": [
    {
     "data": {
      "text/plain": [
       "(1182,)"
      ]
     },
     "execution_count": 19,
     "metadata": {},
     "output_type": "execute_result"
    }
   ],
   "source": [
    "series.shape"
   ]
  },
  {
   "cell_type": "markdown",
   "metadata": {},
   "source": [
    "## Args/Kwargs"
   ]
  },
  {
   "cell_type": "code",
   "execution_count": 21,
   "metadata": {},
   "outputs": [
    {
     "data": {
      "text/plain": [
       "{'style': '.',\n",
       " 'ylim': (0, 2000),\n",
       " 'xlim': ('2018-01-01', '2021-01-01'),\n",
       " 'grid': True,\n",
       " 'markersize': 5,\n",
       " 'figsize': (20, 6)}"
      ]
     },
     "execution_count": 21,
     "metadata": {},
     "output_type": "execute_result"
    }
   ],
   "source": [
    "plotconfig"
   ]
  },
  {
   "cell_type": "code",
   "execution_count": 20,
   "metadata": {},
   "outputs": [
    {
     "data": {
      "image/png": "[encoded data removed]",
      "text/plain": [
       "<Figure size 1440x432 with 1 Axes>"
      ]
     },
     "metadata": {
      "needs_background": "light"
     },
     "output_type": "display_data"
    }
   ],
   "source": [
    "series.plot(**plotconfig);"
   ]
  },
  {
   "cell_type": "code",
   "execution_count": 27,
   "metadata": {},
   "outputs": [
    {
     "data": {
      "text/plain": [
       "ts\n",
       "2018-01-01     207.0\n",
       "2018-01-02     318.0\n",
       "2018-01-03     134.0\n",
       "2018-01-04     261.0\n",
       "2018-01-05     280.0\n",
       "               ...  \n",
       "2021-03-23     652.0\n",
       "2021-03-24    1112.0\n",
       "2021-03-25    1607.0\n",
       "2021-03-26    1940.0\n",
       "2021-03-27     242.0\n",
       "Length: 1182, dtype: float64"
      ]
     },
     "execution_count": 27,
     "metadata": {},
     "output_type": "execute_result"
    }
   ],
   "source": [
    "series.add(another) # series + another"
   ]
  },
  {
   "cell_type": "markdown",
   "metadata": {},
   "source": [
    "## Indexing data\n",
    "### Using `loc` - select using `index`"
   ]
  },
  {
   "cell_type": "code",
   "execution_count": 33,
   "metadata": {},
   "outputs": [
    {
     "data": {
      "text/plain": [
       "185.0"
      ]
     },
     "execution_count": 33,
     "metadata": {},
     "output_type": "execute_result"
    }
   ],
   "source": [
    "series['2020-12-24']"
   ]
  },
  {
   "cell_type": "code",
   "execution_count": 30,
   "metadata": {},
   "outputs": [
    {
     "data": {
      "text/plain": [
       "ts\n",
       "2019-01-01    102.0\n",
       "2019-01-02     89.0\n",
       "2019-01-03     90.0\n",
       "2019-01-04     57.0\n",
       "2019-01-05     48.0\n",
       "              ...  \n",
       "2019-12-27      0.0\n",
       "2019-12-28      0.0\n",
       "2019-12-29      0.0\n",
       "2019-12-30      0.0\n",
       "2019-12-31      0.0\n",
       "Name: (Podolské nábřeží - stezka, do centra (Výtoň)), Length: 365, dtype: float64"
      ]
     },
     "execution_count": 30,
     "metadata": {},
     "output_type": "execute_result"
    }
   ],
   "source": [
    "series.loc['2019-01-01':'2019-12-31']"
   ]
  },
  {
   "cell_type": "code",
   "execution_count": 31,
   "metadata": {},
   "outputs": [
    {
     "data": {
      "text/plain": [
       "ts\n",
       "2018-01-01     115.0\n",
       "2018-02-01      55.0\n",
       "2018-03-01      72.0\n",
       "2018-04-01     188.0\n",
       "2018-05-01    1171.0\n",
       "2018-06-01     783.0\n",
       "2018-07-01     847.0\n",
       "2018-08-01     987.0\n",
       "2018-09-01     129.0\n",
       "2018-10-01     307.0\n",
       "2018-11-01     438.0\n",
       "2018-12-01      21.0\n",
       "2019-01-01     102.0\n",
       "2019-02-01     111.0\n",
       "2019-03-01     175.0\n",
       "2019-04-01     497.0\n",
       "2019-05-01     739.0\n",
       "2019-06-01    1153.0\n",
       "2019-07-01     286.0\n",
       "2019-08-01    1171.0\n",
       "2019-09-01     595.0\n",
       "2019-10-01     625.0\n",
       "2019-11-01       0.0\n",
       "2019-12-01       0.0\n",
       "2020-01-01       0.0\n",
       "2020-02-01     112.0\n",
       "2020-03-01     177.0\n",
       "2020-04-01     286.0\n",
       "2020-05-01     643.0\n",
       "2020-06-01    1210.0\n",
       "2020-07-01    1335.0\n",
       "2020-08-01       0.0\n",
       "2020-09-01       8.0\n",
       "2020-10-01      18.0\n",
       "2020-11-01     281.0\n",
       "2020-12-01     379.0\n",
       "Name: (Podolské nábřeží - stezka, do centra (Výtoň)), dtype: float64"
      ]
     },
     "execution_count": 31,
     "metadata": {},
     "output_type": "execute_result"
    }
   ],
   "source": [
    "series.loc[[f'{year}-{month:02}-01' for year in range(2018,2021) for month in range(1,13)]]"
   ]
  },
  {
   "cell_type": "code",
   "execution_count": null,
   "metadata": {},
   "outputs": [],
   "source": [
    "series.loc['2020-03-01':'2020-06-01']"
   ]
  },
  {
   "cell_type": "code",
   "execution_count": 32,
   "metadata": {},
   "outputs": [],
   "source": [
    "series.loc['2021-03-28'] = 450"
   ]
  },
  {
   "cell_type": "markdown",
   "metadata": {},
   "source": [
    "### Using `iloc` - select by order in the series. Try to avoid."
   ]
  },
  {
   "cell_type": "code",
   "execution_count": 34,
   "metadata": {},
   "outputs": [
    {
     "data": {
      "text/plain": [
       "115.0"
      ]
     },
     "execution_count": 34,
     "metadata": {},
     "output_type": "execute_result"
    }
   ],
   "source": [
    "series.iloc[0]"
   ]
  },
  {
   "cell_type": "code",
   "execution_count": null,
   "metadata": {},
   "outputs": [],
   "source": [
    "series.iloc[-1]"
   ]
  },
  {
   "cell_type": "markdown",
   "metadata": {},
   "source": [
    "### subsetting using `mask` - conditional on value of series"
   ]
  },
  {
   "cell_type": "code",
   "execution_count": 35,
   "metadata": {},
   "outputs": [
    {
     "data": {
      "text/plain": [
       "ts\n",
       "2018-01-01     115.0\n",
       "2018-01-02     190.0\n",
       "2018-01-03      72.0\n",
       "2018-01-04     149.0\n",
       "2018-01-05     155.0\n",
       "               ...  \n",
       "2021-03-24     668.0\n",
       "2021-03-25     971.0\n",
       "2021-03-26    1142.0\n",
       "2021-03-27     103.0\n",
       "2021-03-28     450.0\n",
       "Name: (Podolské nábřeží - stezka, do centra (Výtoň)), Length: 1183, dtype: float64"
      ]
     },
     "execution_count": 35,
     "metadata": {},
     "output_type": "execute_result"
    }
   ],
   "source": [
    "series"
   ]
  },
  {
   "cell_type": "code",
   "execution_count": null,
   "metadata": {},
   "outputs": [],
   "source": [
    "series.index"
   ]
  },
  {
   "cell_type": "code",
   "execution_count": 45,
   "metadata": {},
   "outputs": [
    {
     "data": {
      "text/plain": [
       "<AxesSubplot:xlabel='ts'>"
      ]
     },
     "execution_count": 45,
     "metadata": {},
     "output_type": "execute_result"
    },
    {
     "data": {
      "image/png": "[encoded data removed]",
      "text/plain": [
       "<Figure size 1440x432 with 1 Axes>"
      ]
     },
     "metadata": {
      "needs_background": "light"
     },
     "output_type": "display_data"
    }
   ],
   "source": [
    "ax = series.plot(color = 'lightgrey',label='other values',legend=True,**plotconfig)\n",
    "series[(series >= 500) & (series < 750)].plot(ax=ax,label='Values between 500 and 750',legend=True,**plotconfig)\n",
    "series[series.index.weekday == 6].plot(ax=ax,label='Sunday observations',legend=True,**plotconfig)"
   ]
  },
  {
   "cell_type": "code",
   "execution_count": 39,
   "metadata": {},
   "outputs": [
    {
     "data": {
      "text/plain": [
       "ts\n",
       "2018-03-11     560.0\n",
       "2018-04-03     675.0\n",
       "2018-04-04     927.0\n",
       "2018-04-05     593.0\n",
       "2018-04-06     684.0\n",
       "               ...  \n",
       "2021-03-13     510.0\n",
       "2021-03-14     575.0\n",
       "2021-03-24     668.0\n",
       "2021-03-25     971.0\n",
       "2021-03-26    1142.0\n",
       "Name: (Podolské nábřeží - stezka, do centra (Výtoň)), Length: 466, dtype: float64"
      ]
     },
     "execution_count": 39,
     "metadata": {},
     "output_type": "execute_result"
    }
   ],
   "source": [
    "series[series>=500]"
   ]
  },
  {
   "cell_type": "code",
   "execution_count": 37,
   "metadata": {},
   "outputs": [
    {
     "data": {
      "text/plain": [
       "ts\n",
       "2018-01-01    False\n",
       "2018-01-02    False\n",
       "2018-01-03    False\n",
       "2018-01-04    False\n",
       "2018-01-05    False\n",
       "              ...  \n",
       "2021-03-24     True\n",
       "2021-03-25    False\n",
       "2021-03-26    False\n",
       "2021-03-27    False\n",
       "2021-03-28    False\n",
       "Name: (Podolské nábřeží - stezka, do centra (Výtoň)), Length: 1183, dtype: bool"
      ]
     },
     "execution_count": 37,
     "metadata": {},
     "output_type": "execute_result"
    }
   ],
   "source": [
    "(series >= 500) & (series < 750)"
   ]
  },
  {
   "cell_type": "code",
   "execution_count": 42,
   "metadata": {},
   "outputs": [
    {
     "data": {
      "text/plain": [
       "Int64Index([0, 1, 2, 3, 4, 5, 6, 0, 1, 2,\n",
       "            ...\n",
       "            4, 5, 6, 0, 1, 2, 3, 4, 5, 6],\n",
       "           dtype='int64', name='ts', length=1183)"
      ]
     },
     "execution_count": 42,
     "metadata": {},
     "output_type": "execute_result"
    }
   ],
   "source": [
    "series.index.weekday"
   ]
  },
  {
   "cell_type": "code",
   "execution_count": 44,
   "metadata": {},
   "outputs": [
    {
     "data": {
      "text/plain": [
       "ts\n",
       "2018-01-07    109.0\n",
       "2018-01-14     75.0\n",
       "2018-01-21     53.0\n",
       "2018-01-28     97.0\n",
       "2018-02-04     70.0\n",
       "              ...  \n",
       "2021-02-28    612.0\n",
       "2021-03-07    829.0\n",
       "2021-03-14    575.0\n",
       "2021-03-21    253.0\n",
       "2021-03-28    450.0\n",
       "Name: (Podolské nábřeží - stezka, do centra (Výtoň)), Length: 169, dtype: float64"
      ]
     },
     "execution_count": 44,
     "metadata": {},
     "output_type": "execute_result"
    }
   ],
   "source": [
    "series[series.index.weekday == 6]"
   ]
  },
  {
   "cell_type": "markdown",
   "metadata": {
    "tags": []
   },
   "source": [
    "## `pd.DataFrame()` - 2D, more `pd.Series`"
   ]
  },
  {
   "cell_type": "code",
   "execution_count": 48,
   "metadata": {},
   "outputs": [
    {
     "data": {
      "text/plain": [
       "ts\n",
       "2018-01-01     92.0\n",
       "2018-01-02    128.0\n",
       "2018-01-03     62.0\n",
       "2018-01-04    112.0\n",
       "2018-01-05    125.0\n",
       "              ...  \n",
       "2021-03-23    281.0\n",
       "2021-03-24    444.0\n",
       "2021-03-25    636.0\n",
       "2021-03-26    798.0\n",
       "2021-03-27    139.0\n",
       "Name: (Podolské nábřeží - stezka, z centra (Braník)), Length: 1182, dtype: float64"
      ]
     },
     "execution_count": 48,
     "metadata": {},
     "output_type": "execute_result"
    }
   ],
   "source": [
    "another"
   ]
  },
  {
   "cell_type": "code",
   "execution_count": 49,
   "metadata": {},
   "outputs": [
    {
     "data": {
      "text/plain": [
       "<AxesSubplot:xlabel='ts'>"
      ]
     },
     "execution_count": 49,
     "metadata": {},
     "output_type": "execute_result"
    },
    {
     "data": {
      "image/png": "[encoded data removed]",
      "text/plain": [
       "<Figure size 1440x432 with 1 Axes>"
      ]
     },
     "metadata": {
      "needs_background": "light"
     },
     "output_type": "display_data"
    }
   ],
   "source": [
    "df = pd.DataFrame([series,another]).T\n",
    "df.columns = [col[1] for col in df.columns]\n",
    "df.plot(**plotconfig)"
   ]
  },
  {
   "cell_type": "code",
   "execution_count": 55,
   "metadata": {},
   "outputs": [
    {
     "data": {
      "text/html": [
       "<div>\n",
       "<style scoped>\n",
       "    .dataframe tbody tr th:only-of-type {\n",
       "        vertical-align: middle;\n",
       "    }\n",
       "\n",
       "    .dataframe tbody tr th {\n",
       "        vertical-align: top;\n",
       "    }\n",
       "\n",
       "    .dataframe thead tr th {\n",
       "        text-align: left;\n",
       "    }\n",
       "\n",
       "    .dataframe thead tr:last-of-type th {\n",
       "        text-align: right;\n",
       "    }\n",
       "</style>\n",
       "<table border=\"1\" class=\"dataframe\">\n",
       "  <thead>\n",
       "    <tr>\n",
       "      <th></th>\n",
       "      <th colspan=\"2\" halign=\"left\">Podolské nábřeží - stezka</th>\n",
       "    </tr>\n",
       "    <tr>\n",
       "      <th></th>\n",
       "      <th>do centra (Výtoň)</th>\n",
       "      <th>z centra (Braník)</th>\n",
       "    </tr>\n",
       "    <tr>\n",
       "      <th>ts</th>\n",
       "      <th></th>\n",
       "      <th></th>\n",
       "    </tr>\n",
       "  </thead>\n",
       "  <tbody>\n",
       "    <tr>\n",
       "      <th>2018-01-01</th>\n",
       "      <td>115.0</td>\n",
       "      <td>92.0</td>\n",
       "    </tr>\n",
       "    <tr>\n",
       "      <th>2018-01-02</th>\n",
       "      <td>190.0</td>\n",
       "      <td>128.0</td>\n",
       "    </tr>\n",
       "    <tr>\n",
       "      <th>2018-01-03</th>\n",
       "      <td>72.0</td>\n",
       "      <td>62.0</td>\n",
       "    </tr>\n",
       "    <tr>\n",
       "      <th>2018-01-04</th>\n",
       "      <td>149.0</td>\n",
       "      <td>112.0</td>\n",
       "    </tr>\n",
       "    <tr>\n",
       "      <th>2018-01-05</th>\n",
       "      <td>155.0</td>\n",
       "      <td>125.0</td>\n",
       "    </tr>\n",
       "    <tr>\n",
       "      <th>...</th>\n",
       "      <td>...</td>\n",
       "      <td>...</td>\n",
       "    </tr>\n",
       "    <tr>\n",
       "      <th>2021-03-24</th>\n",
       "      <td>668.0</td>\n",
       "      <td>444.0</td>\n",
       "    </tr>\n",
       "    <tr>\n",
       "      <th>2021-03-25</th>\n",
       "      <td>971.0</td>\n",
       "      <td>636.0</td>\n",
       "    </tr>\n",
       "    <tr>\n",
       "      <th>2021-03-26</th>\n",
       "      <td>1142.0</td>\n",
       "      <td>798.0</td>\n",
       "    </tr>\n",
       "    <tr>\n",
       "      <th>2021-03-27</th>\n",
       "      <td>103.0</td>\n",
       "      <td>139.0</td>\n",
       "    </tr>\n",
       "    <tr>\n",
       "      <th>2021-03-28</th>\n",
       "      <td>450.0</td>\n",
       "      <td>NaN</td>\n",
       "    </tr>\n",
       "  </tbody>\n",
       "</table>\n",
       "<p>1183 rows × 2 columns</p>\n",
       "</div>"
      ],
      "text/plain": [
       "           Podolské nábřeží - stezka                  \n",
       "                   do centra (Výtoň) z centra (Braník)\n",
       "ts                                                    \n",
       "2018-01-01                     115.0              92.0\n",
       "2018-01-02                     190.0             128.0\n",
       "2018-01-03                      72.0              62.0\n",
       "2018-01-04                     149.0             112.0\n",
       "2018-01-05                     155.0             125.0\n",
       "...                              ...               ...\n",
       "2021-03-24                     668.0             444.0\n",
       "2021-03-25                     971.0             636.0\n",
       "2021-03-26                    1142.0             798.0\n",
       "2021-03-27                     103.0             139.0\n",
       "2021-03-28                     450.0               NaN\n",
       "\n",
       "[1183 rows x 2 columns]"
      ]
     },
     "execution_count": 55,
     "metadata": {},
     "output_type": "execute_result"
    }
   ],
   "source": [
    "pd.DataFrame({ser.name:ser for ser in [series,another]})"
   ]
  },
  {
   "cell_type": "markdown",
   "metadata": {},
   "source": [
    "## DataFrame construction from raw data:\n",
    "\n",
    "### row-wise: `list` into `pd.DataFrame`\n",
    "Each member of the list is one row\n",
    "\n",
    "* iterable with values\n",
    "* `pd.Series`\n",
    "* `dict`\n",
    "\n",
    "### column-wise `dict` into `pd.DataFrame`\n",
    "**key** is the column name\n",
    "\n",
    "**value** is the content\n",
    "\n",
    "expected key values:\n",
    "* `list`\n",
    "* `pd.Series`\n",
    "* `1D np.array` etc."
   ]
  },
  {
   "cell_type": "code",
   "execution_count": 56,
   "metadata": {},
   "outputs": [
    {
     "data": {
      "text/html": [
       "<div>\n",
       "<style scoped>\n",
       "    .dataframe tbody tr th:only-of-type {\n",
       "        vertical-align: middle;\n",
       "    }\n",
       "\n",
       "    .dataframe tbody tr th {\n",
       "        vertical-align: top;\n",
       "    }\n",
       "\n",
       "    .dataframe thead th {\n",
       "        text-align: right;\n",
       "    }\n",
       "</style>\n",
       "<table border=\"1\" class=\"dataframe\">\n",
       "  <thead>\n",
       "    <tr style=\"text-align: right;\">\n",
       "      <th></th>\n",
       "      <th>do centra (Výtoň)</th>\n",
       "      <th>z centra (Braník)</th>\n",
       "    </tr>\n",
       "    <tr>\n",
       "      <th>ts</th>\n",
       "      <th></th>\n",
       "      <th></th>\n",
       "    </tr>\n",
       "  </thead>\n",
       "  <tbody>\n",
       "    <tr>\n",
       "      <th>2021-03-24</th>\n",
       "      <td>668.0</td>\n",
       "      <td>444.0</td>\n",
       "    </tr>\n",
       "    <tr>\n",
       "      <th>2021-03-25</th>\n",
       "      <td>971.0</td>\n",
       "      <td>636.0</td>\n",
       "    </tr>\n",
       "    <tr>\n",
       "      <th>2021-03-26</th>\n",
       "      <td>1142.0</td>\n",
       "      <td>798.0</td>\n",
       "    </tr>\n",
       "    <tr>\n",
       "      <th>2021-03-27</th>\n",
       "      <td>103.0</td>\n",
       "      <td>139.0</td>\n",
       "    </tr>\n",
       "    <tr>\n",
       "      <th>2021-03-28</th>\n",
       "      <td>450.0</td>\n",
       "      <td>NaN</td>\n",
       "    </tr>\n",
       "  </tbody>\n",
       "</table>\n",
       "</div>"
      ],
      "text/plain": [
       "            do centra (Výtoň)  z centra (Braník)\n",
       "ts                                              \n",
       "2021-03-24              668.0              444.0\n",
       "2021-03-25              971.0              636.0\n",
       "2021-03-26             1142.0              798.0\n",
       "2021-03-27              103.0              139.0\n",
       "2021-03-28              450.0                NaN"
      ]
     },
     "execution_count": 56,
     "metadata": {},
     "output_type": "execute_result"
    }
   ],
   "source": [
    "df.tail()"
   ]
  },
  {
   "cell_type": "code",
   "execution_count": 57,
   "metadata": {},
   "outputs": [
    {
     "data": {
      "text/plain": [
       "(1183, 2)"
      ]
     },
     "execution_count": 57,
     "metadata": {},
     "output_type": "execute_result"
    }
   ],
   "source": [
    "df.shape"
   ]
  },
  {
   "cell_type": "code",
   "execution_count": 58,
   "metadata": {},
   "outputs": [
    {
     "data": {
      "text/plain": [
       "DatetimeIndex(['2018-01-01', '2018-01-02', '2018-01-03', '2018-01-04',\n",
       "               '2018-01-05', '2018-01-06', '2018-01-07', '2018-01-08',\n",
       "               '2018-01-09', '2018-01-10',\n",
       "               ...\n",
       "               '2021-03-19', '2021-03-20', '2021-03-21', '2021-03-22',\n",
       "               '2021-03-23', '2021-03-24', '2021-03-25', '2021-03-26',\n",
       "               '2021-03-27', '2021-03-28'],\n",
       "              dtype='datetime64[ns]', name='ts', length=1183, freq='D')"
      ]
     },
     "execution_count": 58,
     "metadata": {},
     "output_type": "execute_result"
    }
   ],
   "source": [
    "df.index"
   ]
  },
  {
   "cell_type": "code",
   "execution_count": 59,
   "metadata": {},
   "outputs": [
    {
     "data": {
      "text/plain": [
       "Index(['do centra (Výtoň)', 'z centra (Braník)'], dtype='object')"
      ]
     },
     "execution_count": 59,
     "metadata": {},
     "output_type": "execute_result"
    }
   ],
   "source": [
    "df.columns"
   ]
  },
  {
   "cell_type": "code",
   "execution_count": 60,
   "metadata": {},
   "outputs": [
    {
     "data": {
      "text/plain": [
       "do centra (Výtoň)    float64\n",
       "z centra (Braník)    float64\n",
       "dtype: object"
      ]
     },
     "execution_count": 60,
     "metadata": {},
     "output_type": "execute_result"
    }
   ],
   "source": [
    "df.dtypes"
   ]
  },
  {
   "cell_type": "markdown",
   "metadata": {},
   "source": [
    "Rows are `pd.Series`"
   ]
  },
  {
   "cell_type": "code",
   "execution_count": 61,
   "metadata": {},
   "outputs": [
    {
     "data": {
      "text/plain": [
       "do centra (Výtoň)    115.0\n",
       "z centra (Braník)     92.0\n",
       "Name: 2018-01-01 00:00:00, dtype: float64"
      ]
     },
     "execution_count": 61,
     "metadata": {},
     "output_type": "execute_result"
    }
   ],
   "source": [
    "df.iloc[0]"
   ]
  },
  {
   "cell_type": "markdown",
   "metadata": {},
   "source": [
    "as well as columns"
   ]
  },
  {
   "cell_type": "code",
   "execution_count": null,
   "metadata": {},
   "outputs": [],
   "source": [
    "df['do centra (Výtoň)']"
   ]
  },
  {
   "cell_type": "markdown",
   "metadata": {},
   "source": [
    "## Deeper look at the index"
   ]
  },
  {
   "cell_type": "code",
   "execution_count": 62,
   "metadata": {},
   "outputs": [
    {
     "data": {
      "text/plain": [
       "DatetimeIndex(['2018-01-01', '2018-01-02', '2018-01-03', '2018-01-04',\n",
       "               '2018-01-05', '2018-01-06', '2018-01-07', '2018-01-08',\n",
       "               '2018-01-09', '2018-01-10',\n",
       "               ...\n",
       "               '2021-03-19', '2021-03-20', '2021-03-21', '2021-03-22',\n",
       "               '2021-03-23', '2021-03-24', '2021-03-25', '2021-03-26',\n",
       "               '2021-03-27', '2021-03-28'],\n",
       "              dtype='datetime64[ns]', name='ts', length=1183, freq='D')"
      ]
     },
     "execution_count": 62,
     "metadata": {},
     "output_type": "execute_result"
    }
   ],
   "source": [
    "df.index"
   ]
  },
  {
   "cell_type": "code",
   "execution_count": 63,
   "metadata": {},
   "outputs": [
    {
     "data": {
      "text/plain": [
       "array(['2018-01-01T00:00:00.000000000', '2018-01-02T00:00:00.000000000',\n",
       "       '2018-01-03T00:00:00.000000000', ...,\n",
       "       '2021-03-26T00:00:00.000000000', '2021-03-27T00:00:00.000000000',\n",
       "       '2021-03-28T00:00:00.000000000'], dtype='datetime64[ns]')"
      ]
     },
     "execution_count": 63,
     "metadata": {},
     "output_type": "execute_result"
    }
   ],
   "source": [
    "df.index.values"
   ]
  },
  {
   "cell_type": "code",
   "execution_count": 64,
   "metadata": {},
   "outputs": [
    {
     "data": {
      "text/plain": [
       "dtype('<M8[ns]')"
      ]
     },
     "execution_count": 64,
     "metadata": {},
     "output_type": "execute_result"
    }
   ],
   "source": [
    "df.index.dtype"
   ]
  },
  {
   "cell_type": "markdown",
   "metadata": {},
   "source": [
    "## Dtypes\n",
    "\n",
    "* Numeric - `int64` and `float64`\n",
    "* Datetime - `datetime64[ns]`\n",
    "    * Datetimes can be timezone-aware\n",
    "    * variable precision\n",
    "\n",
    "    * see `pd.to_datetime`\n",
    "* Object - everything else\n",
    "    * most often `str`\n",
    "    * But also `list` or virtually anything\n",
    "\n",
    "* Custom specialized datatypes \n",
    "    * `geometry` in `geopandas`"
   ]
  },
  {
   "cell_type": "markdown",
   "metadata": {},
   "source": [
    "## Path to `MultiIndex`\n",
    "https://pandas.pydata.org/pandas-docs/stable/user_guide/advanced.html"
   ]
  },
  {
   "cell_type": "code",
   "execution_count": 65,
   "metadata": {},
   "outputs": [
    {
     "data": {
      "text/html": [
       "<div>\n",
       "<style scoped>\n",
       "    .dataframe tbody tr th:only-of-type {\n",
       "        vertical-align: middle;\n",
       "    }\n",
       "\n",
       "    .dataframe tbody tr th {\n",
       "        vertical-align: top;\n",
       "    }\n",
       "\n",
       "    .dataframe thead th {\n",
       "        text-align: right;\n",
       "    }\n",
       "</style>\n",
       "<table border=\"1\" class=\"dataframe\">\n",
       "  <thead>\n",
       "    <tr style=\"text-align: right;\">\n",
       "      <th></th>\n",
       "      <th>do centra (Výtoň)</th>\n",
       "      <th>z centra (Braník)</th>\n",
       "    </tr>\n",
       "    <tr>\n",
       "      <th>ts</th>\n",
       "      <th></th>\n",
       "      <th></th>\n",
       "    </tr>\n",
       "  </thead>\n",
       "  <tbody>\n",
       "    <tr>\n",
       "      <th>2018-01-01</th>\n",
       "      <td>115.0</td>\n",
       "      <td>92.0</td>\n",
       "    </tr>\n",
       "    <tr>\n",
       "      <th>2018-01-02</th>\n",
       "      <td>190.0</td>\n",
       "      <td>128.0</td>\n",
       "    </tr>\n",
       "    <tr>\n",
       "      <th>2018-01-03</th>\n",
       "      <td>72.0</td>\n",
       "      <td>62.0</td>\n",
       "    </tr>\n",
       "    <tr>\n",
       "      <th>2018-01-04</th>\n",
       "      <td>149.0</td>\n",
       "      <td>112.0</td>\n",
       "    </tr>\n",
       "    <tr>\n",
       "      <th>2018-01-05</th>\n",
       "      <td>155.0</td>\n",
       "      <td>125.0</td>\n",
       "    </tr>\n",
       "    <tr>\n",
       "      <th>...</th>\n",
       "      <td>...</td>\n",
       "      <td>...</td>\n",
       "    </tr>\n",
       "    <tr>\n",
       "      <th>2021-03-24</th>\n",
       "      <td>668.0</td>\n",
       "      <td>444.0</td>\n",
       "    </tr>\n",
       "    <tr>\n",
       "      <th>2021-03-25</th>\n",
       "      <td>971.0</td>\n",
       "      <td>636.0</td>\n",
       "    </tr>\n",
       "    <tr>\n",
       "      <th>2021-03-26</th>\n",
       "      <td>1142.0</td>\n",
       "      <td>798.0</td>\n",
       "    </tr>\n",
       "    <tr>\n",
       "      <th>2021-03-27</th>\n",
       "      <td>103.0</td>\n",
       "      <td>139.0</td>\n",
       "    </tr>\n",
       "    <tr>\n",
       "      <th>2021-03-28</th>\n",
       "      <td>450.0</td>\n",
       "      <td>NaN</td>\n",
       "    </tr>\n",
       "  </tbody>\n",
       "</table>\n",
       "<p>1183 rows × 2 columns</p>\n",
       "</div>"
      ],
      "text/plain": [
       "            do centra (Výtoň)  z centra (Braník)\n",
       "ts                                              \n",
       "2018-01-01              115.0               92.0\n",
       "2018-01-02              190.0              128.0\n",
       "2018-01-03               72.0               62.0\n",
       "2018-01-04              149.0              112.0\n",
       "2018-01-05              155.0              125.0\n",
       "...                       ...                ...\n",
       "2021-03-24              668.0              444.0\n",
       "2021-03-25              971.0              636.0\n",
       "2021-03-26             1142.0              798.0\n",
       "2021-03-27              103.0              139.0\n",
       "2021-03-28              450.0                NaN\n",
       "\n",
       "[1183 rows x 2 columns]"
      ]
     },
     "execution_count": 65,
     "metadata": {},
     "output_type": "execute_result"
    }
   ],
   "source": [
    "df"
   ]
  },
  {
   "cell_type": "code",
   "execution_count": 72,
   "metadata": {},
   "outputs": [
    {
     "data": {
      "text/plain": [
       "MultiIndex([('Anděl (Plzeňská)', 'Plzeňská (z centra)', '2019-01-20'),\n",
       "            ('Anděl (Plzeňská)', 'Plzeňská (z centra)', '2019-01-21'),\n",
       "            ('Anděl (Plzeňská)', 'Plzeňská (z centra)', '2019-01-22'),\n",
       "            ('Anděl (Plzeňská)', 'Plzeňská (z centra)', '2019-01-23'),\n",
       "            ('Anděl (Plzeňská)', 'Plzeňská (z centra)', '2019-01-24'),\n",
       "            ('Anděl (Plzeňská)', 'Plzeňská (z centra)', '2019-04-01'),\n",
       "            ('Anděl (Plzeňská)', 'Plzeňská (z centra)', '2019-04-02'),\n",
       "            ('Anděl (Plzeňská)', 'Plzeňská (z centra)', '2019-04-03'),\n",
       "            ('Anděl (Plzeňská)', 'Plzeňská (z centra)', '2019-04-04'),\n",
       "            ('Anděl (Plzeňská)', 'Plzeňská (z centra)', '2019-04-05'),\n",
       "            ...\n",
       "            (         'Šeberov',             'Šeberov', '2021-03-18'),\n",
       "            (         'Šeberov',             'Šeberov', '2021-03-19'),\n",
       "            (         'Šeberov',             'Šeberov', '2021-03-20'),\n",
       "            (         'Šeberov',             'Šeberov', '2021-03-21'),\n",
       "            (         'Šeberov',             'Šeberov', '2021-03-22'),\n",
       "            (         'Šeberov',             'Šeberov', '2021-03-23'),\n",
       "            (         'Šeberov',             'Šeberov', '2021-03-24'),\n",
       "            (         'Šeberov',             'Šeberov', '2021-03-25'),\n",
       "            (         'Šeberov',             'Šeberov', '2021-03-26'),\n",
       "            (         'Šeberov',             'Šeberov', '2021-03-27')],\n",
       "           names=['location', 'direction', 'ts'], length=73339)"
      ]
     },
     "execution_count": 72,
     "metadata": {},
     "output_type": "execute_result"
    }
   ],
   "source": [
    "detections.index"
   ]
  },
  {
   "cell_type": "code",
   "execution_count": null,
   "metadata": {},
   "outputs": [],
   "source": [
    "detections.index"
   ]
  },
  {
   "cell_type": "code",
   "execution_count": 75,
   "metadata": {},
   "outputs": [
    {
     "data": {
      "text/plain": [
       "ts\n",
       "2019-01-20     0.0\n",
       "2019-01-21     0.0\n",
       "2019-01-22     0.0\n",
       "2019-01-23     0.0\n",
       "2019-01-24     0.0\n",
       "              ... \n",
       "2021-03-23     5.0\n",
       "2021-03-24    61.0\n",
       "2021-03-25    66.0\n",
       "2021-03-26    62.0\n",
       "2021-03-27     8.0\n",
       "Name: value, Length: 732, dtype: float64"
      ]
     },
     "execution_count": 75,
     "metadata": {},
     "output_type": "execute_result"
    }
   ],
   "source": [
    "detections.loc[('Anděl (Plzeňská)','Plzeňská (z centra)')]"
   ]
  },
  {
   "cell_type": "code",
   "execution_count": 71,
   "metadata": {},
   "outputs": [
    {
     "data": {
      "text/plain": [
       "0.0"
      ]
     },
     "execution_count": 71,
     "metadata": {},
     "output_type": "execute_result"
    }
   ],
   "source": [
    "detections.loc[('Anděl (Plzeňská)', 'Plzeňská (z centra)', '2019-01-20')]"
   ]
  },
  {
   "cell_type": "markdown",
   "metadata": {},
   "source": [
    "use `pd.IndexSlice` to slice multiindexes"
   ]
  },
  {
   "cell_type": "code",
   "execution_count": 73,
   "metadata": {},
   "outputs": [
    {
     "data": {
      "text/plain": [
       "location          direction              ts        \n",
       "Anděl (Plzeňská)  Plzeňská (z centra)    2020-03-01    34.0\n",
       "                                         2020-03-02    89.0\n",
       "                                         2020-03-03    58.0\n",
       "                                         2020-03-04    73.0\n",
       "                                         2020-03-05    81.0\n",
       "                                                       ... \n",
       "                  Štefánikova (centrum)  2020-05-28    27.0\n",
       "                                         2020-05-29    36.0\n",
       "                                         2020-05-30    18.0\n",
       "                                         2020-05-31    10.0\n",
       "                                         2020-06-01    50.0\n",
       "Name: value, Length: 186, dtype: float64"
      ]
     },
     "execution_count": 73,
     "metadata": {},
     "output_type": "execute_result"
    }
   ],
   "source": [
    "idx = pd.IndexSlice\n",
    "detections.loc[idx['Anděl (Plzeňská)',:, '2020-03-01':'2020-06-01']]"
   ]
  },
  {
   "cell_type": "markdown",
   "metadata": {},
   "source": [
    "## Reshaping and pivoting\n",
    "\n",
    "https://pandas.pydata.org/pandas-docs/stable/user_guide/reshaping.html"
   ]
  },
  {
   "cell_type": "markdown",
   "metadata": {},
   "source": [
    "### Reshape `Series` into `DataFrame`: `unstack`"
   ]
  },
  {
   "cell_type": "code",
   "execution_count": 78,
   "metadata": {},
   "outputs": [
    {
     "data": {
      "text/plain": [
       "MultiIndex([('Anděl (Plzeňská)', 'Plzeňská (z centra)', '2019-01-20'),\n",
       "            ('Anděl (Plzeňská)', 'Plzeňská (z centra)', '2019-01-21'),\n",
       "            ('Anděl (Plzeňská)', 'Plzeňská (z centra)', '2019-01-22'),\n",
       "            ('Anděl (Plzeňská)', 'Plzeňská (z centra)', '2019-01-23'),\n",
       "            ('Anděl (Plzeňská)', 'Plzeňská (z centra)', '2019-01-24'),\n",
       "            ('Anděl (Plzeňská)', 'Plzeňská (z centra)', '2019-04-01'),\n",
       "            ('Anděl (Plzeňská)', 'Plzeňská (z centra)', '2019-04-02'),\n",
       "            ('Anděl (Plzeňská)', 'Plzeňská (z centra)', '2019-04-03'),\n",
       "            ('Anděl (Plzeňská)', 'Plzeňská (z centra)', '2019-04-04'),\n",
       "            ('Anděl (Plzeňská)', 'Plzeňská (z centra)', '2019-04-05'),\n",
       "            ...\n",
       "            (         'Šeberov',             'Šeberov', '2021-03-18'),\n",
       "            (         'Šeberov',             'Šeberov', '2021-03-19'),\n",
       "            (         'Šeberov',             'Šeberov', '2021-03-20'),\n",
       "            (         'Šeberov',             'Šeberov', '2021-03-21'),\n",
       "            (         'Šeberov',             'Šeberov', '2021-03-22'),\n",
       "            (         'Šeberov',             'Šeberov', '2021-03-23'),\n",
       "            (         'Šeberov',             'Šeberov', '2021-03-24'),\n",
       "            (         'Šeberov',             'Šeberov', '2021-03-25'),\n",
       "            (         'Šeberov',             'Šeberov', '2021-03-26'),\n",
       "            (         'Šeberov',             'Šeberov', '2021-03-27')],\n",
       "           names=['location', 'direction', 'ts'], length=73339)"
      ]
     },
     "execution_count": 78,
     "metadata": {},
     "output_type": "execute_result"
    }
   ],
   "source": [
    "detections.index"
   ]
  },
  {
   "cell_type": "code",
   "execution_count": 81,
   "metadata": {},
   "outputs": [
    {
     "data": {
      "text/plain": [
       "MultiIndex([(                     'Anděl (Plzeňská)', ...),\n",
       "            (                     'Anděl (Plzeňská)', ...),\n",
       "            (                            'Atletická', ...),\n",
       "            (                            'Atletická', ...),\n",
       "            (                    'Barrandovský most', ...),\n",
       "            (                    'Barrandovský most', ...),\n",
       "            (                              'Celetná', ...),\n",
       "            (                              'Celetná', ...),\n",
       "            (                               'Chodov', ...),\n",
       "            (                               'Chodov', ...),\n",
       "            (                      'Císařský ostrov', ...),\n",
       "            (                      'Císařský ostrov', ...),\n",
       "            (               'Drážní stezka - Vítkov', ...),\n",
       "            (               'Drážní stezka - Vítkov', ...),\n",
       "            (                    'Dukelských hrdinů', ...),\n",
       "            (                    'Dukelských hrdinů', ...),\n",
       "            ('Elsnicovo náměstí x U Českých loděnic', ...),\n",
       "            ('Elsnicovo náměstí x U Českých loděnic', ...),\n",
       "            (                          'Hlubočepská', ...),\n",
       "            (                          'Hlubočepská', ...),\n",
       "            (                            'Hybernská', ...),\n",
       "            (                            'Hybernská', ...),\n",
       "            (                          'Jeremenkova', ...),\n",
       "            (                          'Jeremenkova', ...),\n",
       "            (                                'Kampa', ...),\n",
       "            (                                'Kampa', ...),\n",
       "            (                               'Košíře', ...),\n",
       "            (                        'Krč (Sulická)', ...),\n",
       "            (                        'Krč (Sulická)', ...),\n",
       "            (              'Lahovičky (Strakonická)', ...),\n",
       "            (              'Lahovičky (Strakonická)', ...),\n",
       "            (                              'Letňany', ...),\n",
       "            (                              'Letňany', ...),\n",
       "            (                     'Mladoboleslavská', ...),\n",
       "            (                     'Mladoboleslavská', ...),\n",
       "            (                              'Modřany', ...),\n",
       "            (                              'Modřany', ...),\n",
       "            (                        'Nuselský most', ...),\n",
       "            (                        'Nuselský most', ...),\n",
       "            (              'Nábřeží Kapitána Jaroše', ...),\n",
       "            (              'Nábřeží Kapitána Jaroše', ...),\n",
       "            (                             'Pelléova', ...),\n",
       "            (                             'Pelléova', ...),\n",
       "            (                            'Podbabská', ...),\n",
       "            (                            'Podbabská', ...),\n",
       "            (            'Podolské nábřeží - stezka', ...),\n",
       "            (            'Podolské nábřeží - stezka', ...),\n",
       "            (           'Podolské nábřeží - vozovka', ...),\n",
       "            (           'Podolské nábřeží - vozovka', ...),\n",
       "            (                           'Povltavská', ...),\n",
       "            (                           'Povltavská', ...),\n",
       "            (                       'Praha - Podolí', ...),\n",
       "            (                       'Praha - Podolí', ...),\n",
       "            (                              'Radotín', ...),\n",
       "            (                              'Radotín', ...),\n",
       "            (                     'Rohanské nábřeží', ...),\n",
       "            (                     'Rohanské nábřeží', ...),\n",
       "            (                    'Smetanovo nábřeží', ...),\n",
       "            (                    'Smetanovo nábřeží', ...),\n",
       "            (                 'Stezka okolo Rokytky', ...),\n",
       "            (                 'Stezka okolo Rokytky', ...),\n",
       "            (                           'Střešovice', ...),\n",
       "            (                           'Střešovice', ...),\n",
       "            (                    'U Českých loděnic', ...),\n",
       "            (                    'U Českých loděnic', ...),\n",
       "            (                            'V Zámcích', ...),\n",
       "            (                            'V Zámcích', ...),\n",
       "            (                            'Vršovická', ...),\n",
       "            (                            'Vršovická', ...),\n",
       "            (                              'Šeberov', ...),\n",
       "            (                              'Šeberov', ...)],\n",
       "           names=['location', 'direction'])"
      ]
     },
     "execution_count": 81,
     "metadata": {},
     "output_type": "execute_result"
    }
   ],
   "source": [
    "detections.unstack(['location','direction']).columns"
   ]
  },
  {
   "cell_type": "markdown",
   "metadata": {},
   "source": [
    "### `Stack` to `series`\n",
    "\n",
    "Columns are index-like "
   ]
  },
  {
   "cell_type": "code",
   "execution_count": 84,
   "metadata": {},
   "outputs": [
    {
     "data": {
      "text/plain": [
       "ts                           \n",
       "2018-01-01  do centra (Výtoň)     115.0\n",
       "            z centra (Braník)      92.0\n",
       "2018-01-02  do centra (Výtoň)     190.0\n",
       "            z centra (Braník)     128.0\n",
       "2018-01-03  do centra (Výtoň)      72.0\n",
       "                                  ...  \n",
       "2021-03-26  do centra (Výtoň)    1142.0\n",
       "            z centra (Braník)     798.0\n",
       "2021-03-27  do centra (Výtoň)     103.0\n",
       "            z centra (Braník)     139.0\n",
       "2021-03-28  do centra (Výtoň)     450.0\n",
       "Length: 2335, dtype: float64"
      ]
     },
     "execution_count": 84,
     "metadata": {},
     "output_type": "execute_result"
    }
   ],
   "source": [
    "df.stack()"
   ]
  },
  {
   "cell_type": "markdown",
   "metadata": {},
   "source": [
    "## Apply functions on `pd` objects\n",
    "\n",
    "### Column-wise"
   ]
  },
  {
   "cell_type": "code",
   "execution_count": 85,
   "metadata": {},
   "outputs": [
    {
     "data": {
      "text/plain": [
       "204.93698906544412"
      ]
     },
     "execution_count": 85,
     "metadata": {},
     "output_type": "execute_result"
    }
   ],
   "source": [
    "detections.mean()"
   ]
  },
  {
   "cell_type": "code",
   "execution_count": 86,
   "metadata": {},
   "outputs": [
    {
     "data": {
      "text/html": [
       "<div>\n",
       "<style scoped>\n",
       "    .dataframe tbody tr th:only-of-type {\n",
       "        vertical-align: middle;\n",
       "    }\n",
       "\n",
       "    .dataframe tbody tr th {\n",
       "        vertical-align: top;\n",
       "    }\n",
       "\n",
       "    .dataframe thead tr th {\n",
       "        text-align: left;\n",
       "    }\n",
       "\n",
       "    .dataframe thead tr:last-of-type th {\n",
       "        text-align: right;\n",
       "    }\n",
       "</style>\n",
       "<table border=\"1\" class=\"dataframe\">\n",
       "  <thead>\n",
       "    <tr>\n",
       "      <th>location</th>\n",
       "      <th colspan=\"2\" halign=\"left\">Anděl (Plzeňská)</th>\n",
       "      <th colspan=\"2\" halign=\"left\">Atletická</th>\n",
       "      <th colspan=\"2\" halign=\"left\">Barrandovský most</th>\n",
       "      <th colspan=\"2\" halign=\"left\">Celetná</th>\n",
       "      <th colspan=\"2\" halign=\"left\">Chodov</th>\n",
       "      <th>...</th>\n",
       "      <th colspan=\"2\" halign=\"left\">Střešovice</th>\n",
       "      <th colspan=\"2\" halign=\"left\">U Českých loděnic</th>\n",
       "      <th colspan=\"2\" halign=\"left\">V Zámcích</th>\n",
       "      <th colspan=\"2\" halign=\"left\">Vršovická</th>\n",
       "      <th colspan=\"2\" halign=\"left\">Šeberov</th>\n",
       "    </tr>\n",
       "    <tr>\n",
       "      <th>direction</th>\n",
       "      <th>Plzeňská (z centra)</th>\n",
       "      <th>Štefánikova (centrum)</th>\n",
       "      <th>Ladronka</th>\n",
       "      <th>Strahov</th>\n",
       "      <th>Barrandovský most</th>\n",
       "      <th>Zlíchov</th>\n",
       "      <th>Ovocný trh</th>\n",
       "      <th>Prašná brána</th>\n",
       "      <th>Chodov centrum</th>\n",
       "      <th>ul. Türkova</th>\n",
       "      <th>...</th>\n",
       "      <th>do centra</th>\n",
       "      <th>z centra</th>\n",
       "      <th>Libeň</th>\n",
       "      <th>Povltavská</th>\n",
       "      <th>Bohnice</th>\n",
       "      <th>Klecany</th>\n",
       "      <th>Nusle</th>\n",
       "      <th>Strašnice</th>\n",
       "      <th>Kunratice</th>\n",
       "      <th>Šeberov</th>\n",
       "    </tr>\n",
       "    <tr>\n",
       "      <th>ts</th>\n",
       "      <th></th>\n",
       "      <th></th>\n",
       "      <th></th>\n",
       "      <th></th>\n",
       "      <th></th>\n",
       "      <th></th>\n",
       "      <th></th>\n",
       "      <th></th>\n",
       "      <th></th>\n",
       "      <th></th>\n",
       "      <th></th>\n",
       "      <th></th>\n",
       "      <th></th>\n",
       "      <th></th>\n",
       "      <th></th>\n",
       "      <th></th>\n",
       "      <th></th>\n",
       "      <th></th>\n",
       "      <th></th>\n",
       "      <th></th>\n",
       "      <th></th>\n",
       "    </tr>\n",
       "  </thead>\n",
       "  <tbody>\n",
       "    <tr>\n",
       "      <th>2018-01-01</th>\n",
       "      <td>NaN</td>\n",
       "      <td>NaN</td>\n",
       "      <td>NaN</td>\n",
       "      <td>NaN</td>\n",
       "      <td>143.0</td>\n",
       "      <td>179.0</td>\n",
       "      <td>50.0</td>\n",
       "      <td>55.0</td>\n",
       "      <td>32.0</td>\n",
       "      <td>22.0</td>\n",
       "      <td>...</td>\n",
       "      <td>3.0</td>\n",
       "      <td>6.0</td>\n",
       "      <td>NaN</td>\n",
       "      <td>NaN</td>\n",
       "      <td>NaN</td>\n",
       "      <td>NaN</td>\n",
       "      <td>50.0</td>\n",
       "      <td>37.0</td>\n",
       "      <td>31.0</td>\n",
       "      <td>27.0</td>\n",
       "    </tr>\n",
       "    <tr>\n",
       "      <th>2018-01-02</th>\n",
       "      <td>NaN</td>\n",
       "      <td>NaN</td>\n",
       "      <td>NaN</td>\n",
       "      <td>NaN</td>\n",
       "      <td>106.0</td>\n",
       "      <td>115.0</td>\n",
       "      <td>126.0</td>\n",
       "      <td>137.0</td>\n",
       "      <td>44.0</td>\n",
       "      <td>18.0</td>\n",
       "      <td>...</td>\n",
       "      <td>12.0</td>\n",
       "      <td>9.0</td>\n",
       "      <td>NaN</td>\n",
       "      <td>NaN</td>\n",
       "      <td>NaN</td>\n",
       "      <td>NaN</td>\n",
       "      <td>52.0</td>\n",
       "      <td>44.0</td>\n",
       "      <td>12.0</td>\n",
       "      <td>10.0</td>\n",
       "    </tr>\n",
       "    <tr>\n",
       "      <th>2018-01-03</th>\n",
       "      <td>NaN</td>\n",
       "      <td>NaN</td>\n",
       "      <td>NaN</td>\n",
       "      <td>NaN</td>\n",
       "      <td>42.0</td>\n",
       "      <td>53.0</td>\n",
       "      <td>143.0</td>\n",
       "      <td>97.0</td>\n",
       "      <td>25.0</td>\n",
       "      <td>18.0</td>\n",
       "      <td>...</td>\n",
       "      <td>6.0</td>\n",
       "      <td>6.0</td>\n",
       "      <td>NaN</td>\n",
       "      <td>NaN</td>\n",
       "      <td>NaN</td>\n",
       "      <td>NaN</td>\n",
       "      <td>35.0</td>\n",
       "      <td>29.0</td>\n",
       "      <td>9.0</td>\n",
       "      <td>3.0</td>\n",
       "    </tr>\n",
       "    <tr>\n",
       "      <th>2018-01-04</th>\n",
       "      <td>NaN</td>\n",
       "      <td>NaN</td>\n",
       "      <td>NaN</td>\n",
       "      <td>NaN</td>\n",
       "      <td>101.0</td>\n",
       "      <td>112.0</td>\n",
       "      <td>138.0</td>\n",
       "      <td>141.0</td>\n",
       "      <td>36.0</td>\n",
       "      <td>27.0</td>\n",
       "      <td>...</td>\n",
       "      <td>9.0</td>\n",
       "      <td>19.0</td>\n",
       "      <td>NaN</td>\n",
       "      <td>NaN</td>\n",
       "      <td>NaN</td>\n",
       "      <td>NaN</td>\n",
       "      <td>56.0</td>\n",
       "      <td>52.0</td>\n",
       "      <td>4.0</td>\n",
       "      <td>8.0</td>\n",
       "    </tr>\n",
       "    <tr>\n",
       "      <th>2018-01-05</th>\n",
       "      <td>NaN</td>\n",
       "      <td>NaN</td>\n",
       "      <td>NaN</td>\n",
       "      <td>NaN</td>\n",
       "      <td>111.0</td>\n",
       "      <td>121.0</td>\n",
       "      <td>131.0</td>\n",
       "      <td>116.0</td>\n",
       "      <td>56.0</td>\n",
       "      <td>32.0</td>\n",
       "      <td>...</td>\n",
       "      <td>10.0</td>\n",
       "      <td>8.0</td>\n",
       "      <td>NaN</td>\n",
       "      <td>NaN</td>\n",
       "      <td>NaN</td>\n",
       "      <td>NaN</td>\n",
       "      <td>54.0</td>\n",
       "      <td>52.0</td>\n",
       "      <td>15.0</td>\n",
       "      <td>14.0</td>\n",
       "    </tr>\n",
       "  </tbody>\n",
       "</table>\n",
       "<p>5 rows × 71 columns</p>\n",
       "</div>"
      ],
      "text/plain": [
       "location      Anděl (Plzeňská)                       Atletická          \\\n",
       "direction  Plzeňská (z centra) Štefánikova (centrum)  Ladronka Strahov   \n",
       "ts                                                                       \n",
       "2018-01-01                 NaN                   NaN       NaN     NaN   \n",
       "2018-01-02                 NaN                   NaN       NaN     NaN   \n",
       "2018-01-03                 NaN                   NaN       NaN     NaN   \n",
       "2018-01-04                 NaN                   NaN       NaN     NaN   \n",
       "2018-01-05                 NaN                   NaN       NaN     NaN   \n",
       "\n",
       "location   Barrandovský most            Celetná                      Chodov  \\\n",
       "direction  Barrandovský most Zlíchov Ovocný trh Prašná brána Chodov centrum   \n",
       "ts                                                                            \n",
       "2018-01-01             143.0   179.0       50.0         55.0           32.0   \n",
       "2018-01-02             106.0   115.0      126.0        137.0           44.0   \n",
       "2018-01-03              42.0    53.0      143.0         97.0           25.0   \n",
       "2018-01-04             101.0   112.0      138.0        141.0           36.0   \n",
       "2018-01-05             111.0   121.0      131.0        116.0           56.0   \n",
       "\n",
       "location                ... Střešovice          U Českých loděnic             \\\n",
       "direction  ul. Türkova  ...  do centra z centra             Libeň Povltavská   \n",
       "ts                      ...                                                    \n",
       "2018-01-01        22.0  ...        3.0      6.0               NaN        NaN   \n",
       "2018-01-02        18.0  ...       12.0      9.0               NaN        NaN   \n",
       "2018-01-03        18.0  ...        6.0      6.0               NaN        NaN   \n",
       "2018-01-04        27.0  ...        9.0     19.0               NaN        NaN   \n",
       "2018-01-05        32.0  ...       10.0      8.0               NaN        NaN   \n",
       "\n",
       "location   V Zámcích         Vršovická             Šeberov          \n",
       "direction    Bohnice Klecany     Nusle Strašnice Kunratice Šeberov  \n",
       "ts                                                                  \n",
       "2018-01-01       NaN     NaN      50.0      37.0      31.0    27.0  \n",
       "2018-01-02       NaN     NaN      52.0      44.0      12.0    10.0  \n",
       "2018-01-03       NaN     NaN      35.0      29.0       9.0     3.0  \n",
       "2018-01-04       NaN     NaN      56.0      52.0       4.0     8.0  \n",
       "2018-01-05       NaN     NaN      54.0      52.0      15.0    14.0  \n",
       "\n",
       "[5 rows x 71 columns]"
      ]
     },
     "execution_count": 86,
     "metadata": {},
     "output_type": "execute_result"
    }
   ],
   "source": [
    "detcols = detections.unstack(['location','direction']).median()\n",
    "detcols.head()"
   ]
  },
  {
   "cell_type": "code",
   "execution_count": 87,
   "metadata": {},
   "outputs": [
    {
     "data": {
      "text/plain": [
       "location           direction            \n",
       "Anděl (Plzeňská)   Plzeňská (z centra)       67.0\n",
       "                   Štefánikova (centrum)     38.0\n",
       "Atletická          Ladronka                  60.5\n",
       "                   Strahov                   95.0\n",
       "Barrandovský most  Barrandovský most        266.0\n",
       "                                            ...  \n",
       "V Zámcích          Klecany                  185.0\n",
       "Vršovická          Nusle                    148.0\n",
       "                   Strašnice                108.0\n",
       "Šeberov            Kunratice                 13.0\n",
       "                   Šeberov                   12.0\n",
       "Length: 71, dtype: float64"
      ]
     },
     "execution_count": 87,
     "metadata": {},
     "output_type": "execute_result"
    }
   ],
   "source": [
    "detcols.median()"
   ]
  },
  {
   "cell_type": "code",
   "execution_count": 90,
   "metadata": {},
   "outputs": [
    {
     "data": {
      "text/html": [
       "<div>\n",
       "<style scoped>\n",
       "    .dataframe tbody tr th:only-of-type {\n",
       "        vertical-align: middle;\n",
       "    }\n",
       "\n",
       "    .dataframe tbody tr th {\n",
       "        vertical-align: top;\n",
       "    }\n",
       "\n",
       "    .dataframe thead tr th {\n",
       "        text-align: left;\n",
       "    }\n",
       "\n",
       "    .dataframe thead tr:last-of-type th {\n",
       "        text-align: right;\n",
       "    }\n",
       "</style>\n",
       "<table border=\"1\" class=\"dataframe\">\n",
       "  <thead>\n",
       "    <tr>\n",
       "      <th>location</th>\n",
       "      <th colspan=\"2\" halign=\"left\">Anděl (Plzeňská)</th>\n",
       "      <th colspan=\"2\" halign=\"left\">Atletická</th>\n",
       "      <th colspan=\"2\" halign=\"left\">Barrandovský most</th>\n",
       "      <th colspan=\"2\" halign=\"left\">Celetná</th>\n",
       "      <th colspan=\"2\" halign=\"left\">Chodov</th>\n",
       "      <th>...</th>\n",
       "      <th colspan=\"2\" halign=\"left\">Střešovice</th>\n",
       "      <th colspan=\"2\" halign=\"left\">U Českých loděnic</th>\n",
       "      <th colspan=\"2\" halign=\"left\">V Zámcích</th>\n",
       "      <th colspan=\"2\" halign=\"left\">Vršovická</th>\n",
       "      <th colspan=\"2\" halign=\"left\">Šeberov</th>\n",
       "    </tr>\n",
       "    <tr>\n",
       "      <th>direction</th>\n",
       "      <th>Plzeňská (z centra)</th>\n",
       "      <th>Štefánikova (centrum)</th>\n",
       "      <th>Ladronka</th>\n",
       "      <th>Strahov</th>\n",
       "      <th>Barrandovský most</th>\n",
       "      <th>Zlíchov</th>\n",
       "      <th>Ovocný trh</th>\n",
       "      <th>Prašná brána</th>\n",
       "      <th>Chodov centrum</th>\n",
       "      <th>ul. Türkova</th>\n",
       "      <th>...</th>\n",
       "      <th>do centra</th>\n",
       "      <th>z centra</th>\n",
       "      <th>Libeň</th>\n",
       "      <th>Povltavská</th>\n",
       "      <th>Bohnice</th>\n",
       "      <th>Klecany</th>\n",
       "      <th>Nusle</th>\n",
       "      <th>Strašnice</th>\n",
       "      <th>Kunratice</th>\n",
       "      <th>Šeberov</th>\n",
       "    </tr>\n",
       "    <tr>\n",
       "      <th>ts</th>\n",
       "      <th></th>\n",
       "      <th></th>\n",
       "      <th></th>\n",
       "      <th></th>\n",
       "      <th></th>\n",
       "      <th></th>\n",
       "      <th></th>\n",
       "      <th></th>\n",
       "      <th></th>\n",
       "      <th></th>\n",
       "      <th></th>\n",
       "      <th></th>\n",
       "      <th></th>\n",
       "      <th></th>\n",
       "      <th></th>\n",
       "      <th></th>\n",
       "      <th></th>\n",
       "      <th></th>\n",
       "      <th></th>\n",
       "      <th></th>\n",
       "      <th></th>\n",
       "    </tr>\n",
       "  </thead>\n",
       "  <tbody>\n",
       "    <tr>\n",
       "      <th>2018-01-01</th>\n",
       "      <td>NaN</td>\n",
       "      <td>NaN</td>\n",
       "      <td>NaN</td>\n",
       "      <td>NaN</td>\n",
       "      <td>143.0</td>\n",
       "      <td>179.0</td>\n",
       "      <td>50.0</td>\n",
       "      <td>55.0</td>\n",
       "      <td>32.0</td>\n",
       "      <td>22.0</td>\n",
       "      <td>...</td>\n",
       "      <td>3.0</td>\n",
       "      <td>6.0</td>\n",
       "      <td>NaN</td>\n",
       "      <td>NaN</td>\n",
       "      <td>NaN</td>\n",
       "      <td>NaN</td>\n",
       "      <td>50.0</td>\n",
       "      <td>37.0</td>\n",
       "      <td>31.0</td>\n",
       "      <td>27.0</td>\n",
       "    </tr>\n",
       "    <tr>\n",
       "      <th>2018-01-02</th>\n",
       "      <td>NaN</td>\n",
       "      <td>NaN</td>\n",
       "      <td>NaN</td>\n",
       "      <td>NaN</td>\n",
       "      <td>106.0</td>\n",
       "      <td>115.0</td>\n",
       "      <td>126.0</td>\n",
       "      <td>137.0</td>\n",
       "      <td>44.0</td>\n",
       "      <td>18.0</td>\n",
       "      <td>...</td>\n",
       "      <td>12.0</td>\n",
       "      <td>9.0</td>\n",
       "      <td>NaN</td>\n",
       "      <td>NaN</td>\n",
       "      <td>NaN</td>\n",
       "      <td>NaN</td>\n",
       "      <td>52.0</td>\n",
       "      <td>44.0</td>\n",
       "      <td>12.0</td>\n",
       "      <td>10.0</td>\n",
       "    </tr>\n",
       "    <tr>\n",
       "      <th>2018-01-03</th>\n",
       "      <td>NaN</td>\n",
       "      <td>NaN</td>\n",
       "      <td>NaN</td>\n",
       "      <td>NaN</td>\n",
       "      <td>42.0</td>\n",
       "      <td>53.0</td>\n",
       "      <td>143.0</td>\n",
       "      <td>97.0</td>\n",
       "      <td>25.0</td>\n",
       "      <td>18.0</td>\n",
       "      <td>...</td>\n",
       "      <td>6.0</td>\n",
       "      <td>6.0</td>\n",
       "      <td>NaN</td>\n",
       "      <td>NaN</td>\n",
       "      <td>NaN</td>\n",
       "      <td>NaN</td>\n",
       "      <td>35.0</td>\n",
       "      <td>29.0</td>\n",
       "      <td>9.0</td>\n",
       "      <td>3.0</td>\n",
       "    </tr>\n",
       "    <tr>\n",
       "      <th>2018-01-04</th>\n",
       "      <td>NaN</td>\n",
       "      <td>NaN</td>\n",
       "      <td>NaN</td>\n",
       "      <td>NaN</td>\n",
       "      <td>101.0</td>\n",
       "      <td>112.0</td>\n",
       "      <td>138.0</td>\n",
       "      <td>141.0</td>\n",
       "      <td>36.0</td>\n",
       "      <td>27.0</td>\n",
       "      <td>...</td>\n",
       "      <td>9.0</td>\n",
       "      <td>19.0</td>\n",
       "      <td>NaN</td>\n",
       "      <td>NaN</td>\n",
       "      <td>NaN</td>\n",
       "      <td>NaN</td>\n",
       "      <td>56.0</td>\n",
       "      <td>52.0</td>\n",
       "      <td>4.0</td>\n",
       "      <td>8.0</td>\n",
       "    </tr>\n",
       "    <tr>\n",
       "      <th>2018-01-05</th>\n",
       "      <td>NaN</td>\n",
       "      <td>NaN</td>\n",
       "      <td>NaN</td>\n",
       "      <td>NaN</td>\n",
       "      <td>111.0</td>\n",
       "      <td>121.0</td>\n",
       "      <td>131.0</td>\n",
       "      <td>116.0</td>\n",
       "      <td>56.0</td>\n",
       "      <td>32.0</td>\n",
       "      <td>...</td>\n",
       "      <td>10.0</td>\n",
       "      <td>8.0</td>\n",
       "      <td>NaN</td>\n",
       "      <td>NaN</td>\n",
       "      <td>NaN</td>\n",
       "      <td>NaN</td>\n",
       "      <td>54.0</td>\n",
       "      <td>52.0</td>\n",
       "      <td>15.0</td>\n",
       "      <td>14.0</td>\n",
       "    </tr>\n",
       "    <tr>\n",
       "      <th>...</th>\n",
       "      <td>...</td>\n",
       "      <td>...</td>\n",
       "      <td>...</td>\n",
       "      <td>...</td>\n",
       "      <td>...</td>\n",
       "      <td>...</td>\n",
       "      <td>...</td>\n",
       "      <td>...</td>\n",
       "      <td>...</td>\n",
       "      <td>...</td>\n",
       "      <td>...</td>\n",
       "      <td>...</td>\n",
       "      <td>...</td>\n",
       "      <td>...</td>\n",
       "      <td>...</td>\n",
       "      <td>...</td>\n",
       "      <td>...</td>\n",
       "      <td>...</td>\n",
       "      <td>...</td>\n",
       "      <td>...</td>\n",
       "      <td>...</td>\n",
       "    </tr>\n",
       "    <tr>\n",
       "      <th>2021-03-23</th>\n",
       "      <td>5.0</td>\n",
       "      <td>85.0</td>\n",
       "      <td>136.0</td>\n",
       "      <td>150.0</td>\n",
       "      <td>222.0</td>\n",
       "      <td>250.0</td>\n",
       "      <td>NaN</td>\n",
       "      <td>NaN</td>\n",
       "      <td>67.0</td>\n",
       "      <td>74.0</td>\n",
       "      <td>...</td>\n",
       "      <td>0.0</td>\n",
       "      <td>0.0</td>\n",
       "      <td>320.0</td>\n",
       "      <td>384.0</td>\n",
       "      <td>200.0</td>\n",
       "      <td>239.0</td>\n",
       "      <td>75.0</td>\n",
       "      <td>110.0</td>\n",
       "      <td>NaN</td>\n",
       "      <td>NaN</td>\n",
       "    </tr>\n",
       "    <tr>\n",
       "      <th>2021-03-24</th>\n",
       "      <td>61.0</td>\n",
       "      <td>110.0</td>\n",
       "      <td>124.0</td>\n",
       "      <td>173.0</td>\n",
       "      <td>481.0</td>\n",
       "      <td>609.0</td>\n",
       "      <td>NaN</td>\n",
       "      <td>NaN</td>\n",
       "      <td>148.0</td>\n",
       "      <td>144.0</td>\n",
       "      <td>...</td>\n",
       "      <td>0.0</td>\n",
       "      <td>0.0</td>\n",
       "      <td>636.0</td>\n",
       "      <td>742.0</td>\n",
       "      <td>521.0</td>\n",
       "      <td>631.0</td>\n",
       "      <td>137.0</td>\n",
       "      <td>158.0</td>\n",
       "      <td>NaN</td>\n",
       "      <td>NaN</td>\n",
       "    </tr>\n",
       "    <tr>\n",
       "      <th>2021-03-25</th>\n",
       "      <td>66.0</td>\n",
       "      <td>106.0</td>\n",
       "      <td>146.0</td>\n",
       "      <td>162.0</td>\n",
       "      <td>654.0</td>\n",
       "      <td>863.0</td>\n",
       "      <td>NaN</td>\n",
       "      <td>NaN</td>\n",
       "      <td>183.0</td>\n",
       "      <td>170.0</td>\n",
       "      <td>...</td>\n",
       "      <td>0.0</td>\n",
       "      <td>0.0</td>\n",
       "      <td>921.0</td>\n",
       "      <td>992.0</td>\n",
       "      <td>866.0</td>\n",
       "      <td>1000.0</td>\n",
       "      <td>105.0</td>\n",
       "      <td>156.0</td>\n",
       "      <td>NaN</td>\n",
       "      <td>NaN</td>\n",
       "    </tr>\n",
       "    <tr>\n",
       "      <th>2021-03-26</th>\n",
       "      <td>62.0</td>\n",
       "      <td>131.0</td>\n",
       "      <td>155.0</td>\n",
       "      <td>216.0</td>\n",
       "      <td>787.0</td>\n",
       "      <td>1000.0</td>\n",
       "      <td>NaN</td>\n",
       "      <td>NaN</td>\n",
       "      <td>209.0</td>\n",
       "      <td>194.0</td>\n",
       "      <td>...</td>\n",
       "      <td>0.0</td>\n",
       "      <td>0.0</td>\n",
       "      <td>1050.0</td>\n",
       "      <td>1245.0</td>\n",
       "      <td>1123.0</td>\n",
       "      <td>1359.0</td>\n",
       "      <td>186.0</td>\n",
       "      <td>166.0</td>\n",
       "      <td>NaN</td>\n",
       "      <td>NaN</td>\n",
       "    </tr>\n",
       "    <tr>\n",
       "      <th>2021-03-27</th>\n",
       "      <td>8.0</td>\n",
       "      <td>22.0</td>\n",
       "      <td>13.0</td>\n",
       "      <td>20.0</td>\n",
       "      <td>79.0</td>\n",
       "      <td>95.0</td>\n",
       "      <td>NaN</td>\n",
       "      <td>NaN</td>\n",
       "      <td>20.0</td>\n",
       "      <td>18.0</td>\n",
       "      <td>...</td>\n",
       "      <td>0.0</td>\n",
       "      <td>0.0</td>\n",
       "      <td>133.0</td>\n",
       "      <td>194.0</td>\n",
       "      <td>61.0</td>\n",
       "      <td>122.0</td>\n",
       "      <td>42.0</td>\n",
       "      <td>19.0</td>\n",
       "      <td>NaN</td>\n",
       "      <td>NaN</td>\n",
       "    </tr>\n",
       "  </tbody>\n",
       "</table>\n",
       "<p>1182 rows × 71 columns</p>\n",
       "</div>"
      ],
      "text/plain": [
       "location      Anděl (Plzeňská)                       Atletická          \\\n",
       "direction  Plzeňská (z centra) Štefánikova (centrum)  Ladronka Strahov   \n",
       "ts                                                                       \n",
       "2018-01-01                 NaN                   NaN       NaN     NaN   \n",
       "2018-01-02                 NaN                   NaN       NaN     NaN   \n",
       "2018-01-03                 NaN                   NaN       NaN     NaN   \n",
       "2018-01-04                 NaN                   NaN       NaN     NaN   \n",
       "2018-01-05                 NaN                   NaN       NaN     NaN   \n",
       "...                        ...                   ...       ...     ...   \n",
       "2021-03-23                 5.0                  85.0     136.0   150.0   \n",
       "2021-03-24                61.0                 110.0     124.0   173.0   \n",
       "2021-03-25                66.0                 106.0     146.0   162.0   \n",
       "2021-03-26                62.0                 131.0     155.0   216.0   \n",
       "2021-03-27                 8.0                  22.0      13.0    20.0   \n",
       "\n",
       "location   Barrandovský most            Celetná                      Chodov  \\\n",
       "direction  Barrandovský most Zlíchov Ovocný trh Prašná brána Chodov centrum   \n",
       "ts                                                                            \n",
       "2018-01-01             143.0   179.0       50.0         55.0           32.0   \n",
       "2018-01-02             106.0   115.0      126.0        137.0           44.0   \n",
       "2018-01-03              42.0    53.0      143.0         97.0           25.0   \n",
       "2018-01-04             101.0   112.0      138.0        141.0           36.0   \n",
       "2018-01-05             111.0   121.0      131.0        116.0           56.0   \n",
       "...                      ...     ...        ...          ...            ...   \n",
       "2021-03-23             222.0   250.0        NaN          NaN           67.0   \n",
       "2021-03-24             481.0   609.0        NaN          NaN          148.0   \n",
       "2021-03-25             654.0   863.0        NaN          NaN          183.0   \n",
       "2021-03-26             787.0  1000.0        NaN          NaN          209.0   \n",
       "2021-03-27              79.0    95.0        NaN          NaN           20.0   \n",
       "\n",
       "location                ... Střešovice          U Českých loděnic             \\\n",
       "direction  ul. Türkova  ...  do centra z centra             Libeň Povltavská   \n",
       "ts                      ...                                                    \n",
       "2018-01-01        22.0  ...        3.0      6.0               NaN        NaN   \n",
       "2018-01-02        18.0  ...       12.0      9.0               NaN        NaN   \n",
       "2018-01-03        18.0  ...        6.0      6.0               NaN        NaN   \n",
       "2018-01-04        27.0  ...        9.0     19.0               NaN        NaN   \n",
       "2018-01-05        32.0  ...       10.0      8.0               NaN        NaN   \n",
       "...                ...  ...        ...      ...               ...        ...   \n",
       "2021-03-23        74.0  ...        0.0      0.0             320.0      384.0   \n",
       "2021-03-24       144.0  ...        0.0      0.0             636.0      742.0   \n",
       "2021-03-25       170.0  ...        0.0      0.0             921.0      992.0   \n",
       "2021-03-26       194.0  ...        0.0      0.0            1050.0     1245.0   \n",
       "2021-03-27        18.0  ...        0.0      0.0             133.0      194.0   \n",
       "\n",
       "location   V Zámcích         Vršovická             Šeberov          \n",
       "direction    Bohnice Klecany     Nusle Strašnice Kunratice Šeberov  \n",
       "ts                                                                  \n",
       "2018-01-01       NaN     NaN      50.0      37.0      31.0    27.0  \n",
       "2018-01-02       NaN     NaN      52.0      44.0      12.0    10.0  \n",
       "2018-01-03       NaN     NaN      35.0      29.0       9.0     3.0  \n",
       "2018-01-04       NaN     NaN      56.0      52.0       4.0     8.0  \n",
       "2018-01-05       NaN     NaN      54.0      52.0      15.0    14.0  \n",
       "...              ...     ...       ...       ...       ...     ...  \n",
       "2021-03-23     200.0   239.0      75.0     110.0       NaN     NaN  \n",
       "2021-03-24     521.0   631.0     137.0     158.0       NaN     NaN  \n",
       "2021-03-25     866.0  1000.0     105.0     156.0       NaN     NaN  \n",
       "2021-03-26    1123.0  1359.0     186.0     166.0       NaN     NaN  \n",
       "2021-03-27      61.0   122.0      42.0      19.0       NaN     NaN  \n",
       "\n",
       "[1182 rows x 71 columns]"
      ]
     },
     "execution_count": 90,
     "metadata": {},
     "output_type": "execute_result"
    }
   ],
   "source": [
    "detcols"
   ]
  },
  {
   "cell_type": "code",
   "execution_count": 92,
   "metadata": {},
   "outputs": [
    {
     "data": {
      "text/plain": [
       "70.33644859813084"
      ]
     },
     "execution_count": 92,
     "metadata": {},
     "output_type": "execute_result"
    }
   ],
   "source": [
    "np.mean(detcols[detcols.columns[0]])"
   ]
  },
  {
   "cell_type": "code",
   "execution_count": 88,
   "metadata": {},
   "outputs": [
    {
     "data": {
      "text/plain": [
       "location           direction            \n",
       "Anděl (Plzeňská)   Plzeňská (z centra)       70.336449\n",
       "                   Štefánikova (centrum)     49.929600\n",
       "Atletická          Ladronka                  81.438224\n",
       "                   Strahov                   97.960568\n",
       "Barrandovský most  Barrandovský most        323.343092\n",
       "                                               ...    \n",
       "V Zámcích          Klecany                  386.300485\n",
       "Vršovická          Nusle                    230.102540\n",
       "                   Strašnice                168.345972\n",
       "Šeberov            Kunratice                 38.856995\n",
       "                   Šeberov                   42.633437\n",
       "Length: 71, dtype: float64"
      ]
     },
     "execution_count": 88,
     "metadata": {},
     "output_type": "execute_result"
    }
   ],
   "source": [
    "detcols.apply(np.mean)"
   ]
  },
  {
   "cell_type": "code",
   "execution_count": 93,
   "metadata": {},
   "outputs": [
    {
     "data": {
      "text/plain": [
       "location           direction            \n",
       "Anděl (Plzeňská)   Plzeňská (z centra)      0.456853\n",
       "                   Štefánikova (centrum)    0.471235\n",
       "Atletická          Ladronka                 0.561760\n",
       "                   Strahov                  0.463621\n",
       "Barrandovský most  Barrandovský most        0.075296\n",
       "                                              ...   \n",
       "V Zámcích          Klecany                  0.476311\n",
       "Vršovická          Nusle                    0.100677\n",
       "                   Strašnice                0.107445\n",
       "Šeberov            Kunratice                0.183587\n",
       "                   Šeberov                  0.185279\n",
       "Length: 71, dtype: float64"
      ]
     },
     "execution_count": 93,
     "metadata": {},
     "output_type": "execute_result"
    }
   ],
   "source": [
    "def share_of_missing(col):\n",
    "    return col[col.isna()].shape[0]/col.shape[0]\n",
    "detcols.apply(share_of_missing)"
   ]
  },
  {
   "cell_type": "code",
   "execution_count": 95,
   "metadata": {},
   "outputs": [
    {
     "data": {
      "text/html": [
       "<div>\n",
       "<style scoped>\n",
       "    .dataframe tbody tr th:only-of-type {\n",
       "        vertical-align: middle;\n",
       "    }\n",
       "\n",
       "    .dataframe tbody tr th {\n",
       "        vertical-align: top;\n",
       "    }\n",
       "\n",
       "    .dataframe thead tr th {\n",
       "        text-align: left;\n",
       "    }\n",
       "\n",
       "    .dataframe thead tr:last-of-type th {\n",
       "        text-align: right;\n",
       "    }\n",
       "</style>\n",
       "<table border=\"1\" class=\"dataframe\">\n",
       "  <thead>\n",
       "    <tr>\n",
       "      <th>location</th>\n",
       "      <th colspan=\"2\" halign=\"left\">Anděl (Plzeňská)</th>\n",
       "      <th colspan=\"2\" halign=\"left\">Atletická</th>\n",
       "      <th colspan=\"2\" halign=\"left\">Barrandovský most</th>\n",
       "      <th colspan=\"2\" halign=\"left\">Celetná</th>\n",
       "      <th colspan=\"2\" halign=\"left\">Chodov</th>\n",
       "      <th>...</th>\n",
       "      <th colspan=\"2\" halign=\"left\">Střešovice</th>\n",
       "      <th colspan=\"2\" halign=\"left\">U Českých loděnic</th>\n",
       "      <th colspan=\"2\" halign=\"left\">V Zámcích</th>\n",
       "      <th colspan=\"2\" halign=\"left\">Vršovická</th>\n",
       "      <th colspan=\"2\" halign=\"left\">Šeberov</th>\n",
       "    </tr>\n",
       "    <tr>\n",
       "      <th>direction</th>\n",
       "      <th>Plzeňská (z centra)</th>\n",
       "      <th>Štefánikova (centrum)</th>\n",
       "      <th>Ladronka</th>\n",
       "      <th>Strahov</th>\n",
       "      <th>Barrandovský most</th>\n",
       "      <th>Zlíchov</th>\n",
       "      <th>Ovocný trh</th>\n",
       "      <th>Prašná brána</th>\n",
       "      <th>Chodov centrum</th>\n",
       "      <th>ul. Türkova</th>\n",
       "      <th>...</th>\n",
       "      <th>do centra</th>\n",
       "      <th>z centra</th>\n",
       "      <th>Libeň</th>\n",
       "      <th>Povltavská</th>\n",
       "      <th>Bohnice</th>\n",
       "      <th>Klecany</th>\n",
       "      <th>Nusle</th>\n",
       "      <th>Strašnice</th>\n",
       "      <th>Kunratice</th>\n",
       "      <th>Šeberov</th>\n",
       "    </tr>\n",
       "    <tr>\n",
       "      <th>ts</th>\n",
       "      <th></th>\n",
       "      <th></th>\n",
       "      <th></th>\n",
       "      <th></th>\n",
       "      <th></th>\n",
       "      <th></th>\n",
       "      <th></th>\n",
       "      <th></th>\n",
       "      <th></th>\n",
       "      <th></th>\n",
       "      <th></th>\n",
       "      <th></th>\n",
       "      <th></th>\n",
       "      <th></th>\n",
       "      <th></th>\n",
       "      <th></th>\n",
       "      <th></th>\n",
       "      <th></th>\n",
       "      <th></th>\n",
       "      <th></th>\n",
       "      <th></th>\n",
       "    </tr>\n",
       "  </thead>\n",
       "  <tbody>\n",
       "    <tr>\n",
       "      <th>2018-01-01</th>\n",
       "      <td>NaN</td>\n",
       "      <td>NaN</td>\n",
       "      <td>NaN</td>\n",
       "      <td>NaN</td>\n",
       "      <td>143.0</td>\n",
       "      <td>179.0</td>\n",
       "      <td>50.0</td>\n",
       "      <td>55.0</td>\n",
       "      <td>32.0</td>\n",
       "      <td>22.0</td>\n",
       "      <td>...</td>\n",
       "      <td>3.0</td>\n",
       "      <td>6.0</td>\n",
       "      <td>NaN</td>\n",
       "      <td>NaN</td>\n",
       "      <td>NaN</td>\n",
       "      <td>NaN</td>\n",
       "      <td>50.0</td>\n",
       "      <td>37.0</td>\n",
       "      <td>31.0</td>\n",
       "      <td>27.0</td>\n",
       "    </tr>\n",
       "    <tr>\n",
       "      <th>2018-01-02</th>\n",
       "      <td>NaN</td>\n",
       "      <td>NaN</td>\n",
       "      <td>NaN</td>\n",
       "      <td>NaN</td>\n",
       "      <td>106.0</td>\n",
       "      <td>115.0</td>\n",
       "      <td>126.0</td>\n",
       "      <td>137.0</td>\n",
       "      <td>44.0</td>\n",
       "      <td>18.0</td>\n",
       "      <td>...</td>\n",
       "      <td>12.0</td>\n",
       "      <td>9.0</td>\n",
       "      <td>NaN</td>\n",
       "      <td>NaN</td>\n",
       "      <td>NaN</td>\n",
       "      <td>NaN</td>\n",
       "      <td>52.0</td>\n",
       "      <td>44.0</td>\n",
       "      <td>12.0</td>\n",
       "      <td>10.0</td>\n",
       "    </tr>\n",
       "    <tr>\n",
       "      <th>2018-01-03</th>\n",
       "      <td>NaN</td>\n",
       "      <td>NaN</td>\n",
       "      <td>NaN</td>\n",
       "      <td>NaN</td>\n",
       "      <td>42.0</td>\n",
       "      <td>53.0</td>\n",
       "      <td>143.0</td>\n",
       "      <td>97.0</td>\n",
       "      <td>25.0</td>\n",
       "      <td>18.0</td>\n",
       "      <td>...</td>\n",
       "      <td>6.0</td>\n",
       "      <td>6.0</td>\n",
       "      <td>NaN</td>\n",
       "      <td>NaN</td>\n",
       "      <td>NaN</td>\n",
       "      <td>NaN</td>\n",
       "      <td>35.0</td>\n",
       "      <td>29.0</td>\n",
       "      <td>9.0</td>\n",
       "      <td>3.0</td>\n",
       "    </tr>\n",
       "    <tr>\n",
       "      <th>2018-01-04</th>\n",
       "      <td>NaN</td>\n",
       "      <td>NaN</td>\n",
       "      <td>NaN</td>\n",
       "      <td>NaN</td>\n",
       "      <td>101.0</td>\n",
       "      <td>112.0</td>\n",
       "      <td>138.0</td>\n",
       "      <td>141.0</td>\n",
       "      <td>36.0</td>\n",
       "      <td>27.0</td>\n",
       "      <td>...</td>\n",
       "      <td>9.0</td>\n",
       "      <td>19.0</td>\n",
       "      <td>NaN</td>\n",
       "      <td>NaN</td>\n",
       "      <td>NaN</td>\n",
       "      <td>NaN</td>\n",
       "      <td>56.0</td>\n",
       "      <td>52.0</td>\n",
       "      <td>4.0</td>\n",
       "      <td>8.0</td>\n",
       "    </tr>\n",
       "    <tr>\n",
       "      <th>2018-01-05</th>\n",
       "      <td>NaN</td>\n",
       "      <td>NaN</td>\n",
       "      <td>NaN</td>\n",
       "      <td>NaN</td>\n",
       "      <td>111.0</td>\n",
       "      <td>121.0</td>\n",
       "      <td>131.0</td>\n",
       "      <td>116.0</td>\n",
       "      <td>56.0</td>\n",
       "      <td>32.0</td>\n",
       "      <td>...</td>\n",
       "      <td>10.0</td>\n",
       "      <td>8.0</td>\n",
       "      <td>NaN</td>\n",
       "      <td>NaN</td>\n",
       "      <td>NaN</td>\n",
       "      <td>NaN</td>\n",
       "      <td>54.0</td>\n",
       "      <td>52.0</td>\n",
       "      <td>15.0</td>\n",
       "      <td>14.0</td>\n",
       "    </tr>\n",
       "    <tr>\n",
       "      <th>...</th>\n",
       "      <td>...</td>\n",
       "      <td>...</td>\n",
       "      <td>...</td>\n",
       "      <td>...</td>\n",
       "      <td>...</td>\n",
       "      <td>...</td>\n",
       "      <td>...</td>\n",
       "      <td>...</td>\n",
       "      <td>...</td>\n",
       "      <td>...</td>\n",
       "      <td>...</td>\n",
       "      <td>...</td>\n",
       "      <td>...</td>\n",
       "      <td>...</td>\n",
       "      <td>...</td>\n",
       "      <td>...</td>\n",
       "      <td>...</td>\n",
       "      <td>...</td>\n",
       "      <td>...</td>\n",
       "      <td>...</td>\n",
       "      <td>...</td>\n",
       "    </tr>\n",
       "    <tr>\n",
       "      <th>2021-03-23</th>\n",
       "      <td>5.0</td>\n",
       "      <td>85.0</td>\n",
       "      <td>136.0</td>\n",
       "      <td>150.0</td>\n",
       "      <td>222.0</td>\n",
       "      <td>250.0</td>\n",
       "      <td>NaN</td>\n",
       "      <td>NaN</td>\n",
       "      <td>67.0</td>\n",
       "      <td>74.0</td>\n",
       "      <td>...</td>\n",
       "      <td>0.0</td>\n",
       "      <td>0.0</td>\n",
       "      <td>320.0</td>\n",
       "      <td>384.0</td>\n",
       "      <td>200.0</td>\n",
       "      <td>239.0</td>\n",
       "      <td>75.0</td>\n",
       "      <td>110.0</td>\n",
       "      <td>NaN</td>\n",
       "      <td>NaN</td>\n",
       "    </tr>\n",
       "    <tr>\n",
       "      <th>2021-03-24</th>\n",
       "      <td>61.0</td>\n",
       "      <td>110.0</td>\n",
       "      <td>124.0</td>\n",
       "      <td>173.0</td>\n",
       "      <td>481.0</td>\n",
       "      <td>609.0</td>\n",
       "      <td>NaN</td>\n",
       "      <td>NaN</td>\n",
       "      <td>148.0</td>\n",
       "      <td>144.0</td>\n",
       "      <td>...</td>\n",
       "      <td>0.0</td>\n",
       "      <td>0.0</td>\n",
       "      <td>636.0</td>\n",
       "      <td>742.0</td>\n",
       "      <td>521.0</td>\n",
       "      <td>631.0</td>\n",
       "      <td>137.0</td>\n",
       "      <td>158.0</td>\n",
       "      <td>NaN</td>\n",
       "      <td>NaN</td>\n",
       "    </tr>\n",
       "    <tr>\n",
       "      <th>2021-03-25</th>\n",
       "      <td>66.0</td>\n",
       "      <td>106.0</td>\n",
       "      <td>146.0</td>\n",
       "      <td>162.0</td>\n",
       "      <td>654.0</td>\n",
       "      <td>863.0</td>\n",
       "      <td>NaN</td>\n",
       "      <td>NaN</td>\n",
       "      <td>183.0</td>\n",
       "      <td>170.0</td>\n",
       "      <td>...</td>\n",
       "      <td>0.0</td>\n",
       "      <td>0.0</td>\n",
       "      <td>921.0</td>\n",
       "      <td>992.0</td>\n",
       "      <td>866.0</td>\n",
       "      <td>1000.0</td>\n",
       "      <td>105.0</td>\n",
       "      <td>156.0</td>\n",
       "      <td>NaN</td>\n",
       "      <td>NaN</td>\n",
       "    </tr>\n",
       "    <tr>\n",
       "      <th>2021-03-26</th>\n",
       "      <td>62.0</td>\n",
       "      <td>131.0</td>\n",
       "      <td>155.0</td>\n",
       "      <td>216.0</td>\n",
       "      <td>787.0</td>\n",
       "      <td>1000.0</td>\n",
       "      <td>NaN</td>\n",
       "      <td>NaN</td>\n",
       "      <td>209.0</td>\n",
       "      <td>194.0</td>\n",
       "      <td>...</td>\n",
       "      <td>0.0</td>\n",
       "      <td>0.0</td>\n",
       "      <td>1050.0</td>\n",
       "      <td>1245.0</td>\n",
       "      <td>1123.0</td>\n",
       "      <td>1359.0</td>\n",
       "      <td>186.0</td>\n",
       "      <td>166.0</td>\n",
       "      <td>NaN</td>\n",
       "      <td>NaN</td>\n",
       "    </tr>\n",
       "    <tr>\n",
       "      <th>2021-03-27</th>\n",
       "      <td>8.0</td>\n",
       "      <td>22.0</td>\n",
       "      <td>13.0</td>\n",
       "      <td>20.0</td>\n",
       "      <td>79.0</td>\n",
       "      <td>95.0</td>\n",
       "      <td>NaN</td>\n",
       "      <td>NaN</td>\n",
       "      <td>20.0</td>\n",
       "      <td>18.0</td>\n",
       "      <td>...</td>\n",
       "      <td>0.0</td>\n",
       "      <td>0.0</td>\n",
       "      <td>133.0</td>\n",
       "      <td>194.0</td>\n",
       "      <td>61.0</td>\n",
       "      <td>122.0</td>\n",
       "      <td>42.0</td>\n",
       "      <td>19.0</td>\n",
       "      <td>NaN</td>\n",
       "      <td>NaN</td>\n",
       "    </tr>\n",
       "  </tbody>\n",
       "</table>\n",
       "<p>1182 rows × 71 columns</p>\n",
       "</div>"
      ],
      "text/plain": [
       "location      Anděl (Plzeňská)                       Atletická          \\\n",
       "direction  Plzeňská (z centra) Štefánikova (centrum)  Ladronka Strahov   \n",
       "ts                                                                       \n",
       "2018-01-01                 NaN                   NaN       NaN     NaN   \n",
       "2018-01-02                 NaN                   NaN       NaN     NaN   \n",
       "2018-01-03                 NaN                   NaN       NaN     NaN   \n",
       "2018-01-04                 NaN                   NaN       NaN     NaN   \n",
       "2018-01-05                 NaN                   NaN       NaN     NaN   \n",
       "...                        ...                   ...       ...     ...   \n",
       "2021-03-23                 5.0                  85.0     136.0   150.0   \n",
       "2021-03-24                61.0                 110.0     124.0   173.0   \n",
       "2021-03-25                66.0                 106.0     146.0   162.0   \n",
       "2021-03-26                62.0                 131.0     155.0   216.0   \n",
       "2021-03-27                 8.0                  22.0      13.0    20.0   \n",
       "\n",
       "location   Barrandovský most            Celetná                      Chodov  \\\n",
       "direction  Barrandovský most Zlíchov Ovocný trh Prašná brána Chodov centrum   \n",
       "ts                                                                            \n",
       "2018-01-01             143.0   179.0       50.0         55.0           32.0   \n",
       "2018-01-02             106.0   115.0      126.0        137.0           44.0   \n",
       "2018-01-03              42.0    53.0      143.0         97.0           25.0   \n",
       "2018-01-04             101.0   112.0      138.0        141.0           36.0   \n",
       "2018-01-05             111.0   121.0      131.0        116.0           56.0   \n",
       "...                      ...     ...        ...          ...            ...   \n",
       "2021-03-23             222.0   250.0        NaN          NaN           67.0   \n",
       "2021-03-24             481.0   609.0        NaN          NaN          148.0   \n",
       "2021-03-25             654.0   863.0        NaN          NaN          183.0   \n",
       "2021-03-26             787.0  1000.0        NaN          NaN          209.0   \n",
       "2021-03-27              79.0    95.0        NaN          NaN           20.0   \n",
       "\n",
       "location                ... Střešovice          U Českých loděnic             \\\n",
       "direction  ul. Türkova  ...  do centra z centra             Libeň Povltavská   \n",
       "ts                      ...                                                    \n",
       "2018-01-01        22.0  ...        3.0      6.0               NaN        NaN   \n",
       "2018-01-02        18.0  ...       12.0      9.0               NaN        NaN   \n",
       "2018-01-03        18.0  ...        6.0      6.0               NaN        NaN   \n",
       "2018-01-04        27.0  ...        9.0     19.0               NaN        NaN   \n",
       "2018-01-05        32.0  ...       10.0      8.0               NaN        NaN   \n",
       "...                ...  ...        ...      ...               ...        ...   \n",
       "2021-03-23        74.0  ...        0.0      0.0             320.0      384.0   \n",
       "2021-03-24       144.0  ...        0.0      0.0             636.0      742.0   \n",
       "2021-03-25       170.0  ...        0.0      0.0             921.0      992.0   \n",
       "2021-03-26       194.0  ...        0.0      0.0            1050.0     1245.0   \n",
       "2021-03-27        18.0  ...        0.0      0.0             133.0      194.0   \n",
       "\n",
       "location   V Zámcích         Vršovická             Šeberov          \n",
       "direction    Bohnice Klecany     Nusle Strašnice Kunratice Šeberov  \n",
       "ts                                                                  \n",
       "2018-01-01       NaN     NaN      50.0      37.0      31.0    27.0  \n",
       "2018-01-02       NaN     NaN      52.0      44.0      12.0    10.0  \n",
       "2018-01-03       NaN     NaN      35.0      29.0       9.0     3.0  \n",
       "2018-01-04       NaN     NaN      56.0      52.0       4.0     8.0  \n",
       "2018-01-05       NaN     NaN      54.0      52.0      15.0    14.0  \n",
       "...              ...     ...       ...       ...       ...     ...  \n",
       "2021-03-23     200.0   239.0      75.0     110.0       NaN     NaN  \n",
       "2021-03-24     521.0   631.0     137.0     158.0       NaN     NaN  \n",
       "2021-03-25     866.0  1000.0     105.0     156.0       NaN     NaN  \n",
       "2021-03-26    1123.0  1359.0     186.0     166.0       NaN     NaN  \n",
       "2021-03-27      61.0   122.0      42.0      19.0       NaN     NaN  \n",
       "\n",
       "[1182 rows x 71 columns]"
      ]
     },
     "execution_count": 95,
     "metadata": {},
     "output_type": "execute_result"
    }
   ],
   "source": [
    "detections.unstack(['location','direction'])"
   ]
  },
  {
   "cell_type": "markdown",
   "metadata": {},
   "source": [
    "### Row-wise"
   ]
  },
  {
   "cell_type": "code",
   "execution_count": 99,
   "metadata": {},
   "outputs": [
    {
     "data": {
      "text/html": [
       "<div>\n",
       "<style scoped>\n",
       "    .dataframe tbody tr th:only-of-type {\n",
       "        vertical-align: middle;\n",
       "    }\n",
       "\n",
       "    .dataframe tbody tr th {\n",
       "        vertical-align: top;\n",
       "    }\n",
       "\n",
       "    .dataframe thead th {\n",
       "        text-align: right;\n",
       "    }\n",
       "</style>\n",
       "<table border=\"1\" class=\"dataframe\">\n",
       "  <thead>\n",
       "    <tr style=\"text-align: right;\">\n",
       "      <th></th>\n",
       "      <th>location</th>\n",
       "      <th>direction</th>\n",
       "      <th>value</th>\n",
       "    </tr>\n",
       "    <tr>\n",
       "      <th>ts</th>\n",
       "      <th></th>\n",
       "      <th></th>\n",
       "      <th></th>\n",
       "    </tr>\n",
       "  </thead>\n",
       "  <tbody>\n",
       "    <tr>\n",
       "      <th>2018-01-01</th>\n",
       "      <td>Modřany</td>\n",
       "      <td>centrum</td>\n",
       "      <td>320.0</td>\n",
       "    </tr>\n",
       "    <tr>\n",
       "      <th>2018-01-02</th>\n",
       "      <td>Podolské nábřeží - stezka</td>\n",
       "      <td>do centra (Výtoň)</td>\n",
       "      <td>190.0</td>\n",
       "    </tr>\n",
       "    <tr>\n",
       "      <th>2018-01-03</th>\n",
       "      <td>Celetná</td>\n",
       "      <td>Ovocný trh</td>\n",
       "      <td>143.0</td>\n",
       "    </tr>\n",
       "    <tr>\n",
       "      <th>2018-01-04</th>\n",
       "      <td>Podolské nábřeží - stezka</td>\n",
       "      <td>do centra (Výtoň)</td>\n",
       "      <td>149.0</td>\n",
       "    </tr>\n",
       "    <tr>\n",
       "      <th>2018-01-05</th>\n",
       "      <td>Podolské nábřeží - stezka</td>\n",
       "      <td>do centra (Výtoň)</td>\n",
       "      <td>155.0</td>\n",
       "    </tr>\n",
       "    <tr>\n",
       "      <th>...</th>\n",
       "      <td>...</td>\n",
       "      <td>...</td>\n",
       "      <td>...</td>\n",
       "    </tr>\n",
       "    <tr>\n",
       "      <th>2021-03-23</th>\n",
       "      <td>Povltavská</td>\n",
       "      <td>ZOO</td>\n",
       "      <td>415.0</td>\n",
       "    </tr>\n",
       "    <tr>\n",
       "      <th>2021-03-24</th>\n",
       "      <td>Povltavská</td>\n",
       "      <td>ul. Vodácká</td>\n",
       "      <td>1096.0</td>\n",
       "    </tr>\n",
       "    <tr>\n",
       "      <th>2021-03-25</th>\n",
       "      <td>Povltavská</td>\n",
       "      <td>ul. Vodácká</td>\n",
       "      <td>1742.0</td>\n",
       "    </tr>\n",
       "    <tr>\n",
       "      <th>2021-03-26</th>\n",
       "      <td>Povltavská</td>\n",
       "      <td>ul. Vodácká</td>\n",
       "      <td>2135.0</td>\n",
       "    </tr>\n",
       "    <tr>\n",
       "      <th>2021-03-27</th>\n",
       "      <td>Praha - Podolí</td>\n",
       "      <td>Praha Cyklisté do centra</td>\n",
       "      <td>676.0</td>\n",
       "    </tr>\n",
       "  </tbody>\n",
       "</table>\n",
       "<p>1182 rows × 3 columns</p>\n",
       "</div>"
      ],
      "text/plain": [
       "                             location                 direction   value\n",
       "ts                                                                     \n",
       "2018-01-01                    Modřany                   centrum   320.0\n",
       "2018-01-02  Podolské nábřeží - stezka         do centra (Výtoň)   190.0\n",
       "2018-01-03                    Celetná                Ovocný trh   143.0\n",
       "2018-01-04  Podolské nábřeží - stezka         do centra (Výtoň)   149.0\n",
       "2018-01-05  Podolské nábřeží - stezka         do centra (Výtoň)   155.0\n",
       "...                               ...                       ...     ...\n",
       "2021-03-23                 Povltavská                       ZOO   415.0\n",
       "2021-03-24                 Povltavská               ul. Vodácká  1096.0\n",
       "2021-03-25                 Povltavská               ul. Vodácká  1742.0\n",
       "2021-03-26                 Povltavská               ul. Vodácká  2135.0\n",
       "2021-03-27             Praha - Podolí  Praha Cyklisté do centra   676.0\n",
       "\n",
       "[1182 rows x 3 columns]"
      ]
     },
     "execution_count": 99,
     "metadata": {},
     "output_type": "execute_result"
    }
   ],
   "source": [
    "def get_max_counter(row):\n",
    "    recordman = row.idxmax()\n",
    "    return pd.Series({'location':recordman[0],'direction':recordman[1],'value':row.max()})\n",
    "detcols.apply(get_max_counter,axis=1)"
   ]
  },
  {
   "cell_type": "markdown",
   "metadata": {},
   "source": [
    "## Group By\n",
    "\n",
    "**Split-Apply-Combine Logic**\n",
    "\n",
    "https://pandas.pydata.org/pandas-docs/stable/user_guide/groupby.html\n",
    "\n",
    "\n",
    "* Splitting the data into groups based on some criteria.\n",
    "\n",
    "* Applying a function to each group independently.\n",
    "\n",
    "* Combining the results into a data structure.\n",
    "\n"
   ]
  },
  {
   "cell_type": "code",
   "execution_count": 100,
   "metadata": {},
   "outputs": [
    {
     "data": {
      "text/plain": [
       "location          direction            ts        \n",
       "Anděl (Plzeňská)  Plzeňská (z centra)  2019-01-20    0.0\n",
       "                                       2019-01-21    0.0\n",
       "                                       2019-01-22    0.0\n",
       "                                       2019-01-23    0.0\n",
       "                                       2019-01-24    0.0\n",
       "                                                    ... \n",
       "Šeberov           Šeberov              2021-03-23    NaN\n",
       "                                       2021-03-24    NaN\n",
       "                                       2021-03-25    NaN\n",
       "                                       2021-03-26    NaN\n",
       "                                       2021-03-27    NaN\n",
       "Name: value, Length: 73339, dtype: float64"
      ]
     },
     "execution_count": 100,
     "metadata": {},
     "output_type": "execute_result"
    }
   ],
   "source": [
    "detections"
   ]
  },
  {
   "cell_type": "code",
   "execution_count": null,
   "metadata": {},
   "outputs": [],
   "source": [
    "def share_of_missing(col,args):\n",
    "    return col[col.isna()].shape[0]/col.shape[0]"
   ]
  },
  {
   "cell_type": "code",
   "execution_count": 106,
   "metadata": {},
   "outputs": [
    {
     "data": {
      "text/plain": [
       "<function __main__.<lambda>(col)>"
      ]
     },
     "execution_count": 106,
     "metadata": {},
     "output_type": "execute_result"
    }
   ],
   "source": [
    "func = lambda col: col[col.isna()].shape[0]/col.shape[0]\n",
    "func"
   ]
  },
  {
   "cell_type": "code",
   "execution_count": 107,
   "metadata": {},
   "outputs": [
    {
     "data": {
      "text/plain": [
       "location           direction            \n",
       "Anděl (Plzeňská)   Plzeňská (z centra)      0.122951\n",
       "                   Štefánikova (centrum)    0.146175\n",
       "Atletická          Ladronka                 0.292350\n",
       "                   Strahov                  0.133880\n",
       "Barrandovský most  Barrandovský most        0.075296\n",
       "                                              ...   \n",
       "V Zámcích          Klecany                  0.044753\n",
       "Vršovická          Nusle                    0.100677\n",
       "                   Strašnice                0.107445\n",
       "Šeberov            Kunratice                0.183587\n",
       "                   Šeberov                  0.185279\n",
       "Name: value, Length: 71, dtype: float64"
      ]
     },
     "execution_count": 107,
     "metadata": {},
     "output_type": "execute_result"
    }
   ],
   "source": [
    "detections.groupby(['location','direction']).apply(func)"
   ]
  },
  {
   "cell_type": "code",
   "execution_count": 102,
   "metadata": {},
   "outputs": [
    {
     "data": {
      "text/plain": [
       "location           direction            \n",
       "Anděl (Plzeňská)   Plzeňská (z centra)       67.0\n",
       "                   Štefánikova (centrum)     38.0\n",
       "Atletická          Ladronka                  60.5\n",
       "                   Strahov                   95.0\n",
       "Barrandovský most  Barrandovský most        266.0\n",
       "                                            ...  \n",
       "V Zámcích          Klecany                  185.0\n",
       "Vršovická          Nusle                    148.0\n",
       "                   Strašnice                108.0\n",
       "Šeberov            Kunratice                 13.0\n",
       "                   Šeberov                   12.0\n",
       "Name: value, Length: 71, dtype: float64"
      ]
     },
     "execution_count": 102,
     "metadata": {},
     "output_type": "execute_result"
    }
   ],
   "source": [
    "detections.groupby(['location','direction']).median()"
   ]
  },
  {
   "cell_type": "code",
   "execution_count": 108,
   "metadata": {},
   "outputs": [
    {
     "data": {
      "text/plain": [
       "location          direction            ts        \n",
       "Anděl (Plzeňská)  Plzeňská (z centra)  2019-01-20    0.0\n",
       "                                       2019-01-21    0.0\n",
       "                                       2019-01-22    0.0\n",
       "                                       2019-01-23    0.0\n",
       "                                       2019-01-24    0.0\n",
       "                                                    ... \n",
       "Šeberov           Šeberov              2021-03-23    NaN\n",
       "                                       2021-03-24    NaN\n",
       "                                       2021-03-25    NaN\n",
       "                                       2021-03-26    NaN\n",
       "                                       2021-03-27    NaN\n",
       "Name: value, Length: 73339, dtype: float64"
      ]
     },
     "execution_count": 108,
     "metadata": {},
     "output_type": "execute_result"
    }
   ],
   "source": [
    "detections"
   ]
  },
  {
   "cell_type": "code",
   "execution_count": 111,
   "metadata": {},
   "outputs": [
    {
     "data": {
      "image/png": "[encoded data removed]",
      "text/plain": [
       "<Figure size 1440x432 with 1 Axes>"
      ]
     },
     "metadata": {
      "needs_background": "light"
     },
     "output_type": "display_data"
    }
   ],
   "source": [
    "detections.groupby(['location',pd.Grouper(level='ts',freq='1M')]).median().unstack('location').plot(ls='--',legend=False,**plotconfig);"
   ]
  },
  {
   "cell_type": "code",
   "execution_count": 114,
   "metadata": {},
   "outputs": [
    {
     "data": {
      "text/html": [
       "<div>\n",
       "<style scoped>\n",
       "    .dataframe tbody tr th:only-of-type {\n",
       "        vertical-align: middle;\n",
       "    }\n",
       "\n",
       "    .dataframe tbody tr th {\n",
       "        vertical-align: top;\n",
       "    }\n",
       "\n",
       "    .dataframe thead th {\n",
       "        text-align: right;\n",
       "    }\n",
       "</style>\n",
       "<table border=\"1\" class=\"dataframe\">\n",
       "  <thead>\n",
       "    <tr style=\"text-align: right;\">\n",
       "      <th>location</th>\n",
       "      <th>Střešovice</th>\n",
       "      <th>Košíře</th>\n",
       "      <th>Šeberov</th>\n",
       "      <th>Radotín</th>\n",
       "      <th>Podbabská</th>\n",
       "      <th>Jeremenkova</th>\n",
       "      <th>Anděl (Plzeňská)</th>\n",
       "      <th>Elsnicovo náměstí x U Českých loděnic</th>\n",
       "      <th>Letňany</th>\n",
       "      <th>Chodov</th>\n",
       "      <th>...</th>\n",
       "      <th>Císařský ostrov</th>\n",
       "      <th>Smetanovo nábřeží</th>\n",
       "      <th>Nábřeží Kapitána Jaroše</th>\n",
       "      <th>Celetná</th>\n",
       "      <th>Povltavská</th>\n",
       "      <th>Barrandovský most</th>\n",
       "      <th>U Českých loděnic</th>\n",
       "      <th>Podolské nábřeží - stezka</th>\n",
       "      <th>Rohanské nábřeží</th>\n",
       "      <th>Praha - Podolí</th>\n",
       "    </tr>\n",
       "  </thead>\n",
       "  <tbody>\n",
       "    <tr>\n",
       "      <th>0</th>\n",
       "      <td>0.0</td>\n",
       "      <td>0.0</td>\n",
       "      <td>11.5</td>\n",
       "      <td>44.0</td>\n",
       "      <td>44.0</td>\n",
       "      <td>50.0</td>\n",
       "      <td>59.0</td>\n",
       "      <td>59.5</td>\n",
       "      <td>67.0</td>\n",
       "      <td>68.0</td>\n",
       "      <td>...</td>\n",
       "      <td>167.0</td>\n",
       "      <td>177.0</td>\n",
       "      <td>181.5</td>\n",
       "      <td>185.5</td>\n",
       "      <td>220.0</td>\n",
       "      <td>244.0</td>\n",
       "      <td>252.0</td>\n",
       "      <td>287.5</td>\n",
       "      <td>308.5</td>\n",
       "      <td>396.0</td>\n",
       "    </tr>\n",
       "    <tr>\n",
       "      <th>1</th>\n",
       "      <td>0.0</td>\n",
       "      <td>0.0</td>\n",
       "      <td>12.0</td>\n",
       "      <td>53.0</td>\n",
       "      <td>46.0</td>\n",
       "      <td>55.0</td>\n",
       "      <td>64.0</td>\n",
       "      <td>77.5</td>\n",
       "      <td>76.0</td>\n",
       "      <td>73.5</td>\n",
       "      <td>...</td>\n",
       "      <td>187.0</td>\n",
       "      <td>187.0</td>\n",
       "      <td>209.5</td>\n",
       "      <td>202.0</td>\n",
       "      <td>235.0</td>\n",
       "      <td>309.0</td>\n",
       "      <td>244.0</td>\n",
       "      <td>340.5</td>\n",
       "      <td>377.0</td>\n",
       "      <td>450.0</td>\n",
       "    </tr>\n",
       "    <tr>\n",
       "      <th>2</th>\n",
       "      <td>0.0</td>\n",
       "      <td>0.0</td>\n",
       "      <td>17.0</td>\n",
       "      <td>53.5</td>\n",
       "      <td>47.0</td>\n",
       "      <td>50.5</td>\n",
       "      <td>68.0</td>\n",
       "      <td>77.0</td>\n",
       "      <td>76.0</td>\n",
       "      <td>78.0</td>\n",
       "      <td>...</td>\n",
       "      <td>184.0</td>\n",
       "      <td>186.5</td>\n",
       "      <td>206.5</td>\n",
       "      <td>178.5</td>\n",
       "      <td>232.5</td>\n",
       "      <td>312.5</td>\n",
       "      <td>284.0</td>\n",
       "      <td>316.0</td>\n",
       "      <td>374.0</td>\n",
       "      <td>559.0</td>\n",
       "    </tr>\n",
       "    <tr>\n",
       "      <th>3</th>\n",
       "      <td>0.0</td>\n",
       "      <td>0.0</td>\n",
       "      <td>13.5</td>\n",
       "      <td>60.5</td>\n",
       "      <td>49.0</td>\n",
       "      <td>52.0</td>\n",
       "      <td>73.0</td>\n",
       "      <td>69.5</td>\n",
       "      <td>81.0</td>\n",
       "      <td>72.5</td>\n",
       "      <td>...</td>\n",
       "      <td>188.0</td>\n",
       "      <td>189.5</td>\n",
       "      <td>222.0</td>\n",
       "      <td>201.5</td>\n",
       "      <td>251.0</td>\n",
       "      <td>325.0</td>\n",
       "      <td>305.0</td>\n",
       "      <td>314.5</td>\n",
       "      <td>402.0</td>\n",
       "      <td>612.0</td>\n",
       "    </tr>\n",
       "    <tr>\n",
       "      <th>4</th>\n",
       "      <td>0.0</td>\n",
       "      <td>0.0</td>\n",
       "      <td>12.5</td>\n",
       "      <td>51.5</td>\n",
       "      <td>46.0</td>\n",
       "      <td>49.0</td>\n",
       "      <td>60.0</td>\n",
       "      <td>67.0</td>\n",
       "      <td>77.5</td>\n",
       "      <td>70.0</td>\n",
       "      <td>...</td>\n",
       "      <td>186.0</td>\n",
       "      <td>171.5</td>\n",
       "      <td>205.5</td>\n",
       "      <td>187.5</td>\n",
       "      <td>231.0</td>\n",
       "      <td>302.0</td>\n",
       "      <td>264.0</td>\n",
       "      <td>307.0</td>\n",
       "      <td>352.5</td>\n",
       "      <td>500.5</td>\n",
       "    </tr>\n",
       "    <tr>\n",
       "      <th>5</th>\n",
       "      <td>0.0</td>\n",
       "      <td>0.0</td>\n",
       "      <td>10.0</td>\n",
       "      <td>62.5</td>\n",
       "      <td>50.0</td>\n",
       "      <td>31.0</td>\n",
       "      <td>28.0</td>\n",
       "      <td>51.5</td>\n",
       "      <td>63.0</td>\n",
       "      <td>59.0</td>\n",
       "      <td>...</td>\n",
       "      <td>188.5</td>\n",
       "      <td>119.0</td>\n",
       "      <td>134.5</td>\n",
       "      <td>116.0</td>\n",
       "      <td>337.5</td>\n",
       "      <td>292.0</td>\n",
       "      <td>224.0</td>\n",
       "      <td>208.5</td>\n",
       "      <td>231.0</td>\n",
       "      <td>566.5</td>\n",
       "    </tr>\n",
       "    <tr>\n",
       "      <th>6</th>\n",
       "      <td>0.0</td>\n",
       "      <td>0.0</td>\n",
       "      <td>13.0</td>\n",
       "      <td>63.0</td>\n",
       "      <td>54.0</td>\n",
       "      <td>36.0</td>\n",
       "      <td>25.0</td>\n",
       "      <td>52.5</td>\n",
       "      <td>81.5</td>\n",
       "      <td>67.5</td>\n",
       "      <td>...</td>\n",
       "      <td>206.0</td>\n",
       "      <td>97.0</td>\n",
       "      <td>132.5</td>\n",
       "      <td>92.5</td>\n",
       "      <td>379.0</td>\n",
       "      <td>336.5</td>\n",
       "      <td>310.0</td>\n",
       "      <td>262.0</td>\n",
       "      <td>245.0</td>\n",
       "      <td>501.0</td>\n",
       "    </tr>\n",
       "  </tbody>\n",
       "</table>\n",
       "<p>7 rows × 36 columns</p>\n",
       "</div>"
      ],
      "text/plain": [
       "location  Střešovice  Košíře  Šeberov  Radotín  Podbabská  Jeremenkova  \\\n",
       "0                0.0     0.0     11.5     44.0       44.0         50.0   \n",
       "1                0.0     0.0     12.0     53.0       46.0         55.0   \n",
       "2                0.0     0.0     17.0     53.5       47.0         50.5   \n",
       "3                0.0     0.0     13.5     60.5       49.0         52.0   \n",
       "4                0.0     0.0     12.5     51.5       46.0         49.0   \n",
       "5                0.0     0.0     10.0     62.5       50.0         31.0   \n",
       "6                0.0     0.0     13.0     63.0       54.0         36.0   \n",
       "\n",
       "location  Anděl (Plzeňská)  Elsnicovo náměstí x U Českých loděnic  Letňany  \\\n",
       "0                     59.0                                   59.5     67.0   \n",
       "1                     64.0                                   77.5     76.0   \n",
       "2                     68.0                                   77.0     76.0   \n",
       "3                     73.0                                   69.5     81.0   \n",
       "4                     60.0                                   67.0     77.5   \n",
       "5                     28.0                                   51.5     63.0   \n",
       "6                     25.0                                   52.5     81.5   \n",
       "\n",
       "location  Chodov  ...  Císařský ostrov  Smetanovo nábřeží  \\\n",
       "0           68.0  ...            167.0              177.0   \n",
       "1           73.5  ...            187.0              187.0   \n",
       "2           78.0  ...            184.0              186.5   \n",
       "3           72.5  ...            188.0              189.5   \n",
       "4           70.0  ...            186.0              171.5   \n",
       "5           59.0  ...            188.5              119.0   \n",
       "6           67.5  ...            206.0               97.0   \n",
       "\n",
       "location  Nábřeží Kapitána Jaroše  Celetná  Povltavská  Barrandovský most  \\\n",
       "0                           181.5    185.5       220.0              244.0   \n",
       "1                           209.5    202.0       235.0              309.0   \n",
       "2                           206.5    178.5       232.5              312.5   \n",
       "3                           222.0    201.5       251.0              325.0   \n",
       "4                           205.5    187.5       231.0              302.0   \n",
       "5                           134.5    116.0       337.5              292.0   \n",
       "6                           132.5     92.5       379.0              336.5   \n",
       "\n",
       "location  U Českých loděnic  Podolské nábřeží - stezka  Rohanské nábřeží  \\\n",
       "0                     252.0                      287.5             308.5   \n",
       "1                     244.0                      340.5             377.0   \n",
       "2                     284.0                      316.0             374.0   \n",
       "3                     305.0                      314.5             402.0   \n",
       "4                     264.0                      307.0             352.5   \n",
       "5                     224.0                      208.5             231.0   \n",
       "6                     310.0                      262.0             245.0   \n",
       "\n",
       "location  Praha - Podolí  \n",
       "0                  396.0  \n",
       "1                  450.0  \n",
       "2                  559.0  \n",
       "3                  612.0  \n",
       "4                  500.5  \n",
       "5                  566.5  \n",
       "6                  501.0  \n",
       "\n",
       "[7 rows x 36 columns]"
      ]
     },
     "execution_count": 114,
     "metadata": {},
     "output_type": "execute_result"
    }
   ],
   "source": [
    "detections.groupby(['location',lambda idx: idx[2].dayofweek]).median().unstack('location').sort_values(by=0,axis=1)"
   ]
  },
  {
   "cell_type": "code",
   "execution_count": 115,
   "metadata": {},
   "outputs": [
    {
     "data": {
      "image/png": "[encoded data removed]",
      "text/plain": [
       "<Figure size 1440x432 with 1 Axes>"
      ]
     },
     "metadata": {
      "needs_background": "light"
     },
     "output_type": "display_data"
    }
   ],
   "source": [
    "detections.groupby(['location',lambda idx:idx[2].dayofweek]).median().unstack(0).sort_values(by=0,axis=1).plot.bar(legend=False,figsize=(20,6),title='Median daily count across day ');"
   ]
  },
  {
   "cell_type": "code",
   "execution_count": null,
   "metadata": {},
   "outputs": [],
   "source": [
    "detections[detections.index.get_level_values('ts').month.isin([3,4,5,6,7,8,9,10])].dropna().groupby([lambda idx: idx[2].year,lambda idx: idx[2].week]).median().unstack(0).plot(title='Mediánový počet průjezdů v daném týdnu v roce (pouze březen - říjen)',figsize=(20,6),grid=True)"
   ]
  },
  {
   "cell_type": "markdown",
   "metadata": {},
   "source": [
    "### Group by and Apply - Number of missing values per group and per month"
   ]
  },
  {
   "cell_type": "code",
   "execution_count": 116,
   "metadata": {},
   "outputs": [
    {
     "data": {
      "text/plain": [
       "<AxesSubplot:xlabel='location'>"
      ]
     },
     "execution_count": 116,
     "metadata": {},
     "output_type": "execute_result"
    },
    {
     "data": {
      "image/png": "[encoded data removed]",
      "text/plain": [
       "<Figure size 1440x432 with 1 Axes>"
      ]
     },
     "metadata": {
      "needs_background": "light"
     },
     "output_type": "display_data"
    }
   ],
   "source": [
    "def share_of_missing_values(g):\n",
    "    return 1-(g.dropna().shape[0]/g.shape[0])\n",
    "\n",
    "detections.groupby(['location']).apply(share_of_missing_values).sort_values().plot.bar(figsize=(20,6),grid=True)"
   ]
  },
  {
   "cell_type": "code",
   "execution_count": 117,
   "metadata": {},
   "outputs": [
    {
     "data": {
      "image/png": "[encoded data removed]",
      "text/plain": [
       "<Figure size 720x720 with 2 Axes>"
      ]
     },
     "metadata": {
      "needs_background": "light"
     },
     "output_type": "display_data"
    }
   ],
   "source": [
    "missing = detections.groupby(['location',pd.Grouper(level='ts',freq='1M')]).apply(share_of_missing_values).unstack('location')\n",
    "\n",
    "fig, ax = plt.subplots(1,1,figsize=(10,10))\n",
    "img = ax.matshow(missing,cmap='Reds')\n",
    "\n",
    "ax.set_yticks(range(len(missing.index)))\n",
    "ax.set_yticklabels(missing.index.strftime('%Y-%m'))\n",
    "\n",
    "ax.set_xticks(range(len(missing.columns)))\n",
    "ax.set_xticklabels(missing.columns,rotation=90)\n",
    "fig.colorbar(img)\n",
    "fig.tight_layout()"
   ]
  },
  {
   "cell_type": "markdown",
   "metadata": {},
   "source": [
    "## Merging and joining datasets\n",
    "https://pandas.pydata.org/pandas-docs/stable/user_guide/merging.html\n",
    "\n",
    "* `pd.concat` - vertical alignment (along index)\n",
    "* `pd.merge` - horizontal alignment (along columns, by )\n",
    "    * `df.join` - merge on index\n"
   ]
  },
  {
   "cell_type": "markdown",
   "metadata": {},
   "source": [
    "### Concatenate\n",
    "\n",
    "![Concatenating schema](./img/concat.png)"
   ]
  },
  {
   "cell_type": "markdown",
   "metadata": {},
   "source": [
    "### Merge\n",
    "![Concatenating schema](./img/merge.png)"
   ]
  },
  {
   "cell_type": "markdown",
   "metadata": {},
   "source": [
    "## Join"
   ]
  },
  {
   "cell_type": "code",
   "execution_count": null,
   "metadata": {},
   "outputs": [],
   "source": []
  },
  {
   "cell_type": "markdown",
   "metadata": {},
   "source": [
    "## Time-series "
   ]
  },
  {
   "cell_type": "code",
   "execution_count": null,
   "metadata": {},
   "outputs": [],
   "source": [
    "detections.groupby(['location','direction']).apply(lambda g:g.pct_change()).unstack(['location','direction'])"
   ]
  },
  {
   "cell_type": "markdown",
   "metadata": {},
   "source": [
    "## Rolling"
   ]
  },
  {
   "cell_type": "code",
   "execution_count": null,
   "metadata": {},
   "outputs": [],
   "source": []
  },
  {
   "cell_type": "code",
   "execution_count": null,
   "metadata": {},
   "outputs": [],
   "source": []
  },
  {
   "cell_type": "markdown",
   "metadata": {},
   "source": [
    "## Input-Output"
   ]
  },
  {
   "cell_type": "code",
   "execution_count": null,
   "metadata": {},
   "outputs": [],
   "source": [
    "?pd.read_csv"
   ]
  },
  {
   "cell_type": "code",
   "execution_count": null,
   "metadata": {},
   "outputs": [],
   "source": [
    "?pd.read_*"
   ]
  },
  {
   "cell_type": "markdown",
   "metadata": {},
   "source": [
    "## Plotting with Matplotlib"
   ]
  },
  {
   "cell_type": "code",
   "execution_count": null,
   "metadata": {},
   "outputs": [],
   "source": []
  },
  {
   "cell_type": "code",
   "execution_count": null,
   "metadata": {},
   "outputs": [],
   "source": [
    "\n"
   ]
  }
 ],
 "metadata": {
  "kernelspec": {
   "display_name": "PythonDataIES",
   "language": "python",
   "name": "pythondataies"
  },
  "language_info": {
   "codemirror_mode": {
    "name": "ipython",
    "version": 3
   },
   "file_extension": ".py",
   "mimetype": "text/x-python",
   "name": "python",
   "nbconvert_exporter": "python",
   "pygments_lexer": "ipython3",
   "version": "3.8.8"
  }
 },
 "nbformat": 4,
 "nbformat_minor": 4
}
