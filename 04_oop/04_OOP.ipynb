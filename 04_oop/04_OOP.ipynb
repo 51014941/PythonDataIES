{
 "cells": [
  {
   "cell_type": "markdown",
   "metadata": {},
   "source": [
    "# Lecture 04\n",
    "by Jan Sila, based on Martin Hronec <br>\n",
    "\n",
    "\n",
    "### Table of contents\n",
    "\n",
    "* [Object-oriented programming](#OOP)"
   ]
  },
  {
   "cell_type": "markdown",
   "metadata": {},
   "source": [
    "# OOP \n",
    "\n",
    "Wikipedia definition\n",
    "\n",
    "> is a programming paradigm based on the concept of **objects**, which can contain data and code: data in the form of fields (often known as attributes or properties), and code, in the form of procedures (often known as methods).\n",
    "\n",
    "> A feature of objects is that an object's own procedures can access and often modify the data fields of itself (**objects have a notion of this or self**). In OOP, computer programs are designed by making them out of objects that interact with one another. OOP languages are diverse, but the most popular ones are class-based, meaning that objects are instances of classes, which also determine their types.\n",
    "\n",
    "\n",
    "> In general, OOP tends to be more clear than procedural script. Objects have clearly defined, properties and methods -> what they are, what data they hold, what can they do with them \n",
    "\n",
    "\n",
    ">  If done right, you save lots of typing, less or no copypasting of code ->  DRY principle - Do not repeat yourself (easier debugging and devel potentially)\n",
    "\n",
    "* the traditional (at least for us) programming paradigm is called **procedural** (Fortran, C, MATLAB, etc.)\n",
    "    * Your program goes line by line, variables are changing\n",
    "    * we have data (variables) in different states\n",
    "    \n",
    "    * we call functions on these data\n",
    "    \n",
    "    \n",
    "* in OOP *data* and *functions* (methods) are “bundled together” into **objects**\n",
    "* OOP supported in many languages:\n",
    "    * R is more procedural with some (rather atypical) OOP blend\n",
    "    * JAVA and Ruby are pure OOP\n",
    "    * Fortran and MATLAB are mainly procedural (recently OOP tacked on)\n",
    "    * C is procedural, C++ is C with OOP added on to\n",
    "<br />\n",
    "<br />\n",
    "* Python is a blends object oriented and procedural styles, rather than OOP only\n",
    "    * most of the times (especially for small programs) you can use procedural programming\n",
    "    \n",
    " \n",
    "* Useful when working on problems where there is some common structure in it\n",
    "    * a statistical model consists of coefficients, data, derived metrics, etc.\n",
    "    * a game consists of a list of players, lists of actions available to each player, player payoffs as functions of all players’ actions, and a timing protocol\n",
    "    * a market consists of buyers, sellers and intermediaries - they run transactions,those can have same properties (log buy-side, log sell-side is likely same code. Why copy-paste it)\n",
    "    \n",
    "* abstractions that collect together “objects” of the same “type”\n",
    "    * recognizing common structure allows us to employ common tools\n",
    "    * FOr instance class Model can have method Fit. It can be OLS, GLS, .. each would have the same signature,they would only have different insides (fitting algorithm) \n",
    "\n",
    "\n",
    "\n",
    "* OOP paradigm should be implemented using these steps\n",
    "    * OOA (analysis), OOD (design) and OOP\n",
    "        * ideally separated, in reality overlapping and repeating \n",
    "        \n",
    "* to represent OOP structure, use [Unified Modeling Language (UML)](https://www.uml-diagrams.org/index-examples.html)\n",
    "    * easy-to-draw and easy-to-read\n",
    "    * most of the things are optional (only specify as much information in a diagram as makes sense for the current situation\n",
    "    * con: UML diagrams are going to be redundant before they're implemented \n",
    "        * the most important person you will ever have to communicate with is yourself (why did I do design decision?)\n",
    "\n",
    "\n",
    "## Objects\n",
    "* an object is a collection of data and instructions held in computer memory that consists of:\n",
    "    * a type\n",
    "    * an unique identity\n",
    "    * data (content)\n",
    "    * methods\n",
    "    \n",
    "    * in Python, everything is an object - in the sense that it can be assigned to a variable or passed as an argument to a function\n",
    "    * Everything in Python is an object, and almost everything has attributes and methods. All functions have a built-in attribute __doc__, which returns the doc string defined in the function's source code. The sys module is an object which has (among other things) an attribute called path. And so forth.\n",
    "<img src=\"https://qph.fs.quoracdn.net/main-qimg-fabec043cb6f94bd90a3d1bd3ebccdc5.webp\" >    \n",
    "    \n",
    "### Type\n",
    "* different types of objects, to accommodate different categories of data"
   ]
  },
  {
   "cell_type": "code",
   "execution_count": 1,
   "metadata": {},
   "outputs": [
    {
     "data": {
      "text/plain": [
       "str"
      ]
     },
     "execution_count": 1,
     "metadata": {},
     "output_type": "execute_result"
    }
   ],
   "source": [
    "s = 'A string'\n",
    "type(s)"
   ]
  },
  {
   "cell_type": "code",
   "execution_count": 2,
   "metadata": {},
   "outputs": [
    {
     "data": {
      "text/plain": [
       "['__add__',\n",
       " '__class__',\n",
       " '__contains__',\n",
       " '__delattr__',\n",
       " '__dir__',\n",
       " '__doc__',\n",
       " '__eq__',\n",
       " '__format__',\n",
       " '__ge__',\n",
       " '__getattribute__',\n",
       " '__getitem__',\n",
       " '__getnewargs__',\n",
       " '__gt__',\n",
       " '__hash__',\n",
       " '__init__',\n",
       " '__init_subclass__',\n",
       " '__iter__',\n",
       " '__le__',\n",
       " '__len__',\n",
       " '__lt__',\n",
       " '__mod__',\n",
       " '__mul__',\n",
       " '__ne__',\n",
       " '__new__',\n",
       " '__reduce__',\n",
       " '__reduce_ex__',\n",
       " '__repr__',\n",
       " '__rmod__',\n",
       " '__rmul__',\n",
       " '__setattr__',\n",
       " '__sizeof__',\n",
       " '__str__',\n",
       " '__subclasshook__',\n",
       " 'capitalize',\n",
       " 'casefold',\n",
       " 'center',\n",
       " 'count',\n",
       " 'encode',\n",
       " 'endswith',\n",
       " 'expandtabs',\n",
       " 'find',\n",
       " 'format',\n",
       " 'format_map',\n",
       " 'index',\n",
       " 'isalnum',\n",
       " 'isalpha',\n",
       " 'isascii',\n",
       " 'isdecimal',\n",
       " 'isdigit',\n",
       " 'isidentifier',\n",
       " 'islower',\n",
       " 'isnumeric',\n",
       " 'isprintable',\n",
       " 'isspace',\n",
       " 'istitle',\n",
       " 'isupper',\n",
       " 'join',\n",
       " 'ljust',\n",
       " 'lower',\n",
       " 'lstrip',\n",
       " 'maketrans',\n",
       " 'partition',\n",
       " 'replace',\n",
       " 'rfind',\n",
       " 'rindex',\n",
       " 'rjust',\n",
       " 'rpartition',\n",
       " 'rsplit',\n",
       " 'rstrip',\n",
       " 'split',\n",
       " 'splitlines',\n",
       " 'startswith',\n",
       " 'strip',\n",
       " 'swapcase',\n",
       " 'title',\n",
       " 'translate',\n",
       " 'upper',\n",
       " 'zfill']"
      ]
     },
     "execution_count": 2,
     "metadata": {},
     "output_type": "execute_result"
    }
   ],
   "source": [
    "#methods\n",
    "dir(s)"
   ]
  },
  {
   "cell_type": "code",
   "execution_count": 3,
   "metadata": {},
   "outputs": [
    {
     "data": {
      "text/plain": [
       "int"
      ]
     },
     "execution_count": 3,
     "metadata": {},
     "output_type": "execute_result"
    }
   ],
   "source": [
    "x = 42 \n",
    "type(x)"
   ]
  },
  {
   "cell_type": "code",
   "execution_count": 4,
   "metadata": {},
   "outputs": [
    {
     "data": {
      "text/plain": [
       "module"
      ]
     },
     "execution_count": 4,
     "metadata": {},
     "output_type": "execute_result"
    }
   ],
   "source": [
    "import numpy as np\n",
    "type(np)"
   ]
  },
  {
   "cell_type": "markdown",
   "metadata": {},
   "source": [
    "* the type of an object matters for many expressions, e.g.\n",
    "    * the addition operator between two strings = concatenation\n",
    "    * vs. the addition between two integers or floats"
   ]
  },
  {
   "cell_type": "code",
   "execution_count": 5,
   "metadata": {},
   "outputs": [
    {
     "data": {
      "text/plain": [
       "'100cc'"
      ]
     },
     "execution_count": 5,
     "metadata": {},
     "output_type": "execute_result"
    }
   ],
   "source": [
    "'100' + 'cc'"
   ]
  },
  {
   "cell_type": "code",
   "execution_count": 6,
   "metadata": {},
   "outputs": [
    {
     "data": {
      "text/plain": [
       "447"
      ]
     },
     "execution_count": 6,
     "metadata": {},
     "output_type": "execute_result"
    }
   ],
   "source": [
    "100 + 347\n",
    "\n",
    "# clearly we running the same operation on different objects\n",
    "# is it something you would expect?"
   ]
  },
  {
   "cell_type": "code",
   "execution_count": 7,
   "metadata": {},
   "outputs": [
    {
     "ename": "TypeError",
     "evalue": "can only concatenate str (not \"int\") to str",
     "output_type": "error",
     "traceback": [
      "\u001b[0;31m---------------------------------------------------------------------------\u001b[0m",
      "\u001b[0;31mTypeError\u001b[0m                                 Traceback (most recent call last)",
      "\u001b[0;32m<ipython-input-7-91d74904b6f6>\u001b[0m in \u001b[0;36m<module>\u001b[0;34m\u001b[0m\n\u001b[1;32m      1\u001b[0m \u001b[0;31m# mixing types, not clear what to do\u001b[0m\u001b[0;34m\u001b[0m\u001b[0;34m\u001b[0m\u001b[0;34m\u001b[0m\u001b[0m\n\u001b[0;32m----> 2\u001b[0;31m \u001b[0;34m'100'\u001b[0m \u001b[0;34m+\u001b[0m \u001b[0;36m347\u001b[0m\u001b[0;34m\u001b[0m\u001b[0;34m\u001b[0m\u001b[0m\n\u001b[0m",
      "\u001b[0;31mTypeError\u001b[0m: can only concatenate str (not \"int\") to str"
     ]
    }
   ],
   "source": [
    "# mixing types, not clear what to do\n",
    "'100' + 347"
   ]
  },
  {
   "cell_type": "code",
   "execution_count": null,
   "metadata": {},
   "outputs": [],
   "source": [
    "#quick practice:\n",
    "\n",
    "# mixing types, not clear what to do\n",
    "\n",
    "try:\n",
    "    a = [12,3]\n",
    "    1/0\n",
    "#     a[3]\n",
    "#     '100' + 347\n",
    "except TypeError:\n",
    "    print('did something stupid')\n",
    "except ZeroDivisionError:\n",
    "    print('do not divide by zero')\n",
    "except Exception as e:\n",
    "    print(f'other error {e}')\n",
    "finally:\n",
    "    #always run at the end of try-except block\n",
    "    print('thats it, go recap!')"
   ]
  },
  {
   "cell_type": "markdown",
   "metadata": {},
   "source": [
    "* here we are mixing types, and it’s unclear to Python whether the user wants to\n",
    "  * convert '100' to an integer and then add it to 400, or\n",
    "  * convert 347 to string and then concatenate it with '300'\n",
    "* to avoid the error, you need to clarify by changing the relevant type"
   ]
  },
  {
   "cell_type": "code",
   "execution_count": null,
   "metadata": {},
   "outputs": [],
   "source": [
    "int('100') + 347  # To add as numbers, change the string to an integer"
   ]
  },
  {
   "cell_type": "code",
   "execution_count": null,
   "metadata": {},
   "outputs": [],
   "source": [
    "a = 1\n",
    "b = 2"
   ]
  },
  {
   "cell_type": "markdown",
   "metadata": {},
   "source": [
    "### Identity\n",
    "* each object has a unique identifier, which helps Python (and us) keep track of the object\n",
    "* the identity of an object can be obtained via the `id()` function"
   ]
  },
  {
   "cell_type": "code",
   "execution_count": null,
   "metadata": {},
   "outputs": [],
   "source": [
    "y = 2.5\n",
    "z = 2.5\n",
    "print(id(y))\n",
    "id(z) #those can be quite different on Windows - it is a reference to memory "
   ]
  },
  {
   "cell_type": "code",
   "execution_count": null,
   "metadata": {},
   "outputs": [],
   "source": [
    "callable(np.array)"
   ]
  },
  {
   "cell_type": "markdown",
   "metadata": {},
   "source": [
    "* y and z happen to have the same value, but they are not the same object\n",
    "    * the identity of an object is just the address of the object in memory"
   ]
  },
  {
   "cell_type": "markdown",
   "metadata": {},
   "source": [
    "### Data and Attributes\n",
    "* if we set `x = 42` then we create an object of type int that contains the data 42\n",
    "    * however, it contains much more:"
   ]
  },
  {
   "cell_type": "code",
   "execution_count": null,
   "metadata": {},
   "outputs": [],
   "source": [
    "x = 42\n",
    "x"
   ]
  },
  {
   "cell_type": "code",
   "execution_count": null,
   "metadata": {},
   "outputs": [],
   "source": [
    "dir(x)"
   ]
  },
  {
   "cell_type": "code",
   "execution_count": null,
   "metadata": {},
   "outputs": [],
   "source": []
  },
  {
   "cell_type": "markdown",
   "metadata": {},
   "source": [
    "* when Python creates this integer object, it stores with it various auxiliary information, such as the imaginary part, and the type\n",
    "    * any name following a dot is called an attribute of the object to the left of the dot\n",
    "    * objects have attributes that contain auxillary information\n",
    "        * some attributes act like functions, these are called **methods**"
   ]
  },
  {
   "cell_type": "markdown",
   "metadata": {},
   "source": [
    "### Methods\n",
    "* functions that are bundled with objects\n",
    "* methods are attributes of objects that are callable (i.e., can be called as functions)\n",
    "* class methods differ from ordinary functions by the necessity to have an extra first name `self` (at the beginning of the parameter list)"
   ]
  },
  {
   "cell_type": "code",
   "execution_count": null,
   "metadata": {},
   "outputs": [],
   "source": [
    "?callable"
   ]
  },
  {
   "cell_type": "markdown",
   "metadata": {},
   "source": [
    "* e.g. Python list not only stroes data, but also knows how to append value to itself or sort itself\n",
    "    * `sort` and `append` are functions that are “part of” the list object — and hence called methods"
   ]
  },
  {
   "cell_type": "code",
   "execution_count": null,
   "metadata": {},
   "outputs": [],
   "source": [
    "x = ['foo', 'bar']\n",
    "callable(x.sort) #it is a function x.sort()"
   ]
  },
  {
   "cell_type": "code",
   "execution_count": null,
   "metadata": {},
   "outputs": [],
   "source": [
    "callable(x.append)"
   ]
  },
  {
   "cell_type": "code",
   "execution_count": null,
   "metadata": {},
   "outputs": [],
   "source": [
    "callable(x.append.__doc__) #doc is an attribute"
   ]
  },
  {
   "cell_type": "code",
   "execution_count": null,
   "metadata": {},
   "outputs": [],
   "source": [
    "x.append.__doc__"
   ]
  },
  {
   "cell_type": "code",
   "execution_count": null,
   "metadata": {},
   "outputs": [],
   "source": [
    "x.append.__doc__"
   ]
  },
  {
   "cell_type": "code",
   "execution_count": null,
   "metadata": {},
   "outputs": [],
   "source": [
    "# Methods typically act on the data contained in the object they belong to, or combine that data with other data\n",
    "x = ['a', 'b']\n",
    "x.append('c')\n",
    "s = 'A string'\n",
    "s.upper()"
   ]
  },
  {
   "cell_type": "code",
   "execution_count": null,
   "metadata": {},
   "outputs": [],
   "source": [
    "s.lower()"
   ]
  },
  {
   "cell_type": "markdown",
   "metadata": {},
   "source": [
    "* it doesn’t look like there are any methods used here, but in fact the square bracket assignment notation is just a convenient interface to a method call\n",
    "    * Python calls the __setitem__ method under the hood\n",
    "* if you wanted to you could modify the __setitem__ method, so that square bracket assignment does something totally different\n",
    "    * be nice though"
   ]
  },
  {
   "cell_type": "code",
   "execution_count": null,
   "metadata": {},
   "outputs": [],
   "source": [
    "x = ['a', 'b']\n",
    "x[0]='aa'\n",
    "#x.__setitem__(0, 'aa')  # Equivalent to x[0] = 'aa'\n",
    "x\n",
    "# in other lanaguages you would not be able to do it - encapsulation principle"
   ]
  },
  {
   "cell_type": "code",
   "execution_count": null,
   "metadata": {},
   "outputs": [],
   "source": [
    "x.__setitem__.__doc__"
   ]
  },
  {
   "cell_type": "code",
   "execution_count": null,
   "metadata": {},
   "outputs": [],
   "source": [
    "def foo(x):\n",
    "    \"\"\"I tell you what foo does\"\"\" #docstring\n",
    "    return x**2\n"
   ]
  },
  {
   "cell_type": "code",
   "execution_count": null,
   "metadata": {},
   "outputs": [],
   "source": [
    "print([type(foo),\n",
    "      id(foo),\n",
    "      foo.__name__,\n",
    "      foo.__doc__,\n",
    "      foo.__call__(3)]) #foo(3)"
   ]
  },
  {
   "cell_type": "code",
   "execution_count": null,
   "metadata": {},
   "outputs": [],
   "source": [
    "np.array='nothing'"
   ]
  },
  {
   "cell_type": "code",
   "execution_count": null,
   "metadata": {},
   "outputs": [],
   "source": [
    "np.array([1,23])"
   ]
  },
  {
   "cell_type": "code",
   "execution_count": null,
   "metadata": {},
   "outputs": [],
   "source": []
  },
  {
   "cell_type": "code",
   "execution_count": null,
   "metadata": {},
   "outputs": [],
   "source": [
    "#demonstration of 'everything is an object'\n",
    "\n",
    "a = foo #save function to variable\n",
    "print(a(2)) #call this variable, which is in fact a reference to a class/function and pass it attribute? \n",
    "\n",
    "a.tmp = 'crazy world' #assign attribute to a function\n",
    "print(a.tmp)"
   ]
  },
  {
   "cell_type": "markdown",
   "metadata": {},
   "source": [
    "<img src=\"https://media.makeameme.org/created/say-what-5c473a.jpg\" height=\"100px\">"
   ]
  },
  {
   "cell_type": "markdown",
   "metadata": {},
   "source": [
    "## Classes\n",
    "\n",
    "* **class**: a blueprint for building objects\n",
    "    * own types of objects $\\approx$ usage of class definitions\n",
    "* class describes:\n",
    "    * what kind of data the class stores\n",
    "    * what methods it has for acting on these data \n",
    "* takes a little while to get used to the syntax\n",
    "* Often you can outline what will be done with **abstract** classes\n",
    "* the simplest class"
   ]
  },
  {
   "cell_type": "code",
   "execution_count": null,
   "metadata": {},
   "outputs": [],
   "source": [
    "class Simplicity:\n",
    "    pass  # No code means no bad code\n",
    "\n",
    "s = Simplicity() #instantiation \n",
    "print(s)"
   ]
  },
  {
   "cell_type": "markdown",
   "metadata": {},
   "source": [
    "* an **object** or **instance** is a realization of the class, created from the blueprint\n",
    "    * each instance has its own unique data\n",
    "    * methods set out in the class definition act on this (and other) data\n",
    "\n",
    "* Attributes are accessed via “dotted attribute notation”\n",
    "    * `object_name.data`\n",
    "    * `object_name.method_name()"
   ]
  },
  {
   "cell_type": "code",
   "execution_count": null,
   "metadata": {},
   "outputs": [],
   "source": [
    "# object\n",
    "x = [1, 5, 4]\n",
    "# method (attribute)\n",
    "x.sort()\n",
    "# another attribute \n",
    "x.__class__;"
   ]
  },
  {
   "cell_type": "markdown",
   "metadata": {},
   "source": [
    "* `x` is an object or instance, created from the definition for Python lists, but with its own particular data\n",
    "* `x.sort()` and `x.__class__` are two attributes of `x`\n",
    "* `dir(x)` can be used to view all the attributes of `x`"
   ]
  },
  {
   "cell_type": "code",
   "execution_count": null,
   "metadata": {},
   "outputs": [],
   "source": [
    "dir(x);"
   ]
  },
  {
   "cell_type": "code",
   "execution_count": null,
   "metadata": {},
   "outputs": [],
   "source": []
  },
  {
   "cell_type": "code",
   "execution_count": null,
   "metadata": {},
   "outputs": [],
   "source": [
    "class Student: \n",
    "    \n",
    "    # we call this the constructor\n",
    "    def __init__(self): #see the self keyword\n",
    "        self.status = None # placeholder\n",
    "        self.did_well = None\n",
    "        \n",
    "    def study(self):\n",
    "        self.status = 'Wise'\n",
    "        self.did_well = True\n",
    "     \n",
    "    def procrastinate(self):\n",
    "        self.status = 'Dumb'\n",
    "        self.did_well = False   \n",
    "\n",
    "    def show_status(self):\n",
    "        print(f\"I have become {self.status}.\")\n"
   ]
  },
  {
   "cell_type": "markdown",
   "metadata": {},
   "source": [
    "* convention: capitalize class names (to differentiate them from functions, which are lowercase by convention)\n",
    "\n",
    "* `__init__` is a *constructor method* \n",
    "    * provides a recipe for how to build an instance of a class\n",
    "    * whenewer we create an instance of the class, this method will be called automatically\n",
    "    * calling `__init__` sets up a \"namespace\" to hold the instance data\n",
    "* methods `study` and `procrastinate` act on the instance data `status`"
   ]
  },
  {
   "cell_type": "code",
   "execution_count": null,
   "metadata": {},
   "outputs": [],
   "source": [
    "s = Student()\n",
    "print(type(s))"
   ]
  },
  {
   "cell_type": "code",
   "execution_count": null,
   "metadata": {},
   "outputs": [],
   "source": [
    "s.show_status()\n",
    "print(s.did_well)"
   ]
  },
  {
   "cell_type": "code",
   "execution_count": null,
   "metadata": {},
   "outputs": [],
   "source": [
    "s.procrastinate()"
   ]
  },
  {
   "cell_type": "code",
   "execution_count": null,
   "metadata": {},
   "outputs": [],
   "source": [
    "s.show_status()"
   ]
  },
  {
   "cell_type": "code",
   "execution_count": null,
   "metadata": {},
   "outputs": [],
   "source": [
    "s.status = 'I do not know'"
   ]
  },
  {
   "cell_type": "code",
   "execution_count": null,
   "metadata": {},
   "outputs": [],
   "source": [
    "s.study()"
   ]
  },
  {
   "cell_type": "code",
   "execution_count": null,
   "metadata": {},
   "outputs": [],
   "source": [
    "s.show_status()"
   ]
  },
  {
   "cell_type": "markdown",
   "metadata": {},
   "source": [
    "* `s` is just a one instance\n",
    "* we can create multiple students ofc"
   ]
  },
  {
   "cell_type": "code",
   "execution_count": null,
   "metadata": {},
   "outputs": [],
   "source": [
    "Vitek = Student()\n",
    "Vincent = Student()\n",
    "\n",
    "Vitek.study()\n",
    "Vincent.procrastinate()\n",
    "\n",
    "Vitek.status = 'UFO' #breaking encapsulation\n",
    "\n",
    "Vitek.show_status()\n",
    "Vincent.show_status()"
   ]
  },
  {
   "cell_type": "markdown",
   "metadata": {},
   "source": [
    "* an instance of a class can take on any name a we choose\n",
    "* link between the instance name and the class: `self`\n",
    "    * `self` as a variable whose sole job is to learn the name of a particular instance\n",
    "* any instance data should be prepended with `self`\n",
    "* any method defined within the class should have self as its first argument\n",
    "* any method referenced within the class should be called as self.method_name\n",
    "\n",
    "* each instance stores its data in a separate namespace dictionary"
   ]
  },
  {
   "cell_type": "code",
   "execution_count": null,
   "metadata": {},
   "outputs": [],
   "source": [
    "Vitek.__dict__"
   ]
  },
  {
   "cell_type": "markdown",
   "metadata": {},
   "source": [
    "* following are equivalent"
   ]
  },
  {
   "cell_type": "code",
   "execution_count": null,
   "metadata": {},
   "outputs": [],
   "source": [
    "s.procrastinate()\n",
    "s.show_status()"
   ]
  },
  {
   "cell_type": "code",
   "execution_count": null,
   "metadata": {},
   "outputs": [],
   "source": [
    "#slightly advanced\n",
    "# each instance has class methods\n",
    "\n",
    "Student.study(Vitek)\n",
    "Student.show_status(Vitek)"
   ]
  },
  {
   "cell_type": "code",
   "execution_count": null,
   "metadata": {},
   "outputs": [],
   "source": [
    "#very OOP like inheritance\n",
    "\n",
    "#PythonStudent as a child of Student\n",
    "# parent -> child (parent) -> child\n",
    "\n",
    "class PythonStudent(Student): \n",
    "    # we call this the constructor\n",
    "    \n",
    "    def __init__(self, name): #see no we can pass attribute\n",
    "        self.name = name\n",
    "        self.subject = 'Python'\n",
    "        \n",
    "    #Overriding a method\n",
    "    def show_status(self):\n",
    "        print(f\"I have become {self.status} in {self.subject}\")\n"
   ]
  },
  {
   "cell_type": "code",
   "execution_count": null,
   "metadata": {},
   "outputs": [],
   "source": [
    "MH = PythonStudent(\"Martin\")\n",
    "MH.study() #did not declare any study method in PythonStudent - where did it come from?\n",
    "\n",
    "MH.show_status() # A different print"
   ]
  },
  {
   "cell_type": "code",
   "execution_count": null,
   "metadata": {},
   "outputs": [],
   "source": [
    "\n",
    "class IESStudent(PythonStudent):\n",
    "    \"\"\"I am a student of IES and can enroll to courses and tell you what I do\"\"\"\n",
    "    def __init__(self, name):\n",
    "        self.subjects = []\n",
    "        super().__init__(name) #call super class the one I inherit from\n",
    "\n",
    "    # setters\n",
    "    def enroll_in_class(self, class_name):\n",
    "        self.subjects.append(class_name)\n",
    "\n",
    "    def what_do_I_study(self):\n",
    "        if len(self.subjects) > 1:\n",
    "            print(f\"I study {','.join(self.subjects[:-1])} and {self.subjects[-1]}\")\n",
    "        elif len(self.subjects) == 1:\n",
    "            print(f\"I study {self.subjects[0]}\")\n",
    "        else:\n",
    "            print('I do nothing.')\n",
    "    #getters\n",
    "    def get_subjects(self):\n",
    "        return self.subjects"
   ]
  },
  {
   "cell_type": "code",
   "execution_count": null,
   "metadata": {},
   "outputs": [],
   "source": [
    "stud = IESStudent('Eva')\n",
    "#stud.what_do_I_study()\n",
    "\n",
    "stud.enroll_in_class('Python')\n",
    "#stud.what_do_I_study()\n",
    "\n",
    "stud.enroll_in_class('AdvEcox')\n",
    "\n",
    "\n",
    "stud.enroll_in_class('DS in R')\n",
    "stud.what_do_I_study()\n",
    "\n",
    "stud.procrastinate()\n",
    "stud.show_status()\n"
   ]
  },
  {
   "cell_type": "code",
   "execution_count": null,
   "metadata": {},
   "outputs": [],
   "source": []
  },
  {
   "cell_type": "markdown",
   "metadata": {},
   "source": [
    "### Example of moving from procedural to OOP\n",
    "* usually we start with simple built-in data structures\n",
    "    * storing data in a few variables\n",
    "* with expanding program size we see that we are **passing the same set of related variables to different functions**\n",
    "    * time to think about grouping variables and functions into a class\n",
    "    \n",
    "**Example**\n",
    "* let's think about modelling polygons in 2D space\n",
    "* each polygon represented as a list of points\n",
    "* each point represented as a tuple (x,y), where x and y are coordinates"
   ]
  },
  {
   "cell_type": "code",
   "execution_count": null,
   "metadata": {},
   "outputs": [],
   "source": [
    "square = [(1,1), (1,2), (2,2), (2,1)]"
   ]
  },
  {
   "cell_type": "markdown",
   "metadata": {},
   "source": [
    "* to calculate the perimeter, we need to calculate the [distance](https://en.wikipedia.org/wiki/Euclidean_distance) between two points"
   ]
  },
  {
   "cell_type": "code",
   "execution_count": null,
   "metadata": {},
   "outputs": [],
   "source": [
    "import math\n",
    "\n",
    "def distance(p1, p2):\n",
    "    dist = math.sqrt(\n",
    "        (p1[0]-p2[0])**2 + (p1[1]-p2[1])**2\n",
    "        )\n",
    "    return dist\n",
    "\n",
    "def perimeter(polygon):\n",
    "    perimeter = 0\n",
    "    points = polygon + [polygon[0]]   \n",
    "    for i in range(len(polygon)):\n",
    "        perimeter += distance(points[i], points[i+1])\n",
    "    return perimeter"
   ]
  },
  {
   "cell_type": "code",
   "execution_count": null,
   "metadata": {},
   "outputs": [],
   "source": [
    "distance((1,1), (1,5))"
   ]
  },
  {
   "cell_type": "code",
   "execution_count": null,
   "metadata": {},
   "outputs": [],
   "source": [
    "perimeter(square)"
   ]
  },
  {
   "cell_type": "markdown",
   "metadata": {},
   "source": [
    "* thinking in an object-oriented way, we see that\n",
    "    * polygon class could encapsulate the list of points (data) and the perimeter function (behaviour)\n",
    "        * polygon is built of points. Polygon does not need to know the perimeter function. IT needs to know its points, as long as they can handle their arithmetic\n",
    "    * point class could encapsulate the coordinates (x,y) and the distance method\n",
    "    "
   ]
  },
  {
   "cell_type": "code",
   "execution_count": null,
   "metadata": {},
   "outputs": [],
   "source": [
    "class Point:\n",
    "    \n",
    "    def __init__(self, x, y):\n",
    "        self.x = x\n",
    "        self.y = y\n",
    "\n",
    "    def distance(self, p2):\n",
    "        return math.sqrt((self.x-p2.x)**2 + (self.y-p2.y)**2)\n",
    "\n",
    "class Polygon:\n",
    "    \n",
    "    def __init__(self):\n",
    "        self.vertices = [] \n",
    "        \n",
    "    def add_point(self, point):\n",
    "        assert isinstance(point, Point), \"You need to add object of class Point\"\n",
    "        self.vertices.append(point)\n",
    "\n",
    "    def perimeter(self):\n",
    "        perimeter = 0\n",
    "        # add \"first\" point to the list of points defining polygon\n",
    "        points = self.vertices + [self.vertices[0]]    \n",
    "        for i in range(len(self.vertices)):\n",
    "            perimeter += points[i].distance(points[i+1])\n",
    "        return perimeter"
   ]
  },
  {
   "cell_type": "code",
   "execution_count": null,
   "metadata": {},
   "outputs": [],
   "source": [
    "isinstance.__doc__"
   ]
  },
  {
   "cell_type": "code",
   "execution_count": null,
   "metadata": {},
   "outputs": [],
   "source": [
    "pol1 = Polygon()\n"
   ]
  },
  {
   "cell_type": "code",
   "execution_count": null,
   "metadata": {},
   "outputs": [],
   "source": [
    "pol1.add_point(1)"
   ]
  },
  {
   "cell_type": "code",
   "execution_count": null,
   "metadata": {},
   "outputs": [],
   "source": [
    "# example of usage\n",
    "pol1 = Polygon()\n",
    "#list comprehension\n",
    "_ = [pol1.add_point(Point(x[0], x[1])) for x in square] #iterate and create new points\n",
    "\n",
    "pol1.perimeter()"
   ]
  },
  {
   "cell_type": "code",
   "execution_count": null,
   "metadata": {},
   "outputs": [],
   "source": [
    "# compare with the previous case\n",
    "sq = [(1,1), (1,2), (2,2), (2,1)]\n",
    "perimeter(sq)"
   ]
  },
  {
   "cell_type": "markdown",
   "metadata": {},
   "source": [
    "* 2 lines of code vs. 6 ... what is this OOP nonsense?\n",
    "    * code length is really not a good indicator of code complexity\n",
    "    \n",
    "* OOP is easier to read compared to the procedural code above\n",
    "    * how do we know what the list of tuples is supposed to represent\n",
    "    * what should we pass into the perimeter function? list of tuples?\n",
    "    * possible, but plenty of documentation necessary (might be much longer than the code itself)\n",
    "    * OOP is much clearer when working in **teams**\n",
    "    \n",
    "* OOP pretty self-documenting\n",
    "    * list of methods and parameters to see what the object does\n",
    "* if you are still not convinced, since our OOP case is too long, let's add some functionality to this class"
   ]
  },
  {
   "cell_type": "code",
   "execution_count": null,
   "metadata": {},
   "outputs": [],
   "source": [
    "class Point:\n",
    "    \n",
    "    def __init__(self, x, y):\n",
    "        self.x = x\n",
    "        self.y = y\n",
    "\n",
    "    def distance(self, p2):\n",
    "        return math.sqrt((self.x-p2.x)**2 + (self.y-p2.y)**2)\n",
    "\n",
    "class Polygon:\n",
    "    \n",
    "    def __init__(self, points = []):\n",
    "        self.vertices = []\n",
    "        for point in points:\n",
    "            if isinstance(point, tuple):\n",
    "                point = Point(x = point[0], y = point[1])\n",
    "                self.add_point(point)\n",
    "        \n",
    "    def add_point(self, point):\n",
    "        self.vertices.append((point))\n",
    "\n",
    "    def perimeter(self):\n",
    "        perimeter = 0\n",
    "        \n",
    "        # add \"first\" point to the list of points defining polygon\n",
    "        points = self.vertices + [self.vertices[0]]    \n",
    "        for i in range(len(self.vertices)):\n",
    "            perimeter += points[i].distance(points[i+1])\n",
    "        return perimeter"
   ]
  },
  {
   "cell_type": "code",
   "execution_count": null,
   "metadata": {},
   "outputs": [],
   "source": [
    "square = Polygon(points = [(1,1), (1,2), (2,2), (2,1)])\n",
    "square.perimeter()"
   ]
  },
  {
   "cell_type": "markdown",
   "metadata": {},
   "source": [
    "Let's move to something little bit more interesting ... \n",
    "\n",
    "## OOP and OLS model\n",
    "\n",
    "* we'll build a class called LinearRegression\n",
    "    "
   ]
  },
  {
   "cell_type": "code",
   "execution_count": null,
   "metadata": {},
   "outputs": [],
   "source": [
    "class LinearRegression:    \n",
    "    def __init__(self, fit_intercept = True):\n",
    "        # define instance data coef, intercept and _fit_intercept\n",
    "        self.coef_ = None # placeholder \n",
    "        self.intercept_ = None # placeholder  \n",
    "        self._fit_intercept = fit_intercept"
   ]
  },
  {
   "cell_type": "code",
   "execution_count": null,
   "metadata": {},
   "outputs": [],
   "source": [
    "?LinearRegression"
   ]
  },
  {
   "cell_type": "code",
   "execution_count": null,
   "metadata": {},
   "outputs": [],
   "source": [
    "# lr and alr are (or will be) unique models\n",
    "lr = LinearRegression()\n",
    "alr = LinearRegression()"
   ]
  },
  {
   "cell_type": "code",
   "execution_count": 13,
   "metadata": {},
   "outputs": [],
   "source": [
    "import numpy as np\n",
    "\n",
    "class LinearRegression:\n",
    "    \n",
    "    def __init__(self, fit_intercept = True):\n",
    "        self.coef_ = None # placeholder \n",
    "        self.intercept_ = None # placeholder  \n",
    "        self._fit_intercept = fit_intercept\n",
    "        self.predictions = None\n",
    "    \n",
    "    def fit(self, X, y):\n",
    "        \"\"\"\n",
    "        Obtain coefficients using closed form solution.\n",
    "\n",
    "        Arguments:\n",
    "        X: 1D or 2D numpy array (cols are independent variables)\n",
    "        y: 1D numpy array (dependent variable)\n",
    "        \"\"\"\n",
    "        \n",
    "        # check if X is 1D or 2D array\n",
    "        if len(X.shape) == 1:\n",
    "            X = X.reshape(-1,1)\n",
    "            \n",
    "        # add bias if fit_intercept is True\n",
    "        if self._fit_intercept:\n",
    "            X = np.c_[np.ones(X.shape[0]), X]\n",
    "        \n",
    "        # closed form solution\n",
    "        xTx = np.dot(X.T, X)\n",
    "        inverse_xTx = np.linalg.inv(xTx)\n",
    "        xTy = np.dot(X.T, y)\n",
    "        coef = np.dot(inverse_xTx, xTy)\n",
    "        \n",
    "        # set attributes\n",
    "        if self._fit_intercept:\n",
    "            self.intercept_ = coef[0]\n",
    "            self.coef_ = coef[1:]\n",
    "        else:\n",
    "            self.intercept_ = 0\n",
    "            self.coef_ = coef\n",
    "    \n",
    "    def predict(self, X):\n",
    "            \n",
    "        \"\"\"\n",
    "        Model prediction given the data matrix.\n",
    "\n",
    "        Arguments:\n",
    "        X: 1D or 2D numpy array \n",
    "        \"\"\"\n",
    "\n",
    "        # check if X is 1D or 2D array\n",
    "        if len(X.shape) == 1:\n",
    "            X = X.reshape(-1,1) \n",
    "        self.predictions =  self.intercept_ + np.dot(X, self.coef_)\n",
    "        return self.predictions"
   ]
  },
  {
   "cell_type": "code",
   "execution_count": 14,
   "metadata": {},
   "outputs": [],
   "source": [
    "import numpy as np"
   ]
  },
  {
   "cell_type": "code",
   "execution_count": null,
   "metadata": {},
   "outputs": [],
   "source": []
  },
  {
   "cell_type": "code",
   "execution_count": 15,
   "metadata": {},
   "outputs": [],
   "source": [
    "%matplotlib inline\n",
    "import matplotlib.pyplot as plt\n",
    "\n",
    "n = 100\n",
    "X = np.linspace(1,10,n)\n",
    "y = 0.35 * X + np.random.normal(0,1,n)\n",
    "\n",
    "#Q: how can I ensure we all get the same values?"
   ]
  },
  {
   "cell_type": "code",
   "execution_count": 16,
   "metadata": {},
   "outputs": [
    {
     "data": {
      "image/png": "[encoded data removed]",
      "text/plain": [
       "<Figure size 432x288 with 1 Axes>"
      ]
     },
     "metadata": {
      "needs_background": "light"
     },
     "output_type": "display_data"
    }
   ],
   "source": [
    "plt.scatter(X,y)\n",
    "plt.grid()\n",
    "plt.xlabel('X')\n",
    "plt.ylabel('y');"
   ]
  },
  {
   "cell_type": "code",
   "execution_count": 17,
   "metadata": {},
   "outputs": [],
   "source": [
    "# see how it works\n",
    "lr = LinearRegression()\n",
    "lr.fit(X, y)"
   ]
  },
  {
   "cell_type": "code",
   "execution_count": 18,
   "metadata": {},
   "outputs": [
    {
     "data": {
      "image/png": "[encoded data removed]",
      "text/plain": [
       "<Figure size 432x288 with 1 Axes>"
      ]
     },
     "metadata": {
      "needs_background": "light"
     },
     "output_type": "display_data"
    }
   ],
   "source": [
    "plt.scatter(X,y)\n",
    "plt.plot(X,lr.predict(X))\n",
    "plt.grid()\n",
    "plt.xlabel('X')\n",
    "plt.ylabel('y');"
   ]
  },
  {
   "cell_type": "code",
   "execution_count": 19,
   "metadata": {},
   "outputs": [
    {
     "data": {
      "text/plain": [
       "{'coef_': array([0.3338646]),\n",
       " 'intercept_': 0.14002539718008747,\n",
       " '_fit_intercept': True,\n",
       " 'predictions': array([0.47388999, 0.50424132, 0.53459265, 0.56494398, 0.5952953 ,\n",
       "        0.62564663, 0.65599796, 0.68634928, 0.71670061, 0.74705194,\n",
       "        0.77740326, 0.80775459, 0.83810592, 0.86845724, 0.89880857,\n",
       "        0.9291599 , 0.95951123, 0.98986255, 1.02021388, 1.05056521,\n",
       "        1.08091653, 1.11126786, 1.14161919, 1.17197051, 1.20232184,\n",
       "        1.23267317, 1.2630245 , 1.29337582, 1.32372715, 1.35407848,\n",
       "        1.3844298 , 1.41478113, 1.44513246, 1.47548378, 1.50583511,\n",
       "        1.53618644, 1.56653777, 1.59688909, 1.62724042, 1.65759175,\n",
       "        1.68794307, 1.7182944 , 1.74864573, 1.77899705, 1.80934838,\n",
       "        1.83969971, 1.87005104, 1.90040236, 1.93075369, 1.96110502,\n",
       "        1.99145634, 2.02180767, 2.052159  , 2.08251032, 2.11286165,\n",
       "        2.14321298, 2.17356431, 2.20391563, 2.23426696, 2.26461829,\n",
       "        2.29496961, 2.32532094, 2.35567227, 2.38602359, 2.41637492,\n",
       "        2.44672625, 2.47707758, 2.5074289 , 2.53778023, 2.56813156,\n",
       "        2.59848288, 2.62883421, 2.65918554, 2.68953686, 2.71988819,\n",
       "        2.75023952, 2.78059085, 2.81094217, 2.8412935 , 2.87164483,\n",
       "        2.90199615, 2.93234748, 2.96269881, 2.99305013, 3.02340146,\n",
       "        3.05375279, 3.08410412, 3.11445544, 3.14480677, 3.1751581 ,\n",
       "        3.20550942, 3.23586075, 3.26621208, 3.2965634 , 3.32691473,\n",
       "        3.35726606, 3.38761739, 3.41796871, 3.44832004, 3.47867137])}"
      ]
     },
     "execution_count": 19,
     "metadata": {},
     "output_type": "execute_result"
    }
   ],
   "source": [
    "lr.__dict__"
   ]
  },
  {
   "cell_type": "markdown",
   "metadata": {},
   "source": [
    "### Inheritance\n",
    "* defining a new class (*derived* or *child* class) from another class (*base* or *parent* class)\n",
    "    * reuse what you can instead of repeating yourself\n",
    "* derived class inherits features of the base class\n",
    "    * we can ofc add to it\n",
    "* let's define another class from which we will inherit"
   ]
  },
  {
   "cell_type": "code",
   "execution_count": null,
   "metadata": {},
   "outputs": [],
   "source": [
    "class Metrics:\n",
    "    #Martin Hronec does not declaring variables\n",
    "    \n",
    "    def sse(self):\n",
    "        '''sum of squared errors'''\n",
    "        squared_errors = (self.target - self.predict(self.data)) ** 2 #although there is not self.data intialized, in Python, we can override it later\n",
    "        # is it a good thing? are there any cons?\n",
    "        \n",
    "        self.sq_error_ = np.sum(squared_errors)\n",
    "        return self.sq_error_\n",
    "        \n",
    "    def sst(self):\n",
    "        '''total sum of squared errors'''\n",
    "        avg_y = np.mean(self.target)\n",
    "        squared_errors = (self.target - avg_y) ** 2\n",
    "        self.sst_ = np.sum(squared_errors)\n",
    "        return self.sst_\n",
    "    \n",
    "    def r_squared(self):\n",
    "        '''r^2: coefficient of determination'''\n",
    "        self.r_sq_ = 1 - self.sse()/self.sst()\n",
    "        return self.r_sq_\n",
    "    \n",
    "    def adj_r_squared(self):\n",
    "        '''adjusted r^2'''\n",
    "        self.adj_r_sq_ = 1 - (self.sse()/self._dfe) / (self.sst()/self._dft)\n",
    "        return self.adj_r_sq_\n",
    "    \n",
    "    def mse(self):\n",
    "        '''mean squared error'''\n",
    "        self.mse_ = np.mean( (self.predict(self.data) - self.target) ** 2 )\n",
    "        return self.mse_"
   ]
  },
  {
   "cell_type": "markdown",
   "metadata": {},
   "source": [
    "* let's actually inherit something"
   ]
  },
  {
   "cell_type": "code",
   "execution_count": null,
   "metadata": {},
   "outputs": [],
   "source": [
    "class LinearRegressionWithInheritance(Metrics):\n",
    "    \n",
    "    def __init__(self, fit_intercept=True):\n",
    "        self.coef_ = None\n",
    "        self.intercept_ = None\n",
    "        self._fit_intercept = fit_intercept\n",
    "        self.predictions = None\n",
    "        \n",
    "    def fit(self, X, y):\n",
    "        \"\"\"\n",
    "        Fit model coefficients.\n",
    "\n",
    "        Arguments:\n",
    "        X: 1D or 2D numpy array \n",
    "        y: 1D numpy array\n",
    "        \"\"\"\n",
    "        \n",
    "        self.data = X\n",
    "        self.target = y \n",
    "        \n",
    "        # check if X is 1D or 2D array\n",
    "        if len(X.shape) == 1:\n",
    "            X = X.reshape(-1,1)\n",
    "        \n",
    "        # add bias if fit_intercept is True\n",
    "        if self._fit_intercept:\n",
    "            X = np.c_[np.ones(X.shape[0]), X]\n",
    "        \n",
    "        # closed form solution\n",
    "        xTx = np.dot(X.T, X)\n",
    "        inverse_xTx = np.linalg.inv(xTx)\n",
    "        xTy = np.dot(X.T, y)\n",
    "        coef = np.dot(inverse_xTx, xTy)\n",
    "        \n",
    "        # set attributes\n",
    "        if self._fit_intercept:\n",
    "            self.intercept_ = coef[0]\n",
    "            self.coef_ = coef[1:]\n",
    "        else:\n",
    "            self.intercept_ = 0\n",
    "            self.coef_ = coef\n",
    "            \n",
    "    def predict(self, X):\n",
    "            \n",
    "        \"\"\"\n",
    "        Output model prediction.\n",
    "\n",
    "        Arguments:\n",
    "        X: 1D or 2D numpy array \n",
    "        \"\"\"\n",
    "\n",
    "        # check if X is 1D or 2D array\n",
    "        if len(X.shape) == 1:\n",
    "            X = X.reshape(-1,1) \n",
    "        self.predictions =  self.intercept_ + np.dot(X, self.coef_)\n",
    "        return self.predictions"
   ]
  },
  {
   "cell_type": "code",
   "execution_count": null,
   "metadata": {},
   "outputs": [],
   "source": [
    "# see how it works\n",
    "lri = LinearRegressionWithInheritance()\n",
    "lri.fit(X, y)"
   ]
  },
  {
   "cell_type": "code",
   "execution_count": null,
   "metadata": {},
   "outputs": [],
   "source": [
    "lri.__dict__"
   ]
  },
  {
   "cell_type": "code",
   "execution_count": null,
   "metadata": {},
   "outputs": [],
   "source": [
    "lri.r_squared()"
   ]
  },
  {
   "cell_type": "markdown",
   "metadata": {},
   "source": [
    "* class can be derived from more than one base class in Python, so called multiple inheritance\n",
    "    * features of all the base classes are inherited into the derived class"
   ]
  },
  {
   "cell_type": "code",
   "execution_count": null,
   "metadata": {},
   "outputs": [],
   "source": [
    "class Base1:\n",
    "    pass\n",
    "\n",
    "class Base2:\n",
    "    pass\n",
    "\n",
    "class MultiDerived(Base1, Base2):\n",
    "    pass"
   ]
  },
  {
   "cell_type": "markdown",
   "metadata": {},
   "source": [
    "* class can also inherit from an already derived class, so called *multilevel inheritance*"
   ]
  },
  {
   "cell_type": "code",
   "execution_count": null,
   "metadata": {},
   "outputs": [],
   "source": [
    "class Base:\n",
    "    pass\n",
    "\n",
    "class Derived1(Base):\n",
    "    pass\n",
    "\n",
    "class Derived2(Derived1):\n",
    "    pass"
   ]
  },
  {
   "cell_type": "markdown",
   "metadata": {},
   "source": [
    "* every class in Python is derived from the class `object`"
   ]
  },
  {
   "cell_type": "code",
   "execution_count": null,
   "metadata": {},
   "outputs": [],
   "source": [
    "?object"
   ]
  },
  {
   "cell_type": "markdown",
   "metadata": {},
   "source": [
    "## Notes\n",
    "\n",
    "* in the multiple inheritance scenario, any specified attribute is searched first in the current class\n",
    "    * if not found, the search continues into parent classes based on the depth, i.e. [MultiDerived, Base1, Base2, object]\n",
    "    * like \n",
    "* if we define the same method in base as well as derived class (but differently), i.e. **overriding methods**\n",
    "    * instances of the new class will have the new behavior and the instances of the existing class will have the old behavior\n",
    "           "
   ]
  },
  {
   "cell_type": "markdown",
   "metadata": {},
   "source": [
    "### Composition\n",
    "* imagine a class that needs to accumulate an arbitrary number of objects\n",
    "    * a list can do that, so we should subclass (inherit) list, right?\n",
    "        * list also support a number of other operations (iterate over the objects, sort, reverse, etc.)\n",
    "* do we need all those features?\n",
    "    * if no, our class should only contain a list (rather than fully inheriting from it)\n",
    "* **composition** is used when we want to use some aspect of another class without promising all of the features of that other class"
   ]
  },
  {
   "cell_type": "markdown",
   "metadata": {},
   "source": [
    "### Example of OOP in the real world\n",
    "* [statsmodels](https://www.statsmodels.org/dev/index.html) is a Python module for the estimation of statistical models, conducting statistical tests, etc.\n",
    "* let's look at its codebase"
   ]
  },
  {
   "cell_type": "markdown",
   "metadata": {},
   "source": [
    "## Docstrings in Python\n",
    "* **Python Docstring** is the documentation string (written as a first statement), part of the:\n",
    "    * class, module, function, method, etc.\n",
    "* a descriptive text written by a programmer mainly for themselves to know what the line of code or expression does\n",
    "* docstrings are accesible as the `doc` attribute in the Python objects (as well as the built-in `help()`\n",
    "* \"rules\" are only conventions really, based on the [PEP standard](https://www.python.org/dev/peps/pep-0008/), specifically [PEP 257](https://www.python.org/dev/peps/pep-0257/) dealing with *docstring* conventions\n",
    "    * PEP means Python Enhancement Proposals \n",
    "* *one-line* vs *multi-line* Docstring\n"
   ]
  },
  {
   "cell_type": "markdown",
   "metadata": {},
   "source": [
    "### One-liner"
   ]
  },
  {
   "cell_type": "code",
   "execution_count": null,
   "metadata": {},
   "outputs": [],
   "source": [
    "def cube(a):\n",
    "    '''Returns the third power of number a.'''\n",
    "    return a**3"
   ]
  },
  {
   "cell_type": "code",
   "execution_count": null,
   "metadata": {},
   "outputs": [],
   "source": [
    "cube.__doc__"
   ]
  },
  {
   "cell_type": "code",
   "execution_count": null,
   "metadata": {},
   "outputs": [],
   "source": [
    "help(cube)"
   ]
  },
  {
   "cell_type": "markdown",
   "metadata": {},
   "source": [
    "* Some rules\n",
    "    * The line begins with a capital letter and end with a period.\n",
    "    * The closing quotes are on the same line as the opening quotes.\n",
    "    * There's no blank line either before or after the Docstring."
   ]
  },
  {
   "cell_type": "markdown",
   "metadata": {},
   "source": [
    "### Multi-liner"
   ]
  },
  {
   "cell_type": "code",
   "execution_count": null,
   "metadata": {},
   "outputs": [],
   "source": [
    "def some_function(arg):\n",
    "    \"\"\"Summary or Description of the Function\n",
    "\n",
    "    Parameters:\n",
    "    arg (int): Description of arg\n",
    "\n",
    "    Returns:\n",
    "    int:Returning value\n",
    "\n",
    "   \"\"\"\n",
    "\n",
    "    return argument1"
   ]
  },
  {
   "cell_type": "code",
   "execution_count": null,
   "metadata": {},
   "outputs": [],
   "source": [
    "print(some_function.__doc__)"
   ]
  },
  {
   "cell_type": "markdown",
   "metadata": {},
   "source": [
    "## Common Docstring Formats\n",
    "* many Docstrings format available\n",
    "    * good idea to use those easily recognized by the other programmers as well as Docstring parsers\n",
    "* use formatting type supported by [Sphinx](http://www.sphinx-doc.org/en/master/), Python documentation generator\n",
    "* the most common formats:\n",
    "\n",
    "| Type                    | Description                                                              |\n",
    "|-------------------------|--------------------------------------------------------------------------|\n",
    "| Numpy/Scipy Docstring   | Combination of reStructured and GoogleDocstrings and supported by Sphinx |\n",
    "| Pydoc                   | Standard documentation module for Python and supported by Sphinx         |\n",
    "| Google Docstring        | Easy and intuitive to use (used for the shorter docs)                    |"
   ]
  },
  {
   "cell_type": "code",
   "execution_count": null,
   "metadata": {},
   "outputs": [],
   "source": [
    "help(np.dot)"
   ]
  },
  {
   "cell_type": "code",
   "execution_count": null,
   "metadata": {},
   "outputs": [],
   "source": []
  }
 ],
 "metadata": {
  "kernelspec": {
   "display_name": "Python 3",
   "language": "python",
   "name": "python3"
  },
  "language_info": {
   "codemirror_mode": {
    "name": "ipython",
    "version": 3
   },
   "file_extension": ".py",
   "mimetype": "text/x-python",
   "name": "python",
   "nbconvert_exporter": "python",
   "pygments_lexer": "ipython3",
   "version": "3.7.5"
  }
 },
 "nbformat": 4,
 "nbformat_minor": 4
}
