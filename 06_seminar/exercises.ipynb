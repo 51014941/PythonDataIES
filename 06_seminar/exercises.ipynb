{
 "cells": [
  {
   "cell_type": "markdown",
   "metadata": {},
   "source": [
    "# Seminar - JSON, XML, Requests, Web-Scraping \n",
    "by Vítek Macháček\n",
    "\n",
    "## Task 1: JSON API and Quandl"
   ]
  },
  {
   "cell_type": "markdown",
   "metadata": {},
   "source": [
    "Quandl access credentials are stored in `secret.py` which you have to create by yourself as it is not on GitHub. Create account on Quandl, generate API key and save it as `QUANDL_API_KEY` variable"
   ]
  },
  {
   "cell_type": "code",
   "execution_count": null,
   "metadata": {},
   "outputs": [],
   "source": [
    "import requests\n",
    "import pandas as pd\n",
    "from bs4 import BeautifulSoup\n",
    "import time\n",
    "from secret import QUANDL_API_KEY"
   ]
  },
  {
   "cell_type": "markdown",
   "metadata": {},
   "source": [
    "### 1a. Request Quandl for time series `FB` from `WIKI` database. Use JSON format.\n",
    "\n",
    "Hint: https://www.quandl.com/api/v3/datasets/{QUANDL_DATABASE}/{QUANDL_DATASET}/data.{DATA_FORMAT}?api_key={YOUR-QUANDL-API-KEY}\n",
    "\n",
    "Use GET"
   ]
  },
  {
   "cell_type": "code",
   "execution_count": null,
   "metadata": {},
   "outputs": [],
   "source": []
  },
  {
   "cell_type": "code",
   "execution_count": null,
   "metadata": {},
   "outputs": [],
   "source": []
  },
  {
   "cell_type": "markdown",
   "metadata": {},
   "source": [
    "### 1b. convert response to some python-friendly format\n",
    "\n",
    "Ideally `list` or `dict`"
   ]
  },
  {
   "cell_type": "code",
   "execution_count": null,
   "metadata": {},
   "outputs": [],
   "source": []
  },
  {
   "cell_type": "markdown",
   "metadata": {},
   "source": [
    "### 1c. Explore response structure\n",
    "\n",
    "* hierarchical JSON structure\n",
    "* Where are the data\n",
    "* Column names"
   ]
  },
  {
   "cell_type": "code",
   "execution_count": null,
   "metadata": {},
   "outputs": [],
   "source": []
  },
  {
   "cell_type": "code",
   "execution_count": null,
   "metadata": {},
   "outputs": [],
   "source": []
  },
  {
   "cell_type": "code",
   "execution_count": null,
   "metadata": {},
   "outputs": [],
   "source": []
  },
  {
   "cell_type": "markdown",
   "metadata": {},
   "source": [
    "### 1d. Let's do a DataFrame"
   ]
  },
  {
   "cell_type": "code",
   "execution_count": null,
   "metadata": {},
   "outputs": [],
   "source": []
  },
  {
   "cell_type": "markdown",
   "metadata": {},
   "source": [
    "Perhaps column names can be useful"
   ]
  },
  {
   "cell_type": "markdown",
   "metadata": {},
   "source": [
    "### 1e. Suggest function structure of downloading script and implement it"
   ]
  },
  {
   "cell_type": "code",
   "execution_count": null,
   "metadata": {},
   "outputs": [],
   "source": []
  },
  {
   "cell_type": "code",
   "execution_count": null,
   "metadata": {},
   "outputs": [],
   "source": []
  },
  {
   "cell_type": "markdown",
   "metadata": {},
   "source": [
    "## Task 2: XML (not covered on seminar)\n",
    "Request XML format of the same dataset and do the same"
   ]
  },
  {
   "cell_type": "code",
   "execution_count": null,
   "metadata": {},
   "outputs": [],
   "source": []
  },
  {
   "cell_type": "markdown",
   "metadata": {},
   "source": [
    "Let just save a XML into a file `xml_sample.xml`"
   ]
  },
  {
   "cell_type": "code",
   "execution_count": null,
   "metadata": {},
   "outputs": [],
   "source": []
  },
  {
   "cell_type": "markdown",
   "metadata": {},
   "source": [
    "get BeatifulSoup object"
   ]
  },
  {
   "cell_type": "code",
   "execution_count": null,
   "metadata": {},
   "outputs": [],
   "source": []
  },
  {
   "cell_type": "markdown",
   "metadata": {},
   "source": [
    "OK gimme a dataframe"
   ]
  },
  {
   "cell_type": "code",
   "execution_count": null,
   "metadata": {},
   "outputs": [],
   "source": []
  },
  {
   "cell_type": "markdown",
   "metadata": {},
   "source": [
    "## Task 3: Quandl website\n",
    "\n",
    "Let's get a list of available datasets on Quandl:\n",
    "\n",
    "The list of datasets on Quandl website is available at: https://www.quandl.com/search\n",
    "\n",
    "Is this website scrapable? "
   ]
  },
  {
   "cell_type": "code",
   "execution_count": null,
   "metadata": {},
   "outputs": [],
   "source": []
  },
  {
   "cell_type": "markdown",
   "metadata": {},
   "source": [
    "## Task 4: Scraping IES news\n",
    "\n",
    "use following code snippets to construct your own IES News web scraper"
   ]
  },
  {
   "cell_type": "code",
   "execution_count": null,
   "metadata": {},
   "outputs": [],
   "source": [
    "def get_soup(link):\n",
    "    '''\n",
    "    Function accepts a link and returns a BeautifulSoup object parsed from text of a succesful GET request on a link. If requests returns other status code than 200, returns None and prints a message\n",
    "\n",
    "    Make sure that the request object is parsed as UTF-8 string.\n",
    "    '''\n",
    "    r = requests.get(link,encoding='UTF-8')\n",
    "    pass"
   ]
  },
  {
   "cell_type": "code",
   "execution_count": null,
   "metadata": {},
   "outputs": [],
   "source": [
    "def get_all_news_links(link):\n",
    "    '''\n",
    "    Generates list of URLs of all news-related links from the url provided.\n",
    "\n",
    "    Links on news format: <a href=\"/en/news/{id}\" title=\"show news\" class=\"show-news\">show news</a>\n",
    "\n",
    "    The URLs are expected in absolute format, i.e. including a full domain.\n",
    "    '''\n",
    "    pass\n",
    "    \n",
    "news_links = get_all_news_links('https://ies.fsv.cuni.cz/content/tree/index/lang/en')\n",
    "news_links"
   ]
  },
  {
   "cell_type": "code",
   "execution_count": null,
   "metadata": {},
   "outputs": [],
   "source": [
    "def parse_title(soup):\n",
    "    '''\n",
    "    Parse text of the first `h3` object from the soup element.\n",
    "    '''\n",
    "    pass"
   ]
  },
  {
   "cell_type": "code",
   "execution_count": null,
   "metadata": {},
   "outputs": [],
   "source": [
    "def parse_date(soup):\n",
    "    '''\n",
    "    Parse text of the sibling of sibling of the first h3 element in the soup. Note that the immidiate sibling of `h3` is not Tag element, but NavigableString. This is used to represent text between tags.\n",
    "    '''\n",
    "    pass\n",
    "    "
   ]
  },
  {
   "cell_type": "code",
   "execution_count": null,
   "metadata": {},
   "outputs": [],
   "source": [
    "def parse_news_content(soup):\n",
    "    '''\n",
    "    For simplicity, the content of the article is the content of all <p> elements within <div class=\"col-sm-12 news\"></div>\n",
    "\n",
    "    Return a single string with the whole text. Use `/n` as a connecting string between individual p-texts. \n",
    "\n",
    "    Hint: Consider using a `.join()` function applicable on string object\n",
    "    '''\n",
    "    \n",
    "    pass\n",
    "    \n",
    "print(parse_news_content(get_soup('https://ies.fsv.cuni.cz/en/news/4976')))"
   ]
  },
  {
   "cell_type": "code",
   "execution_count": null,
   "metadata": {},
   "outputs": [],
   "source": [
    "def parse_ies_news(link,pause=.5):\n",
    "    '''\n",
    "    From URL of given news story generate pd.Series object with `title`, `date` and `content`.\n",
    "\n",
    "    Use functions `parse_title`, `parse_date` and `parse_news_content` to get individual attributes.\n",
    "\n",
    "    Please, keep the sleep() to prevent overflow of IES website.\n",
    "    '''\n",
    "\n",
    "    time.sleep(pause)\n",
    "    \n",
    "    pass\n",
    "    \n",
    "parse_ies_news('https://ies.fsv.cuni.cz/en/news/4976')"
   ]
  },
  {
   "cell_type": "code",
   "execution_count": null,
   "metadata": {},
   "outputs": [],
   "source": [
    "def get_all_news(link):\n",
    "    '''\n",
    "    wraping fuction that accepts a `link` pointing towards hub website with links to parse and returing a dataframe containing all the links\n",
    "    '''\n",
    "    \n",
    "    pass\n",
    "df = get_all_news('https://ies.fsv.cuni.cz/content/tree/index/lang/en')"
   ]
  },
  {
   "cell_type": "code",
   "execution_count": null,
   "metadata": {},
   "outputs": [],
   "source": []
  },
  {
   "cell_type": "markdown",
   "metadata": {},
   "source": [
    "## Task 5: Convert Task 4 into OOP"
   ]
  },
  {
   "cell_type": "code",
   "execution_count": null,
   "metadata": {},
   "outputs": [],
   "source": [
    "class News:\n",
    "    def __init__(self,link):\n",
    "        pass\n",
    "\n",
    "\n",
    "\n",
    "\n",
    "class Downloader:\n",
    "    def __init__(self,hub_url):\n",
    "        pass\n",
    "\n",
    "\n",
    "#dl = Downloader('https://ies.fsv.cuni.cz/content/tree/index/lang/en')\n"
   ]
  },
  {
   "cell_type": "code",
   "execution_count": null,
   "metadata": {},
   "outputs": [],
   "source": []
  }
 ],
 "metadata": {
  "kernelspec": {
   "display_name": "PythonDataIES",
   "language": "python",
   "name": "pythondataies"
  },
  "language_info": {
   "codemirror_mode": {
    "name": "ipython",
    "version": 3
   },
   "file_extension": ".py",
   "mimetype": "text/x-python",
   "name": "python",
   "nbconvert_exporter": "python",
   "pygments_lexer": "ipython3",
   "version": "3.8.8"
  }
 },
 "nbformat": 4,
 "nbformat_minor": 4
}
