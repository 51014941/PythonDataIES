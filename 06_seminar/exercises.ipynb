{
 "metadata": {
  "language_info": {
   "codemirror_mode": {
    "name": "ipython",
    "version": 3
   },
   "file_extension": ".py",
   "mimetype": "text/x-python",
   "name": "python",
   "nbconvert_exporter": "python",
   "pygments_lexer": "ipython3",
   "version": "3.7.3-final"
  },
  "orig_nbformat": 2,
  "kernelspec": {
   "name": "Python 3.7.3 64-bit ('venv')",
   "display_name": "Python 3.7.3 64-bit ('venv')",
   "metadata": {
    "interpreter": {
     "hash": "38a2d6afddd56297c137ab5089f2e401031dbdfff1b80860ab4e44de20e990b1"
    }
   }
  }
 },
 "nbformat": 4,
 "nbformat_minor": 2,
 "cells": [
  {
   "source": [
    "# Seminar - JSON, XML, Requests, Web-Scraping \n",
    "by Vítek Macháček\n",
    "\n",
    "## Task 1: JSON API and Quandl"
   ],
   "cell_type": "markdown",
   "metadata": {}
  },
  {
   "source": [
    "Set Quandl access credentials"
   ],
   "cell_type": "markdown",
   "metadata": {}
  },
  {
   "cell_type": "code",
   "execution_count": null,
   "metadata": {},
   "outputs": [],
   "source": [
    "import requests\n",
    "import pandas as pd\n",
    "from bs4 import BeautifulSoup\n",
    "import time\n",
    "\n",
    "QUANDL_API_KEY = 'YOUR-QUANDL-API-KEY'\n"
   ]
  },
  {
   "source": [
    "Request Quandl for time series:\n",
    "\n",
    "hint: The most simple Quandl Format for API-call is:\n",
    "\n",
    "https://www.quandl.com/api/v3/datasets/{QUANDL_DATABASE}/{QUANDL_DATASET}/data.{DATA_FORMAT}?api_key={YOUR-QUANDL-API-KEY}\n",
    "\n",
    "Let's ask for `FB` dataset from `WIKI` database. The results should be in JSON format"
   ],
   "cell_type": "markdown",
   "metadata": {}
  },
  {
   "cell_type": "code",
   "execution_count": null,
   "metadata": {},
   "outputs": [],
   "source": []
  },
  {
   "source": [
    "convert response to python natives"
   ],
   "cell_type": "markdown",
   "metadata": {}
  },
  {
   "cell_type": "code",
   "execution_count": null,
   "metadata": {},
   "outputs": [],
   "source": []
  },
  {
   "source": [
    "What keys does a dictionary contain?"
   ],
   "cell_type": "markdown",
   "metadata": {}
  },
  {
   "cell_type": "code",
   "execution_count": null,
   "metadata": {},
   "outputs": [],
   "source": []
  },
  {
   "source": [
    "Let's go deeper"
   ],
   "cell_type": "markdown",
   "metadata": {}
  },
  {
   "cell_type": "code",
   "execution_count": null,
   "metadata": {},
   "outputs": [],
   "source": []
  },
  {
   "source": [
    "We want to see the data"
   ],
   "cell_type": "markdown",
   "metadata": {}
  },
  {
   "cell_type": "code",
   "execution_count": null,
   "metadata": {},
   "outputs": [],
   "source": []
  },
  {
   "source": [
    "first data point?"
   ],
   "cell_type": "markdown",
   "metadata": {}
  },
  {
   "cell_type": "code",
   "execution_count": null,
   "metadata": {},
   "outputs": [],
   "source": []
  },
  {
   "source": [
    "Let's do a DataFrame"
   ],
   "cell_type": "markdown",
   "metadata": {}
  },
  {
   "cell_type": "code",
   "execution_count": null,
   "metadata": {},
   "outputs": [],
   "source": []
  },
  {
   "source": [
    "Perhaps column names can be useful"
   ],
   "cell_type": "markdown",
   "metadata": {}
  },
  {
   "cell_type": "code",
   "execution_count": null,
   "metadata": {},
   "outputs": [],
   "source": []
  },
  {
   "source": [],
   "cell_type": "markdown",
   "metadata": {}
  },
  {
   "source": [
    "## Task 1b: XML (not covered on seminar)\n",
    "Request XML format of the same dataset"
   ],
   "cell_type": "markdown",
   "metadata": {}
  },
  {
   "cell_type": "code",
   "execution_count": null,
   "metadata": {},
   "outputs": [],
   "source": []
  },
  {
   "source": [
    "Let just save a XML into a file `xml_sample.xml`"
   ],
   "cell_type": "markdown",
   "metadata": {}
  },
  {
   "cell_type": "code",
   "execution_count": null,
   "metadata": {},
   "outputs": [],
   "source": []
  },
  {
   "source": [
    "get BeatifulSoup object"
   ],
   "cell_type": "markdown",
   "metadata": {}
  },
  {
   "cell_type": "code",
   "execution_count": null,
   "metadata": {},
   "outputs": [],
   "source": []
  },
  {
   "source": [
    "OK gimme a dataframe"
   ],
   "cell_type": "markdown",
   "metadata": {}
  },
  {
   "cell_type": "code",
   "execution_count": null,
   "metadata": {},
   "outputs": [],
   "source": []
  },
  {
   "source": [
    "## Task 2: Quandl website\n",
    "\n",
    "Let's get a list of available datasets on Quandl:\n",
    "\n",
    "The list of datasets on Quandl website is available at: https://www.quandl.com/search?filters=%5B%22Free%22%5D\n",
    "\n",
    "Is this website scrapable? "
   ],
   "cell_type": "markdown",
   "metadata": {}
  },
  {
   "cell_type": "code",
   "execution_count": null,
   "metadata": {},
   "outputs": [],
   "source": []
  },
  {
   "source": [
    "## Task 3: Scraping IES news\n",
    "\n",
    "use following code snippets to construct your own IES News web scraper"
   ],
   "cell_type": "markdown",
   "metadata": {}
  },
  {
   "cell_type": "code",
   "execution_count": null,
   "metadata": {},
   "outputs": [],
   "source": [
    "def get_soup(link):\n",
    "    '''\n",
    "    Function accepts a link and returns a BeautifulSoup object parsed from text of a succesful GET request on a link. If requests returns other status code than 200, returns None and prints a message\n",
    "\n",
    "    Make sure that the request object is parsed as UTF-8 string.\n",
    "    '''\n",
    "    pass"
   ]
  },
  {
   "cell_type": "code",
   "execution_count": null,
   "metadata": {},
   "outputs": [],
   "source": [
    "def get_all_news_links(url):\n",
    "    '''\n",
    "    Generates list of URLs of all news-related links from the url provided.\n",
    "\n",
    "    Links on news format: <a href=\"/en/news/{id}\" title=\"show news\" class=\"show-news\">show news</a>\n",
    "\n",
    "    The URLs are expected in absolute format, i.e. including a full domain.\n",
    "    '''\n",
    "    pass"
   ]
  },
  {
   "cell_type": "code",
   "execution_count": null,
   "metadata": {},
   "outputs": [],
   "source": [
    "def parse_title(soup):\n",
    "    '''\n",
    "    Parse text of the first `h3` object from the soup element.\n",
    "    '''\n",
    "    pass"
   ]
  },
  {
   "cell_type": "code",
   "execution_count": null,
   "metadata": {},
   "outputs": [],
   "source": [
    "def parse_date(soup):\n",
    "    '''\n",
    "    Parse text of the sibling of sibling of the first h3 element in the soup. Note that the immidiate sibling of `h3` is not Tag element, but NavigableString. This is used to represent text between tags.\n",
    "    '''\n",
    "\n",
    "    pass"
   ]
  },
  {
   "cell_type": "code",
   "execution_count": null,
   "metadata": {},
   "outputs": [],
   "source": [
    "def parse_news_content(soup):\n",
    "    '''\n",
    "    For simplicity, the content of the article is the content of all <p> elements within <div class=\"col-sm-12 news\"></>\n",
    "\n",
    "    Return a single string with the whole text. Use `/n` as a connecting string between individual p-texts. \n",
    "\n",
    "    Hint: Consider using a `.join()` function applicable on string object\n",
    "    '''\n",
    "    pass"
   ]
  },
  {
   "cell_type": "code",
   "execution_count": null,
   "metadata": {},
   "outputs": [],
   "source": [
    "def parse_ies_news(link,pause=.5):\n",
    "    '''\n",
    "    From URL of given news story generate pd.Series object with `title`, `date` and `content`.\n",
    "\n",
    "    Use functions `parse_title`, `parse_date` and `parse_news_content` to get individual attributes.\n",
    "\n",
    "    Please, keep the sleep() to prevent overflow of IES website.\n",
    "    '''\n",
    "\n",
    "    time.sleep(pause)\n",
    "\n",
    "    pass"
   ]
  },
  {
   "cell_type": "code",
   "execution_count": null,
   "metadata": {},
   "outputs": [],
   "source": [
    "def get_all_news(link):\n",
    "    '''\n",
    "    wraping fuctions that accepts a `link` pointing towards hub website with links to parse and returing a dataframe containing all the links\n",
    "    '''\n",
    "    pass"
   ]
  },
  {
   "cell_type": "code",
   "execution_count": null,
   "metadata": {},
   "outputs": [],
   "source": [
    "news = get_all_news('https://ies.fsv.cuni.cz/content/tree/index/lang/en')\n",
    "news.head()"
   ]
  },
  {
   "source": [
    "## Task 4: Convert Task 3 into OOP"
   ],
   "cell_type": "markdown",
   "metadata": {}
  },
  {
   "cell_type": "code",
   "execution_count": null,
   "metadata": {},
   "outputs": [],
   "source": [
    "class News:\n",
    "    def __init__(self,link):\n",
    "        pass\n",
    "\n",
    "\n",
    "\n",
    "\n",
    "class Downloader:\n",
    "    def __init__(self,hub_url):\n",
    "        pass\n",
    "\n",
    "\n",
    "dl = Downloader('https://ies.fsv.cuni.cz/content/tree/index/lang/en')\n",
    "dl.df"
   ]
  },
  {
   "cell_type": "code",
   "execution_count": null,
   "metadata": {},
   "outputs": [],
   "source": []
  }
 ]
}