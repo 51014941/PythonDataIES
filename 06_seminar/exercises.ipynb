{
 "cells": [
  {
   "cell_type": "markdown",
   "metadata": {},
   "source": [
    "# Seminar - JSON, XML, Requests, Web-Scraping \n",
    "by Vítek Macháček\n",
    "\n",
    "## Task 1: JSON API and Golemio"
   ]
  },
  {
   "cell_type": "markdown",
   "metadata": {},
   "source": [
    "* For security reasons, the access credentials are not distributed via GitHub.\n",
    "* The notebook expects file `secret.py` to be present in this directory, but the file `.gitignore` prevented it from being tracked and distributed. \n",
    "* The file `secret-example.py` shows what format of the `secret.py` file is expected. \n",
    "* To make task 1 work, you need to create your own `secret.py` file and put the GOLEMIO_API_KEY that can be generated [here](https://api.golemio.cz/api-keys/auth/sign-in) (after registration)\n",
    "* This is normally done using ENVIRONMENTAL VARIABLES, but for simplicity we skip this."
   ]
  },
  {
   "cell_type": "code",
   "execution_count": null,
   "metadata": {},
   "outputs": [],
   "source": [
    "import requests\n",
    "import json\n",
    "import pandas as pd\n",
    "from bs4 import BeautifulSoup\n",
    "import time\n",
    "from secret import GOLEMIO_API_KEY"
   ]
  },
  {
   "cell_type": "markdown",
   "metadata": {},
   "source": [
    "### 1a. Request Golemio for cyclocounters detections \n",
    "\n",
    "* Golemio API documentation: https://golemioapi.docs.apiary.io/#introduction/description\n",
    "* Get API key here: https://api.golemio.cz/api-keys/ and store it as `GOLEMIO_API_KEY` variable\n",
    "* We will analyze location `V zámcích` (Trója, behind ZOO). Use `camea-BC_ZA-BO` as ID\n",
    "* Limit the search for February 2021\n",
    "* Use GET and use `{'X-Access-Token':GOLEMIO_API_KEY}` as a header\n",
    "\n",
    "Hint: https://api.golemio.cz/v2/bicyclecounters/detections?from={START_DATE}&to={END_DATE}&id={DIRECTION_ID}"
   ]
  },
  {
   "cell_type": "code",
   "execution_count": null,
   "metadata": {},
   "outputs": [],
   "source": []
  },
  {
   "cell_type": "markdown",
   "metadata": {},
   "source": [
    "### 1b. convert response to some python-friendly format\n",
    "\n",
    "Ideally `list` or `dict`"
   ]
  },
  {
   "cell_type": "code",
   "execution_count": null,
   "metadata": {},
   "outputs": [],
   "source": []
  },
  {
   "cell_type": "markdown",
   "metadata": {},
   "source": [
    "### 1c. Explore response structure\n",
    "\n",
    "* hierarchical JSON structure\n",
    "* Where are the data"
   ]
  },
  {
   "cell_type": "code",
   "execution_count": null,
   "metadata": {},
   "outputs": [],
   "source": []
  },
  {
   "cell_type": "code",
   "execution_count": null,
   "metadata": {},
   "outputs": [],
   "source": []
  },
  {
   "cell_type": "code",
   "execution_count": null,
   "metadata": {},
   "outputs": [],
   "source": []
  },
  {
   "cell_type": "markdown",
   "metadata": {},
   "source": [
    "### 1d. Let's do a DataFrame"
   ]
  },
  {
   "cell_type": "code",
   "execution_count": null,
   "metadata": {},
   "outputs": [],
   "source": []
  },
  {
   "cell_type": "markdown",
   "metadata": {},
   "source": [
    "### 1e. Suggest function structure of downloading script and implement it"
   ]
  },
  {
   "cell_type": "code",
   "execution_count": null,
   "metadata": {},
   "outputs": [],
   "source": []
  },
  {
   "cell_type": "code",
   "execution_count": null,
   "metadata": {},
   "outputs": [],
   "source": []
  },
  {
   "cell_type": "markdown",
   "metadata": {},
   "source": [
    "## Task 2: Get list of Charles University faculties and links to its websites\n",
    "\n",
    "https://cuni.cz/UKEN-108.html\n",
    "\n",
    "Is this website scrapable? "
   ]
  },
  {
   "cell_type": "code",
   "execution_count": null,
   "metadata": {},
   "outputs": [],
   "source": []
  },
  {
   "cell_type": "markdown",
   "metadata": {},
   "source": [
    "Convert request text into BeautifulSoup object"
   ]
  },
  {
   "cell_type": "code",
   "execution_count": null,
   "metadata": {},
   "outputs": [],
   "source": []
  },
  {
   "cell_type": "markdown",
   "metadata": {},
   "source": [
    "Identify faculty link location within the website using `INSPECT` tool"
   ]
  },
  {
   "cell_type": "code",
   "execution_count": null,
   "metadata": {},
   "outputs": [],
   "source": []
  },
  {
   "cell_type": "markdown",
   "metadata": {},
   "source": [
    "Get list of all links with names"
   ]
  },
  {
   "cell_type": "code",
   "execution_count": null,
   "metadata": {},
   "outputs": [],
   "source": []
  },
  {
   "cell_type": "markdown",
   "metadata": {},
   "source": [
    "Transform into list of dictionary objects where `'name'` contains faculty name and `link` link"
   ]
  },
  {
   "cell_type": "code",
   "execution_count": null,
   "metadata": {},
   "outputs": [],
   "source": []
  },
  {
   "cell_type": "markdown",
   "metadata": {},
   "source": [
    "Convert to Pandas object"
   ]
  },
  {
   "cell_type": "code",
   "execution_count": null,
   "metadata": {},
   "outputs": [],
   "source": []
  },
  {
   "cell_type": "markdown",
   "metadata": {},
   "source": [
    "### Task 3: POST request\n",
    "\n",
    "#### send a GET request to this API endpoint\n",
    "https://httpbin.org/post"
   ]
  },
  {
   "cell_type": "code",
   "execution_count": null,
   "metadata": {},
   "outputs": [],
   "source": []
  },
  {
   "cell_type": "markdown",
   "metadata": {},
   "source": [
    "send a POST request with no data"
   ]
  },
  {
   "cell_type": "code",
   "execution_count": null,
   "metadata": {},
   "outputs": [],
   "source": []
  },
  {
   "cell_type": "markdown",
   "metadata": {},
   "source": [
    "Send a POST request with the following json:\n",
    "\n",
    "\n",
    "```json\n",
    "\n",
    "{\n",
    "    \"course_identifier\":\"JEM207\",\n",
    "    \"course_name\":\"Data Processing in Python\",\n",
    "    \"lecturers\": [\"Vít Macháček\",\"Martin Hronec\", \"Jan Šíla\"]\n",
    "}\n",
    "```"
   ]
  },
  {
   "cell_type": "code",
   "execution_count": null,
   "metadata": {},
   "outputs": [],
   "source": []
  },
  {
   "cell_type": "markdown",
   "metadata": {},
   "source": [
    "## Task 4: Scraping IES news\n",
    "\n",
    "use following code snippets to construct your own IES News web scraper"
   ]
  },
  {
   "cell_type": "code",
   "execution_count": null,
   "metadata": {},
   "outputs": [],
   "source": [
    "def get_soup(link):\n",
    "    '''\n",
    "    Function accepts a link and returns a BeautifulSoup object parsed from text of a succesful GET request on a link. If requests returns other status code than 200, returns None and prints a message\n",
    "\n",
    "    Make sure that the request object is parsed as UTF-8 string.\n",
    "    '''\n",
    "    r = requests.get(link)\n",
    "    r.encoding='UTF-8'\n",
    "    \n",
    "    pass"
   ]
  },
  {
   "cell_type": "code",
   "execution_count": null,
   "metadata": {},
   "outputs": [],
   "source": [
    "def get_all_news_links(link):\n",
    "    '''\n",
    "    Generates list of URLs of all news-related links from the url provided.\n",
    "\n",
    "    Links on news format: <a href=\"/en/news/{id}\" title=\"show news\" class=\"show-news\">show news</a>\n",
    "\n",
    "    The URLs are expected in absolute format, i.e. including a full domain.\n",
    "    '''\n",
    "    \n",
    "    pass \n",
    "news_links = get_all_news_links('https://ies.fsv.cuni.cz/content/tree/index/lang/en')\n",
    "news_links"
   ]
  },
  {
   "cell_type": "code",
   "execution_count": null,
   "metadata": {},
   "outputs": [],
   "source": [
    "def parse_title(soup):\n",
    "    '''\n",
    "    Parse text of the first `h3` object from the soup element.\n",
    "    '''\n",
    "    pass"
   ]
  },
  {
   "cell_type": "code",
   "execution_count": null,
   "metadata": {},
   "outputs": [],
   "source": [
    "def parse_date(soup):\n",
    "    '''\n",
    "    Parse text of the sibling of sibling of the first h3 element in the soup. Note that the immidiate sibling of `h3` is not Tag element, but NavigableString. This is used to represent text between tags.\n",
    "    '''\n",
    "\n",
    "    pass\n",
    "print(parse_date(get_soup('https://ies.fsv.cuni.cz/en/news/4976')))"
   ]
  },
  {
   "cell_type": "code",
   "execution_count": null,
   "metadata": {},
   "outputs": [],
   "source": [
    "def parse_news_content(soup):\n",
    "    '''\n",
    "    For simplicity, the content of the article is the content of all <p> elements within <div class=\"col-sm-12 news\"></div>\n",
    "\n",
    "    Return a single string with the whole text. Use `/n` as a connecting string between individual p-texts. \n",
    "\n",
    "    Hint: Consider using a `.join()` function applicable on string object\n",
    "    '''\n",
    "    pass\n",
    "\n",
    "print(parse_news_content(get_soup('https://ies.fsv.cuni.cz/en/news/4976')))"
   ]
  },
  {
   "cell_type": "code",
   "execution_count": null,
   "metadata": {},
   "outputs": [],
   "source": [
    "def parse_ies_news(link,pause=.5):\n",
    "    '''\n",
    "    From URL of given news story generate pd.Series object with `title`, `date` and `content`.\n",
    "\n",
    "    Use functions `parse_title`, `parse_date` and `parse_news_content` to get individual attributes.\n",
    "\n",
    "    Please, keep the sleep() to prevent overflow of IES website.\n",
    "    '''\n",
    "\n",
    "    time.sleep(pause)\n",
    "    \n",
    "    pass    \n",
    "parse_ies_news('https://ies.fsv.cuni.cz/en/news/4976')"
   ]
  },
  {
   "cell_type": "code",
   "execution_count": null,
   "metadata": {},
   "outputs": [],
   "source": [
    "def get_all_news(link):\n",
    "    '''\n",
    "    wraping fuction that accepts a `link` pointing towards hub website with links to parse and returing a dataframe containing all the links\n",
    "    '''\n",
    "    \n",
    "    news_links = get_all_news_links('https://ies.fsv.cuni.cz/content/tree/index/lang/en')\n",
    "    \n",
    "    return pd.DataFrame([parse_ies_news(link) for link in news_links])\n",
    "\n",
    "get_all_news('https://ies.fsv.cuni.cz/content/tree/index/lang/en')"
   ]
  },
  {
   "cell_type": "code",
   "execution_count": null,
   "metadata": {},
   "outputs": [],
   "source": []
  },
  {
   "cell_type": "markdown",
   "metadata": {},
   "source": [
    "## Task 5: Convert Task 4 into OOP"
   ]
  },
  {
   "cell_type": "code",
   "execution_count": null,
   "metadata": {},
   "outputs": [],
   "source": [
    "class News:\n",
    "    def __init__(self,link):\n",
    "        pass\n",
    "\n",
    "\n",
    "\n",
    "\n",
    "class Downloader:\n",
    "    def __init__(self,hub_url):\n",
    "        pass\n",
    "\n",
    "\n",
    "#dl = Downloader('https://ies.fsv.cuni.cz/content/tree/index/lang/en')\n"
   ]
  },
  {
   "cell_type": "code",
   "execution_count": null,
   "metadata": {},
   "outputs": [],
   "source": []
  }
 ],
 "metadata": {
  "kernelspec": {
   "display_name": "Python 3",
   "language": "python",
   "name": "python3"
  },
  "language_info": {
   "codemirror_mode": {
    "name": "ipython",
    "version": 3
   },
   "file_extension": ".py",
   "mimetype": "text/x-python",
   "name": "python",
   "nbconvert_exporter": "python",
   "pygments_lexer": "ipython3",
   "version": "3.8.8"
  }
 },
 "nbformat": 4,
 "nbformat_minor": 4
}
