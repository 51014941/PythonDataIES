{
 "cells": [
  {
   "cell_type": "markdown",
   "metadata": {},
   "source": [
    "## Lecture 3\n",
    "13-10-2020\n",
    "\n",
    "### Table of contents\n",
    "\n",
    "0. [IPython Magic](#magic)\n",
    "1. [Numpy](#numpy)\n",
    "2. [Pandas](#pandas)\n",
    "3. [Matplotlib](#matplotlib)"
   ]
  },
  {
   "cell_type": "code",
   "execution_count": 231,
   "metadata": {},
   "outputs": [
    {
     "data": {
      "text/plain": [
       "['__add__',\n",
       " '__class__',\n",
       " '__contains__',\n",
       " '__delattr__',\n",
       " '__delitem__',\n",
       " '__dir__',\n",
       " '__doc__',\n",
       " '__eq__',\n",
       " '__format__',\n",
       " '__ge__',\n",
       " '__getattribute__',\n",
       " '__getitem__',\n",
       " '__gt__',\n",
       " '__hash__',\n",
       " '__iadd__',\n",
       " '__imul__',\n",
       " '__init__',\n",
       " '__init_subclass__',\n",
       " '__iter__',\n",
       " '__le__',\n",
       " '__len__',\n",
       " '__lt__',\n",
       " '__mul__',\n",
       " '__ne__',\n",
       " '__new__',\n",
       " '__reduce__',\n",
       " '__reduce_ex__',\n",
       " '__repr__',\n",
       " '__reversed__',\n",
       " '__rmul__',\n",
       " '__setattr__',\n",
       " '__setitem__',\n",
       " '__sizeof__',\n",
       " '__str__',\n",
       " '__subclasshook__',\n",
       " 'append',\n",
       " 'clear',\n",
       " 'copy',\n",
       " 'count',\n",
       " 'extend',\n",
       " 'index',\n",
       " 'insert',\n",
       " 'pop',\n",
       " 'remove',\n",
       " 'reverse',\n",
       " 'sort']"
      ]
     },
     "execution_count": 231,
     "metadata": {},
     "output_type": "execute_result"
    }
   ],
   "source": [
    "# helping - similar to R\n",
    "dir(list('abcd'))"
   ]
  },
  {
   "cell_type": "code",
   "execution_count": 219,
   "metadata": {},
   "outputs": [
    {
     "data": {
      "application/json": {
       "cell": {
        "!": "OSMagics",
        "HTML": "Other",
        "SVG": "Other",
        "bash": "Other",
        "capture": "ExecutionMagics",
        "debug": "ExecutionMagics",
        "file": "Other",
        "html": "DisplayMagics",
        "javascript": "DisplayMagics",
        "js": "DisplayMagics",
        "latex": "DisplayMagics",
        "markdown": "DisplayMagics",
        "perl": "Other",
        "prun": "ExecutionMagics",
        "pypy": "Other",
        "python": "Other",
        "python2": "Other",
        "python3": "Other",
        "ruby": "Other",
        "script": "ScriptMagics",
        "sh": "Other",
        "svg": "DisplayMagics",
        "sx": "OSMagics",
        "system": "OSMagics",
        "time": "ExecutionMagics",
        "timeit": "ExecutionMagics",
        "writefile": "OSMagics"
       },
       "line": {
        "alias": "OSMagics",
        "alias_magic": "BasicMagics",
        "autoawait": "AsyncMagics",
        "autocall": "AutoMagics",
        "automagic": "AutoMagics",
        "autosave": "KernelMagics",
        "bookmark": "OSMagics",
        "cat": "Other",
        "cd": "OSMagics",
        "clear": "KernelMagics",
        "colors": "BasicMagics",
        "conda": "PackagingMagics",
        "config": "ConfigMagics",
        "connect_info": "KernelMagics",
        "cp": "Other",
        "debug": "ExecutionMagics",
        "dhist": "OSMagics",
        "dirs": "OSMagics",
        "doctest_mode": "BasicMagics",
        "ed": "Other",
        "edit": "KernelMagics",
        "env": "OSMagics",
        "gui": "BasicMagics",
        "hist": "Other",
        "history": "HistoryMagics",
        "killbgscripts": "ScriptMagics",
        "ldir": "Other",
        "less": "KernelMagics",
        "lf": "Other",
        "lk": "Other",
        "ll": "Other",
        "load": "CodeMagics",
        "load_ext": "ExtensionMagics",
        "loadpy": "CodeMagics",
        "logoff": "LoggingMagics",
        "logon": "LoggingMagics",
        "logstart": "LoggingMagics",
        "logstate": "LoggingMagics",
        "logstop": "LoggingMagics",
        "ls": "Other",
        "lsmagic": "BasicMagics",
        "lx": "Other",
        "macro": "ExecutionMagics",
        "magic": "BasicMagics",
        "man": "KernelMagics",
        "matplotlib": "PylabMagics",
        "mkdir": "Other",
        "more": "KernelMagics",
        "mv": "Other",
        "notebook": "BasicMagics",
        "page": "BasicMagics",
        "pastebin": "CodeMagics",
        "pdb": "ExecutionMagics",
        "pdef": "NamespaceMagics",
        "pdoc": "NamespaceMagics",
        "pfile": "NamespaceMagics",
        "pinfo": "NamespaceMagics",
        "pinfo2": "NamespaceMagics",
        "pip": "PackagingMagics",
        "popd": "OSMagics",
        "pprint": "BasicMagics",
        "precision": "BasicMagics",
        "prun": "ExecutionMagics",
        "psearch": "NamespaceMagics",
        "psource": "NamespaceMagics",
        "pushd": "OSMagics",
        "pwd": "OSMagics",
        "pycat": "OSMagics",
        "pylab": "PylabMagics",
        "qtconsole": "KernelMagics",
        "quickref": "BasicMagics",
        "recall": "HistoryMagics",
        "rehashx": "OSMagics",
        "reload_ext": "ExtensionMagics",
        "rep": "Other",
        "rerun": "HistoryMagics",
        "reset": "NamespaceMagics",
        "reset_selective": "NamespaceMagics",
        "rm": "Other",
        "rmdir": "Other",
        "run": "ExecutionMagics",
        "save": "CodeMagics",
        "sc": "OSMagics",
        "set_env": "OSMagics",
        "store": "StoreMagics",
        "sx": "OSMagics",
        "system": "OSMagics",
        "tb": "ExecutionMagics",
        "time": "ExecutionMagics",
        "timeit": "ExecutionMagics",
        "unalias": "OSMagics",
        "unload_ext": "ExtensionMagics",
        "who": "NamespaceMagics",
        "who_ls": "NamespaceMagics",
        "whos": "NamespaceMagics",
        "xdel": "NamespaceMagics",
        "xmode": "BasicMagics"
       }
      },
      "text/plain": [
       "Available line magics:\n",
       "%alias  %alias_magic  %autoawait  %autocall  %automagic  %autosave  %bookmark  %cat  %cd  %clear  %colors  %conda  %config  %connect_info  %cp  %debug  %dhist  %dirs  %doctest_mode  %ed  %edit  %env  %gui  %hist  %history  %killbgscripts  %ldir  %less  %lf  %lk  %ll  %load  %load_ext  %loadpy  %logoff  %logon  %logstart  %logstate  %logstop  %ls  %lsmagic  %lx  %macro  %magic  %man  %matplotlib  %mkdir  %more  %mv  %notebook  %page  %pastebin  %pdb  %pdef  %pdoc  %pfile  %pinfo  %pinfo2  %pip  %popd  %pprint  %precision  %prun  %psearch  %psource  %pushd  %pwd  %pycat  %pylab  %qtconsole  %quickref  %recall  %rehashx  %reload_ext  %rep  %rerun  %reset  %reset_selective  %rm  %rmdir  %run  %save  %sc  %set_env  %store  %sx  %system  %tb  %time  %timeit  %unalias  %unload_ext  %who  %who_ls  %whos  %xdel  %xmode\n",
       "\n",
       "Available cell magics:\n",
       "%%!  %%HTML  %%SVG  %%bash  %%capture  %%debug  %%file  %%html  %%javascript  %%js  %%latex  %%markdown  %%perl  %%prun  %%pypy  %%python  %%python2  %%python3  %%ruby  %%script  %%sh  %%svg  %%sx  %%system  %%time  %%timeit  %%writefile\n",
       "\n",
       "Automagic is ON, % prefix IS NOT needed for line magics."
      ]
     },
     "execution_count": 219,
     "metadata": {},
     "output_type": "execute_result"
    }
   ],
   "source": [
    "# list of all IPython Magic\n",
    "%lsmagic\n",
    "\n",
    "# not very pure-programming but to warm up\n",
    "# documentation\n",
    "# https://ipython.readthedocs.io/en/stable/interactive/magics.html"
   ]
  },
  {
   "cell_type": "markdown",
   "metadata": {},
   "source": [
    "Useful IPython Magic commands. "
   ]
  },
  {
   "cell_type": "code",
   "execution_count": 227,
   "metadata": {},
   "outputs": [
    {
     "name": "stdout",
     "output_type": "stream",
     "text": [
      "Requirement already satisfied: numpy in /usr/local/lib/python3.7/site-packages (1.18.5)\n",
      "\u001b[33mWARNING: You are using pip version 19.3.1; however, version 20.2.3 is available.\n",
      "You should consider upgrading via the 'pip install --upgrade pip' command.\u001b[0m\n"
     ]
    }
   ],
   "source": [
    "# executing shell comands from the jupyter notebook\n",
    "#!ls -lha\n",
    "!pip install numpy"
   ]
  },
  {
   "cell_type": "markdown",
   "metadata": {},
   "source": [
    "**Timing**\n",
    "* `%%time` gives information about a single run of the code cell\n",
    "* `%timeit` runs a code cell number of times and provides the mean of the fastest three times\n",
    "* we will use these to show the speed of numpy"
   ]
  },
  {
   "cell_type": "code",
   "execution_count": 224,
   "metadata": {
    "scrolled": true
   },
   "outputs": [
    {
     "name": "stdout",
     "output_type": "stream",
     "text": [
      "2.2 µs ± 90.2 ns per loop (mean ± std. dev. of 7 runs, 100000 loops each)\n"
     ]
    }
   ],
   "source": [
    "%%timeit\n",
    "for i in range(10):\n",
    "    _ = i**2"
   ]
  },
  {
   "cell_type": "markdown",
   "metadata": {},
   "source": [
    "# Numpy <a name=\"numpy\"></a>"
   ]
  },
  {
   "cell_type": "markdown",
   "metadata": {},
   "source": [
    "* Num(erical) Py(thon)\n",
    "* NumPy is at the base of Python's scientific stack of tools \n",
    "* Python already has *high-level number objects* (integers, floating point) and *containers*  (lists, dictionaries ) \n",
    "* np arrays contain only one type - unlike general lists\n",
    "* Memory-efficient container that provides fast numerical operations.\n",
    "* **ndarray** = block of memory + indexing scheme + data type descriptor\n",
    "    * raw data \n",
    "    * how to locate an element\n",
    "    * how to interpret an element\n",
    "    \n",
    "<img src=\"https://scipy-lectures.org/_images/threefundamental.png\" width=\"700\" height=\"500\">"
   ]
  },
  {
   "cell_type": "code",
   "execution_count": 228,
   "metadata": {},
   "outputs": [],
   "source": [
    "# np is alias \"\"(used when name of the packages are too long or coders are rightly lazy)\n",
    "import numpy as np"
   ]
  },
  {
   "cell_type": "code",
   "execution_count": 248,
   "metadata": {},
   "outputs": [
    {
     "data": {
      "text/plain": [
       "5"
      ]
     },
     "execution_count": 248,
     "metadata": {},
     "output_type": "execute_result"
    }
   ],
   "source": [
    "#simple array\n",
    "a = np.array([0, 1, 2, 3, 4])\n",
    "\n",
    "#print(a)\n",
    "dir(a)\n",
    "\n",
    "#a.ndim\n",
    "\n",
    "#a.shape\n",
    "\n",
    "len(a)"
   ]
  },
  {
   "cell_type": "code",
   "execution_count": 257,
   "metadata": {},
   "outputs": [
    {
     "data": {
      "text/plain": [
       "(2, 2)"
      ]
     },
     "execution_count": 257,
     "metadata": {},
     "output_type": "execute_result"
    }
   ],
   "source": [
    "np.array([[1,3], [2,3]]).shape"
   ]
  },
  {
   "cell_type": "code",
   "execution_count": 255,
   "metadata": {},
   "outputs": [
    {
     "name": "stdout",
     "output_type": "stream",
     "text": [
      "[[[1 3]\n",
      "  [2 4]]\n",
      "\n",
      " [[3 5]\n",
      "  [4 6]]]\n"
     ]
    },
    {
     "data": {
      "text/plain": [
       "(2, 2, 2)"
      ]
     },
     "execution_count": 255,
     "metadata": {},
     "output_type": "execute_result"
    }
   ],
   "source": [
    "# construct 3D array manually (focus on the brackets)\n",
    "\n",
    "a = np.array([[[1,3], [2,4]], [[3,5], [4,6]]])\n",
    "print(a)\n",
    "a.shape\n"
   ]
  },
  {
   "cell_type": "markdown",
   "metadata": {},
   "source": [
    "Construct array like a civilized person."
   ]
  },
  {
   "cell_type": "code",
   "execution_count": 269,
   "metadata": {},
   "outputs": [
    {
     "data": {
      "text/plain": [
       "array([0, 1, 2, 3, 4, 5, 6, 7, 8, 9])"
      ]
     },
     "execution_count": 269,
     "metadata": {},
     "output_type": "execute_result"
    }
   ],
   "source": [
    "# evenly spaced\n",
    "a = np.arange(10)\n",
    "a"
   ]
  },
  {
   "cell_type": "code",
   "execution_count": 277,
   "metadata": {},
   "outputs": [
    {
     "data": {
      "text/plain": [
       "4.5"
      ]
     },
     "execution_count": 277,
     "metadata": {},
     "output_type": "execute_result"
    }
   ],
   "source": [
    "# evenly spaced\n",
    "a = np.arange(10).reshape((2,5)).flatten().mean()\n",
    "a"
   ]
  },
  {
   "cell_type": "code",
   "execution_count": 280,
   "metadata": {},
   "outputs": [
    {
     "data": {
      "text/plain": [
       "array([0.        , 0.11111111, 0.22222222, 0.33333333, 0.44444444,\n",
       "       0.55555556, 0.66666667, 0.77777778, 0.88888889, 1.        ])"
      ]
     },
     "execution_count": 280,
     "metadata": {},
     "output_type": "execute_result"
    }
   ],
   "source": [
    "#generate sequences\n",
    "\n",
    "# number of points from an interval\n",
    "start = 0\n",
    "end = 1\n",
    "n_points = 10\n",
    "a = np.linspace(start, end, n_points)\n",
    "a"
   ]
  },
  {
   "cell_type": "code",
   "execution_count": 292,
   "metadata": {},
   "outputs": [
    {
     "data": {
      "text/plain": [
       "array([ 0.47143516, -1.19097569,  1.43270697, -0.3126519 ])"
      ]
     },
     "execution_count": 292,
     "metadata": {},
     "output_type": "execute_result"
    }
   ],
   "source": [
    "# random seed is cell-specific! \n",
    "np.random.seed(1234)\n",
    "\n",
    "# random (normal)\n",
    "r = np.random.randn(4)\n",
    "r"
   ]
  },
  {
   "cell_type": "code",
   "execution_count": 305,
   "metadata": {},
   "outputs": [
    {
     "data": {
      "text/plain": [
       "array([-1.40197328, -0.1009182 , -0.54824245, -0.14461951])"
      ]
     },
     "execution_count": 305,
     "metadata": {},
     "output_type": "execute_result"
    }
   ],
   "source": [
    "r = np.random.randn(4)\n",
    "r"
   ]
  },
  {
   "cell_type": "markdown",
   "metadata": {},
   "source": [
    "### Indexing and Slicing\n",
    "* In 2D, the first dimension corresponds to rows, the second to columns.\n",
    "* in the multidimensional case, `a[0]` gives all elements in the unspecified dimension"
   ]
  },
  {
   "cell_type": "code",
   "execution_count": 306,
   "metadata": {},
   "outputs": [
    {
     "data": {
      "text/plain": [
       "array([[1, 0, 0, 0],\n",
       "       [0, 2, 0, 0],\n",
       "       [0, 0, 3, 0],\n",
       "       [0, 0, 0, 4]])"
      ]
     },
     "execution_count": 306,
     "metadata": {},
     "output_type": "execute_result"
    }
   ],
   "source": [
    "# create toy diagonal matrix\n",
    "a = np.diag([1,2,3,4])\n",
    "a"
   ]
  },
  {
   "cell_type": "code",
   "execution_count": 322,
   "metadata": {},
   "outputs": [
    {
     "name": "stdout",
     "output_type": "stream",
     "text": [
      "[[0 0]\n",
      " [0 0]\n",
      " [3 0]\n",
      " [0 4]]\n"
     ]
    }
   ],
   "source": [
    "\n",
    "#print(a[2]) \n",
    "\n",
    "#print(a[2,:]) #slicing\n",
    "\n",
    "#print(a[2][2])\n",
    "\n",
    "#print(a[:,1])\n",
    "\n",
    "#print(a[:,-2:])"
   ]
  },
  {
   "cell_type": "code",
   "execution_count": 324,
   "metadata": {},
   "outputs": [
    {
     "data": {
      "text/plain": [
       "array([[1, 0],\n",
       "       [0, 3]])"
      ]
     },
     "execution_count": 324,
     "metadata": {},
     "output_type": "execute_result"
    }
   ],
   "source": [
    "# select from start to an end with certain step (could be zero instead of missing)\n",
    "a[:3:2,:3:2]"
   ]
  },
  {
   "cell_type": "code",
   "execution_count": 328,
   "metadata": {},
   "outputs": [
    {
     "data": {
      "text/plain": [
       "array([ 2,  5,  8, 11, 14, 17, 20, 23, 26, 29, 32, 35, 38, 41, 44, 47, 50,\n",
       "       53, 56, 59, 62, 65, 68, 71, 74, 77])"
      ]
     },
     "execution_count": 328,
     "metadata": {},
     "output_type": "execute_result"
    }
   ],
   "source": [
    "s = np.arange(100)\n",
    "# step can also be negative\n",
    "# start:end:step\n",
    "s[2:80:3]"
   ]
  },
  {
   "cell_type": "markdown",
   "metadata": {},
   "source": [
    "**Copies vs. views**\n",
    "* a slicing creates a **view** on the original array (just a way of accessing array data)\n",
    "    * the original array is not copied in memory\n",
    "* when modifying the view, the original array is modified as well! (SURPRISE, SURPRISE)\n",
    "    * allows to save memory and time\n",
    "* In CS it is called shallow copy vs deep copy"
   ]
  },
  {
   "cell_type": "code",
   "execution_count": null,
   "metadata": {},
   "outputs": [],
   "source": [
    "a = np.arange(10)\n",
    "print(a)\n",
    "#print(np.may_share_memory(a, a[1:]))\n",
    "# print(np.may_share_memory(a, a[1:]))\n",
    "b = a #from start to end, take each second element - like with list!\n",
    "b[2] = 22\n",
    "print(b)\n",
    "print(a)  # really? \n",
    "\n",
    "print(a.data, b.data)\n",
    "\n",
    "print(np.may_share_memory(a, b))\n"
   ]
  },
  {
   "cell_type": "code",
   "execution_count": 340,
   "metadata": {},
   "outputs": [
    {
     "name": "stdout",
     "output_type": "stream",
     "text": [
      "[12  1  2  3  4  5  6  7  8  9]\n",
      "[0 1 2 3 4 5 6 7 8 9]\n",
      "False\n"
     ]
    }
   ],
   "source": [
    "a = np.arange(10)\n",
    "c = a.copy()  # force a copy\n",
    "c[0] = 12\n",
    "print(c)\n",
    "print(a)\n",
    "\n",
    "print(np.may_share_memory(a, c))\n",
    "#print(a.data, c.data)"
   ]
  },
  {
   "cell_type": "markdown",
   "metadata": {},
   "source": [
    "**Speed of basic numpy operations**\n",
    "   * much faster then in pure python"
   ]
  },
  {
   "cell_type": "code",
   "execution_count": 341,
   "metadata": {},
   "outputs": [
    {
     "name": "stdout",
     "output_type": "stream",
     "text": [
      "The slowest run took 6.54 times longer than the fastest. This could mean that an intermediate result is being cached.\n",
      "10 µs ± 7.67 µs per loop (mean ± std. dev. of 7 runs, 100 loops each)\n"
     ]
    }
   ],
   "source": [
    "# if unsure about an algo\n",
    "# run on a small sample and get a time estimate! before run for days...\n",
    "\n",
    "a = np.arange(10000)\n",
    "%timeit -n 100 a + 1  "
   ]
  },
  {
   "cell_type": "code",
   "execution_count": 342,
   "metadata": {},
   "outputs": [
    {
     "name": "stdout",
     "output_type": "stream",
     "text": [
      "633 µs ± 95.8 µs per loop (mean ± std. dev. of 7 runs, 100 loops each)\n"
     ]
    }
   ],
   "source": [
    "l = range(10000)\n",
    "%timeit -n 100 [i+1 for i in l] "
   ]
  },
  {
   "cell_type": "code",
   "execution_count": 343,
   "metadata": {},
   "outputs": [
    {
     "name": "stdout",
     "output_type": "stream",
     "text": [
      "CPU times: user 4.58 ms, sys: 69 µs, total: 4.65 ms\n",
      "Wall time: 4.55 ms\n"
     ]
    }
   ],
   "source": [
    "# remember the difference between %time and %timeit\n",
    "\n",
    "%time res = [i+1 for i in a]"
   ]
  },
  {
   "cell_type": "code",
   "execution_count": 345,
   "metadata": {},
   "outputs": [
    {
     "name": "stdout",
     "output_type": "stream",
     "text": [
      "4.14 µs ± 113 ns per loop (mean ± std. dev. of 7 runs, 100000 loops each)\n"
     ]
    }
   ],
   "source": [
    "%timeit res =  a + 1 "
   ]
  },
  {
   "cell_type": "markdown",
   "metadata": {},
   "source": [
    "**Changing shape of an array**\n",
    "* flattening\n",
    "* reshaping (inverse of flattening)"
   ]
  },
  {
   "cell_type": "code",
   "execution_count": 355,
   "metadata": {},
   "outputs": [
    {
     "data": {
      "text/plain": [
       "array([[1, 2, 3],\n",
       "       [4, 5, 6]])"
      ]
     },
     "execution_count": 355,
     "metadata": {},
     "output_type": "execute_result"
    }
   ],
   "source": [
    "a = np.array([[1, 2, 3], [4, 5, 6]])\n",
    "a"
   ]
  },
  {
   "cell_type": "code",
   "execution_count": 356,
   "metadata": {},
   "outputs": [
    {
     "name": "stdout",
     "output_type": "stream",
     "text": [
      "[1 2 3 4 5 6]\n",
      "[1 2 3 4 5 6]\n"
     ]
    }
   ],
   "source": [
    "# flattening\n",
    "print(a.ravel())\n",
    "print(a.flatten())\n"
   ]
  },
  {
   "cell_type": "code",
   "execution_count": 359,
   "metadata": {},
   "outputs": [
    {
     "name": "stdout",
     "output_type": "stream",
     "text": [
      "(2, 3)\n"
     ]
    },
    {
     "data": {
      "text/plain": [
       "array([[1, 4],\n",
       "       [2, 5],\n",
       "       [3, 6]])"
      ]
     },
     "execution_count": 359,
     "metadata": {},
     "output_type": "execute_result"
    }
   ],
   "source": [
    "print(a.shape)\n",
    "a.T"
   ]
  },
  {
   "cell_type": "code",
   "execution_count": 361,
   "metadata": {},
   "outputs": [
    {
     "data": {
      "text/plain": [
       "array([1, 4, 2, 5, 3, 6])"
      ]
     },
     "execution_count": 361,
     "metadata": {},
     "output_type": "execute_result"
    }
   ],
   "source": [
    "a.T.flatten() #or usre flatten/ravel order='F' in Fortran column-wise order"
   ]
  },
  {
   "cell_type": "code",
   "execution_count": 362,
   "metadata": {},
   "outputs": [
    {
     "data": {
      "text/plain": [
       "array([1, 4, 2, 5, 3, 6])"
      ]
     },
     "execution_count": 362,
     "metadata": {},
     "output_type": "execute_result"
    }
   ],
   "source": [
    "a.flatten(order='F')"
   ]
  },
  {
   "cell_type": "code",
   "execution_count": 79,
   "metadata": {},
   "outputs": [
    {
     "name": "stdout",
     "output_type": "stream",
     "text": [
      "(2, 3)\n"
     ]
    },
    {
     "data": {
      "text/plain": [
       "array([1, 2, 3, 4, 5, 6])"
      ]
     },
     "execution_count": 79,
     "metadata": {},
     "output_type": "execute_result"
    }
   ],
   "source": [
    "# reshaping\n",
    "print(a.shape)\n",
    "b = a.ravel()\n",
    "b"
   ]
  },
  {
   "cell_type": "code",
   "execution_count": 80,
   "metadata": {},
   "outputs": [
    {
     "data": {
      "text/plain": [
       "array([[1, 2, 3],\n",
       "       [4, 5, 6]])"
      ]
     },
     "execution_count": 80,
     "metadata": {},
     "output_type": "execute_result"
    }
   ],
   "source": [
    "b.reshape(2,3)"
   ]
  },
  {
   "cell_type": "code",
   "execution_count": 391,
   "metadata": {},
   "outputs": [
    {
     "data": {
      "text/plain": [
       "array([2.71828183, 0.36787944, 2.71828183, 0.36787944])"
      ]
     },
     "execution_count": 391,
     "metadata": {},
     "output_type": "execute_result"
    }
   ],
   "source": [
    "np.exp(a) # a bit like R - vectorized operations"
   ]
  },
  {
   "cell_type": "markdown",
   "metadata": {},
   "source": [
    "**Pictures? Just pixels.**"
   ]
  },
  {
   "cell_type": "code",
   "execution_count": 363,
   "metadata": {},
   "outputs": [],
   "source": [
    "# we will get to the matplotlib and pyplot in the last part of the lecture\n",
    "import matplotlib.pyplot as plt\n",
    "# another ipython magic\n",
    "%matplotlib inline "
   ]
  },
  {
   "cell_type": "code",
   "execution_count": 364,
   "metadata": {},
   "outputs": [
    {
     "data": {
      "text/plain": [
       "<matplotlib.image.AxesImage at 0x7fdfece64150>"
      ]
     },
     "execution_count": 364,
     "metadata": {},
     "output_type": "execute_result"
    },
    {
     "data": {
      "image/png": "[encoded data removed]",
      "text/plain": [
       "<Figure size 432x288 with 1 Axes>"
      ]
     },
     "metadata": {
      "needs_background": "light"
     },
     "output_type": "display_data"
    }
   ],
   "source": [
    "# for more M.C. Escher's pictures: https://www.mcescher.com/\n",
    "img = plt.imread('auxiliary/mc_escher_print gallery.png')\n",
    "plt.imshow(img,interpolation='nearest', aspect='auto')"
   ]
  },
  {
   "cell_type": "code",
   "execution_count": 85,
   "metadata": {},
   "outputs": [
    {
     "data": {
      "text/plain": [
       "(1024, 1280, 4)"
      ]
     },
     "execution_count": 85,
     "metadata": {},
     "output_type": "execute_result"
    }
   ],
   "source": [
    "# image shape as (H, W, D), depth: https://www.wikiwand.com/en/Color_depth\n",
    "img.shape"
   ]
  },
  {
   "cell_type": "code",
   "execution_count": null,
   "metadata": {},
   "outputs": [],
   "source": [
    "# just an array!\n",
    "img"
   ]
  },
  {
   "cell_type": "code",
   "execution_count": 369,
   "metadata": {},
   "outputs": [],
   "source": [
    "self_centered = img[200:,200:500]"
   ]
  },
  {
   "cell_type": "code",
   "execution_count": 370,
   "metadata": {},
   "outputs": [
    {
     "data": {
      "text/plain": [
       "<matplotlib.image.AxesImage at 0x7fdfece3c9d0>"
      ]
     },
     "execution_count": 370,
     "metadata": {},
     "output_type": "execute_result"
    },
    {
     "data": {
      "image/png": "[encoded data removed]",
      "text/plain": [
       "<Figure size 432x288 with 1 Axes>"
      ]
     },
     "metadata": {
      "needs_background": "light"
     },
     "output_type": "display_data"
    }
   ],
   "source": [
    "plt.imshow(self_centered)"
   ]
  },
  {
   "cell_type": "code",
   "execution_count": 371,
   "metadata": {},
   "outputs": [
    {
     "name": "stderr",
     "output_type": "stream",
     "text": [
      "Clipping input data to the valid range for imshow with RGB data ([0..1] for floats or [0..255] for integers).\n"
     ]
    },
    {
     "data": {
      "text/plain": [
       "<matplotlib.image.AxesImage at 0x7fdffa057610>"
      ]
     },
     "execution_count": 371,
     "metadata": {},
     "output_type": "execute_result"
    },
    {
     "data": {
      "image/png": "[encoded data removed]",
      "text/plain": [
       "<Figure size 216x216 with 1 Axes>"
      ]
     },
     "metadata": {
      "needs_background": "light"
     },
     "output_type": "display_data"
    }
   ],
   "source": [
    "lx, ly, ld = img.shape\n",
    "X, Y = np.ogrid[0:lx, 0:ly]\n",
    "mask = (X - lx/2)**2 + (Y - ly/2)**2 > lx*ly/4\n",
    "img[mask] = 0\n",
    "img[range(300), range(300)] = 255\n",
    "\n",
    "plt.figure(figsize=(3, 3))\n",
    "plt.axes([0, 0, 1, 1])\n",
    "plt.imshow(img, cmap=plt.cm.gray)"
   ]
  },
  {
   "cell_type": "markdown",
   "metadata": {},
   "source": [
    "# Pandas <a name=\"pandas\"></a>\n",
    "\n",
    "* Pan(el) Da(ta)\n",
    "* go-to package for data analysis in Python\n",
    "* designed for working with \"labeled\" (relational data)\n",
    "* developed by Wes McKinney in 2008 while at AQR Capital Management out of the need for a tool to perform quantitative analysis on financial data (convinced AQR to open-source it)\n",
    "\n",
    "* two primary data structures:\n",
    "    * *Series* (1D labeled homogeneously-typed array)\n",
    "    * *DataFrame* (2D labeled, tabular structure with potentially heterogeneously-typed column)\n",
    "* more dimensions? MultiIndex.\n",
    "* built on top of NumPy"
   ]
  },
  {
   "cell_type": "code",
   "execution_count": 374,
   "metadata": {},
   "outputs": [],
   "source": [
    "import pandas as pd\n",
    "import sys"
   ]
  },
  {
   "cell_type": "code",
   "execution_count": 375,
   "metadata": {},
   "outputs": [
    {
     "name": "stdout",
     "output_type": "stream",
     "text": [
      "Python version 3.7.5 (default, Nov 23 2019, 05:59:34) \n",
      "[GCC 8.3.0]\n",
      "Pandas version 1.0.4\n"
     ]
    }
   ],
   "source": [
    "print('Python version ' + sys.version)\n",
    "print('Pandas version ' + pd.__version__)"
   ]
  },
  {
   "cell_type": "markdown",
   "metadata": {},
   "source": [
    "## Data structures in pandas\n",
    "\n",
    "### Series\n",
    "* 1D labeled array able to hold any data type (int,str,float, Python objects, etc.)"
   ]
  },
  {
   "cell_type": "code",
   "execution_count": 376,
   "metadata": {},
   "outputs": [
    {
     "data": {
      "text/plain": [
       "0    1\n",
       "1   -1\n",
       "2    1\n",
       "3   -1\n",
       "dtype: int64"
      ]
     },
     "execution_count": 376,
     "metadata": {},
     "output_type": "execute_result"
    }
   ],
   "source": [
    "# the basic method to create a Series\n",
    "data = [1,-1,1,-1]\n",
    "\n",
    "# if no index is passed, one will be created having values [0, ..., len(data) - 1].\n",
    "s = pd.Series(data)\n",
    "s\n",
    "\n",
    "#index is a unique identifier like with lists (does not need to be numeric or even uniform)"
   ]
  },
  {
   "cell_type": "markdown",
   "metadata": {},
   "source": [
    "`data` (in the example above) can be:\n",
    "    * a dict\n",
    "    * a list\n",
    "    * an ndarray\n",
    "    * a scalar value\n",
    "\n",
    "\n",
    "Examples of from dict and a scalar value below:"
   ]
  },
  {
   "cell_type": "code",
   "execution_count": 382,
   "metadata": {},
   "outputs": [
    {
     "data": {
      "text/plain": [
       "aa     a\n",
       "aaa    c\n",
       "dtype: object"
      ]
     },
     "execution_count": 382,
     "metadata": {},
     "output_type": "execute_result"
    }
   ],
   "source": [
    "# in case of dictionary\n",
    "d = {'aa':'a', 'aaa':'b', 'aaa':'c'}\n",
    "pd.Series(d)\n",
    "#dictionary keys serve as index - similar meaning"
   ]
  },
  {
   "cell_type": "code",
   "execution_count": 383,
   "metadata": {},
   "outputs": [
    {
     "data": {
      "text/plain": [
       "a    5.0\n",
       "b    5.0\n",
       "c    5.0\n",
       "d    5.0\n",
       "e    5.0\n",
       "dtype: float64"
      ]
     },
     "execution_count": 383,
     "metadata": {},
     "output_type": "execute_result"
    }
   ],
   "source": [
    "pd.Series(5., index=['a', 'b', 'c', 'd', 'e'])"
   ]
  },
  {
   "cell_type": "markdown",
   "metadata": {},
   "source": [
    "* a key difference between Series/pandas and ndarray: operations between Series automatically align the data based on label"
   ]
  },
  {
   "cell_type": "code",
   "execution_count": 388,
   "metadata": {},
   "outputs": [
    {
     "data": {
      "text/plain": [
       "1    2\n",
       "2   -2\n",
       "3    2\n",
       "4   -2\n",
       "dtype: int64"
      ]
     },
     "execution_count": 388,
     "metadata": {},
     "output_type": "execute_result"
    }
   ],
   "source": [
    "a = pd.Series([1,-1,1,-1], index = [1,2,3,4])\n",
    "b = pd.Series([-1,1,-1,1], index = [2,1,4,3])\n",
    "a+ b"
   ]
  },
  {
   "cell_type": "code",
   "execution_count": 389,
   "metadata": {},
   "outputs": [
    {
     "data": {
      "text/plain": [
       "array([0, 0, 0, 0])"
      ]
     },
     "execution_count": 389,
     "metadata": {},
     "output_type": "execute_result"
    }
   ],
   "source": [
    "a = [1,-1,1,-1]\n",
    "b = [-1,1,-1,1]\n",
    "\n",
    "np.array(a) + np.array(b) # now orks as expected"
   ]
  },
  {
   "cell_type": "markdown",
   "metadata": {},
   "source": [
    "* looping through (value-by-value) usually not necessary, remember the case of np array"
   ]
  },
  {
   "cell_type": "markdown",
   "metadata": {},
   "source": [
    "###  DataFrame\n",
    "\n",
    "* a 2D labeled data structure with columns of potentially different types\n",
    "* like a spreadsheet or SQL table, or a dict of Series objects\n",
    "* the most frequently used pandas object \n",
    "* can be created:\n",
    "    * typically by reading a csv file\n",
    "    * dict of 1D ndarrays, lists, dicts, Series\n",
    "    * 2D numpy.ndarray\n",
    "    * a Series\n",
    "    * another DataFrame"
   ]
  },
  {
   "cell_type": "code",
   "execution_count": 394,
   "metadata": {},
   "outputs": [
    {
     "data": {
      "text/html": [
       "<div>\n",
       "<style scoped>\n",
       "    .dataframe tbody tr th:only-of-type {\n",
       "        vertical-align: middle;\n",
       "    }\n",
       "\n",
       "    .dataframe tbody tr th {\n",
       "        vertical-align: top;\n",
       "    }\n",
       "\n",
       "    .dataframe thead th {\n",
       "        text-align: right;\n",
       "    }\n",
       "</style>\n",
       "<table border=\"1\" class=\"dataframe\">\n",
       "  <thead>\n",
       "    <tr style=\"text-align: right;\">\n",
       "      <th></th>\n",
       "      <th>var</th>\n",
       "    </tr>\n",
       "  </thead>\n",
       "  <tbody>\n",
       "    <tr>\n",
       "      <th>0</th>\n",
       "      <td>1</td>\n",
       "    </tr>\n",
       "    <tr>\n",
       "      <th>1</th>\n",
       "      <td>2</td>\n",
       "    </tr>\n",
       "    <tr>\n",
       "      <th>2</th>\n",
       "      <td>3</td>\n",
       "    </tr>\n",
       "  </tbody>\n",
       "</table>\n",
       "</div>"
      ],
      "text/plain": [
       "   var\n",
       "0    1\n",
       "1    2\n",
       "2    3"
      ]
     },
     "execution_count": 394,
     "metadata": {},
     "output_type": "execute_result"
    }
   ],
   "source": [
    "pd.DataFrame({'var':[1,2,3]})"
   ]
  },
  {
   "cell_type": "code",
   "execution_count": 396,
   "metadata": {},
   "outputs": [
    {
     "data": {
      "text/html": [
       "<div>\n",
       "<style scoped>\n",
       "    .dataframe tbody tr th:only-of-type {\n",
       "        vertical-align: middle;\n",
       "    }\n",
       "\n",
       "    .dataframe tbody tr th {\n",
       "        vertical-align: top;\n",
       "    }\n",
       "\n",
       "    .dataframe thead th {\n",
       "        text-align: right;\n",
       "    }\n",
       "</style>\n",
       "<table border=\"1\" class=\"dataframe\">\n",
       "  <thead>\n",
       "    <tr style=\"text-align: right;\">\n",
       "      <th></th>\n",
       "      <th>one</th>\n",
       "      <th>two</th>\n",
       "    </tr>\n",
       "  </thead>\n",
       "  <tbody>\n",
       "    <tr>\n",
       "      <th>a</th>\n",
       "      <td>1.0</td>\n",
       "      <td>1.0</td>\n",
       "    </tr>\n",
       "    <tr>\n",
       "      <th>b</th>\n",
       "      <td>2.0</td>\n",
       "      <td>2.0</td>\n",
       "    </tr>\n",
       "    <tr>\n",
       "      <th>c</th>\n",
       "      <td>3.0</td>\n",
       "      <td>3.0</td>\n",
       "    </tr>\n",
       "    <tr>\n",
       "      <th>d</th>\n",
       "      <td>NaN</td>\n",
       "      <td>4.0</td>\n",
       "    </tr>\n",
       "  </tbody>\n",
       "</table>\n",
       "</div>"
      ],
      "text/plain": [
       "   one  two\n",
       "a  1.0  1.0\n",
       "b  2.0  2.0\n",
       "c  3.0  3.0\n",
       "d  NaN  4.0"
      ]
     },
     "execution_count": 396,
     "metadata": {},
     "output_type": "execute_result"
    }
   ],
   "source": [
    "# from dict of Series\n",
    "d = {'one': pd.Series([1., 2., 3.], index=['a', 'b', 'c']),\n",
    "     'two': pd.Series([2., 1., 3., 4.], index=['b', 'a', 'c', 'd'])}\n",
    "df = pd.DataFrame(d)\n",
    "df"
   ]
  },
  {
   "cell_type": "markdown",
   "metadata": {},
   "source": [
    "Now that we have our data unzipped, we can load them into Python, specifically using Pandas tools.\n",
    "\n",
    "### Data I/O (in/out)\n",
    "* CSV, JSON, HTML, Excel, HDF5, SQL, pickle, ...\n",
    "    * for specific details, see [documentation](https://pandas.pydata.org/pandas-docs/stable/user_guide/io.html)\n",
    "* `pd.read_csv()` is the workhorse for reading text files\n",
    "    * large number of params means great flexibility when getting data in\n",
    "    \n",
    "We will work with the course evaluation data from FSV.\n",
    "  * each observation is a response to the following questionare (... hope it reminds you of something)"
   ]
  },
  {
   "cell_type": "code",
   "execution_count": 424,
   "metadata": {},
   "outputs": [
    {
     "name": "stderr",
     "output_type": "stream",
     "text": [
      "b'Skipping line 279: expected 21 fields, saw 22\\nSkipping line 4057: expected 21 fields, saw 22\\n'\n"
     ]
    }
   ],
   "source": [
    "# load the \"raw\" data for one particular year\n",
    "df = pd.read_csv('unzipped_data/data_2017_zs.csv',\n",
    "            sep = ';', error_bad_lines=False )"
   ]
  },
  {
   "cell_type": "code",
   "execution_count": 425,
   "metadata": {},
   "outputs": [
    {
     "data": {
      "text/html": [
       "<div>\n",
       "<style scoped>\n",
       "    .dataframe tbody tr th:only-of-type {\n",
       "        vertical-align: middle;\n",
       "    }\n",
       "\n",
       "    .dataframe tbody tr th {\n",
       "        vertical-align: top;\n",
       "    }\n",
       "\n",
       "    .dataframe thead th {\n",
       "        text-align: right;\n",
       "    }\n",
       "</style>\n",
       "<table border=\"1\" class=\"dataframe\">\n",
       "  <thead>\n",
       "    <tr style=\"text-align: right;\">\n",
       "      <th></th>\n",
       "      <th>cislo_dot</th>\n",
       "      <th>kod_predm</th>\n",
       "      <th>nazev_predm</th>\n",
       "      <th>prednasejici</th>\n",
       "      <th>cvicici</th>\n",
       "      <th>q1</th>\n",
       "      <th>q2</th>\n",
       "      <th>q3</th>\n",
       "      <th>q4</th>\n",
       "      <th>q5</th>\n",
       "      <th>...</th>\n",
       "      <th>q7</th>\n",
       "      <th>q8</th>\n",
       "      <th>q9</th>\n",
       "      <th>q10</th>\n",
       "      <th>q11</th>\n",
       "      <th>q12</th>\n",
       "      <th>q13</th>\n",
       "      <th>t1</th>\n",
       "      <th>t2</th>\n",
       "      <th>katedra_code</th>\n",
       "    </tr>\n",
       "  </thead>\n",
       "  <tbody>\n",
       "    <tr>\n",
       "      <th>0</th>\n",
       "      <td>1</td>\n",
       "      <td>JEB003</td>\n",
       "      <td>Ekonomie I</td>\n",
       "      <td>Fanta,N.,Kracík,J.,Švarcová,N.</td>\n",
       "      <td>Fanta,N.,Kracík,J.,Švarcová,N.</td>\n",
       "      <td>3.0</td>\n",
       "      <td>5.0</td>\n",
       "      <td>4.0</td>\n",
       "      <td>5.0</td>\n",
       "      <td>4.0</td>\n",
       "      <td>...</td>\n",
       "      <td>4.0</td>\n",
       "      <td>3.0</td>\n",
       "      <td>1.0</td>\n",
       "      <td>4.0</td>\n",
       "      <td>1.0</td>\n",
       "      <td>NaN</td>\n",
       "      <td>2.0</td>\n",
       "      <td>NaN</td>\n",
       "      <td>NaN</td>\n",
       "      <td>ies</td>\n",
       "    </tr>\n",
       "    <tr>\n",
       "      <th>1</th>\n",
       "      <td>2</td>\n",
       "      <td>JLB003</td>\n",
       "      <td>Angličtina pro ekonomy I</td>\n",
       "      <td>NaN</td>\n",
       "      <td>Poslušná,L.</td>\n",
       "      <td>5.0</td>\n",
       "      <td>3.0</td>\n",
       "      <td>NaN</td>\n",
       "      <td>NaN</td>\n",
       "      <td>NaN</td>\n",
       "      <td>...</td>\n",
       "      <td>5.0</td>\n",
       "      <td>5.0</td>\n",
       "      <td>1.0</td>\n",
       "      <td>5.0</td>\n",
       "      <td>5.0</td>\n",
       "      <td>5.0</td>\n",
       "      <td>5.0</td>\n",
       "      <td>NaN</td>\n",
       "      <td>NaN</td>\n",
       "      <td>cjp</td>\n",
       "    </tr>\n",
       "    <tr>\n",
       "      <th>2</th>\n",
       "      <td>3</td>\n",
       "      <td>NMMA701</td>\n",
       "      <td>Matematika 1</td>\n",
       "      <td>Spurný,J.</td>\n",
       "      <td>Rondoš,J.</td>\n",
       "      <td>3.0</td>\n",
       "      <td>5.0</td>\n",
       "      <td>3.0</td>\n",
       "      <td>2.0</td>\n",
       "      <td>1.0</td>\n",
       "      <td>...</td>\n",
       "      <td>4.0</td>\n",
       "      <td>5.0</td>\n",
       "      <td>1.0</td>\n",
       "      <td>3.0</td>\n",
       "      <td>2.0</td>\n",
       "      <td>2.0</td>\n",
       "      <td>1.0</td>\n",
       "      <td>NaN</td>\n",
       "      <td>NaN</td>\n",
       "      <td>ies</td>\n",
       "    </tr>\n",
       "    <tr>\n",
       "      <th>3</th>\n",
       "      <td>4</td>\n",
       "      <td>JEB023</td>\n",
       "      <td>Úvod do studia práva</td>\n",
       "      <td>Pražák,P.,Wintr,J.</td>\n",
       "      <td>NaN</td>\n",
       "      <td>3.0</td>\n",
       "      <td>4.0</td>\n",
       "      <td>3.0</td>\n",
       "      <td>3.0</td>\n",
       "      <td>1.0</td>\n",
       "      <td>...</td>\n",
       "      <td>NaN</td>\n",
       "      <td>NaN</td>\n",
       "      <td>1.0</td>\n",
       "      <td>3.0</td>\n",
       "      <td>2.0</td>\n",
       "      <td>3.0</td>\n",
       "      <td>2.0</td>\n",
       "      <td>NaN</td>\n",
       "      <td>NaN</td>\n",
       "      <td>ies</td>\n",
       "    </tr>\n",
       "    <tr>\n",
       "      <th>4</th>\n",
       "      <td>5</td>\n",
       "      <td>JEB055</td>\n",
       "      <td>Seminář k aktualitám I</td>\n",
       "      <td>NaN</td>\n",
       "      <td>Vyhnánek,T.</td>\n",
       "      <td>2.0</td>\n",
       "      <td>3.0</td>\n",
       "      <td>NaN</td>\n",
       "      <td>NaN</td>\n",
       "      <td>NaN</td>\n",
       "      <td>...</td>\n",
       "      <td>3.0</td>\n",
       "      <td>1.0</td>\n",
       "      <td>1.0</td>\n",
       "      <td>4.0</td>\n",
       "      <td>2.0</td>\n",
       "      <td>2.0</td>\n",
       "      <td>1.0</td>\n",
       "      <td>NaN</td>\n",
       "      <td>NaN</td>\n",
       "      <td>ies</td>\n",
       "    </tr>\n",
       "  </tbody>\n",
       "</table>\n",
       "<p>5 rows × 21 columns</p>\n",
       "</div>"
      ],
      "text/plain": [
       "   cislo_dot kod_predm               nazev_predm  \\\n",
       "0          1    JEB003                Ekonomie I   \n",
       "1          2    JLB003  Angličtina pro ekonomy I   \n",
       "2          3   NMMA701              Matematika 1   \n",
       "3          4    JEB023      Úvod do studia práva   \n",
       "4          5    JEB055    Seminář k aktualitám I   \n",
       "\n",
       "                     prednasejici                         cvicici   q1   q2  \\\n",
       "0  Fanta,N.,Kracík,J.,Švarcová,N.  Fanta,N.,Kracík,J.,Švarcová,N.  3.0  5.0   \n",
       "1                             NaN                     Poslušná,L.  5.0  3.0   \n",
       "2                       Spurný,J.                       Rondoš,J.  3.0  5.0   \n",
       "3              Pražák,P.,Wintr,J.                             NaN  3.0  4.0   \n",
       "4                             NaN                     Vyhnánek,T.  2.0  3.0   \n",
       "\n",
       "    q3   q4   q5  ...   q7   q8   q9  q10  q11  q12  q13   t1   t2  \\\n",
       "0  4.0  5.0  4.0  ...  4.0  3.0  1.0  4.0  1.0  NaN  2.0  NaN  NaN   \n",
       "1  NaN  NaN  NaN  ...  5.0  5.0  1.0  5.0  5.0  5.0  5.0  NaN  NaN   \n",
       "2  3.0  2.0  1.0  ...  4.0  5.0  1.0  3.0  2.0  2.0  1.0  NaN  NaN   \n",
       "3  3.0  3.0  1.0  ...  NaN  NaN  1.0  3.0  2.0  3.0  2.0  NaN  NaN   \n",
       "4  NaN  NaN  NaN  ...  3.0  1.0  1.0  4.0  2.0  2.0  1.0  NaN  NaN   \n",
       "\n",
       "  katedra_code  \n",
       "0          ies  \n",
       "1          cjp  \n",
       "2          ies  \n",
       "3          ies  \n",
       "4          ies  \n",
       "\n",
       "[5 rows x 21 columns]"
      ]
     },
     "execution_count": 425,
     "metadata": {},
     "output_type": "execute_result"
    }
   ],
   "source": [
    "df.head(5)"
   ]
  },
  {
   "cell_type": "code",
   "execution_count": 426,
   "metadata": {},
   "outputs": [
    {
     "data": {
      "text/plain": [
       "Index(['cislo_dot', 'kod_predm', 'nazev_predm', 'prednasejici', 'cvicici',\n",
       "       'q1', 'q2', 'q3', 'q4', 'q5', 'q6', 'q7', 'q8', 'q9', 'q10', 'q11',\n",
       "       'q12', 'q13', 't1', 't2', 'katedra_code'],\n",
       "      dtype='object')"
      ]
     },
     "execution_count": 426,
     "metadata": {},
     "output_type": "execute_result"
    }
   ],
   "source": [
    "df.columns"
   ]
  },
  {
   "cell_type": "code",
   "execution_count": 427,
   "metadata": {},
   "outputs": [
    {
     "data": {
      "text/plain": [
       "(6995, 21)"
      ]
     },
     "execution_count": 427,
     "metadata": {},
     "output_type": "execute_result"
    }
   ],
   "source": [
    "df.shape"
   ]
  },
  {
   "cell_type": "code",
   "execution_count": 428,
   "metadata": {},
   "outputs": [
    {
     "name": "stdout",
     "output_type": "stream",
     "text": [
      "Original columns:  Index(['cislo_dot', 'kod_predm', 'nazev_predm', 'prednasejici', 'cvicici',\n",
      "       'q1', 'q2', 'q3', 'q4', 'q5', 'q6', 'q7', 'q8', 'q9', 'q10', 'q11',\n",
      "       'q12', 'q13', 't1', 't2', 'katedra_code'],\n",
      "      dtype='object')\n"
     ]
    }
   ],
   "source": [
    "print('Original columns: ', df.columns)\n",
    "# raw data have column names in czech, let's rename them\n",
    "# if you do not want to reassign, you can provide arg. \"inplace = True\"\n",
    "df = df.rename(columns = {'cislo_dot' : 'number',\n",
    "                    'kod_predm' : 'course_code',\n",
    "                    'nazev_predm' : 'course_title',\n",
    "                    'prednasejici' : 'teachers',\n",
    "                    'cvicici' : 'seminar_leaders',\n",
    "                    't1': 'c_value',\n",
    "                    't2': 'c_improve', \n",
    "                    'katedra_code' : 'department_code'})"
   ]
  },
  {
   "cell_type": "code",
   "execution_count": 416,
   "metadata": {},
   "outputs": [
    {
     "data": {
      "text/plain": [
       "RangeIndex(start=0, stop=6995, step=1)"
      ]
     },
     "execution_count": 416,
     "metadata": {},
     "output_type": "execute_result"
    }
   ],
   "source": [
    "# iterative\n",
    "df.index"
   ]
  },
  {
   "cell_type": "code",
   "execution_count": 429,
   "metadata": {},
   "outputs": [],
   "source": [
    "# set column named \"course_code\" to be an index (or you can use \"inplace\" option again)\n",
    "df.set_index('course_code', inplace=True)"
   ]
  },
  {
   "cell_type": "code",
   "execution_count": 430,
   "metadata": {},
   "outputs": [
    {
     "data": {
      "text/html": [
       "<div>\n",
       "<style scoped>\n",
       "    .dataframe tbody tr th:only-of-type {\n",
       "        vertical-align: middle;\n",
       "    }\n",
       "\n",
       "    .dataframe tbody tr th {\n",
       "        vertical-align: top;\n",
       "    }\n",
       "\n",
       "    .dataframe thead th {\n",
       "        text-align: right;\n",
       "    }\n",
       "</style>\n",
       "<table border=\"1\" class=\"dataframe\">\n",
       "  <thead>\n",
       "    <tr style=\"text-align: right;\">\n",
       "      <th></th>\n",
       "      <th>number</th>\n",
       "      <th>course_title</th>\n",
       "      <th>teachers</th>\n",
       "      <th>seminar_leaders</th>\n",
       "      <th>q1</th>\n",
       "      <th>q2</th>\n",
       "      <th>q3</th>\n",
       "      <th>q4</th>\n",
       "      <th>q5</th>\n",
       "      <th>q6</th>\n",
       "      <th>q7</th>\n",
       "      <th>q8</th>\n",
       "      <th>q9</th>\n",
       "      <th>q10</th>\n",
       "      <th>q11</th>\n",
       "      <th>q12</th>\n",
       "      <th>q13</th>\n",
       "      <th>c_value</th>\n",
       "      <th>c_improve</th>\n",
       "      <th>department_code</th>\n",
       "    </tr>\n",
       "    <tr>\n",
       "      <th>course_code</th>\n",
       "      <th></th>\n",
       "      <th></th>\n",
       "      <th></th>\n",
       "      <th></th>\n",
       "      <th></th>\n",
       "      <th></th>\n",
       "      <th></th>\n",
       "      <th></th>\n",
       "      <th></th>\n",
       "      <th></th>\n",
       "      <th></th>\n",
       "      <th></th>\n",
       "      <th></th>\n",
       "      <th></th>\n",
       "      <th></th>\n",
       "      <th></th>\n",
       "      <th></th>\n",
       "      <th></th>\n",
       "      <th></th>\n",
       "      <th></th>\n",
       "    </tr>\n",
       "  </thead>\n",
       "  <tbody>\n",
       "    <tr>\n",
       "      <th>JEB003</th>\n",
       "      <td>1</td>\n",
       "      <td>Ekonomie I</td>\n",
       "      <td>Fanta,N.,Kracík,J.,Švarcová,N.</td>\n",
       "      <td>Fanta,N.,Kracík,J.,Švarcová,N.</td>\n",
       "      <td>3.0</td>\n",
       "      <td>5.0</td>\n",
       "      <td>4.0</td>\n",
       "      <td>5.0</td>\n",
       "      <td>4.0</td>\n",
       "      <td>2.0</td>\n",
       "      <td>4.0</td>\n",
       "      <td>3.0</td>\n",
       "      <td>1.0</td>\n",
       "      <td>4.0</td>\n",
       "      <td>1.0</td>\n",
       "      <td>NaN</td>\n",
       "      <td>2.0</td>\n",
       "      <td>NaN</td>\n",
       "      <td>NaN</td>\n",
       "      <td>ies</td>\n",
       "    </tr>\n",
       "    <tr>\n",
       "      <th>JLB003</th>\n",
       "      <td>2</td>\n",
       "      <td>Angličtina pro ekonomy I</td>\n",
       "      <td>NaN</td>\n",
       "      <td>Poslušná,L.</td>\n",
       "      <td>5.0</td>\n",
       "      <td>3.0</td>\n",
       "      <td>NaN</td>\n",
       "      <td>NaN</td>\n",
       "      <td>NaN</td>\n",
       "      <td>5.0</td>\n",
       "      <td>5.0</td>\n",
       "      <td>5.0</td>\n",
       "      <td>1.0</td>\n",
       "      <td>5.0</td>\n",
       "      <td>5.0</td>\n",
       "      <td>5.0</td>\n",
       "      <td>5.0</td>\n",
       "      <td>NaN</td>\n",
       "      <td>NaN</td>\n",
       "      <td>cjp</td>\n",
       "    </tr>\n",
       "    <tr>\n",
       "      <th>NMMA701</th>\n",
       "      <td>3</td>\n",
       "      <td>Matematika 1</td>\n",
       "      <td>Spurný,J.</td>\n",
       "      <td>Rondoš,J.</td>\n",
       "      <td>3.0</td>\n",
       "      <td>5.0</td>\n",
       "      <td>3.0</td>\n",
       "      <td>2.0</td>\n",
       "      <td>1.0</td>\n",
       "      <td>4.0</td>\n",
       "      <td>4.0</td>\n",
       "      <td>5.0</td>\n",
       "      <td>1.0</td>\n",
       "      <td>3.0</td>\n",
       "      <td>2.0</td>\n",
       "      <td>2.0</td>\n",
       "      <td>1.0</td>\n",
       "      <td>NaN</td>\n",
       "      <td>NaN</td>\n",
       "      <td>ies</td>\n",
       "    </tr>\n",
       "    <tr>\n",
       "      <th>JEB023</th>\n",
       "      <td>4</td>\n",
       "      <td>Úvod do studia práva</td>\n",
       "      <td>Pražák,P.,Wintr,J.</td>\n",
       "      <td>NaN</td>\n",
       "      <td>3.0</td>\n",
       "      <td>4.0</td>\n",
       "      <td>3.0</td>\n",
       "      <td>3.0</td>\n",
       "      <td>1.0</td>\n",
       "      <td>NaN</td>\n",
       "      <td>NaN</td>\n",
       "      <td>NaN</td>\n",
       "      <td>1.0</td>\n",
       "      <td>3.0</td>\n",
       "      <td>2.0</td>\n",
       "      <td>3.0</td>\n",
       "      <td>2.0</td>\n",
       "      <td>NaN</td>\n",
       "      <td>NaN</td>\n",
       "      <td>ies</td>\n",
       "    </tr>\n",
       "    <tr>\n",
       "      <th>JEB055</th>\n",
       "      <td>5</td>\n",
       "      <td>Seminář k aktualitám I</td>\n",
       "      <td>NaN</td>\n",
       "      <td>Vyhnánek,T.</td>\n",
       "      <td>2.0</td>\n",
       "      <td>3.0</td>\n",
       "      <td>NaN</td>\n",
       "      <td>NaN</td>\n",
       "      <td>NaN</td>\n",
       "      <td>2.0</td>\n",
       "      <td>3.0</td>\n",
       "      <td>1.0</td>\n",
       "      <td>1.0</td>\n",
       "      <td>4.0</td>\n",
       "      <td>2.0</td>\n",
       "      <td>2.0</td>\n",
       "      <td>1.0</td>\n",
       "      <td>NaN</td>\n",
       "      <td>NaN</td>\n",
       "      <td>ies</td>\n",
       "    </tr>\n",
       "  </tbody>\n",
       "</table>\n",
       "</div>"
      ],
      "text/plain": [
       "             number              course_title                        teachers  \\\n",
       "course_code                                                                     \n",
       "JEB003            1                Ekonomie I  Fanta,N.,Kracík,J.,Švarcová,N.   \n",
       "JLB003            2  Angličtina pro ekonomy I                             NaN   \n",
       "NMMA701           3              Matematika 1                       Spurný,J.   \n",
       "JEB023            4      Úvod do studia práva              Pražák,P.,Wintr,J.   \n",
       "JEB055            5    Seminář k aktualitám I                             NaN   \n",
       "\n",
       "                            seminar_leaders   q1   q2   q3   q4   q5   q6  \\\n",
       "course_code                                                                 \n",
       "JEB003       Fanta,N.,Kracík,J.,Švarcová,N.  3.0  5.0  4.0  5.0  4.0  2.0   \n",
       "JLB003                          Poslušná,L.  5.0  3.0  NaN  NaN  NaN  5.0   \n",
       "NMMA701                           Rondoš,J.  3.0  5.0  3.0  2.0  1.0  4.0   \n",
       "JEB023                                  NaN  3.0  4.0  3.0  3.0  1.0  NaN   \n",
       "JEB055                          Vyhnánek,T.  2.0  3.0  NaN  NaN  NaN  2.0   \n",
       "\n",
       "              q7   q8   q9  q10  q11  q12  q13 c_value c_improve  \\\n",
       "course_code                                                        \n",
       "JEB003       4.0  3.0  1.0  4.0  1.0  NaN  2.0     NaN       NaN   \n",
       "JLB003       5.0  5.0  1.0  5.0  5.0  5.0  5.0     NaN       NaN   \n",
       "NMMA701      4.0  5.0  1.0  3.0  2.0  2.0  1.0     NaN       NaN   \n",
       "JEB023       NaN  NaN  1.0  3.0  2.0  3.0  2.0     NaN       NaN   \n",
       "JEB055       3.0  1.0  1.0  4.0  2.0  2.0  1.0     NaN       NaN   \n",
       "\n",
       "            department_code  \n",
       "course_code                  \n",
       "JEB003                  ies  \n",
       "JLB003                  cjp  \n",
       "NMMA701                 ies  \n",
       "JEB023                  ies  \n",
       "JEB055                  ies  "
      ]
     },
     "execution_count": 430,
     "metadata": {},
     "output_type": "execute_result"
    }
   ],
   "source": [
    "# look at the data but refrain from drawing the conclusions\n",
    "df.head(5)"
   ]
  },
  {
   "cell_type": "code",
   "execution_count": 432,
   "metadata": {},
   "outputs": [],
   "source": [
    "# make a copy of original data, so if you mess up, can go back to this\n",
    "# not that smart when you are working with the large data\n",
    "df_copy = df.copy(deep = True)"
   ]
  },
  {
   "cell_type": "markdown",
   "metadata": {},
   "source": [
    "* `pd.DataFrame.copy()`:\n",
    "    * deep: modifications to the data or indices of the copy will not be reflected in the original object\n",
    "    * shallow: any changes to the data of the original will be reflected in the shallow copy (and vice versa)"
   ]
  },
  {
   "cell_type": "code",
   "execution_count": 435,
   "metadata": {},
   "outputs": [
    {
     "ename": "TypeError",
     "evalue": "'tuple' object is not callable",
     "output_type": "error",
     "traceback": [
      "\u001b[0;31m---------------------------------------------------------------------------\u001b[0m",
      "\u001b[0;31mTypeError\u001b[0m                                 Traceback (most recent call last)",
      "\u001b[0;32m<ipython-input-435-389b45a8d66e>\u001b[0m in \u001b[0;36m<module>\u001b[0;34m\u001b[0m\n\u001b[1;32m      1\u001b[0m \u001b[0;31m# try to call it as a function\u001b[0m\u001b[0;34m\u001b[0m\u001b[0;34m\u001b[0m\u001b[0;34m\u001b[0m\u001b[0m\n\u001b[0;32m----> 2\u001b[0;31m \u001b[0mdf\u001b[0m\u001b[0;34m.\u001b[0m\u001b[0mshape\u001b[0m\u001b[0;34m(\u001b[0m\u001b[0;34m)\u001b[0m \u001b[0;31m# it si an attribute not a function\u001b[0m\u001b[0;34m\u001b[0m\u001b[0;34m\u001b[0m\u001b[0m\n\u001b[0m",
      "\u001b[0;31mTypeError\u001b[0m: 'tuple' object is not callable"
     ]
    }
   ],
   "source": [
    "# try to call it as a function\n",
    "df.shape() # it si an attribute not a function"
   ]
  },
  {
   "cell_type": "code",
   "execution_count": 436,
   "metadata": {},
   "outputs": [
    {
     "data": {
      "text/html": [
       "<div>\n",
       "<style scoped>\n",
       "    .dataframe tbody tr th:only-of-type {\n",
       "        vertical-align: middle;\n",
       "    }\n",
       "\n",
       "    .dataframe tbody tr th {\n",
       "        vertical-align: top;\n",
       "    }\n",
       "\n",
       "    .dataframe thead th {\n",
       "        text-align: right;\n",
       "    }\n",
       "</style>\n",
       "<table border=\"1\" class=\"dataframe\">\n",
       "  <thead>\n",
       "    <tr style=\"text-align: right;\">\n",
       "      <th></th>\n",
       "      <th>number</th>\n",
       "      <th>q1</th>\n",
       "      <th>q2</th>\n",
       "      <th>q3</th>\n",
       "      <th>q4</th>\n",
       "      <th>q5</th>\n",
       "      <th>q6</th>\n",
       "      <th>q7</th>\n",
       "      <th>q8</th>\n",
       "      <th>q9</th>\n",
       "      <th>q10</th>\n",
       "      <th>q11</th>\n",
       "      <th>q12</th>\n",
       "      <th>q13</th>\n",
       "    </tr>\n",
       "  </thead>\n",
       "  <tbody>\n",
       "    <tr>\n",
       "      <th>count</th>\n",
       "      <td>6995.000000</td>\n",
       "      <td>6847.000000</td>\n",
       "      <td>6827.000000</td>\n",
       "      <td>5458.000000</td>\n",
       "      <td>5457.000000</td>\n",
       "      <td>5458.000000</td>\n",
       "      <td>2600.000000</td>\n",
       "      <td>2600.000000</td>\n",
       "      <td>2600.000000</td>\n",
       "      <td>6776.000000</td>\n",
       "      <td>6829.000000</td>\n",
       "      <td>6783.000000</td>\n",
       "      <td>6801.000000</td>\n",
       "      <td>6798.00000</td>\n",
       "    </tr>\n",
       "    <tr>\n",
       "      <th>mean</th>\n",
       "      <td>3499.380843</td>\n",
       "      <td>4.108661</td>\n",
       "      <td>3.284166</td>\n",
       "      <td>4.214731</td>\n",
       "      <td>4.359355</td>\n",
       "      <td>3.872664</td>\n",
       "      <td>4.288462</td>\n",
       "      <td>4.494231</td>\n",
       "      <td>4.151923</td>\n",
       "      <td>1.419126</td>\n",
       "      <td>4.020940</td>\n",
       "      <td>3.574672</td>\n",
       "      <td>3.896927</td>\n",
       "      <td>4.12739</td>\n",
       "    </tr>\n",
       "    <tr>\n",
       "      <th>std</th>\n",
       "      <td>2019.914876</td>\n",
       "      <td>1.019755</td>\n",
       "      <td>1.056333</td>\n",
       "      <td>1.032399</td>\n",
       "      <td>0.999295</td>\n",
       "      <td>1.267321</td>\n",
       "      <td>0.964880</td>\n",
       "      <td>0.887239</td>\n",
       "      <td>1.142584</td>\n",
       "      <td>0.775423</td>\n",
       "      <td>1.069084</td>\n",
       "      <td>1.274129</td>\n",
       "      <td>1.115977</td>\n",
       "      <td>1.12351</td>\n",
       "    </tr>\n",
       "    <tr>\n",
       "      <th>min</th>\n",
       "      <td>1.000000</td>\n",
       "      <td>1.000000</td>\n",
       "      <td>1.000000</td>\n",
       "      <td>1.000000</td>\n",
       "      <td>1.000000</td>\n",
       "      <td>1.000000</td>\n",
       "      <td>1.000000</td>\n",
       "      <td>1.000000</td>\n",
       "      <td>1.000000</td>\n",
       "      <td>1.000000</td>\n",
       "      <td>1.000000</td>\n",
       "      <td>1.000000</td>\n",
       "      <td>1.000000</td>\n",
       "      <td>1.00000</td>\n",
       "    </tr>\n",
       "    <tr>\n",
       "      <th>25%</th>\n",
       "      <td>1750.500000</td>\n",
       "      <td>4.000000</td>\n",
       "      <td>3.000000</td>\n",
       "      <td>4.000000</td>\n",
       "      <td>4.000000</td>\n",
       "      <td>3.000000</td>\n",
       "      <td>4.000000</td>\n",
       "      <td>4.000000</td>\n",
       "      <td>4.000000</td>\n",
       "      <td>1.000000</td>\n",
       "      <td>3.000000</td>\n",
       "      <td>3.000000</td>\n",
       "      <td>3.000000</td>\n",
       "      <td>4.00000</td>\n",
       "    </tr>\n",
       "    <tr>\n",
       "      <th>50%</th>\n",
       "      <td>3499.000000</td>\n",
       "      <td>4.000000</td>\n",
       "      <td>3.000000</td>\n",
       "      <td>5.000000</td>\n",
       "      <td>5.000000</td>\n",
       "      <td>4.000000</td>\n",
       "      <td>5.000000</td>\n",
       "      <td>5.000000</td>\n",
       "      <td>5.000000</td>\n",
       "      <td>1.000000</td>\n",
       "      <td>4.000000</td>\n",
       "      <td>4.000000</td>\n",
       "      <td>4.000000</td>\n",
       "      <td>5.00000</td>\n",
       "    </tr>\n",
       "    <tr>\n",
       "      <th>75%</th>\n",
       "      <td>5248.500000</td>\n",
       "      <td>5.000000</td>\n",
       "      <td>4.000000</td>\n",
       "      <td>5.000000</td>\n",
       "      <td>5.000000</td>\n",
       "      <td>5.000000</td>\n",
       "      <td>5.000000</td>\n",
       "      <td>5.000000</td>\n",
       "      <td>5.000000</td>\n",
       "      <td>2.000000</td>\n",
       "      <td>5.000000</td>\n",
       "      <td>5.000000</td>\n",
       "      <td>5.000000</td>\n",
       "      <td>5.00000</td>\n",
       "    </tr>\n",
       "    <tr>\n",
       "      <th>max</th>\n",
       "      <td>6997.000000</td>\n",
       "      <td>5.000000</td>\n",
       "      <td>5.000000</td>\n",
       "      <td>5.000000</td>\n",
       "      <td>5.000000</td>\n",
       "      <td>5.000000</td>\n",
       "      <td>5.000000</td>\n",
       "      <td>5.000000</td>\n",
       "      <td>5.000000</td>\n",
       "      <td>5.000000</td>\n",
       "      <td>5.000000</td>\n",
       "      <td>5.000000</td>\n",
       "      <td>5.000000</td>\n",
       "      <td>5.00000</td>\n",
       "    </tr>\n",
       "  </tbody>\n",
       "</table>\n",
       "</div>"
      ],
      "text/plain": [
       "            number           q1           q2           q3           q4  \\\n",
       "count  6995.000000  6847.000000  6827.000000  5458.000000  5457.000000   \n",
       "mean   3499.380843     4.108661     3.284166     4.214731     4.359355   \n",
       "std    2019.914876     1.019755     1.056333     1.032399     0.999295   \n",
       "min       1.000000     1.000000     1.000000     1.000000     1.000000   \n",
       "25%    1750.500000     4.000000     3.000000     4.000000     4.000000   \n",
       "50%    3499.000000     4.000000     3.000000     5.000000     5.000000   \n",
       "75%    5248.500000     5.000000     4.000000     5.000000     5.000000   \n",
       "max    6997.000000     5.000000     5.000000     5.000000     5.000000   \n",
       "\n",
       "                q5           q6           q7           q8           q9  \\\n",
       "count  5458.000000  2600.000000  2600.000000  2600.000000  6776.000000   \n",
       "mean      3.872664     4.288462     4.494231     4.151923     1.419126   \n",
       "std       1.267321     0.964880     0.887239     1.142584     0.775423   \n",
       "min       1.000000     1.000000     1.000000     1.000000     1.000000   \n",
       "25%       3.000000     4.000000     4.000000     4.000000     1.000000   \n",
       "50%       4.000000     5.000000     5.000000     5.000000     1.000000   \n",
       "75%       5.000000     5.000000     5.000000     5.000000     2.000000   \n",
       "max       5.000000     5.000000     5.000000     5.000000     5.000000   \n",
       "\n",
       "               q10          q11          q12         q13  \n",
       "count  6829.000000  6783.000000  6801.000000  6798.00000  \n",
       "mean      4.020940     3.574672     3.896927     4.12739  \n",
       "std       1.069084     1.274129     1.115977     1.12351  \n",
       "min       1.000000     1.000000     1.000000     1.00000  \n",
       "25%       3.000000     3.000000     3.000000     4.00000  \n",
       "50%       4.000000     4.000000     4.000000     5.00000  \n",
       "75%       5.000000     5.000000     5.000000     5.00000  \n",
       "max       5.000000     5.000000     5.000000     5.00000  "
      ]
     },
     "execution_count": 436,
     "metadata": {},
     "output_type": "execute_result"
    }
   ],
   "source": [
    "# classical data summarization\n",
    "df.describe()"
   ]
  },
  {
   "cell_type": "code",
   "execution_count": 437,
   "metadata": {},
   "outputs": [
    {
     "name": "stdout",
     "output_type": "stream",
     "text": [
      "<class 'pandas.core.frame.DataFrame'>\n",
      "Index: 6995 entries, JEB003 to JJM340\n",
      "Data columns (total 20 columns):\n",
      " #   Column           Non-Null Count  Dtype  \n",
      "---  ------           --------------  -----  \n",
      " 0   number           6995 non-null   int64  \n",
      " 1   course_title     6995 non-null   object \n",
      " 2   teachers         5434 non-null   object \n",
      " 3   seminar_leaders  2588 non-null   object \n",
      " 4   q1               6847 non-null   float64\n",
      " 5   q2               6827 non-null   float64\n",
      " 6   q3               5458 non-null   float64\n",
      " 7   q4               5457 non-null   float64\n",
      " 8   q5               5458 non-null   float64\n",
      " 9   q6               2600 non-null   float64\n",
      " 10  q7               2600 non-null   float64\n",
      " 11  q8               2600 non-null   float64\n",
      " 12  q9               6776 non-null   float64\n",
      " 13  q10              6829 non-null   float64\n",
      " 14  q11              6783 non-null   float64\n",
      " 15  q12              6801 non-null   float64\n",
      " 16  q13              6798 non-null   float64\n",
      " 17  c_value          2183 non-null   object \n",
      " 18  c_improve        1798 non-null   object \n",
      " 19  department_code  6995 non-null   object \n",
      "dtypes: float64(13), int64(1), object(6)\n",
      "memory usage: 1.1+ MB\n"
     ]
    }
   ],
   "source": [
    "# \n",
    "df.info()"
   ]
  },
  {
   "cell_type": "code",
   "execution_count": 438,
   "metadata": {},
   "outputs": [
    {
     "data": {
      "text/plain": [
       "Index              55960\n",
       "number             55960\n",
       "course_title       55960\n",
       "teachers           55960\n",
       "seminar_leaders    55960\n",
       "q1                 55960\n",
       "q2                 55960\n",
       "q3                 55960\n",
       "q4                 55960\n",
       "q5                 55960\n",
       "q6                 55960\n",
       "q7                 55960\n",
       "q8                 55960\n",
       "q9                 55960\n",
       "q10                55960\n",
       "q11                55960\n",
       "q12                55960\n",
       "q13                55960\n",
       "c_value            55960\n",
       "c_improve          55960\n",
       "department_code    55960\n",
       "dtype: int64"
      ]
     },
     "execution_count": 438,
     "metadata": {},
     "output_type": "execute_result"
    }
   ],
   "source": [
    "# memory usage of each column in bytes (useful when working with the larger datasets)\n",
    "df.memory_usage()"
   ]
  },
  {
   "cell_type": "markdown",
   "metadata": {},
   "source": [
    "* you can treat a DataFrame semantically like a dict of like-indexed Series objects\n",
    "    * getting, setting, and deleting columns works with the same syntax as the analogous dict operations\n",
    "\n",
    "## Indexing/Selection\n",
    "\n",
    "| Operation                      | Syntax        |  Result   |\n",
    "|--------------------------------|---------------|-----------|\n",
    "| Select column                  | df[col]       |  Series   |\n",
    "| Select row by label            | df.loc[label] |  Series   |\n",
    "| Select row by integer location | df.iloc[loc]  |  Series   |\n",
    "| Slice rows                     | df[5:10]      | DataFrame |\n",
    "| Select rows by boolean vector  | df[bool_vec]  | DataFrame |"
   ]
  },
  {
   "cell_type": "code",
   "execution_count": 442,
   "metadata": {},
   "outputs": [
    {
     "data": {
      "text/plain": [
       "course_code\n",
       "JEB003                        Ekonomie I\n",
       "JLB003          Angličtina pro ekonomy I\n",
       "NMMA701                     Matematika 1\n",
       "JEB023              Úvod do studia práva\n",
       "JEB055            Seminář k aktualitám I\n",
       "                       ...              \n",
       "JJM260          Novinářská etika v praxi\n",
       "JJM264             Diplomový seminář II.\n",
       "JJM360               Ekonomika v médiích\n",
       "JJM354            Dějiny populární hudby\n",
       "JJM340     Tvůrčí dílny – tvůrčí psaní I\n",
       "Name: course_title, Length: 6995, dtype: object"
      ]
     },
     "execution_count": 442,
     "metadata": {},
     "output_type": "execute_result"
    }
   ],
   "source": [
    "# gives us series\n",
    "df['course_title']"
   ]
  },
  {
   "cell_type": "code",
   "execution_count": 443,
   "metadata": {},
   "outputs": [
    {
     "data": {
      "text/html": [
       "<div>\n",
       "<style scoped>\n",
       "    .dataframe tbody tr th:only-of-type {\n",
       "        vertical-align: middle;\n",
       "    }\n",
       "\n",
       "    .dataframe tbody tr th {\n",
       "        vertical-align: top;\n",
       "    }\n",
       "\n",
       "    .dataframe thead th {\n",
       "        text-align: right;\n",
       "    }\n",
       "</style>\n",
       "<table border=\"1\" class=\"dataframe\">\n",
       "  <thead>\n",
       "    <tr style=\"text-align: right;\">\n",
       "      <th></th>\n",
       "      <th>course_title</th>\n",
       "      <th>q1</th>\n",
       "    </tr>\n",
       "    <tr>\n",
       "      <th>course_code</th>\n",
       "      <th></th>\n",
       "      <th></th>\n",
       "    </tr>\n",
       "  </thead>\n",
       "  <tbody>\n",
       "    <tr>\n",
       "      <th>JEB003</th>\n",
       "      <td>Ekonomie I</td>\n",
       "      <td>3.0</td>\n",
       "    </tr>\n",
       "    <tr>\n",
       "      <th>JLB003</th>\n",
       "      <td>Angličtina pro ekonomy I</td>\n",
       "      <td>5.0</td>\n",
       "    </tr>\n",
       "    <tr>\n",
       "      <th>NMMA701</th>\n",
       "      <td>Matematika 1</td>\n",
       "      <td>3.0</td>\n",
       "    </tr>\n",
       "    <tr>\n",
       "      <th>JEB023</th>\n",
       "      <td>Úvod do studia práva</td>\n",
       "      <td>3.0</td>\n",
       "    </tr>\n",
       "    <tr>\n",
       "      <th>JEB055</th>\n",
       "      <td>Seminář k aktualitám I</td>\n",
       "      <td>2.0</td>\n",
       "    </tr>\n",
       "    <tr>\n",
       "      <th>...</th>\n",
       "      <td>...</td>\n",
       "      <td>...</td>\n",
       "    </tr>\n",
       "    <tr>\n",
       "      <th>JJM260</th>\n",
       "      <td>Novinářská etika v praxi</td>\n",
       "      <td>5.0</td>\n",
       "    </tr>\n",
       "    <tr>\n",
       "      <th>JJM264</th>\n",
       "      <td>Diplomový seminář II.</td>\n",
       "      <td>2.0</td>\n",
       "    </tr>\n",
       "    <tr>\n",
       "      <th>JJM360</th>\n",
       "      <td>Ekonomika v médiích</td>\n",
       "      <td>5.0</td>\n",
       "    </tr>\n",
       "    <tr>\n",
       "      <th>JJM354</th>\n",
       "      <td>Dějiny populární hudby</td>\n",
       "      <td>3.0</td>\n",
       "    </tr>\n",
       "    <tr>\n",
       "      <th>JJM340</th>\n",
       "      <td>Tvůrčí dílny – tvůrčí psaní I</td>\n",
       "      <td>5.0</td>\n",
       "    </tr>\n",
       "  </tbody>\n",
       "</table>\n",
       "<p>6995 rows × 2 columns</p>\n",
       "</div>"
      ],
      "text/plain": [
       "                              course_title   q1\n",
       "course_code                                    \n",
       "JEB003                          Ekonomie I  3.0\n",
       "JLB003            Angličtina pro ekonomy I  5.0\n",
       "NMMA701                       Matematika 1  3.0\n",
       "JEB023                Úvod do studia práva  3.0\n",
       "JEB055              Seminář k aktualitám I  2.0\n",
       "...                                    ...  ...\n",
       "JJM260            Novinářská etika v praxi  5.0\n",
       "JJM264               Diplomový seminář II.  2.0\n",
       "JJM360                 Ekonomika v médiích  5.0\n",
       "JJM354              Dějiny populární hudby  3.0\n",
       "JJM340       Tvůrčí dílny – tvůrčí psaní I  5.0\n",
       "\n",
       "[6995 rows x 2 columns]"
      ]
     },
     "execution_count": 443,
     "metadata": {},
     "output_type": "execute_result"
    }
   ],
   "source": [
    "# gives us dataframe\n",
    "df[['course_title','q1']]"
   ]
  },
  {
   "cell_type": "code",
   "execution_count": 448,
   "metadata": {},
   "outputs": [
    {
     "data": {
      "text/plain": [
       "course_code\n",
       "JEB003                        Ekonomie I\n",
       "JLB003          Angličtina pro ekonomy I\n",
       "NMMA701                     Matematika 1\n",
       "JEB023              Úvod do studia práva\n",
       "JEB055            Seminář k aktualitám I\n",
       "                       ...              \n",
       "JJM260          Novinářská etika v praxi\n",
       "JJM264             Diplomový seminář II.\n",
       "JJM360               Ekonomika v médiích\n",
       "JJM354            Dějiny populární hudby\n",
       "JJM340     Tvůrčí dílny – tvůrčí psaní I\n",
       "Name: course_title, Length: 6995, dtype: object"
      ]
     },
     "execution_count": 448,
     "metadata": {},
     "output_type": "execute_result"
    }
   ],
   "source": [
    "# just one column: just convenience (if column name has a space or dot, you are screwed)\n",
    "df.course_title"
   ]
  },
  {
   "cell_type": "code",
   "execution_count": 455,
   "metadata": {},
   "outputs": [
    {
     "data": {
      "text/html": [
       "<div>\n",
       "<style scoped>\n",
       "    .dataframe tbody tr th:only-of-type {\n",
       "        vertical-align: middle;\n",
       "    }\n",
       "\n",
       "    .dataframe tbody tr th {\n",
       "        vertical-align: top;\n",
       "    }\n",
       "\n",
       "    .dataframe thead th {\n",
       "        text-align: right;\n",
       "    }\n",
       "</style>\n",
       "<table border=\"1\" class=\"dataframe\">\n",
       "  <thead>\n",
       "    <tr style=\"text-align: right;\">\n",
       "      <th></th>\n",
       "      <th>course_title</th>\n",
       "      <th>teachers</th>\n",
       "    </tr>\n",
       "    <tr>\n",
       "      <th>course_code</th>\n",
       "      <th></th>\n",
       "      <th></th>\n",
       "    </tr>\n",
       "  </thead>\n",
       "  <tbody>\n",
       "    <tr>\n",
       "      <th>JEB003</th>\n",
       "      <td>Ekonomie I</td>\n",
       "      <td>Fanta,N.,Kracík,J.,Švarcová,N.</td>\n",
       "    </tr>\n",
       "    <tr>\n",
       "      <th>JLB003</th>\n",
       "      <td>Angličtina pro ekonomy I</td>\n",
       "      <td>NaN</td>\n",
       "    </tr>\n",
       "    <tr>\n",
       "      <th>NMMA701</th>\n",
       "      <td>Matematika 1</td>\n",
       "      <td>Spurný,J.</td>\n",
       "    </tr>\n",
       "    <tr>\n",
       "      <th>JEB023</th>\n",
       "      <td>Úvod do studia práva</td>\n",
       "      <td>Pražák,P.,Wintr,J.</td>\n",
       "    </tr>\n",
       "    <tr>\n",
       "      <th>JEB055</th>\n",
       "      <td>Seminář k aktualitám I</td>\n",
       "      <td>NaN</td>\n",
       "    </tr>\n",
       "    <tr>\n",
       "      <th>JPM314</th>\n",
       "      <td>Theories of International Relations</td>\n",
       "      <td>Ditrych,O.,Plechanovová,B.</td>\n",
       "    </tr>\n",
       "    <tr>\n",
       "      <th>JEB998</th>\n",
       "      <td>Úvod do ekonomie</td>\n",
       "      <td>Kameníček,J.</td>\n",
       "    </tr>\n",
       "    <tr>\n",
       "      <th>JEB058</th>\n",
       "      <td>Seminář matematické analýzy I</td>\n",
       "      <td>NaN</td>\n",
       "    </tr>\n",
       "    <tr>\n",
       "      <th>JPM561</th>\n",
       "      <td>Regional Security Studies</td>\n",
       "      <td>Karásek,T.,Klosek,K.</td>\n",
       "    </tr>\n",
       "    <tr>\n",
       "      <th>JEB998</th>\n",
       "      <td>Úvod do ekonomie</td>\n",
       "      <td>Kameníček,J.</td>\n",
       "    </tr>\n",
       "  </tbody>\n",
       "</table>\n",
       "</div>"
      ],
      "text/plain": [
       "                                    course_title  \\\n",
       "course_code                                        \n",
       "JEB003                                Ekonomie I   \n",
       "JLB003                  Angličtina pro ekonomy I   \n",
       "NMMA701                             Matematika 1   \n",
       "JEB023                      Úvod do studia práva   \n",
       "JEB055                    Seminář k aktualitám I   \n",
       "JPM314       Theories of International Relations   \n",
       "JEB998                          Úvod do ekonomie   \n",
       "JEB058             Seminář matematické analýzy I   \n",
       "JPM561                 Regional Security Studies   \n",
       "JEB998                          Úvod do ekonomie   \n",
       "\n",
       "                                   teachers  \n",
       "course_code                                  \n",
       "JEB003       Fanta,N.,Kracík,J.,Švarcová,N.  \n",
       "JLB003                                  NaN  \n",
       "NMMA701                           Spurný,J.  \n",
       "JEB023                   Pražák,P.,Wintr,J.  \n",
       "JEB055                                  NaN  \n",
       "JPM314           Ditrych,O.,Plechanovová,B.  \n",
       "JEB998                         Kameníček,J.  \n",
       "JEB058                                  NaN  \n",
       "JPM561                 Karásek,T.,Klosek,K.  \n",
       "JEB998                         Kameníček,J.  "
      ]
     },
     "execution_count": 455,
     "metadata": {},
     "output_type": "execute_result"
    }
   ],
   "source": [
    "# subset of columns you want \n",
    "df[['course_title','teachers']].head(10)"
   ]
  },
  {
   "cell_type": "code",
   "execution_count": 456,
   "metadata": {},
   "outputs": [
    {
     "data": {
      "text/plain": [
       "Index(['number', 'course_title', 'teachers', 'seminar_leaders', 'q1', 'q2',\n",
       "       'q3', 'q4', 'q5', 'q6', 'q7', 'q8', 'q9', 'q10', 'q11', 'q12', 'q13',\n",
       "       'c_value', 'c_improve', 'department_code'],\n",
       "      dtype='object')"
      ]
     },
     "execution_count": 456,
     "metadata": {},
     "output_type": "execute_result"
    }
   ],
   "source": [
    "# list of all columns \n",
    "df.columns"
   ]
  },
  {
   "cell_type": "code",
   "execution_count": 457,
   "metadata": {},
   "outputs": [
    {
     "data": {
      "text/html": [
       "<div>\n",
       "<style scoped>\n",
       "    .dataframe tbody tr th:only-of-type {\n",
       "        vertical-align: middle;\n",
       "    }\n",
       "\n",
       "    .dataframe tbody tr th {\n",
       "        vertical-align: top;\n",
       "    }\n",
       "\n",
       "    .dataframe thead th {\n",
       "        text-align: right;\n",
       "    }\n",
       "</style>\n",
       "<table border=\"1\" class=\"dataframe\">\n",
       "  <thead>\n",
       "    <tr style=\"text-align: right;\">\n",
       "      <th></th>\n",
       "      <th>number</th>\n",
       "      <th>course_title</th>\n",
       "      <th>teachers</th>\n",
       "      <th>seminar_leaders</th>\n",
       "      <th>q1</th>\n",
       "      <th>q2</th>\n",
       "      <th>q3</th>\n",
       "      <th>q4</th>\n",
       "      <th>q5</th>\n",
       "      <th>q6</th>\n",
       "      <th>...</th>\n",
       "      <th>q8</th>\n",
       "      <th>q9</th>\n",
       "      <th>q10</th>\n",
       "      <th>q11</th>\n",
       "      <th>q12</th>\n",
       "      <th>q13</th>\n",
       "      <th>c_value</th>\n",
       "      <th>c_improve</th>\n",
       "      <th>department_code</th>\n",
       "      <th>tmp</th>\n",
       "    </tr>\n",
       "    <tr>\n",
       "      <th>course_code</th>\n",
       "      <th></th>\n",
       "      <th></th>\n",
       "      <th></th>\n",
       "      <th></th>\n",
       "      <th></th>\n",
       "      <th></th>\n",
       "      <th></th>\n",
       "      <th></th>\n",
       "      <th></th>\n",
       "      <th></th>\n",
       "      <th></th>\n",
       "      <th></th>\n",
       "      <th></th>\n",
       "      <th></th>\n",
       "      <th></th>\n",
       "      <th></th>\n",
       "      <th></th>\n",
       "      <th></th>\n",
       "      <th></th>\n",
       "      <th></th>\n",
       "      <th></th>\n",
       "    </tr>\n",
       "  </thead>\n",
       "  <tbody>\n",
       "    <tr>\n",
       "      <th>JEB003</th>\n",
       "      <td>1</td>\n",
       "      <td>Ekonomie I</td>\n",
       "      <td>Fanta,N.,Kracík,J.,Švarcová,N.</td>\n",
       "      <td>Fanta,N.,Kracík,J.,Švarcová,N.</td>\n",
       "      <td>3.0</td>\n",
       "      <td>5.0</td>\n",
       "      <td>4.0</td>\n",
       "      <td>5.0</td>\n",
       "      <td>4.0</td>\n",
       "      <td>2.0</td>\n",
       "      <td>...</td>\n",
       "      <td>3.0</td>\n",
       "      <td>1.0</td>\n",
       "      <td>4.0</td>\n",
       "      <td>1.0</td>\n",
       "      <td>NaN</td>\n",
       "      <td>2.0</td>\n",
       "      <td>NaN</td>\n",
       "      <td>NaN</td>\n",
       "      <td>ies</td>\n",
       "      <td>11/10</td>\n",
       "    </tr>\n",
       "    <tr>\n",
       "      <th>JLB003</th>\n",
       "      <td>2</td>\n",
       "      <td>Angličtina pro ekonomy I</td>\n",
       "      <td>NaN</td>\n",
       "      <td>Poslušná,L.</td>\n",
       "      <td>5.0</td>\n",
       "      <td>3.0</td>\n",
       "      <td>NaN</td>\n",
       "      <td>NaN</td>\n",
       "      <td>NaN</td>\n",
       "      <td>5.0</td>\n",
       "      <td>...</td>\n",
       "      <td>5.0</td>\n",
       "      <td>1.0</td>\n",
       "      <td>5.0</td>\n",
       "      <td>5.0</td>\n",
       "      <td>5.0</td>\n",
       "      <td>5.0</td>\n",
       "      <td>NaN</td>\n",
       "      <td>NaN</td>\n",
       "      <td>cjp</td>\n",
       "      <td>11/10</td>\n",
       "    </tr>\n",
       "    <tr>\n",
       "      <th>NMMA701</th>\n",
       "      <td>3</td>\n",
       "      <td>Matematika 1</td>\n",
       "      <td>Spurný,J.</td>\n",
       "      <td>Rondoš,J.</td>\n",
       "      <td>3.0</td>\n",
       "      <td>5.0</td>\n",
       "      <td>3.0</td>\n",
       "      <td>2.0</td>\n",
       "      <td>1.0</td>\n",
       "      <td>4.0</td>\n",
       "      <td>...</td>\n",
       "      <td>5.0</td>\n",
       "      <td>1.0</td>\n",
       "      <td>3.0</td>\n",
       "      <td>2.0</td>\n",
       "      <td>2.0</td>\n",
       "      <td>1.0</td>\n",
       "      <td>NaN</td>\n",
       "      <td>NaN</td>\n",
       "      <td>ies</td>\n",
       "      <td>11/10</td>\n",
       "    </tr>\n",
       "    <tr>\n",
       "      <th>JEB023</th>\n",
       "      <td>4</td>\n",
       "      <td>Úvod do studia práva</td>\n",
       "      <td>Pražák,P.,Wintr,J.</td>\n",
       "      <td>NaN</td>\n",
       "      <td>3.0</td>\n",
       "      <td>4.0</td>\n",
       "      <td>3.0</td>\n",
       "      <td>3.0</td>\n",
       "      <td>1.0</td>\n",
       "      <td>NaN</td>\n",
       "      <td>...</td>\n",
       "      <td>NaN</td>\n",
       "      <td>1.0</td>\n",
       "      <td>3.0</td>\n",
       "      <td>2.0</td>\n",
       "      <td>3.0</td>\n",
       "      <td>2.0</td>\n",
       "      <td>NaN</td>\n",
       "      <td>NaN</td>\n",
       "      <td>ies</td>\n",
       "      <td>11/10</td>\n",
       "    </tr>\n",
       "    <tr>\n",
       "      <th>JEB055</th>\n",
       "      <td>5</td>\n",
       "      <td>Seminář k aktualitám I</td>\n",
       "      <td>NaN</td>\n",
       "      <td>Vyhnánek,T.</td>\n",
       "      <td>2.0</td>\n",
       "      <td>3.0</td>\n",
       "      <td>NaN</td>\n",
       "      <td>NaN</td>\n",
       "      <td>NaN</td>\n",
       "      <td>2.0</td>\n",
       "      <td>...</td>\n",
       "      <td>1.0</td>\n",
       "      <td>1.0</td>\n",
       "      <td>4.0</td>\n",
       "      <td>2.0</td>\n",
       "      <td>2.0</td>\n",
       "      <td>1.0</td>\n",
       "      <td>NaN</td>\n",
       "      <td>NaN</td>\n",
       "      <td>ies</td>\n",
       "      <td>11/10</td>\n",
       "    </tr>\n",
       "  </tbody>\n",
       "</table>\n",
       "<p>5 rows × 21 columns</p>\n",
       "</div>"
      ],
      "text/plain": [
       "             number              course_title                        teachers  \\\n",
       "course_code                                                                     \n",
       "JEB003            1                Ekonomie I  Fanta,N.,Kracík,J.,Švarcová,N.   \n",
       "JLB003            2  Angličtina pro ekonomy I                             NaN   \n",
       "NMMA701           3              Matematika 1                       Spurný,J.   \n",
       "JEB023            4      Úvod do studia práva              Pražák,P.,Wintr,J.   \n",
       "JEB055            5    Seminář k aktualitám I                             NaN   \n",
       "\n",
       "                            seminar_leaders   q1   q2   q3   q4   q5   q6  \\\n",
       "course_code                                                                 \n",
       "JEB003       Fanta,N.,Kracík,J.,Švarcová,N.  3.0  5.0  4.0  5.0  4.0  2.0   \n",
       "JLB003                          Poslušná,L.  5.0  3.0  NaN  NaN  NaN  5.0   \n",
       "NMMA701                           Rondoš,J.  3.0  5.0  3.0  2.0  1.0  4.0   \n",
       "JEB023                                  NaN  3.0  4.0  3.0  3.0  1.0  NaN   \n",
       "JEB055                          Vyhnánek,T.  2.0  3.0  NaN  NaN  NaN  2.0   \n",
       "\n",
       "             ...   q8   q9  q10  q11  q12  q13  c_value c_improve  \\\n",
       "course_code  ...                                                    \n",
       "JEB003       ...  3.0  1.0  4.0  1.0  NaN  2.0      NaN       NaN   \n",
       "JLB003       ...  5.0  1.0  5.0  5.0  5.0  5.0      NaN       NaN   \n",
       "NMMA701      ...  5.0  1.0  3.0  2.0  2.0  1.0      NaN       NaN   \n",
       "JEB023       ...  NaN  1.0  3.0  2.0  3.0  2.0      NaN       NaN   \n",
       "JEB055       ...  1.0  1.0  4.0  2.0  2.0  1.0      NaN       NaN   \n",
       "\n",
       "            department_code    tmp  \n",
       "course_code                         \n",
       "JEB003                  ies  11/10  \n",
       "JLB003                  cjp  11/10  \n",
       "NMMA701                 ies  11/10  \n",
       "JEB023                  ies  11/10  \n",
       "JEB055                  ies  11/10  \n",
       "\n",
       "[5 rows x 21 columns]"
      ]
     },
     "execution_count": 457,
     "metadata": {},
     "output_type": "execute_result"
    }
   ],
   "source": [
    "# adding columns (first adding, so we have something to drop)\n",
    "df['tmp'] = '11/10'\n",
    "# you can also use assign function, if new column should be a function of original column \n",
    "df.head()"
   ]
  },
  {
   "cell_type": "code",
   "execution_count": 462,
   "metadata": {},
   "outputs": [
    {
     "data": {
      "text/html": [
       "<div>\n",
       "<style scoped>\n",
       "    .dataframe tbody tr th:only-of-type {\n",
       "        vertical-align: middle;\n",
       "    }\n",
       "\n",
       "    .dataframe tbody tr th {\n",
       "        vertical-align: top;\n",
       "    }\n",
       "\n",
       "    .dataframe thead th {\n",
       "        text-align: right;\n",
       "    }\n",
       "</style>\n",
       "<table border=\"1\" class=\"dataframe\">\n",
       "  <thead>\n",
       "    <tr style=\"text-align: right;\">\n",
       "      <th></th>\n",
       "      <th>number</th>\n",
       "      <th>course_title</th>\n",
       "      <th>teachers</th>\n",
       "      <th>seminar_leaders</th>\n",
       "      <th>q1</th>\n",
       "      <th>q2</th>\n",
       "      <th>q3</th>\n",
       "      <th>q4</th>\n",
       "      <th>q5</th>\n",
       "      <th>q6</th>\n",
       "      <th>...</th>\n",
       "      <th>q8</th>\n",
       "      <th>q9</th>\n",
       "      <th>q10</th>\n",
       "      <th>q11</th>\n",
       "      <th>q12</th>\n",
       "      <th>q13</th>\n",
       "      <th>c_value</th>\n",
       "      <th>c_improve</th>\n",
       "      <th>department_code</th>\n",
       "      <th>sumq1q2</th>\n",
       "    </tr>\n",
       "    <tr>\n",
       "      <th>course_code</th>\n",
       "      <th></th>\n",
       "      <th></th>\n",
       "      <th></th>\n",
       "      <th></th>\n",
       "      <th></th>\n",
       "      <th></th>\n",
       "      <th></th>\n",
       "      <th></th>\n",
       "      <th></th>\n",
       "      <th></th>\n",
       "      <th></th>\n",
       "      <th></th>\n",
       "      <th></th>\n",
       "      <th></th>\n",
       "      <th></th>\n",
       "      <th></th>\n",
       "      <th></th>\n",
       "      <th></th>\n",
       "      <th></th>\n",
       "      <th></th>\n",
       "      <th></th>\n",
       "    </tr>\n",
       "  </thead>\n",
       "  <tbody>\n",
       "    <tr>\n",
       "      <th>JEB003</th>\n",
       "      <td>1</td>\n",
       "      <td>Ekonomie I</td>\n",
       "      <td>Fanta,N.,Kracík,J.,Švarcová,N.</td>\n",
       "      <td>Fanta,N.,Kracík,J.,Švarcová,N.</td>\n",
       "      <td>3.0</td>\n",
       "      <td>5.0</td>\n",
       "      <td>4.0</td>\n",
       "      <td>5.0</td>\n",
       "      <td>4.0</td>\n",
       "      <td>2.0</td>\n",
       "      <td>...</td>\n",
       "      <td>3.0</td>\n",
       "      <td>1.0</td>\n",
       "      <td>4.0</td>\n",
       "      <td>1.0</td>\n",
       "      <td>NaN</td>\n",
       "      <td>2.0</td>\n",
       "      <td>NaN</td>\n",
       "      <td>NaN</td>\n",
       "      <td>ies</td>\n",
       "      <td>8.0</td>\n",
       "    </tr>\n",
       "    <tr>\n",
       "      <th>JLB003</th>\n",
       "      <td>2</td>\n",
       "      <td>Angličtina pro ekonomy I</td>\n",
       "      <td>NaN</td>\n",
       "      <td>Poslušná,L.</td>\n",
       "      <td>5.0</td>\n",
       "      <td>3.0</td>\n",
       "      <td>NaN</td>\n",
       "      <td>NaN</td>\n",
       "      <td>NaN</td>\n",
       "      <td>5.0</td>\n",
       "      <td>...</td>\n",
       "      <td>5.0</td>\n",
       "      <td>1.0</td>\n",
       "      <td>5.0</td>\n",
       "      <td>5.0</td>\n",
       "      <td>5.0</td>\n",
       "      <td>5.0</td>\n",
       "      <td>NaN</td>\n",
       "      <td>NaN</td>\n",
       "      <td>cjp</td>\n",
       "      <td>8.0</td>\n",
       "    </tr>\n",
       "    <tr>\n",
       "      <th>NMMA701</th>\n",
       "      <td>3</td>\n",
       "      <td>Matematika 1</td>\n",
       "      <td>Spurný,J.</td>\n",
       "      <td>Rondoš,J.</td>\n",
       "      <td>3.0</td>\n",
       "      <td>5.0</td>\n",
       "      <td>3.0</td>\n",
       "      <td>2.0</td>\n",
       "      <td>1.0</td>\n",
       "      <td>4.0</td>\n",
       "      <td>...</td>\n",
       "      <td>5.0</td>\n",
       "      <td>1.0</td>\n",
       "      <td>3.0</td>\n",
       "      <td>2.0</td>\n",
       "      <td>2.0</td>\n",
       "      <td>1.0</td>\n",
       "      <td>NaN</td>\n",
       "      <td>NaN</td>\n",
       "      <td>ies</td>\n",
       "      <td>8.0</td>\n",
       "    </tr>\n",
       "    <tr>\n",
       "      <th>JEB023</th>\n",
       "      <td>4</td>\n",
       "      <td>Úvod do studia práva</td>\n",
       "      <td>Pražák,P.,Wintr,J.</td>\n",
       "      <td>NaN</td>\n",
       "      <td>3.0</td>\n",
       "      <td>4.0</td>\n",
       "      <td>3.0</td>\n",
       "      <td>3.0</td>\n",
       "      <td>1.0</td>\n",
       "      <td>NaN</td>\n",
       "      <td>...</td>\n",
       "      <td>NaN</td>\n",
       "      <td>1.0</td>\n",
       "      <td>3.0</td>\n",
       "      <td>2.0</td>\n",
       "      <td>3.0</td>\n",
       "      <td>2.0</td>\n",
       "      <td>NaN</td>\n",
       "      <td>NaN</td>\n",
       "      <td>ies</td>\n",
       "      <td>7.0</td>\n",
       "    </tr>\n",
       "    <tr>\n",
       "      <th>JEB055</th>\n",
       "      <td>5</td>\n",
       "      <td>Seminář k aktualitám I</td>\n",
       "      <td>NaN</td>\n",
       "      <td>Vyhnánek,T.</td>\n",
       "      <td>2.0</td>\n",
       "      <td>3.0</td>\n",
       "      <td>NaN</td>\n",
       "      <td>NaN</td>\n",
       "      <td>NaN</td>\n",
       "      <td>2.0</td>\n",
       "      <td>...</td>\n",
       "      <td>1.0</td>\n",
       "      <td>1.0</td>\n",
       "      <td>4.0</td>\n",
       "      <td>2.0</td>\n",
       "      <td>2.0</td>\n",
       "      <td>1.0</td>\n",
       "      <td>NaN</td>\n",
       "      <td>NaN</td>\n",
       "      <td>ies</td>\n",
       "      <td>5.0</td>\n",
       "    </tr>\n",
       "  </tbody>\n",
       "</table>\n",
       "<p>5 rows × 21 columns</p>\n",
       "</div>"
      ],
      "text/plain": [
       "             number              course_title                        teachers  \\\n",
       "course_code                                                                     \n",
       "JEB003            1                Ekonomie I  Fanta,N.,Kracík,J.,Švarcová,N.   \n",
       "JLB003            2  Angličtina pro ekonomy I                             NaN   \n",
       "NMMA701           3              Matematika 1                       Spurný,J.   \n",
       "JEB023            4      Úvod do studia práva              Pražák,P.,Wintr,J.   \n",
       "JEB055            5    Seminář k aktualitám I                             NaN   \n",
       "\n",
       "                            seminar_leaders   q1   q2   q3   q4   q5   q6  \\\n",
       "course_code                                                                 \n",
       "JEB003       Fanta,N.,Kracík,J.,Švarcová,N.  3.0  5.0  4.0  5.0  4.0  2.0   \n",
       "JLB003                          Poslušná,L.  5.0  3.0  NaN  NaN  NaN  5.0   \n",
       "NMMA701                           Rondoš,J.  3.0  5.0  3.0  2.0  1.0  4.0   \n",
       "JEB023                                  NaN  3.0  4.0  3.0  3.0  1.0  NaN   \n",
       "JEB055                          Vyhnánek,T.  2.0  3.0  NaN  NaN  NaN  2.0   \n",
       "\n",
       "             ...   q8   q9  q10  q11  q12  q13  c_value c_improve  \\\n",
       "course_code  ...                                                    \n",
       "JEB003       ...  3.0  1.0  4.0  1.0  NaN  2.0      NaN       NaN   \n",
       "JLB003       ...  5.0  1.0  5.0  5.0  5.0  5.0      NaN       NaN   \n",
       "NMMA701      ...  5.0  1.0  3.0  2.0  2.0  1.0      NaN       NaN   \n",
       "JEB023       ...  NaN  1.0  3.0  2.0  3.0  2.0      NaN       NaN   \n",
       "JEB055       ...  1.0  1.0  4.0  2.0  2.0  1.0      NaN       NaN   \n",
       "\n",
       "            department_code sumq1q2  \n",
       "course_code                          \n",
       "JEB003                  ies     8.0  \n",
       "JLB003                  cjp     8.0  \n",
       "NMMA701                 ies     8.0  \n",
       "JEB023                  ies     7.0  \n",
       "JEB055                  ies     5.0  \n",
       "\n",
       "[5 rows x 21 columns]"
      ]
     },
     "execution_count": 462,
     "metadata": {},
     "output_type": "execute_result"
    }
   ],
   "source": [
    "df['sumq1q2'] = df.q1+df.q2\n",
    "df.head()"
   ]
  },
  {
   "cell_type": "code",
   "execution_count": null,
   "metadata": {},
   "outputs": [],
   "source": [
    "# drop column (you can also use 'del' (a general python comand for deleting)\n",
    "df.drop('tmp', axis = 1, inplace = True) # axis to specify you want to drop column, inplace operation in this case"
   ]
  },
  {
   "cell_type": "code",
   "execution_count": null,
   "metadata": {},
   "outputs": [],
   "source": [
    "# show all attributes of an object\n",
    "dir(df)"
   ]
  },
  {
   "cell_type": "markdown",
   "metadata": {},
   "source": [
    "### loc and Idioms\n",
    "* `.loc` selects data by the label of the rows and columns (as opposed to the `.iloc`) integer location\n",
    "* we can also use `.loc` for subsetting based on condition(s)"
   ]
  },
  {
   "cell_type": "code",
   "execution_count": 81,
   "metadata": {},
   "outputs": [],
   "source": [
    "# select only observations for IES only\n",
    "df_ies = df.loc[df['department_code'] == 'ies']"
   ]
  },
  {
   "cell_type": "code",
   "execution_count": 82,
   "metadata": {},
   "outputs": [
    {
     "data": {
      "text/html": [
       "<div>\n",
       "<style scoped>\n",
       "    .dataframe tbody tr th:only-of-type {\n",
       "        vertical-align: middle;\n",
       "    }\n",
       "\n",
       "    .dataframe tbody tr th {\n",
       "        vertical-align: top;\n",
       "    }\n",
       "\n",
       "    .dataframe thead th {\n",
       "        text-align: right;\n",
       "    }\n",
       "</style>\n",
       "<table border=\"1\" class=\"dataframe\">\n",
       "  <thead>\n",
       "    <tr style=\"text-align: right;\">\n",
       "      <th></th>\n",
       "      <th>number</th>\n",
       "      <th>course_title</th>\n",
       "      <th>teachers</th>\n",
       "      <th>seminar_leaders</th>\n",
       "      <th>q1</th>\n",
       "      <th>q2</th>\n",
       "      <th>q3</th>\n",
       "      <th>q4</th>\n",
       "      <th>q5</th>\n",
       "      <th>q6</th>\n",
       "      <th>q7</th>\n",
       "      <th>q8</th>\n",
       "      <th>q9</th>\n",
       "      <th>q10</th>\n",
       "      <th>q11</th>\n",
       "      <th>q12</th>\n",
       "      <th>q13</th>\n",
       "      <th>c_value</th>\n",
       "      <th>c_improve</th>\n",
       "      <th>department_code</th>\n",
       "    </tr>\n",
       "    <tr>\n",
       "      <th>course_code</th>\n",
       "      <th></th>\n",
       "      <th></th>\n",
       "      <th></th>\n",
       "      <th></th>\n",
       "      <th></th>\n",
       "      <th></th>\n",
       "      <th></th>\n",
       "      <th></th>\n",
       "      <th></th>\n",
       "      <th></th>\n",
       "      <th></th>\n",
       "      <th></th>\n",
       "      <th></th>\n",
       "      <th></th>\n",
       "      <th></th>\n",
       "      <th></th>\n",
       "      <th></th>\n",
       "      <th></th>\n",
       "      <th></th>\n",
       "      <th></th>\n",
       "    </tr>\n",
       "  </thead>\n",
       "  <tbody>\n",
       "    <tr>\n",
       "      <td>JEM005</td>\n",
       "      <td>89</td>\n",
       "      <td>Advanced Econometrics</td>\n",
       "      <td>Baruník,J.,Hronec,M.,Kraicová,L.,Kurka,J.,Nevr...</td>\n",
       "      <td>Hronec,M.,Kraicová,L.,Kurka,J.,Nevrla,M.</td>\n",
       "      <td>5.0</td>\n",
       "      <td>5.0</td>\n",
       "      <td>5.0</td>\n",
       "      <td>5.0</td>\n",
       "      <td>4.0</td>\n",
       "      <td>5.0</td>\n",
       "      <td>5.0</td>\n",
       "      <td>5.0</td>\n",
       "      <td>1.0</td>\n",
       "      <td>5.0</td>\n",
       "      <td>5.0</td>\n",
       "      <td>5.0</td>\n",
       "      <td>1.0</td>\n",
       "      <td>Mr.Barunik is very sexy</td>\n",
       "      <td>NaN</td>\n",
       "      <td>ies</td>\n",
       "    </tr>\n",
       "    <tr>\n",
       "      <td>JEM005</td>\n",
       "      <td>973</td>\n",
       "      <td>Advanced Econometrics</td>\n",
       "      <td>Baruník,J.,Hronec,M.,Kraicová,L.,Kurka,J.,Nevr...</td>\n",
       "      <td>Hronec,M.,Kraicová,L.,Kurka,J.,Nevrla,M.</td>\n",
       "      <td>4.0</td>\n",
       "      <td>4.0</td>\n",
       "      <td>5.0</td>\n",
       "      <td>5.0</td>\n",
       "      <td>5.0</td>\n",
       "      <td>2.0</td>\n",
       "      <td>3.0</td>\n",
       "      <td>4.0</td>\n",
       "      <td>1.0</td>\n",
       "      <td>3.0</td>\n",
       "      <td>5.0</td>\n",
       "      <td>4.0</td>\n",
       "      <td>4.0</td>\n",
       "      <td>NaN</td>\n",
       "      <td>NaN</td>\n",
       "      <td>ies</td>\n",
       "    </tr>\n",
       "  </tbody>\n",
       "</table>\n",
       "</div>"
      ],
      "text/plain": [
       "             number           course_title  \\\n",
       "course_code                                  \n",
       "JEM005           89  Advanced Econometrics   \n",
       "JEM005          973  Advanced Econometrics   \n",
       "\n",
       "                                                      teachers  \\\n",
       "course_code                                                      \n",
       "JEM005       Baruník,J.,Hronec,M.,Kraicová,L.,Kurka,J.,Nevr...   \n",
       "JEM005       Baruník,J.,Hronec,M.,Kraicová,L.,Kurka,J.,Nevr...   \n",
       "\n",
       "                                      seminar_leaders   q1   q2   q3   q4  \\\n",
       "course_code                                                                 \n",
       "JEM005       Hronec,M.,Kraicová,L.,Kurka,J.,Nevrla,M.  5.0  5.0  5.0  5.0   \n",
       "JEM005       Hronec,M.,Kraicová,L.,Kurka,J.,Nevrla,M.  4.0  4.0  5.0  5.0   \n",
       "\n",
       "              q5   q6   q7   q8   q9  q10  q11  q12  q13  \\\n",
       "course_code                                                \n",
       "JEM005       4.0  5.0  5.0  5.0  1.0  5.0  5.0  5.0  1.0   \n",
       "JEM005       5.0  2.0  3.0  4.0  1.0  3.0  5.0  4.0  4.0   \n",
       "\n",
       "                             c_value c_improve department_code  \n",
       "course_code                                                     \n",
       "JEM005       Mr.Barunik is very sexy       NaN             ies  \n",
       "JEM005                           NaN       NaN             ies  "
      ]
     },
     "execution_count": 82,
     "metadata": {},
     "output_type": "execute_result"
    }
   ],
   "source": [
    "# select only observations for Advanced Econometrics\n",
    "df.loc[df['course_title'] == 'Advanced Econometrics'].head(2)"
   ]
  },
  {
   "cell_type": "code",
   "execution_count": 161,
   "metadata": {},
   "outputs": [
    {
     "data": {
      "text/html": [
       "<div>\n",
       "<style scoped>\n",
       "    .dataframe tbody tr th:only-of-type {\n",
       "        vertical-align: middle;\n",
       "    }\n",
       "\n",
       "    .dataframe tbody tr th {\n",
       "        vertical-align: top;\n",
       "    }\n",
       "\n",
       "    .dataframe thead th {\n",
       "        text-align: right;\n",
       "    }\n",
       "</style>\n",
       "<table border=\"1\" class=\"dataframe\">\n",
       "  <thead>\n",
       "    <tr style=\"text-align: right;\">\n",
       "      <th></th>\n",
       "      <th>number</th>\n",
       "      <th>course_title</th>\n",
       "      <th>teachers</th>\n",
       "      <th>seminar_leaders</th>\n",
       "      <th>q1</th>\n",
       "      <th>q2</th>\n",
       "      <th>q3</th>\n",
       "      <th>q4</th>\n",
       "      <th>q5</th>\n",
       "      <th>q6</th>\n",
       "      <th>q7</th>\n",
       "      <th>q8</th>\n",
       "      <th>q9</th>\n",
       "      <th>q10</th>\n",
       "      <th>q11</th>\n",
       "      <th>q12</th>\n",
       "      <th>q13</th>\n",
       "      <th>c_value</th>\n",
       "      <th>c_improve</th>\n",
       "      <th>department_code</th>\n",
       "    </tr>\n",
       "    <tr>\n",
       "      <th>course_code</th>\n",
       "      <th></th>\n",
       "      <th></th>\n",
       "      <th></th>\n",
       "      <th></th>\n",
       "      <th></th>\n",
       "      <th></th>\n",
       "      <th></th>\n",
       "      <th></th>\n",
       "      <th></th>\n",
       "      <th></th>\n",
       "      <th></th>\n",
       "      <th></th>\n",
       "      <th></th>\n",
       "      <th></th>\n",
       "      <th></th>\n",
       "      <th></th>\n",
       "      <th></th>\n",
       "      <th></th>\n",
       "      <th></th>\n",
       "      <th></th>\n",
       "    </tr>\n",
       "  </thead>\n",
       "  <tbody>\n",
       "    <tr>\n",
       "      <th>JEM005</th>\n",
       "      <td>1138</td>\n",
       "      <td>Advanced Econometrics</td>\n",
       "      <td>Baruník,J.,Hronec,M.,Kraicová,L.,Kurka,J.,Nevr...</td>\n",
       "      <td>Hronec,M.,Kraicová,L.,Kurka,J.,Nevrla,M.</td>\n",
       "      <td>NaN</td>\n",
       "      <td>5.0</td>\n",
       "      <td>4.0</td>\n",
       "      <td>4.0</td>\n",
       "      <td>4.0</td>\n",
       "      <td>3.0</td>\n",
       "      <td>3.0</td>\n",
       "      <td>3.0</td>\n",
       "      <td>NaN</td>\n",
       "      <td>2.0</td>\n",
       "      <td>5.0</td>\n",
       "      <td>5.0</td>\n",
       "      <td>5.0</td>\n",
       "      <td>The lecturers teaching method.</td>\n",
       "      <td>More practical exercises and involvement of st...</td>\n",
       "      <td>ies</td>\n",
       "    </tr>\n",
       "    <tr>\n",
       "      <th>JEM005</th>\n",
       "      <td>1870</td>\n",
       "      <td>Advanced Econometrics</td>\n",
       "      <td>Baruník,J.,Hronec,M.,Kraicová,L.,Kurka,J.,Nevr...</td>\n",
       "      <td>Hronec,M.,Kraicová,L.,Kurka,J.,Nevrla,M.</td>\n",
       "      <td>3.0</td>\n",
       "      <td>5.0</td>\n",
       "      <td>5.0</td>\n",
       "      <td>5.0</td>\n",
       "      <td>5.0</td>\n",
       "      <td>3.0</td>\n",
       "      <td>3.0</td>\n",
       "      <td>3.0</td>\n",
       "      <td>1.0</td>\n",
       "      <td>3.0</td>\n",
       "      <td>3.0</td>\n",
       "      <td>2.0</td>\n",
       "      <td>3.0</td>\n",
       "      <td>Positive atmosphere the lecturer provided</td>\n",
       "      <td>It was too theoretical and abstract. Since it ...</td>\n",
       "      <td>ies</td>\n",
       "    </tr>\n",
       "  </tbody>\n",
       "</table>\n",
       "</div>"
      ],
      "text/plain": [
       "             number           course_title  \\\n",
       "course_code                                  \n",
       "JEM005         1138  Advanced Econometrics   \n",
       "JEM005         1870  Advanced Econometrics   \n",
       "\n",
       "                                                      teachers  \\\n",
       "course_code                                                      \n",
       "JEM005       Baruník,J.,Hronec,M.,Kraicová,L.,Kurka,J.,Nevr...   \n",
       "JEM005       Baruník,J.,Hronec,M.,Kraicová,L.,Kurka,J.,Nevr...   \n",
       "\n",
       "                                      seminar_leaders   q1   q2   q3   q4  \\\n",
       "course_code                                                                 \n",
       "JEM005       Hronec,M.,Kraicová,L.,Kurka,J.,Nevrla,M.  NaN  5.0  4.0  4.0   \n",
       "JEM005       Hronec,M.,Kraicová,L.,Kurka,J.,Nevrla,M.  3.0  5.0  5.0  5.0   \n",
       "\n",
       "              q5   q6   q7   q8   q9  q10  q11  q12  q13  \\\n",
       "course_code                                                \n",
       "JEM005       4.0  3.0  3.0  3.0  NaN  2.0  5.0  5.0  5.0   \n",
       "JEM005       5.0  3.0  3.0  3.0  1.0  3.0  3.0  2.0  3.0   \n",
       "\n",
       "                                               c_value  \\\n",
       "course_code                                              \n",
       "JEM005                  The lecturers teaching method.   \n",
       "JEM005       Positive atmosphere the lecturer provided   \n",
       "\n",
       "                                                     c_improve department_code  \n",
       "course_code                                                                     \n",
       "JEM005       More practical exercises and involvement of st...             ies  \n",
       "JEM005       It was too theoretical and abstract. Since it ...             ies  "
      ]
     },
     "execution_count": 161,
     "metadata": {},
     "output_type": "execute_result"
    }
   ],
   "source": [
    "\n",
    "# subsetting based on multiple conditions: AE and non-missing comment on what to improve\n",
    "df.loc[(df['course_title'] == 'Advanced Econometrics') & (~df['c_improve'].isnull())].head(2)"
   ]
  },
  {
   "cell_type": "markdown",
   "metadata": {},
   "source": [
    "* Sometimes, we don't have a clear list of columns to be selected ready, e.g. how to select columns from q1 to q13? \n",
    "    * using actual list of column names :(\n",
    "        * be lazy!\n",
    "    * or ... "
   ]
  },
  {
   "cell_type": "code",
   "execution_count": 466,
   "metadata": {},
   "outputs": [
    {
     "name": "stdout",
     "output_type": "stream",
     "text": [
      "['q1', 'q2', 'q3', 'q4', 'q5', 'q6', 'q7', 'q8', 'q9', 'q10', 'q11', 'q12', 'q13', 'sumq1q2']\n",
      "['q1', 'q2', 'q3', 'q4', 'q5', 'q6', 'q7', 'q8', 'q9', 'q10', 'q11', 'q12', 'q13']\n"
     ]
    }
   ],
   "source": [
    "# list comprehention\n",
    "print([x for x in df.columns if 'q' in x]) #by substring\n",
    "print([x for x in df.columns if (len(x) == 2) | (len(x) == 3)]) #by length\n",
    "# by regular expression is the safest - q and then at most 2 digit number -> later in course"
   ]
  },
  {
   "cell_type": "code",
   "execution_count": 467,
   "metadata": {},
   "outputs": [
    {
     "data": {
      "text/html": [
       "<div>\n",
       "<style scoped>\n",
       "    .dataframe tbody tr th:only-of-type {\n",
       "        vertical-align: middle;\n",
       "    }\n",
       "\n",
       "    .dataframe tbody tr th {\n",
       "        vertical-align: top;\n",
       "    }\n",
       "\n",
       "    .dataframe thead th {\n",
       "        text-align: right;\n",
       "    }\n",
       "</style>\n",
       "<table border=\"1\" class=\"dataframe\">\n",
       "  <thead>\n",
       "    <tr style=\"text-align: right;\">\n",
       "      <th></th>\n",
       "      <th>q1</th>\n",
       "      <th>q2</th>\n",
       "      <th>q3</th>\n",
       "      <th>q4</th>\n",
       "      <th>q5</th>\n",
       "      <th>q6</th>\n",
       "      <th>q7</th>\n",
       "      <th>q8</th>\n",
       "      <th>q9</th>\n",
       "      <th>q10</th>\n",
       "      <th>q11</th>\n",
       "      <th>q12</th>\n",
       "      <th>q13</th>\n",
       "      <th>sumq1q2</th>\n",
       "    </tr>\n",
       "    <tr>\n",
       "      <th>course_code</th>\n",
       "      <th></th>\n",
       "      <th></th>\n",
       "      <th></th>\n",
       "      <th></th>\n",
       "      <th></th>\n",
       "      <th></th>\n",
       "      <th></th>\n",
       "      <th></th>\n",
       "      <th></th>\n",
       "      <th></th>\n",
       "      <th></th>\n",
       "      <th></th>\n",
       "      <th></th>\n",
       "      <th></th>\n",
       "    </tr>\n",
       "  </thead>\n",
       "  <tbody>\n",
       "    <tr>\n",
       "      <th>JEB003</th>\n",
       "      <td>3.0</td>\n",
       "      <td>5.0</td>\n",
       "      <td>4.0</td>\n",
       "      <td>5.0</td>\n",
       "      <td>4.0</td>\n",
       "      <td>2.0</td>\n",
       "      <td>4.0</td>\n",
       "      <td>3.0</td>\n",
       "      <td>1.0</td>\n",
       "      <td>4.0</td>\n",
       "      <td>1.0</td>\n",
       "      <td>NaN</td>\n",
       "      <td>2.0</td>\n",
       "      <td>8.0</td>\n",
       "    </tr>\n",
       "    <tr>\n",
       "      <th>JLB003</th>\n",
       "      <td>5.0</td>\n",
       "      <td>3.0</td>\n",
       "      <td>NaN</td>\n",
       "      <td>NaN</td>\n",
       "      <td>NaN</td>\n",
       "      <td>5.0</td>\n",
       "      <td>5.0</td>\n",
       "      <td>5.0</td>\n",
       "      <td>1.0</td>\n",
       "      <td>5.0</td>\n",
       "      <td>5.0</td>\n",
       "      <td>5.0</td>\n",
       "      <td>5.0</td>\n",
       "      <td>8.0</td>\n",
       "    </tr>\n",
       "    <tr>\n",
       "      <th>NMMA701</th>\n",
       "      <td>3.0</td>\n",
       "      <td>5.0</td>\n",
       "      <td>3.0</td>\n",
       "      <td>2.0</td>\n",
       "      <td>1.0</td>\n",
       "      <td>4.0</td>\n",
       "      <td>4.0</td>\n",
       "      <td>5.0</td>\n",
       "      <td>1.0</td>\n",
       "      <td>3.0</td>\n",
       "      <td>2.0</td>\n",
       "      <td>2.0</td>\n",
       "      <td>1.0</td>\n",
       "      <td>8.0</td>\n",
       "    </tr>\n",
       "    <tr>\n",
       "      <th>JEB023</th>\n",
       "      <td>3.0</td>\n",
       "      <td>4.0</td>\n",
       "      <td>3.0</td>\n",
       "      <td>3.0</td>\n",
       "      <td>1.0</td>\n",
       "      <td>NaN</td>\n",
       "      <td>NaN</td>\n",
       "      <td>NaN</td>\n",
       "      <td>1.0</td>\n",
       "      <td>3.0</td>\n",
       "      <td>2.0</td>\n",
       "      <td>3.0</td>\n",
       "      <td>2.0</td>\n",
       "      <td>7.0</td>\n",
       "    </tr>\n",
       "    <tr>\n",
       "      <th>JEB055</th>\n",
       "      <td>2.0</td>\n",
       "      <td>3.0</td>\n",
       "      <td>NaN</td>\n",
       "      <td>NaN</td>\n",
       "      <td>NaN</td>\n",
       "      <td>2.0</td>\n",
       "      <td>3.0</td>\n",
       "      <td>1.0</td>\n",
       "      <td>1.0</td>\n",
       "      <td>4.0</td>\n",
       "      <td>2.0</td>\n",
       "      <td>2.0</td>\n",
       "      <td>1.0</td>\n",
       "      <td>5.0</td>\n",
       "    </tr>\n",
       "  </tbody>\n",
       "</table>\n",
       "</div>"
      ],
      "text/plain": [
       "              q1   q2   q3   q4   q5   q6   q7   q8   q9  q10  q11  q12  q13  \\\n",
       "course_code                                                                    \n",
       "JEB003       3.0  5.0  4.0  5.0  4.0  2.0  4.0  3.0  1.0  4.0  1.0  NaN  2.0   \n",
       "JLB003       5.0  3.0  NaN  NaN  NaN  5.0  5.0  5.0  1.0  5.0  5.0  5.0  5.0   \n",
       "NMMA701      3.0  5.0  3.0  2.0  1.0  4.0  4.0  5.0  1.0  3.0  2.0  2.0  1.0   \n",
       "JEB023       3.0  4.0  3.0  3.0  1.0  NaN  NaN  NaN  1.0  3.0  2.0  3.0  2.0   \n",
       "JEB055       2.0  3.0  NaN  NaN  NaN  2.0  3.0  1.0  1.0  4.0  2.0  2.0  1.0   \n",
       "\n",
       "             sumq1q2  \n",
       "course_code           \n",
       "JEB003           8.0  \n",
       "JLB003           8.0  \n",
       "NMMA701          8.0  \n",
       "JEB023           7.0  \n",
       "JEB055           5.0  "
      ]
     },
     "execution_count": 467,
     "metadata": {},
     "output_type": "execute_result"
    }
   ],
   "source": [
    "q_columns = [x for x in df.columns if 'q' in x]\n",
    "df_q = df[q_columns]\n",
    "df_q.head()"
   ]
  },
  {
   "cell_type": "markdown",
   "metadata": {},
   "source": [
    "### Using functions on pandas objects\n",
    "\n",
    "| Operation          | Function              |\n",
    "|--------------------|-----------------------|\n",
    "| Row or Column-wise | `apply()`             |\n",
    "| Aggregation        | `agg() / transform()` |\n",
    "| Elementwise        | `applymap()`          |"
   ]
  },
  {
   "cell_type": "markdown",
   "metadata": {},
   "source": [
    "**Tablewise**\n",
    "* DFs and Series can be arguments of the functions\n",
    "* if multiple functions need to be called in a sequence, use `pipe()` method, also called the method chaining\n",
    "    * often used in the data science setting\n",
    "    * inspired by unix pipes and dplyr (%>%) operator in R "
   ]
  },
  {
   "cell_type": "markdown",
   "metadata": {},
   "source": [
    "**Row or Column-wise Function Application**\n",
    "* `apply()` is extremely powerful, when used with some brainpower"
   ]
  },
  {
   "cell_type": "code",
   "execution_count": 469,
   "metadata": {},
   "outputs": [
    {
     "data": {
      "text/plain": [
       "q1         4.108661\n",
       "q2         3.284166\n",
       "q3         4.214731\n",
       "q4         4.359355\n",
       "q5         3.872664\n",
       "q6         4.288462\n",
       "q7         4.494231\n",
       "q8         4.151923\n",
       "q9         1.419126\n",
       "q10        4.020940\n",
       "q11        3.574672\n",
       "q12        3.896927\n",
       "q13        4.127390\n",
       "sumq1q2    7.391630\n",
       "dtype: float64"
      ]
     },
     "execution_count": 469,
     "metadata": {},
     "output_type": "execute_result"
    }
   ],
   "source": [
    "df_q.apply(np.mean, axis = 0)"
   ]
  },
  {
   "cell_type": "code",
   "execution_count": 471,
   "metadata": {},
   "outputs": [
    {
     "data": {
      "text/html": [
       "<div>\n",
       "<style scoped>\n",
       "    .dataframe tbody tr th:only-of-type {\n",
       "        vertical-align: middle;\n",
       "    }\n",
       "\n",
       "    .dataframe tbody tr th {\n",
       "        vertical-align: top;\n",
       "    }\n",
       "\n",
       "    .dataframe thead th {\n",
       "        text-align: right;\n",
       "    }\n",
       "</style>\n",
       "<table border=\"1\" class=\"dataframe\">\n",
       "  <thead>\n",
       "    <tr style=\"text-align: right;\">\n",
       "      <th></th>\n",
       "      <th>q1</th>\n",
       "      <th>q2</th>\n",
       "      <th>q3</th>\n",
       "      <th>q4</th>\n",
       "      <th>q5</th>\n",
       "      <th>q6</th>\n",
       "      <th>q7</th>\n",
       "      <th>q8</th>\n",
       "      <th>q9</th>\n",
       "      <th>q10</th>\n",
       "      <th>q11</th>\n",
       "      <th>q12</th>\n",
       "      <th>q13</th>\n",
       "      <th>sumq1q2</th>\n",
       "    </tr>\n",
       "    <tr>\n",
       "      <th>course_code</th>\n",
       "      <th></th>\n",
       "      <th></th>\n",
       "      <th></th>\n",
       "      <th></th>\n",
       "      <th></th>\n",
       "      <th></th>\n",
       "      <th></th>\n",
       "      <th></th>\n",
       "      <th></th>\n",
       "      <th></th>\n",
       "      <th></th>\n",
       "      <th></th>\n",
       "      <th></th>\n",
       "      <th></th>\n",
       "    </tr>\n",
       "  </thead>\n",
       "  <tbody>\n",
       "    <tr>\n",
       "      <th>JEB003</th>\n",
       "      <td>-1.087263</td>\n",
       "      <td>1.624450</td>\n",
       "      <td>-0.208011</td>\n",
       "      <td>0.641156</td>\n",
       "      <td>0.100486</td>\n",
       "      <td>-2.372213</td>\n",
       "      <td>-0.557151</td>\n",
       "      <td>-1.008367</td>\n",
       "      <td>-0.540553</td>\n",
       "      <td>-0.019588</td>\n",
       "      <td>-2.020880</td>\n",
       "      <td>NaN</td>\n",
       "      <td>-1.893661</td>\n",
       "      <td>0.406616</td>\n",
       "    </tr>\n",
       "    <tr>\n",
       "      <th>JLB003</th>\n",
       "      <td>0.874136</td>\n",
       "      <td>-0.269031</td>\n",
       "      <td>NaN</td>\n",
       "      <td>NaN</td>\n",
       "      <td>NaN</td>\n",
       "      <td>0.737579</td>\n",
       "      <td>0.570158</td>\n",
       "      <td>0.742387</td>\n",
       "      <td>-0.540553</td>\n",
       "      <td>0.915860</td>\n",
       "      <td>1.118751</td>\n",
       "      <td>0.988510</td>\n",
       "      <td>0.776739</td>\n",
       "      <td>0.406616</td>\n",
       "    </tr>\n",
       "    <tr>\n",
       "      <th>NMMA701</th>\n",
       "      <td>-1.087263</td>\n",
       "      <td>1.624450</td>\n",
       "      <td>-1.176717</td>\n",
       "      <td>-2.361237</td>\n",
       "      <td>-2.266929</td>\n",
       "      <td>-0.299018</td>\n",
       "      <td>-0.557151</td>\n",
       "      <td>0.742387</td>\n",
       "      <td>-0.540553</td>\n",
       "      <td>-0.955037</td>\n",
       "      <td>-1.235972</td>\n",
       "      <td>-1.699916</td>\n",
       "      <td>-2.783794</td>\n",
       "      <td>0.406616</td>\n",
       "    </tr>\n",
       "    <tr>\n",
       "      <th>JEB023</th>\n",
       "      <td>-1.087263</td>\n",
       "      <td>0.677709</td>\n",
       "      <td>-1.176717</td>\n",
       "      <td>-1.360439</td>\n",
       "      <td>-2.266929</td>\n",
       "      <td>NaN</td>\n",
       "      <td>NaN</td>\n",
       "      <td>NaN</td>\n",
       "      <td>-0.540553</td>\n",
       "      <td>-0.955037</td>\n",
       "      <td>-1.235972</td>\n",
       "      <td>-0.803774</td>\n",
       "      <td>-1.893661</td>\n",
       "      <td>-0.261754</td>\n",
       "    </tr>\n",
       "    <tr>\n",
       "      <th>JEB055</th>\n",
       "      <td>-2.067962</td>\n",
       "      <td>-0.269031</td>\n",
       "      <td>NaN</td>\n",
       "      <td>NaN</td>\n",
       "      <td>NaN</td>\n",
       "      <td>-2.372213</td>\n",
       "      <td>-1.684460</td>\n",
       "      <td>-2.759122</td>\n",
       "      <td>-0.540553</td>\n",
       "      <td>-0.019588</td>\n",
       "      <td>-1.235972</td>\n",
       "      <td>-1.699916</td>\n",
       "      <td>-2.783794</td>\n",
       "      <td>-1.598493</td>\n",
       "    </tr>\n",
       "    <tr>\n",
       "      <th>...</th>\n",
       "      <td>...</td>\n",
       "      <td>...</td>\n",
       "      <td>...</td>\n",
       "      <td>...</td>\n",
       "      <td>...</td>\n",
       "      <td>...</td>\n",
       "      <td>...</td>\n",
       "      <td>...</td>\n",
       "      <td>...</td>\n",
       "      <td>...</td>\n",
       "      <td>...</td>\n",
       "      <td>...</td>\n",
       "      <td>...</td>\n",
       "      <td>...</td>\n",
       "    </tr>\n",
       "    <tr>\n",
       "      <th>JJM260</th>\n",
       "      <td>0.874136</td>\n",
       "      <td>1.624450</td>\n",
       "      <td>0.760695</td>\n",
       "      <td>0.641156</td>\n",
       "      <td>0.889624</td>\n",
       "      <td>NaN</td>\n",
       "      <td>NaN</td>\n",
       "      <td>NaN</td>\n",
       "      <td>-0.540553</td>\n",
       "      <td>0.915860</td>\n",
       "      <td>0.333843</td>\n",
       "      <td>0.988510</td>\n",
       "      <td>0.776739</td>\n",
       "      <td>1.743355</td>\n",
       "    </tr>\n",
       "    <tr>\n",
       "      <th>JJM264</th>\n",
       "      <td>-2.067962</td>\n",
       "      <td>-0.269031</td>\n",
       "      <td>-1.176717</td>\n",
       "      <td>-1.360439</td>\n",
       "      <td>-0.688653</td>\n",
       "      <td>NaN</td>\n",
       "      <td>NaN</td>\n",
       "      <td>NaN</td>\n",
       "      <td>-0.540553</td>\n",
       "      <td>-2.825933</td>\n",
       "      <td>-2.020880</td>\n",
       "      <td>-1.699916</td>\n",
       "      <td>-1.003528</td>\n",
       "      <td>-1.598493</td>\n",
       "    </tr>\n",
       "    <tr>\n",
       "      <th>JJM360</th>\n",
       "      <td>0.874136</td>\n",
       "      <td>0.677709</td>\n",
       "      <td>0.760695</td>\n",
       "      <td>0.641156</td>\n",
       "      <td>0.100486</td>\n",
       "      <td>NaN</td>\n",
       "      <td>NaN</td>\n",
       "      <td>NaN</td>\n",
       "      <td>0.749160</td>\n",
       "      <td>0.915860</td>\n",
       "      <td>-0.451065</td>\n",
       "      <td>0.988510</td>\n",
       "      <td>0.776739</td>\n",
       "      <td>1.074986</td>\n",
       "    </tr>\n",
       "    <tr>\n",
       "      <th>JJM354</th>\n",
       "      <td>-1.087263</td>\n",
       "      <td>-0.269031</td>\n",
       "      <td>0.760695</td>\n",
       "      <td>0.641156</td>\n",
       "      <td>-2.266929</td>\n",
       "      <td>NaN</td>\n",
       "      <td>NaN</td>\n",
       "      <td>NaN</td>\n",
       "      <td>4.618300</td>\n",
       "      <td>-2.825933</td>\n",
       "      <td>-0.451065</td>\n",
       "      <td>-0.803774</td>\n",
       "      <td>0.776739</td>\n",
       "      <td>-0.930123</td>\n",
       "    </tr>\n",
       "    <tr>\n",
       "      <th>JJM340</th>\n",
       "      <td>0.874136</td>\n",
       "      <td>1.624450</td>\n",
       "      <td>0.760695</td>\n",
       "      <td>0.641156</td>\n",
       "      <td>0.889624</td>\n",
       "      <td>0.737579</td>\n",
       "      <td>-0.557151</td>\n",
       "      <td>0.742387</td>\n",
       "      <td>-0.540553</td>\n",
       "      <td>0.915860</td>\n",
       "      <td>1.118751</td>\n",
       "      <td>0.092368</td>\n",
       "      <td>0.776739</td>\n",
       "      <td>1.743355</td>\n",
       "    </tr>\n",
       "  </tbody>\n",
       "</table>\n",
       "<p>6995 rows × 14 columns</p>\n",
       "</div>"
      ],
      "text/plain": [
       "                   q1        q2        q3        q4        q5        q6  \\\n",
       "course_code                                                               \n",
       "JEB003      -1.087263  1.624450 -0.208011  0.641156  0.100486 -2.372213   \n",
       "JLB003       0.874136 -0.269031       NaN       NaN       NaN  0.737579   \n",
       "NMMA701     -1.087263  1.624450 -1.176717 -2.361237 -2.266929 -0.299018   \n",
       "JEB023      -1.087263  0.677709 -1.176717 -1.360439 -2.266929       NaN   \n",
       "JEB055      -2.067962 -0.269031       NaN       NaN       NaN -2.372213   \n",
       "...               ...       ...       ...       ...       ...       ...   \n",
       "JJM260       0.874136  1.624450  0.760695  0.641156  0.889624       NaN   \n",
       "JJM264      -2.067962 -0.269031 -1.176717 -1.360439 -0.688653       NaN   \n",
       "JJM360       0.874136  0.677709  0.760695  0.641156  0.100486       NaN   \n",
       "JJM354      -1.087263 -0.269031  0.760695  0.641156 -2.266929       NaN   \n",
       "JJM340       0.874136  1.624450  0.760695  0.641156  0.889624  0.737579   \n",
       "\n",
       "                   q7        q8        q9       q10       q11       q12  \\\n",
       "course_code                                                               \n",
       "JEB003      -0.557151 -1.008367 -0.540553 -0.019588 -2.020880       NaN   \n",
       "JLB003       0.570158  0.742387 -0.540553  0.915860  1.118751  0.988510   \n",
       "NMMA701     -0.557151  0.742387 -0.540553 -0.955037 -1.235972 -1.699916   \n",
       "JEB023            NaN       NaN -0.540553 -0.955037 -1.235972 -0.803774   \n",
       "JEB055      -1.684460 -2.759122 -0.540553 -0.019588 -1.235972 -1.699916   \n",
       "...               ...       ...       ...       ...       ...       ...   \n",
       "JJM260            NaN       NaN -0.540553  0.915860  0.333843  0.988510   \n",
       "JJM264            NaN       NaN -0.540553 -2.825933 -2.020880 -1.699916   \n",
       "JJM360            NaN       NaN  0.749160  0.915860 -0.451065  0.988510   \n",
       "JJM354            NaN       NaN  4.618300 -2.825933 -0.451065 -0.803774   \n",
       "JJM340      -0.557151  0.742387 -0.540553  0.915860  1.118751  0.092368   \n",
       "\n",
       "                  q13   sumq1q2  \n",
       "course_code                      \n",
       "JEB003      -1.893661  0.406616  \n",
       "JLB003       0.776739  0.406616  \n",
       "NMMA701     -2.783794  0.406616  \n",
       "JEB023      -1.893661 -0.261754  \n",
       "JEB055      -2.783794 -1.598493  \n",
       "...               ...       ...  \n",
       "JJM260       0.776739  1.743355  \n",
       "JJM264      -1.003528 -1.598493  \n",
       "JJM360       0.776739  1.074986  \n",
       "JJM354       0.776739 -0.930123  \n",
       "JJM340       0.776739  1.743355  \n",
       "\n",
       "[6995 rows x 14 columns]"
      ]
     },
     "execution_count": 471,
     "metadata": {},
     "output_type": "execute_result"
    }
   ],
   "source": [
    "# using lambda - anonymous function\n",
    "df_q.apply(lambda x: (x - np.mean(x)) / np.std(x), axis = 0)"
   ]
  },
  {
   "cell_type": "code",
   "execution_count": 172,
   "metadata": {},
   "outputs": [],
   "source": [
    "# using custom function, with arguments (could have also be done with lambda)\n",
    "def add_and_substract(df, sub = 1, add = 1):\n",
    "    return df - sub + add\n",
    "df_q.apply(add_and_substract, args = (0,0));"
   ]
  },
  {
   "cell_type": "code",
   "execution_count": 173,
   "metadata": {},
   "outputs": [
    {
     "data": {
      "text/plain": [
       "'JEB110'"
      ]
     },
     "execution_count": 173,
     "metadata": {},
     "output_type": "execute_result"
    }
   ],
   "source": [
    "# A little bit more sophisticated:  e.g. get index of the observation with the longest value comment\n",
    "df['c_value'].apply(lambda x: len(str(x))).idxmax()"
   ]
  },
  {
   "cell_type": "markdown",
   "metadata": {},
   "source": [
    "**Aggregation**\n",
    "* *`aggregate()`* and *`transform()`*\n",
    "* aggregation allows multiple aggregation operations in a single concise way\n",
    "* `transform()` method returns an object that is indexed the same as the original\n",
    "   * allows multiple operations at the same time, instead of one-by-one as `aggregate()` method"
   ]
  },
  {
   "cell_type": "code",
   "execution_count": 95,
   "metadata": {},
   "outputs": [
    {
     "data": {
      "text/plain": [
       "q1     4.108661\n",
       "q2     3.284166\n",
       "q3     4.214731\n",
       "q4     4.359355\n",
       "q5     3.872664\n",
       "q6     4.288462\n",
       "q7     4.494231\n",
       "q8     4.151923\n",
       "q9     1.419126\n",
       "q10    4.020940\n",
       "q11    3.574672\n",
       "q12    3.896927\n",
       "q13    4.127390\n",
       "dtype: float64"
      ]
     },
     "execution_count": 95,
     "metadata": {},
     "output_type": "execute_result"
    }
   ],
   "source": [
    "# aggregating simple function is the same as apply\n",
    "df_q.agg(np.mean, axis = 0)"
   ]
  },
  {
   "cell_type": "code",
   "execution_count": 472,
   "metadata": {},
   "outputs": [
    {
     "data": {
      "text/html": [
       "<div>\n",
       "<style scoped>\n",
       "    .dataframe tbody tr th:only-of-type {\n",
       "        vertical-align: middle;\n",
       "    }\n",
       "\n",
       "    .dataframe tbody tr th {\n",
       "        vertical-align: top;\n",
       "    }\n",
       "\n",
       "    .dataframe thead th {\n",
       "        text-align: right;\n",
       "    }\n",
       "</style>\n",
       "<table border=\"1\" class=\"dataframe\">\n",
       "  <thead>\n",
       "    <tr style=\"text-align: right;\">\n",
       "      <th></th>\n",
       "      <th>q1</th>\n",
       "      <th>q2</th>\n",
       "      <th>q3</th>\n",
       "      <th>q4</th>\n",
       "      <th>q5</th>\n",
       "      <th>q6</th>\n",
       "      <th>q7</th>\n",
       "      <th>q8</th>\n",
       "      <th>q9</th>\n",
       "      <th>q10</th>\n",
       "      <th>q11</th>\n",
       "      <th>q12</th>\n",
       "      <th>q13</th>\n",
       "      <th>sumq1q2</th>\n",
       "    </tr>\n",
       "  </thead>\n",
       "  <tbody>\n",
       "    <tr>\n",
       "      <th>mean</th>\n",
       "      <td>4.108661</td>\n",
       "      <td>3.284166</td>\n",
       "      <td>4.214731</td>\n",
       "      <td>4.359355</td>\n",
       "      <td>3.872664</td>\n",
       "      <td>4.288462</td>\n",
       "      <td>4.494231</td>\n",
       "      <td>4.151923</td>\n",
       "      <td>1.419126</td>\n",
       "      <td>4.020940</td>\n",
       "      <td>3.574672</td>\n",
       "      <td>3.896927</td>\n",
       "      <td>4.12739</td>\n",
       "      <td>7.391630</td>\n",
       "    </tr>\n",
       "    <tr>\n",
       "      <th>std</th>\n",
       "      <td>1.019755</td>\n",
       "      <td>1.056333</td>\n",
       "      <td>1.032399</td>\n",
       "      <td>0.999295</td>\n",
       "      <td>1.267321</td>\n",
       "      <td>0.964880</td>\n",
       "      <td>0.887239</td>\n",
       "      <td>1.142584</td>\n",
       "      <td>0.775423</td>\n",
       "      <td>1.069084</td>\n",
       "      <td>1.274129</td>\n",
       "      <td>1.115977</td>\n",
       "      <td>1.12351</td>\n",
       "      <td>1.496288</td>\n",
       "    </tr>\n",
       "    <tr>\n",
       "      <th>amin</th>\n",
       "      <td>1.000000</td>\n",
       "      <td>1.000000</td>\n",
       "      <td>1.000000</td>\n",
       "      <td>1.000000</td>\n",
       "      <td>1.000000</td>\n",
       "      <td>1.000000</td>\n",
       "      <td>1.000000</td>\n",
       "      <td>1.000000</td>\n",
       "      <td>1.000000</td>\n",
       "      <td>1.000000</td>\n",
       "      <td>1.000000</td>\n",
       "      <td>1.000000</td>\n",
       "      <td>1.00000</td>\n",
       "      <td>2.000000</td>\n",
       "    </tr>\n",
       "    <tr>\n",
       "      <th>amax</th>\n",
       "      <td>5.000000</td>\n",
       "      <td>5.000000</td>\n",
       "      <td>5.000000</td>\n",
       "      <td>5.000000</td>\n",
       "      <td>5.000000</td>\n",
       "      <td>5.000000</td>\n",
       "      <td>5.000000</td>\n",
       "      <td>5.000000</td>\n",
       "      <td>5.000000</td>\n",
       "      <td>5.000000</td>\n",
       "      <td>5.000000</td>\n",
       "      <td>5.000000</td>\n",
       "      <td>5.00000</td>\n",
       "      <td>10.000000</td>\n",
       "    </tr>\n",
       "  </tbody>\n",
       "</table>\n",
       "</div>"
      ],
      "text/plain": [
       "            q1        q2        q3        q4        q5        q6        q7  \\\n",
       "mean  4.108661  3.284166  4.214731  4.359355  3.872664  4.288462  4.494231   \n",
       "std   1.019755  1.056333  1.032399  0.999295  1.267321  0.964880  0.887239   \n",
       "amin  1.000000  1.000000  1.000000  1.000000  1.000000  1.000000  1.000000   \n",
       "amax  5.000000  5.000000  5.000000  5.000000  5.000000  5.000000  5.000000   \n",
       "\n",
       "            q8        q9       q10       q11       q12      q13    sumq1q2  \n",
       "mean  4.151923  1.419126  4.020940  3.574672  3.896927  4.12739   7.391630  \n",
       "std   1.142584  0.775423  1.069084  1.274129  1.115977  1.12351   1.496288  \n",
       "amin  1.000000  1.000000  1.000000  1.000000  1.000000  1.00000   2.000000  \n",
       "amax  5.000000  5.000000  5.000000  5.000000  5.000000  5.00000  10.000000  "
      ]
     },
     "execution_count": 472,
     "metadata": {},
     "output_type": "execute_result"
    }
   ],
   "source": [
    "# aggregating more functions more interesting (you could do your own describe function easily! )\n",
    "df_q.aggregate([np.mean, np.std, np.min, np.max], axis = 0)"
   ]
  },
  {
   "cell_type": "code",
   "execution_count": 174,
   "metadata": {},
   "outputs": [
    {
     "data": {
      "text/html": [
       "<div>\n",
       "<style scoped>\n",
       "    .dataframe tbody tr th:only-of-type {\n",
       "        vertical-align: middle;\n",
       "    }\n",
       "\n",
       "    .dataframe tbody tr th {\n",
       "        vertical-align: top;\n",
       "    }\n",
       "\n",
       "    .dataframe thead th {\n",
       "        text-align: right;\n",
       "    }\n",
       "</style>\n",
       "<table border=\"1\" class=\"dataframe\">\n",
       "  <thead>\n",
       "    <tr style=\"text-align: right;\">\n",
       "      <th></th>\n",
       "      <th>q1</th>\n",
       "      <th>q2</th>\n",
       "      <th>q3</th>\n",
       "    </tr>\n",
       "  </thead>\n",
       "  <tbody>\n",
       "    <tr>\n",
       "      <th>mean</th>\n",
       "      <td>4.108661</td>\n",
       "      <td>NaN</td>\n",
       "      <td>4.214731</td>\n",
       "    </tr>\n",
       "    <tr>\n",
       "      <th>std</th>\n",
       "      <td>NaN</td>\n",
       "      <td>1.056333</td>\n",
       "      <td>1.032399</td>\n",
       "    </tr>\n",
       "    <tr>\n",
       "      <th>var</th>\n",
       "      <td>NaN</td>\n",
       "      <td>NaN</td>\n",
       "      <td>1.065849</td>\n",
       "    </tr>\n",
       "  </tbody>\n",
       "</table>\n",
       "</div>"
      ],
      "text/plain": [
       "            q1        q2        q3\n",
       "mean  4.108661       NaN  4.214731\n",
       "std        NaN  1.056333  1.032399\n",
       "var        NaN       NaN  1.065849"
      ]
     },
     "execution_count": 174,
     "metadata": {},
     "output_type": "execute_result"
    }
   ],
   "source": [
    "# aggregating using dictionary, i.e. column specific aggregation \n",
    "df_q.agg({'q1' : [np.mean], 'q2': np.std, 'q3': [np.mean, np.std, np.var]})"
   ]
  },
  {
   "cell_type": "code",
   "execution_count": 185,
   "metadata": {},
   "outputs": [],
   "source": [
    "# using single function, the same as with apply\n",
    "df_q.transform(lambda x: np.power(x,2));"
   ]
  },
  {
   "cell_type": "code",
   "execution_count": 182,
   "metadata": {},
   "outputs": [],
   "source": [
    "# using multiple functions (can also be done using dictionary as in the case of aggregate)\n",
    "df_q.transform([np.abs, lambda x: x + 1]);"
   ]
  },
  {
   "cell_type": "markdown",
   "metadata": {},
   "source": [
    "## Missing values"
   ]
  },
  {
   "cell_type": "code",
   "execution_count": 192,
   "metadata": {},
   "outputs": [
    {
     "data": {
      "text/html": [
       "<div>\n",
       "<style scoped>\n",
       "    .dataframe tbody tr th:only-of-type {\n",
       "        vertical-align: middle;\n",
       "    }\n",
       "\n",
       "    .dataframe tbody tr th {\n",
       "        vertical-align: top;\n",
       "    }\n",
       "\n",
       "    .dataframe thead th {\n",
       "        text-align: right;\n",
       "    }\n",
       "</style>\n",
       "<table border=\"1\" class=\"dataframe\">\n",
       "  <thead>\n",
       "    <tr style=\"text-align: right;\">\n",
       "      <th></th>\n",
       "      <th>cislo_dot</th>\n",
       "      <th>kod_predm</th>\n",
       "      <th>nazev_predm</th>\n",
       "      <th>prednasejici</th>\n",
       "      <th>cvicici</th>\n",
       "      <th>q1</th>\n",
       "      <th>q2</th>\n",
       "      <th>q3</th>\n",
       "      <th>q4</th>\n",
       "      <th>q5</th>\n",
       "      <th>...</th>\n",
       "      <th>q7</th>\n",
       "      <th>q8</th>\n",
       "      <th>q9</th>\n",
       "      <th>q10</th>\n",
       "      <th>q11</th>\n",
       "      <th>q12</th>\n",
       "      <th>q13</th>\n",
       "      <th>t1</th>\n",
       "      <th>t2</th>\n",
       "      <th>katedra_code</th>\n",
       "    </tr>\n",
       "  </thead>\n",
       "  <tbody>\n",
       "    <tr>\n",
       "      <th>0</th>\n",
       "      <td>NaN</td>\n",
       "      <td>NaN</td>\n",
       "      <td>NaN</td>\n",
       "      <td>NaN</td>\n",
       "      <td>NaN</td>\n",
       "      <td>NaN</td>\n",
       "      <td>NaN</td>\n",
       "      <td>NaN</td>\n",
       "      <td>NaN</td>\n",
       "      <td>NaN</td>\n",
       "      <td>...</td>\n",
       "      <td>NaN</td>\n",
       "      <td>NaN</td>\n",
       "      <td>NaN</td>\n",
       "      <td>NaN</td>\n",
       "      <td>NaN</td>\n",
       "      <td>NaN</td>\n",
       "      <td>NaN</td>\n",
       "      <td>NaN</td>\n",
       "      <td>NaN</td>\n",
       "      <td>NaN</td>\n",
       "    </tr>\n",
       "    <tr>\n",
       "      <th>1</th>\n",
       "      <td>NaN</td>\n",
       "      <td>NaN</td>\n",
       "      <td>NaN</td>\n",
       "      <td>NaN</td>\n",
       "      <td>NaN</td>\n",
       "      <td>NaN</td>\n",
       "      <td>NaN</td>\n",
       "      <td>NaN</td>\n",
       "      <td>NaN</td>\n",
       "      <td>NaN</td>\n",
       "      <td>...</td>\n",
       "      <td>NaN</td>\n",
       "      <td>NaN</td>\n",
       "      <td>NaN</td>\n",
       "      <td>NaN</td>\n",
       "      <td>NaN</td>\n",
       "      <td>NaN</td>\n",
       "      <td>NaN</td>\n",
       "      <td>NaN</td>\n",
       "      <td>NaN</td>\n",
       "      <td>NaN</td>\n",
       "    </tr>\n",
       "    <tr>\n",
       "      <th>2</th>\n",
       "      <td>NaN</td>\n",
       "      <td>NaN</td>\n",
       "      <td>NaN</td>\n",
       "      <td>NaN</td>\n",
       "      <td>NaN</td>\n",
       "      <td>NaN</td>\n",
       "      <td>NaN</td>\n",
       "      <td>NaN</td>\n",
       "      <td>NaN</td>\n",
       "      <td>NaN</td>\n",
       "      <td>...</td>\n",
       "      <td>NaN</td>\n",
       "      <td>NaN</td>\n",
       "      <td>NaN</td>\n",
       "      <td>NaN</td>\n",
       "      <td>NaN</td>\n",
       "      <td>NaN</td>\n",
       "      <td>NaN</td>\n",
       "      <td>NaN</td>\n",
       "      <td>NaN</td>\n",
       "      <td>NaN</td>\n",
       "    </tr>\n",
       "    <tr>\n",
       "      <th>3</th>\n",
       "      <td>NaN</td>\n",
       "      <td>NaN</td>\n",
       "      <td>NaN</td>\n",
       "      <td>NaN</td>\n",
       "      <td>NaN</td>\n",
       "      <td>NaN</td>\n",
       "      <td>NaN</td>\n",
       "      <td>NaN</td>\n",
       "      <td>NaN</td>\n",
       "      <td>NaN</td>\n",
       "      <td>...</td>\n",
       "      <td>NaN</td>\n",
       "      <td>NaN</td>\n",
       "      <td>NaN</td>\n",
       "      <td>NaN</td>\n",
       "      <td>NaN</td>\n",
       "      <td>NaN</td>\n",
       "      <td>NaN</td>\n",
       "      <td>NaN</td>\n",
       "      <td>NaN</td>\n",
       "      <td>NaN</td>\n",
       "    </tr>\n",
       "    <tr>\n",
       "      <th>4</th>\n",
       "      <td>NaN</td>\n",
       "      <td>NaN</td>\n",
       "      <td>NaN</td>\n",
       "      <td>NaN</td>\n",
       "      <td>NaN</td>\n",
       "      <td>NaN</td>\n",
       "      <td>NaN</td>\n",
       "      <td>NaN</td>\n",
       "      <td>NaN</td>\n",
       "      <td>NaN</td>\n",
       "      <td>...</td>\n",
       "      <td>NaN</td>\n",
       "      <td>NaN</td>\n",
       "      <td>NaN</td>\n",
       "      <td>NaN</td>\n",
       "      <td>NaN</td>\n",
       "      <td>NaN</td>\n",
       "      <td>NaN</td>\n",
       "      <td>NaN</td>\n",
       "      <td>NaN</td>\n",
       "      <td>NaN</td>\n",
       "    </tr>\n",
       "  </tbody>\n",
       "</table>\n",
       "<p>5 rows × 21 columns</p>\n",
       "</div>"
      ],
      "text/plain": [
       "   cislo_dot kod_predm nazev_predm prednasejici cvicici  q1  q2  q3  q4  q5  \\\n",
       "0        NaN       NaN         NaN          NaN     NaN NaN NaN NaN NaN NaN   \n",
       "1        NaN       NaN         NaN          NaN     NaN NaN NaN NaN NaN NaN   \n",
       "2        NaN       NaN         NaN          NaN     NaN NaN NaN NaN NaN NaN   \n",
       "3        NaN       NaN         NaN          NaN     NaN NaN NaN NaN NaN NaN   \n",
       "4        NaN       NaN         NaN          NaN     NaN NaN NaN NaN NaN NaN   \n",
       "\n",
       "   ...  q7  q8  q9  q10  q11  q12  q13   t1   t2 katedra_code  \n",
       "0  ... NaN NaN NaN  NaN  NaN  NaN  NaN  NaN  NaN          NaN  \n",
       "1  ... NaN NaN NaN  NaN  NaN  NaN  NaN  NaN  NaN          NaN  \n",
       "2  ... NaN NaN NaN  NaN  NaN  NaN  NaN  NaN  NaN          NaN  \n",
       "3  ... NaN NaN NaN  NaN  NaN  NaN  NaN  NaN  NaN          NaN  \n",
       "4  ... NaN NaN NaN  NaN  NaN  NaN  NaN  NaN  NaN          NaN  \n",
       "\n",
       "[5 rows x 21 columns]"
      ]
     },
     "execution_count": 192,
     "metadata": {},
     "output_type": "execute_result"
    }
   ],
   "source": [
    "df[df.isnull()].head()"
   ]
  },
  {
   "cell_type": "code",
   "execution_count": 189,
   "metadata": {},
   "outputs": [
    {
     "data": {
      "text/plain": [
       "0.21972837741243745"
      ]
     },
     "execution_count": 189,
     "metadata": {},
     "output_type": "execute_result"
    }
   ],
   "source": [
    "# % of missing observations for specific column\n",
    "df['q5'].isnull().sum() / df['q1'].isnull().count()"
   ]
  },
  {
   "cell_type": "code",
   "execution_count": 102,
   "metadata": {},
   "outputs": [],
   "source": [
    "# replacing missing values\n",
    "df['q1'].fillna(-99);"
   ]
  }
 ],
 "metadata": {
  "kernelspec": {
   "display_name": "Python 3",
   "language": "python",
   "name": "python3"
  },
  "language_info": {
   "codemirror_mode": {
    "name": "ipython",
    "version": 3
   },
   "file_extension": ".py",
   "mimetype": "text/x-python",
   "name": "python",
   "nbconvert_exporter": "python",
   "pygments_lexer": "ipython3",
   "version": "3.7.5"
  }
 },
 "nbformat": 4,
 "nbformat_minor": 4
}
