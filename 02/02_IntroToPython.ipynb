{
 "cells": [
  {
   "cell_type": "markdown",
   "metadata": {},
   "source": [
    "# Lecture 2: Basics of Python\n",
    "\n",
    "\n",
    "## Course aims\n",
    "1. To teach you think like a programmer\n",
    "    * Basic concepts\n",
    "    * Google, StackOverflow"
   ]
  },
  {
   "cell_type": "code",
   "execution_count": 1,
   "metadata": {},
   "outputs": [
    {
     "name": "stdout",
     "output_type": "stream",
     "text": [
      "The Zen of Python, by Tim Peters\n",
      "\n",
      "Beautiful is better than ugly.\n",
      "Explicit is better than implicit.\n",
      "Simple is better than complex.\n",
      "Complex is better than complicated.\n",
      "Flat is better than nested.\n",
      "Sparse is better than dense.\n",
      "Readability counts.\n",
      "Special cases aren't special enough to break the rules.\n",
      "Although practicality beats purity.\n",
      "Errors should never pass silently.\n",
      "Unless explicitly silenced.\n",
      "In the face of ambiguity, refuse the temptation to guess.\n",
      "There should be one-- and preferably only one --obvious way to do it.\n",
      "Although that way may not be obvious at first unless you're Dutch.\n",
      "Now is better than never.\n",
      "Although never is often better than *right* now.\n",
      "If the implementation is hard to explain, it's a bad idea.\n",
      "If the implementation is easy to explain, it may be a good idea.\n",
      "Namespaces are one honking great idea -- let's do more of those!\n"
     ]
    }
   ],
   "source": [
    "import this"
   ]
  },
  {
   "cell_type": "code",
   "execution_count": 2,
   "metadata": {},
   "outputs": [
    {
     "name": "stdout",
     "output_type": "stream",
     "text": [
      "No computer has ever done anything wrong. Everything is your fault!\n"
     ]
    }
   ],
   "source": [
    "import vitkuv_zen"
   ]
  },
  {
   "cell_type": "markdown",
   "metadata": {},
   "source": [
    "(if you don't use [Pentium I](https://en.wikipedia.org/wiki/Pentium_FDIV_bug) ) \n",
    "\n",
    "2. Get above *I can do anything* threshold, or (more probably) close to it\n",
    "    * Steep part of the learning curve\n",
    "    * Requires substantial investment\n",
    "\n",
    "\n",
    "\n",
    "3. There is data EVERYWHERE!\n",
    "    * IES\n",
    "\n",
    "\n",
    "##  Course Outline\n",
    "\n",
    "During the course you will download the data describing IES employees, merge them with students evaluations and analyze it.\n",
    "\n",
    "The course is roughly divided into 3 blocks:\n",
    "1. **Data collection** - *Developing a parser of the IES website and transforming data into well-structured format.* \n",
    "    * Programming building blocks\n",
    "    * Python fundamentals\n",
    "    * Common data formats\n",
    "    * Web-scraping\n",
    "\n",
    "\n",
    "2. **Data processing** - *Merging data with student evaluations.* \n",
    "    * Pandas Ecosystem\n",
    "    * Visualizations\n",
    "    * Advaned computing\n",
    "\n",
    "\n",
    "3. **Data analysis** - *Work on your project.* \n",
    "    * Your turn\n",
    "    * Our guidance\n",
    "\n",
    "\n",
    "## The Final Project\n",
    "**Description:**\n",
    "* Students in teams by 2\n",
    "* The task is to download any data from API or directly from the web. These data should be processed and visualized in the Jupyter Notebook. The project is to be submitted as a GitHub repository\n",
    "* The selection of the data is entirely up to the students. \n",
    "\n",
    "**Deadlines:**\n",
    "\n",
    "* November 12th: Project Topic First Submission\n",
    "* December 3rd: Project Topic Final Submission\n",
    "* January 21st: Project Submission (TBC)\n",
    "\n",
    "**Evaluation Criteria:** \n",
    "1. The project use correctly downloaded data from the public API or website.\n",
    "2. The download is easily reproducible\n",
    "3. The data were cleaned appropriately\n",
    "4. The data are visualized \n",
    "5. The project is submitted as a public GitHub repository\n",
    "6. All team members visibly collaborated on the GitHub repository\n",
    "7. The code is readable and well documented\n",
    "8. The code is object-oriented\n",
    "9. The project's summary is submitted as a jupyter notebook.\n",
    "10. Project is distributed as a Python package"
   ]
  },
  {
   "cell_type": "markdown",
   "metadata": {},
   "source": [
    "## Midterm\n",
    "* November 26th - during the lecture\n",
    "\n",
    "* Single task - the whole lecture (90 minutes max)\n",
    "\n",
    "* everything covered (excluding databases)"
   ]
  },
  {
   "cell_type": "markdown",
   "metadata": {},
   "source": [
    "# Intro\n",
    "\n",
    "**Q: What is the difference between coder and programmer? **\n",
    "\n",
    "**Q: What is the difference between coder's code and programmer's code? **\n",
    "\n",
    "**Q: What is elegant code? **"
   ]
  },
  {
   "cell_type": "markdown",
   "metadata": {},
   "source": [
    "**Q: What is a program?**\n",
    "\n",
    "See this chatbot for Intelligence Agencies:\n",
    "```\n",
    "def reply():\n",
    "    return 'We are sorry, but we cannot provide any comments in this matter.'\n",
    "    \n",
    "print(reply())\n",
    "```\n"
   ]
  },
  {
   "cell_type": "markdown",
   "metadata": {},
   "source": [
    "# Python\n",
    "> \"There should be one — and preferably only one — obvious way to do it\"\n",
    "\n",
    "<img src=\"stackoverflow.png\" alt=\"stackoverflow\" width=\"700\"/>\n",
    "\n",
    "\n",
    "## Python as a language\n",
    "* General purpose\n",
    "* Open-source\n",
    "* Interpreted (not-compiled)\n",
    "    * Type insecure\n",
    "    * Slow\n",
    "* Object-oriented\n",
    "* Easily extendable\n",
    "* Convinient for beginners, yet very powerful\n",
    "* Huge community\n",
    "\n",
    "## Python vs. R\n",
    "* simpler syntax\n",
    "* more general\n",
    " => Superior\n",
    "* \"R is a huge hammer, with which you can do anything.\" Petr Pleticha\n",
    "* \"(Almost)\" Vítek\n",
    "* converging in most data science use cases => Python is superior\n",
    "\n",
    "# Syntax\n",
    "* very clean\n",
    "* readable\n",
    "* (almost) no special characters\n",
    "\n",
    "\n",
    "## 0-index\n",
    "* first element `l[0]` \n",
    "* last element `l[len(l)-1]` or `l[-1]`\n",
    "\n"
   ]
  },
  {
   "cell_type": "markdown",
   "metadata": {},
   "source": [
    "## Line structure\n",
    "\n",
    "* Basically most loved feature of Python\n",
    "* Line breaks and identations are part of syntax!\n",
    "* It is used to separate content of functions, classes, loops, conditions, etc.\n",
    "* avoids `{}`, `;` etc\n",
    "\n",
    "### Identations\n",
    "* both `space` and `tab` are accepted.\n",
    "* to keep things simple ALWAYS ident with `tab`!\n",
    "* always preceeded by \"`:`\"\n",
    "\n",
    "```\n",
    "for i in range(10):\n",
    "    print(i)\n",
    "    if i == 0:\n",
    "        print(i,' is zero')\n",
    "    else:\n",
    "        print(i,' is not zero')\n",
    "```\n",
    "Compare with same code in `R`:\n",
    "```\n",
    "for(i in 0:9) {\n",
    "  print(i)\n",
    "  if(i==0) {print(paste(i,'is zero'))}\n",
    "  else {print(paste(i,'is not zero'))}\n",
    "}\n",
    "```\n",
    "\n",
    "If you still need to break a line, without triggering code changes use line joins:\n",
    "\n",
    "### Explicit line joins\n",
    "```\n",
    "if 1900 < year < 2100 and 1 <= month <= 12 \\\n",
    "   and 1 <= day <= 31 and 0 <= hour < 24 \\\n",
    "   and 0 <= minute < 60 and 0 <= second < 60:\n",
    "   pass\n",
    "```\n",
    "\n",
    "### Implicit line joins\n",
    "Expressions in parentheses `()`, square brackets `[]` or curly braces `{}` can be split over more than one physical line without using backslashes. For example:\n",
    "\n",
    "```\n",
    "month_names = ['January', 'February', 'March',      \n",
    "               'April',   'May',      'June',       \n",
    "               'July',    'August', 'September',  \n",
    "               'October', 'November', 'December']\n",
    "\n",
    "```\n",
    "## Keywords and built-in functions\n",
    "Do not use as a variable name!"
   ]
  },
  {
   "cell_type": "code",
   "execution_count": null,
   "metadata": {},
   "outputs": [],
   "source": [
    "import keyword\n",
    "print(keyword.kwlist)\n",
    "print(dir(__builtins__))"
   ]
  },
  {
   "cell_type": "markdown",
   "metadata": {},
   "source": [
    "# Built-in Data Types\n",
    "\n",
    "## Numerical\n",
    "\n",
    "Python differentiates 4 built-in numerical types: Integers, Floats, Longs and Complex\n",
    "\n",
    "We will only consider Integers and Floats as you will most probably use only these two."
   ]
  },
  {
   "cell_type": "code",
   "execution_count": null,
   "metadata": {},
   "outputs": [],
   "source": [
    "integer = 4\n",
    "print('Integer: ',integer,type(integer))\n",
    "floatn = 5.0\n",
    "print('Float: ',floatn,type(floatn))"
   ]
  },
  {
   "cell_type": "markdown",
   "metadata": {},
   "source": [
    "**Q: What if floats and integers are combined?**\n",
    "\n",
    "**Q: Why not to use only floats?**\n"
   ]
  },
  {
   "cell_type": "code",
   "execution_count": null,
   "metadata": {},
   "outputs": [],
   "source": []
  },
  {
   "cell_type": "markdown",
   "metadata": {},
   "source": [
    "### Python standard operators\n",
    "\n",
    "* + \n",
    "* - \n",
    "* *\n",
    "* /\n",
    "\n",
    "but also:\n",
    "\n",
    "* \\*\\* (exponent)\n",
    "* %  (modulus)\n",
    "* // (floor division)"
   ]
  },
  {
   "cell_type": "markdown",
   "metadata": {},
   "source": [
    "\n",
    "## Binary variables\n",
    "`False` ... `0`\n",
    "\n",
    "`True` ... `1`\n",
    "\n",
    "What happens if:\n",
    "```\n",
    "b = True\n",
    "print(b) \n",
    "print(not b) \n",
    "print(b + 1)\n",
    "print(not b -1)\n",
    "print(not 10)\n",
    "```"
   ]
  },
  {
   "cell_type": "markdown",
   "metadata": {},
   "source": [
    "### NO NEED TO REMEMBER THESE RELATIONS!!\n",
    "\n",
    "very important implication:\n",
    "> These nuances matter a lot!\n",
    "\n",
    "> ALWAYS PROCEED STEP BY STEP!\n",
    "\n",
    "I look forward for moment when I write larger chunk of code and it will work on the first run."
   ]
  },
  {
   "cell_type": "code",
   "execution_count": null,
   "metadata": {},
   "outputs": [],
   "source": []
  },
  {
   "cell_type": "markdown",
   "metadata": {},
   "source": [
    "## Comparisons"
   ]
  },
  {
   "cell_type": "code",
   "execution_count": null,
   "metadata": {},
   "outputs": [],
   "source": [
    "a = 10\n",
    "b = 20"
   ]
  },
  {
   "cell_type": "markdown",
   "metadata": {},
   "source": []
  },
  {
   "cell_type": "markdown",
   "metadata": {},
   "source": [
    "![image.png](attachment:image.png)"
   ]
  },
  {
   "cell_type": "code",
   "execution_count": null,
   "metadata": {},
   "outputs": [],
   "source": []
  },
  {
   "cell_type": "markdown",
   "metadata": {},
   "source": [
    "## Assignments\n",
    "<img src=\"assignements.PNG\" alt=\"stackoverflow\" width=\"700\"/>\n"
   ]
  },
  {
   "cell_type": "code",
   "execution_count": null,
   "metadata": {},
   "outputs": [],
   "source": [
    "x = 5"
   ]
  },
  {
   "cell_type": "markdown",
   "metadata": {},
   "source": [
    "## Control flows\n",
    "\n",
    "### For loop"
   ]
  },
  {
   "cell_type": "code",
   "execution_count": null,
   "metadata": {},
   "outputs": [],
   "source": []
  },
  {
   "cell_type": "markdown",
   "metadata": {},
   "source": [
    "### If statement"
   ]
  },
  {
   "cell_type": "code",
   "execution_count": null,
   "metadata": {},
   "outputs": [],
   "source": []
  },
  {
   "cell_type": "markdown",
   "metadata": {},
   "source": [
    "# Sequences\n",
    "\n",
    "* All of them can be iterated over (technically `iterables` with implemented `__iter__()` and `__next__()` functions) - you can make your own!"
   ]
  },
  {
   "cell_type": "markdown",
   "metadata": {},
   "source": [
    "### Strings\n",
    "* A list of characters\n",
    "```\n",
    "\"'\"\n",
    "```\n",
    "or \n",
    "```\n",
    "'\"'\n",
    "```\n",
    "or\n",
    "```\n",
    "\"\"\" this is \n",
    "multi-line\n",
    "string\"\"\"\n",
    "```\n"
   ]
  },
  {
   "cell_type": "code",
   "execution_count": null,
   "metadata": {},
   "outputs": [],
   "source": [
    "s = 'Institute of Economic Studies, Faculty of Social Sciences, Charles University in Prague'\n",
    "s"
   ]
  },
  {
   "cell_type": "markdown",
   "metadata": {},
   "source": [
    "You can subset using `[]`:"
   ]
  },
  {
   "cell_type": "code",
   "execution_count": null,
   "metadata": {},
   "outputs": [],
   "source": [
    "s[59:66]"
   ]
  },
  {
   "cell_type": "markdown",
   "metadata": {},
   "source": [
    "`Split` strings by another strings:"
   ]
  },
  {
   "cell_type": "code",
   "execution_count": null,
   "metadata": {},
   "outputs": [],
   "source": [
    "for part in s.split(', '):\n",
    "    print(part)"
   ]
  },
  {
   "cell_type": "markdown",
   "metadata": {},
   "source": [
    "`Format` function is very useful for working with strings!"
   ]
  },
  {
   "cell_type": "code",
   "execution_count": null,
   "metadata": {},
   "outputs": [],
   "source": [
    "s1 = '<NAME>'\n",
    "s2 = '<REASON>'\n",
    "\n",
    "'The best teacher on IES is {}. He is cool because {}'.format(s1,s2)"
   ]
  },
  {
   "cell_type": "markdown",
   "metadata": {},
   "source": [
    "You can `replace` parts of strings by another strings:"
   ]
  },
  {
   "cell_type": "code",
   "execution_count": null,
   "metadata": {},
   "outputs": [],
   "source": []
  },
  {
   "cell_type": "markdown",
   "metadata": {},
   "source": [
    "`strip()` function is useful for removing white-spaces from the beginning and end of the string:"
   ]
  },
  {
   "cell_type": "code",
   "execution_count": null,
   "metadata": {},
   "outputs": [],
   "source": [
    "'   IES FSV UK    '.strip()"
   ]
  },
  {
   "cell_type": "markdown",
   "metadata": {},
   "source": [
    "## List"
   ]
  },
  {
   "cell_type": "code",
   "execution_count": null,
   "metadata": {},
   "outputs": [],
   "source": [
    "l = ['Gregor','Horváth','Baruník','Bauer','Havránek','Janda','Janský']\n",
    "for el in l:\n",
    "    print(el)"
   ]
  },
  {
   "cell_type": "markdown",
   "metadata": {},
   "source": [
    "### Subsetting sequences:\n",
    "first element:"
   ]
  },
  {
   "cell_type": "code",
   "execution_count": null,
   "metadata": {},
   "outputs": [],
   "source": []
  },
  {
   "cell_type": "markdown",
   "metadata": {},
   "source": [
    "last element:"
   ]
  },
  {
   "cell_type": "code",
   "execution_count": null,
   "metadata": {},
   "outputs": [],
   "source": []
  },
  {
   "cell_type": "markdown",
   "metadata": {},
   "source": [
    "third to fifth element"
   ]
  },
  {
   "cell_type": "code",
   "execution_count": null,
   "metadata": {
    "scrolled": true
   },
   "outputs": [],
   "source": []
  },
  {
   "cell_type": "markdown",
   "metadata": {},
   "source": [
    "first three elements"
   ]
  },
  {
   "cell_type": "code",
   "execution_count": null,
   "metadata": {},
   "outputs": [],
   "source": []
  },
  {
   "cell_type": "markdown",
   "metadata": {},
   "source": [
    "Lists combine any object types! Be careful and think in advance!"
   ]
  },
  {
   "cell_type": "code",
   "execution_count": null,
   "metadata": {},
   "outputs": [],
   "source": [
    "l + ['Kukačka']"
   ]
  },
  {
   "cell_type": "code",
   "execution_count": null,
   "metadata": {},
   "outputs": [],
   "source": [
    "l.append('Kukačka') # Beware inplace operation (TRY TO RUN SEVERAL TIMES)\n",
    "l"
   ]
  },
  {
   "cell_type": "markdown",
   "metadata": {},
   "source": [
    "### Testing membership"
   ]
  },
  {
   "cell_type": "code",
   "execution_count": null,
   "metadata": {},
   "outputs": [],
   "source": [
    "'Kukačka' in l"
   ]
  },
  {
   "cell_type": "markdown",
   "metadata": {},
   "source": [
    "### List of lists\n",
    "can be table:"
   ]
  },
  {
   "cell_type": "code",
   "execution_count": null,
   "metadata": {},
   "outputs": [],
   "source": [
    "tbl = [['Name','role','age'],['Martin Gregor','director of IES',18],['Jozef Baruník','econometric guru',15]]\n",
    "tbl"
   ]
  },
  {
   "cell_type": "markdown",
   "metadata": {},
   "source": [
    "### List comprehension\n",
    "\n",
    "convinient way to write simple for loops on lists in one line\n",
    "\n",
    "Example:\n",
    "\n",
    "```\n",
    "l = []\n",
    "for empl in tbl:\n",
    "    if empl[0] != 'Name':\n",
    "        l.append('{} ({})'.format(empl[0],empl[1]))\n",
    "l\n",
    "```"
   ]
  },
  {
   "cell_type": "code",
   "execution_count": null,
   "metadata": {},
   "outputs": [],
   "source": [
    "['{} ({})'.format(empl[0],empl[1]) for empl in tbl]"
   ]
  },
  {
   "cell_type": "markdown",
   "metadata": {},
   "source": [
    "### Tuples\n",
    " * immutable lists\n",
    " * constants and sets of information"
   ]
  },
  {
   "cell_type": "code",
   "execution_count": null,
   "metadata": {},
   "outputs": [],
   "source": [
    "coord = (50.082,14.431)"
   ]
  },
  {
   "cell_type": "markdown",
   "metadata": {},
   "source": [
    "## Dictionaries\n",
    "* extremely important datatype for more complex data structures\n",
    "* key-values pair\n",
    "* values can be any object - strings, numbers, but also other dictionaries and lists\n",
    "* unsorted"
   ]
  },
  {
   "cell_type": "code",
   "execution_count": null,
   "metadata": {},
   "outputs": [],
   "source": [
    "gregor = {'name':'Martin Gregor','role':'director of IES','age':18,'courses':['JEM013','JEB064']}\n",
    "gregor"
   ]
  },
  {
   "cell_type": "code",
   "execution_count": null,
   "metadata": {},
   "outputs": [],
   "source": []
  },
  {
   "cell_type": "code",
   "execution_count": null,
   "metadata": {},
   "outputs": [],
   "source": [
    "barunik = {'name':'Jozef Baruník','role':'econometric guru','age':15,'courses':['JEM005','JEM116','JED414','JED415','JED412','JEM059','JEM061']}\n",
    "list_of_dicts = [gregor,barunik]\n",
    "list_of_dicts"
   ]
  },
  {
   "cell_type": "code",
   "execution_count": null,
   "metadata": {},
   "outputs": [],
   "source": []
  },
  {
   "cell_type": "markdown",
   "metadata": {},
   "source": [
    "#  Functions\n",
    "\n",
    "**Q: What is a function?**\n",
    "\n",
    "* function as a basic lego-tile of programmes.\n",
    "\n",
    "* It always `return something`. The better your code, the more useful `something` is.\n",
    "\n",
    "* in a good code all of the functionality is hidden in a various functions (and classes).\n",
    "\n",
    "```\n",
    "def functionName(input1,input2):\n",
    "    do something ...\n",
    "    return result\n",
    "```"
   ]
  },
  {
   "cell_type": "code",
   "execution_count": null,
   "metadata": {},
   "outputs": [],
   "source": [
    "def describeEmployee(d):\n",
    "    '''\n",
    "    retrieves important information about the teacher from the input dictionary and return it as a string\n",
    "    \n",
    "    Input: dictionary with the name, role and age and courses keys\n",
    "    Output: String with information\n",
    "    '''\n",
    "    result = '{}, {}, is at least {} years old. '.format(d['name'],d['role'],d['age'])\n",
    "    \n",
    "    result += 'He teaches {} courses. '.format(len(d['courses']))\n",
    "    \n",
    "    if len(d['courses']) > 5:\n",
    "        result += 'Probably he is a teaching-superhero!'\n",
    "    return result"
   ]
  },
  {
   "cell_type": "code",
   "execution_count": null,
   "metadata": {},
   "outputs": [],
   "source": [
    "for el in list_of_dicts:\n",
    "    info = describeEmployee(el)\n",
    "    print(info)"
   ]
  },
  {
   "cell_type": "markdown",
   "metadata": {},
   "source": [
    "### How to write functions?\n",
    "\n",
    "* Function should do just one thing!\n",
    "* Use wrapping functions!\n",
    "\n",
    "** Example **\n",
    "\n",
    "We need to aggregate data and plot it.\n",
    "\n",
    "We will write three functions:\n",
    "\n",
    "```\n",
    "def aggregateData(param1,param2,data):\n",
    "    ... perform aggregation ...\n",
    "    return aggregData\n",
    "    \n",
    "def plotAggregatedData(aggregData,plotParam1,plotParam2):\n",
    "    ... perform plotting ...\n",
    "    return plot\n",
    "    \n",
    "def plotAndAggregateData(data,param1,param2,plotParam,plotParam2):\n",
    "    #aggregate data\n",
    "    aggregData = aggregateData(param1,param2,data)\n",
    "    \n",
    "    plot = plotAggregatedData(aggregData,plotParam1,plotParam2)\n",
    "    return (plot,aggregData)\n",
    "```\n"
   ]
  },
  {
   "cell_type": "markdown",
   "metadata": {},
   "source": [
    "### Default parameter values"
   ]
  },
  {
   "cell_type": "code",
   "execution_count": null,
   "metadata": {},
   "outputs": [],
   "source": []
  },
  {
   "cell_type": "markdown",
   "metadata": {},
   "source": [
    "If interested see *args or *kwargs - passing variables as list or dictionary"
   ]
  },
  {
   "cell_type": "markdown",
   "metadata": {},
   "source": [
    "# Basic programming principles\n",
    "\n",
    "Program is a set of instructions combined with data.\n",
    "\n",
    "> *“Perfection is achieved, not when there is nothing more to add, but when there is nothing left to take away.”* (Antoine de Saint Exupery)\n",
    "\n",
    "1. **Set naming standards and keep it** - i.e. data object for teachers will be dictionary with keys 'name','age' and 'role'.\n",
    "3. **Separate algorithmic logic from the data** - functions should be *general*, yet targeted on specific purpose.\n",
    "4. **Programmer is lazy**\n",
    "5. **Plan before you start!** Be sure you know how you will proceed before actual coding\n",
    "6. **Art of programming is essentialy art of googling.** (and a bit of planning)\n",
    "\n",
    "Variable names as well as function names should describe their content - do not use `var1` etc. \n",
    "\n",
    "Names like `data` are OK when you have know you have the only source of data. But the more complex the program is, the more you need \n",
    "\n",
    "\n",
    "## Scope of variables\n",
    "\n",
    "Is my variable visible outside of the function? \n",
    "\n",
    "![image.png](attachment:image.png)\n",
    "### Global variables"
   ]
  },
  {
   "cell_type": "code",
   "execution_count": null,
   "metadata": {},
   "outputs": [],
   "source": [
    "a = 5\n",
    "def doSomethingGlobal():\n",
    "    global a\n",
    "    a = a + 2\n",
    "doSomethingGlobal()\n",
    "a"
   ]
  },
  {
   "cell_type": "markdown",
   "metadata": {},
   "source": [
    "### Local variables"
   ]
  },
  {
   "cell_type": "code",
   "execution_count": null,
   "metadata": {},
   "outputs": [],
   "source": [
    "a = 5 \n",
    "def doSomethingLocal(a):\n",
    "    return a + 2\n",
    "a = doSomethingLocal(a)\n",
    "a"
   ]
  },
  {
   "cell_type": "markdown",
   "metadata": {},
   "source": [
    "### Many types are assigned as a reference!!!"
   ]
  },
  {
   "cell_type": "code",
   "execution_count": null,
   "metadata": {},
   "outputs": [],
   "source": [
    "x = ['Horváth','Baruník','Gregor']\n",
    "y = x\n",
    "\n",
    "y[1] = 'Kukačka'\n",
    "x"
   ]
  },
  {
   "cell_type": "markdown",
   "metadata": {},
   "source": [
    "# Error Handling"
   ]
  },
  {
   "cell_type": "code",
   "execution_count": null,
   "metadata": {},
   "outputs": [],
   "source": []
  },
  {
   "cell_type": "markdown",
   "metadata": {},
   "source": [
    "* GOOGLE!!!!!\n",
    "* If error produced, do not panic! Read it!\n",
    "* `vitkuv_zen`\n",
    "* Worse problems when no errors, yet unexpected results - the mistake would be in wrong understanding of the logic => DEBUGGING!!!\n",
    "\n",
    "Most common errors:\n",
    "1. Incorrect identation (SyntaxError) - automatically corrected in Jupyter, but still do not do it!\n",
    "2. Incorrect values - the program expects different values (ValueError)\n",
    "3. Non-existing key in dictionary (KeyError)\n",
    "4. assignment operator `=` instead of `==` (SyntaxError)\n",
    "5. Variable not found (NameError) - remember Python is case-sensitive!\n",
    "6. Zero-indexing!!!! \n",
    "\n"
   ]
  },
  {
   "cell_type": "code",
   "execution_count": null,
   "metadata": {},
   "outputs": [],
   "source": [
    "for i in range(5,-5,-1):\n",
    "    print(5/i)"
   ]
  },
  {
   "cell_type": "markdown",
   "metadata": {},
   "source": [
    "### Try and except"
   ]
  },
  {
   "cell_type": "code",
   "execution_count": null,
   "metadata": {},
   "outputs": [],
   "source": [
    "for i in range(5,-6,-1):\n",
    "    try:\n",
    "        print(5/i)\n",
    "    except Exception as e:\n",
    "        print(e)"
   ]
  },
  {
   "cell_type": "markdown",
   "metadata": {},
   "source": [
    "### Debugginng"
   ]
  },
  {
   "cell_type": "code",
   "execution_count": null,
   "metadata": {},
   "outputs": [],
   "source": [
    "for i in range(5,-6,-1):\n",
    "    try:\n",
    "        print(5/i)\n",
    "    except Exception as e:\n",
    "        breakpoint()"
   ]
  },
  {
   "cell_type": "code",
   "execution_count": null,
   "metadata": {},
   "outputs": [],
   "source": []
  }
 ],
 "metadata": {
  "kernelspec": {
   "display_name": "Python 3",
   "language": "python",
   "name": "python3"
  },
  "language_info": {
   "codemirror_mode": {
    "name": "ipython",
    "version": 3
   },
   "file_extension": ".py",
   "mimetype": "text/x-python",
   "name": "python",
   "nbconvert_exporter": "python",
   "pygments_lexer": "ipython3",
   "version": "3.6.3"
  }
 },
 "nbformat": 4,
 "nbformat_minor": 4
}
