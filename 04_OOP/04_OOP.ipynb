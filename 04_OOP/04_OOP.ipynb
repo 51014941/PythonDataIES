{
 "cells": [
  {
   "cell_type": "markdown",
   "metadata": {},
   "source": [
    "# Lecture 04\n",
    "by Jan Sila, based on Martin Hronec <br>\n",
    "\n",
    "\n",
    "### Table of contents\n",
    "\n",
    "* [Object-oriented programming](#OOP)"
   ]
  },
  {
   "cell_type": "markdown",
   "metadata": {},
   "source": [
    "# OOP \n",
    "\n",
    "Wikipedia definition\n",
    "\n",
    "> is a programming paradigm based on the concept of **objects**, which can contain data and code: data in the form of fields (often known as attributes or properties), and code, in the form of procedures (often known as methods).\n",
    "\n",
    "> A feature of objects is that an object's own procedures can access and often modify the data fields of itself (**objects have a notion of this or self**). In OOP, computer programs are designed by making them out of objects that interact with one another. OOP languages are diverse, but the most popular ones are class-based, meaning that objects are instances of classes, which also determine their types.\n",
    "\n",
    "\n",
    "> In general, OOP tends to be more clear than procedural script. Objects have clearly defined, properties and methods -> what they are, what data they hold, what can they do with them \n",
    "\n",
    "\n",
    ">  If done right, you save lots of typing, less or no copypasting of code ->  DRY principle - Do not repeat yourself (easier debugging and devel potentially)\n",
    "\n",
    "* the traditional (at least for us) programming paradigm is called **procedural** (Fortran, C, MATLAB, etc.)\n",
    "    * Your program goes line by line, variables are changing\n",
    "    * we have data (variables) in different states\n",
    "    \n",
    "    * we call functions on these data\n",
    "    \n",
    "    \n",
    "* in OOP *data* and *functions* (methods) are “bundled together” into **objects**\n",
    "* OOP supported in many languages:\n",
    "    * R is more procedural with some (rather atypical) OOP blend\n",
    "    * JAVA and Ruby are pure OOP\n",
    "    * Fortran and MATLAB are mainly procedural (recently OOP tacked on)\n",
    "    * C is procedural, C++ is C with OOP added on to\n",
    "<br />\n",
    "<br />\n",
    "* Python is a blends object oriented and procedural styles, rather than OOP only\n",
    "    * most of the times (especially for small programs) you can use procedural programming\n",
    "    \n",
    " \n",
    "* Useful when working on problems where there is some common structure in it\n",
    "    * a statistical model consists of coefficients, data, derived metrics, etc.\n",
    "    * a game consists of a list of players, lists of actions available to each player, player payoffs as functions of all players’ actions, and a timing protocol\n",
    "    * a market consists of buyers, sellers and intermediaries - they run transactions,those can have same properties (log buy-side, log sell-side is likely same code. Why copy-paste it)\n",
    "    \n",
    "* abstractions that collect together “objects” of the same “type”\n",
    "    * recognizing common structure allows us to employ common tools\n",
    "    * For instance class Model can have method Fit. It can be OLS, GLS, .. each would have the same signature,they would only have different insides (fitting algorithm) \n",
    "\n",
    "\n",
    "\n",
    "* OOP paradigm should be implemented using these steps\n",
    "    * OOA (analysis), OOD (design) and OOP\n",
    "        * ideally separated, in reality overlapping and repeating \n",
    "        \n",
    "* to represent OOP structure, use [Unified Modeling Language (UML)](https://www.uml-diagrams.org/index-examples.html)\n",
    "    * easy-to-draw and easy-to-read\n",
    "    * most of the things are optional (only specify as much information in a diagram as makes sense for the current situation\n",
    "    * con: UML diagrams are going to be redundant before they're implemented \n",
    "        * the most important person you will ever have to communicate with is yourself (why did I do design decision?)\n",
    "\n",
    "\n",
    "## Objects\n",
    "* an object is a collection of data and instructions held in computer memory that consists of:\n",
    "    * a type\n",
    "    * an unique identity\n",
    "    * data (content)\n",
    "    * methods\n",
    "    \n",
    "    * in Python, everything is an object - in the sense that it can be assigned to a variable or passed as an argument to a function\n",
    "    * Everything in Python is an object, and almost everything has attributes and methods. All functions have a built-in attribute __doc__, which returns the doc string defined in the function's source code. The sys module is an object which has (among other things) an attribute called path. And so forth.\n",
    "<img src=\"https://qph.fs.quoracdn.net/main-qimg-fabec043cb6f94bd90a3d1bd3ebccdc5.webp\" >    \n",
    "    \n",
    "### Type\n",
    "* different types of objects, to accommodate different categories of data"
   ]
  },
  {
   "cell_type": "code",
   "execution_count": 1,
   "metadata": {},
   "outputs": [
    {
     "data": {
      "text/plain": [
       "str"
      ]
     },
     "execution_count": 1,
     "metadata": {},
     "output_type": "execute_result"
    }
   ],
   "source": [
    "s = 'A string'\n",
    "type(s)"
   ]
  },
  {
   "cell_type": "code",
   "execution_count": 2,
   "metadata": {},
   "outputs": [
    {
     "data": {
      "text/plain": [
       "['__add__',\n",
       " '__class__',\n",
       " '__contains__',\n",
       " '__delattr__',\n",
       " '__dir__',\n",
       " '__doc__',\n",
       " '__eq__',\n",
       " '__format__',\n",
       " '__ge__',\n",
       " '__getattribute__',\n",
       " '__getitem__',\n",
       " '__getnewargs__',\n",
       " '__gt__',\n",
       " '__hash__',\n",
       " '__init__',\n",
       " '__init_subclass__',\n",
       " '__iter__',\n",
       " '__le__',\n",
       " '__len__',\n",
       " '__lt__',\n",
       " '__mod__',\n",
       " '__mul__',\n",
       " '__ne__',\n",
       " '__new__',\n",
       " '__reduce__',\n",
       " '__reduce_ex__',\n",
       " '__repr__',\n",
       " '__rmod__',\n",
       " '__rmul__',\n",
       " '__setattr__',\n",
       " '__sizeof__',\n",
       " '__str__',\n",
       " '__subclasshook__',\n",
       " 'capitalize',\n",
       " 'casefold',\n",
       " 'center',\n",
       " 'count',\n",
       " 'encode',\n",
       " 'endswith',\n",
       " 'expandtabs',\n",
       " 'find',\n",
       " 'format',\n",
       " 'format_map',\n",
       " 'index',\n",
       " 'isalnum',\n",
       " 'isalpha',\n",
       " 'isascii',\n",
       " 'isdecimal',\n",
       " 'isdigit',\n",
       " 'isidentifier',\n",
       " 'islower',\n",
       " 'isnumeric',\n",
       " 'isprintable',\n",
       " 'isspace',\n",
       " 'istitle',\n",
       " 'isupper',\n",
       " 'join',\n",
       " 'ljust',\n",
       " 'lower',\n",
       " 'lstrip',\n",
       " 'maketrans',\n",
       " 'partition',\n",
       " 'replace',\n",
       " 'rfind',\n",
       " 'rindex',\n",
       " 'rjust',\n",
       " 'rpartition',\n",
       " 'rsplit',\n",
       " 'rstrip',\n",
       " 'split',\n",
       " 'splitlines',\n",
       " 'startswith',\n",
       " 'strip',\n",
       " 'swapcase',\n",
       " 'title',\n",
       " 'translate',\n",
       " 'upper',\n",
       " 'zfill']"
      ]
     },
     "execution_count": 2,
     "metadata": {},
     "output_type": "execute_result"
    }
   ],
   "source": [
    "#methods\n",
    "dir(s)"
   ]
  },
  {
   "cell_type": "code",
   "execution_count": 3,
   "metadata": {},
   "outputs": [
    {
     "data": {
      "text/plain": [
       "int"
      ]
     },
     "execution_count": 3,
     "metadata": {},
     "output_type": "execute_result"
    }
   ],
   "source": [
    "x = 42 \n",
    "type(x)"
   ]
  },
  {
   "cell_type": "code",
   "execution_count": 4,
   "metadata": {},
   "outputs": [
    {
     "data": {
      "text/plain": [
       "module"
      ]
     },
     "execution_count": 4,
     "metadata": {},
     "output_type": "execute_result"
    }
   ],
   "source": [
    "import numpy as np\n",
    "type(np)"
   ]
  },
  {
   "cell_type": "markdown",
   "metadata": {},
   "source": [
    "* the type of an object matters for many expressions, e.g.\n",
    "    * the addition operator between two strings = concatenation\n",
    "    * vs. the addition between two integers or floats"
   ]
  },
  {
   "cell_type": "code",
   "execution_count": 5,
   "metadata": {},
   "outputs": [
    {
     "data": {
      "text/plain": [
       "'100cc'"
      ]
     },
     "execution_count": 5,
     "metadata": {},
     "output_type": "execute_result"
    }
   ],
   "source": [
    "'100' + 'cc'"
   ]
  },
  {
   "cell_type": "code",
   "execution_count": 6,
   "metadata": {},
   "outputs": [
    {
     "data": {
      "text/plain": [
       "447"
      ]
     },
     "execution_count": 6,
     "metadata": {},
     "output_type": "execute_result"
    }
   ],
   "source": [
    "100 + 347\n",
    "\n",
    "# clearly we running the same operation on different objects\n",
    "# is it something you would expect?"
   ]
  },
  {
   "cell_type": "code",
   "execution_count": 7,
   "metadata": {},
   "outputs": [
    {
     "ename": "TypeError",
     "evalue": "can only concatenate str (not \"int\") to str",
     "output_type": "error",
     "traceback": [
      "\u001b[1;31m---------------------------------------------------------------------------\u001b[0m",
      "\u001b[1;31mTypeError\u001b[0m                                 Traceback (most recent call last)",
      "\u001b[1;32m<ipython-input-7-91d74904b6f6>\u001b[0m in \u001b[0;36m<module>\u001b[1;34m\u001b[0m\n\u001b[0;32m      1\u001b[0m \u001b[1;31m# mixing types, not clear what to do\u001b[0m\u001b[1;33m\u001b[0m\u001b[1;33m\u001b[0m\u001b[1;33m\u001b[0m\u001b[0m\n\u001b[1;32m----> 2\u001b[1;33m \u001b[1;34m'100'\u001b[0m \u001b[1;33m+\u001b[0m \u001b[1;36m347\u001b[0m\u001b[1;33m\u001b[0m\u001b[1;33m\u001b[0m\u001b[0m\n\u001b[0m",
      "\u001b[1;31mTypeError\u001b[0m: can only concatenate str (not \"int\") to str"
     ]
    }
   ],
   "source": [
    "# mixing types, not clear what to do\n",
    "'100' + 347"
   ]
  },
  {
   "cell_type": "code",
   "execution_count": 12,
   "metadata": {},
   "outputs": [
    {
     "name": "stdout",
     "output_type": "stream",
     "text": [
      "thats it, go recap!\n"
     ]
    }
   ],
   "source": [
    "#quick practice:\n",
    "\n",
    "# mixing types, not clear what to do\n",
    "\n",
    "try:\n",
    "    a = [12,3]\n",
    "    #1/0\n",
    "    #a[3]\n",
    "    #'100' + 347\n",
    "except TypeError:\n",
    "    print('did something stupid')\n",
    "except ZeroDivisionError:\n",
    "    print('do not divide by zero')\n",
    "except Exception as e:\n",
    "    print(f'other error {e}')\n",
    "finally:\n",
    "    #always run at the end of try-except block\n",
    "    print('thats it, go recap!')"
   ]
  },
  {
   "cell_type": "markdown",
   "metadata": {},
   "source": [
    "* here we are mixing types, and it’s unclear to Python whether the user wants to\n",
    "  * convert '100' to an integer and then add it to 400, or\n",
    "  * convert 347 to string and then concatenate it with '300'\n",
    "* to avoid the error, you need to clarify by changing the relevant type"
   ]
  },
  {
   "cell_type": "code",
   "execution_count": null,
   "metadata": {},
   "outputs": [],
   "source": [
    "int('100') + 347  # To add as numbers, change the string to an integer"
   ]
  },
  {
   "cell_type": "code",
   "execution_count": null,
   "metadata": {},
   "outputs": [],
   "source": [
    "a = 1\n",
    "b = 2"
   ]
  },
  {
   "cell_type": "markdown",
   "metadata": {},
   "source": [
    "### Identity\n",
    "* each object has a unique identifier, which helps Python (and us) keep track of the object\n",
    "* the identity of an object can be obtained via the `id()` function"
   ]
  },
  {
   "cell_type": "code",
   "execution_count": 13,
   "metadata": {},
   "outputs": [
    {
     "name": "stdout",
     "output_type": "stream",
     "text": [
      "1980863490592\n"
     ]
    },
    {
     "data": {
      "text/plain": [
       "1980863490328"
      ]
     },
     "execution_count": 13,
     "metadata": {},
     "output_type": "execute_result"
    }
   ],
   "source": [
    "y = 2.5\n",
    "z = 2.5\n",
    "print(id(y))\n",
    "id(z) #those can be quite different on Windows - it is a reference to memory "
   ]
  },
  {
   "cell_type": "code",
   "execution_count": 14,
   "metadata": {},
   "outputs": [
    {
     "data": {
      "text/plain": [
       "True"
      ]
     },
     "execution_count": 14,
     "metadata": {},
     "output_type": "execute_result"
    }
   ],
   "source": [
    "callable(np.array)"
   ]
  },
  {
   "cell_type": "markdown",
   "metadata": {},
   "source": [
    "* y and z happen to have the same value, but they are not the same object\n",
    "    * the identity of an object is just the address of the object in memory"
   ]
  },
  {
   "cell_type": "markdown",
   "metadata": {},
   "source": [
    "### Data and Attributes\n",
    "* if we set `x = 42` then we create an object of type int that contains the data 42\n",
    "    * however, it contains much more:"
   ]
  },
  {
   "cell_type": "code",
   "execution_count": 15,
   "metadata": {},
   "outputs": [
    {
     "data": {
      "text/plain": [
       "42"
      ]
     },
     "execution_count": 15,
     "metadata": {},
     "output_type": "execute_result"
    }
   ],
   "source": [
    "x = 42\n",
    "x"
   ]
  },
  {
   "cell_type": "code",
   "execution_count": 16,
   "metadata": {},
   "outputs": [
    {
     "data": {
      "text/plain": [
       "['__abs__',\n",
       " '__add__',\n",
       " '__and__',\n",
       " '__bool__',\n",
       " '__ceil__',\n",
       " '__class__',\n",
       " '__delattr__',\n",
       " '__dir__',\n",
       " '__divmod__',\n",
       " '__doc__',\n",
       " '__eq__',\n",
       " '__float__',\n",
       " '__floor__',\n",
       " '__floordiv__',\n",
       " '__format__',\n",
       " '__ge__',\n",
       " '__getattribute__',\n",
       " '__getnewargs__',\n",
       " '__gt__',\n",
       " '__hash__',\n",
       " '__index__',\n",
       " '__init__',\n",
       " '__init_subclass__',\n",
       " '__int__',\n",
       " '__invert__',\n",
       " '__le__',\n",
       " '__lshift__',\n",
       " '__lt__',\n",
       " '__mod__',\n",
       " '__mul__',\n",
       " '__ne__',\n",
       " '__neg__',\n",
       " '__new__',\n",
       " '__or__',\n",
       " '__pos__',\n",
       " '__pow__',\n",
       " '__radd__',\n",
       " '__rand__',\n",
       " '__rdivmod__',\n",
       " '__reduce__',\n",
       " '__reduce_ex__',\n",
       " '__repr__',\n",
       " '__rfloordiv__',\n",
       " '__rlshift__',\n",
       " '__rmod__',\n",
       " '__rmul__',\n",
       " '__ror__',\n",
       " '__round__',\n",
       " '__rpow__',\n",
       " '__rrshift__',\n",
       " '__rshift__',\n",
       " '__rsub__',\n",
       " '__rtruediv__',\n",
       " '__rxor__',\n",
       " '__setattr__',\n",
       " '__sizeof__',\n",
       " '__str__',\n",
       " '__sub__',\n",
       " '__subclasshook__',\n",
       " '__truediv__',\n",
       " '__trunc__',\n",
       " '__xor__',\n",
       " 'bit_length',\n",
       " 'conjugate',\n",
       " 'denominator',\n",
       " 'from_bytes',\n",
       " 'imag',\n",
       " 'numerator',\n",
       " 'real',\n",
       " 'to_bytes']"
      ]
     },
     "execution_count": 16,
     "metadata": {},
     "output_type": "execute_result"
    }
   ],
   "source": [
    "dir(x)"
   ]
  },
  {
   "cell_type": "code",
   "execution_count": null,
   "metadata": {},
   "outputs": [],
   "source": []
  },
  {
   "cell_type": "markdown",
   "metadata": {},
   "source": [
    "* when Python creates this integer object, it stores with it various auxiliary information, such as the imaginary part, and the type\n",
    "    * any name following a dot is called an attribute of the object to the left of the dot\n",
    "    * objects have attributes that contain auxillary information\n",
    "        * some attributes act like functions, these are called **methods**"
   ]
  },
  {
   "cell_type": "markdown",
   "metadata": {},
   "source": [
    "### Methods\n",
    "* functions that are bundled with objects\n",
    "* methods are attributes of objects that are callable (i.e., can be called as functions)\n",
    "* class methods differ from ordinary functions by the necessity to have an extra first name `self` (at the beginning of the parameter list)"
   ]
  },
  {
   "cell_type": "code",
   "execution_count": 17,
   "metadata": {},
   "outputs": [
    {
     "data": {
      "text/plain": [
       "\u001b[1;31mSignature:\u001b[0m \u001b[0mcallable\u001b[0m\u001b[1;33m(\u001b[0m\u001b[0mobj\u001b[0m\u001b[1;33m,\u001b[0m \u001b[1;33m/\u001b[0m\u001b[1;33m)\u001b[0m\u001b[1;33m\u001b[0m\u001b[1;33m\u001b[0m\u001b[0m\n",
       "\u001b[1;31mDocstring:\u001b[0m\n",
       "Return whether the object is callable (i.e., some kind of function).\n",
       "\n",
       "Note that classes are callable, as are instances of classes with a\n",
       "__call__() method.\n",
       "\u001b[1;31mType:\u001b[0m      builtin_function_or_method\n"
      ]
     },
     "metadata": {},
     "output_type": "display_data"
    }
   ],
   "source": [
    "?callable"
   ]
  },
  {
   "cell_type": "markdown",
   "metadata": {},
   "source": [
    "* e.g. Python list not only stroes data, but also knows how to append value to itself or sort itself\n",
    "    * `sort` and `append` are functions that are “part of” the list object — and hence called methods"
   ]
  },
  {
   "cell_type": "code",
   "execution_count": 18,
   "metadata": {},
   "outputs": [
    {
     "data": {
      "text/plain": [
       "True"
      ]
     },
     "execution_count": 18,
     "metadata": {},
     "output_type": "execute_result"
    }
   ],
   "source": [
    "x = ['foo', 'bar']\n",
    "callable(x.sort) #it is a function x.sort()"
   ]
  },
  {
   "cell_type": "code",
   "execution_count": 19,
   "metadata": {},
   "outputs": [
    {
     "data": {
      "text/plain": [
       "True"
      ]
     },
     "execution_count": 19,
     "metadata": {},
     "output_type": "execute_result"
    }
   ],
   "source": [
    "callable(x.append)"
   ]
  },
  {
   "cell_type": "code",
   "execution_count": 20,
   "metadata": {},
   "outputs": [
    {
     "data": {
      "text/plain": [
       "False"
      ]
     },
     "execution_count": 20,
     "metadata": {},
     "output_type": "execute_result"
    }
   ],
   "source": [
    "callable(x.append.__doc__) #doc is an attribute"
   ]
  },
  {
   "cell_type": "code",
   "execution_count": 21,
   "metadata": {},
   "outputs": [
    {
     "data": {
      "text/plain": [
       "'Append object to the end of the list.'"
      ]
     },
     "execution_count": 21,
     "metadata": {},
     "output_type": "execute_result"
    }
   ],
   "source": [
    "x.append.__doc__"
   ]
  },
  {
   "cell_type": "code",
   "execution_count": 23,
   "metadata": {},
   "outputs": [
    {
     "data": {
      "text/plain": [
       "'A STRING'"
      ]
     },
     "execution_count": 23,
     "metadata": {},
     "output_type": "execute_result"
    }
   ],
   "source": [
    "# Methods typically act on the data contained in the object they belong to, or combine that data with other data\n",
    "x = ['a', 'b']\n",
    "x.append('c')\n",
    "s = 'A string'\n",
    "s.upper()"
   ]
  },
  {
   "cell_type": "code",
   "execution_count": 24,
   "metadata": {},
   "outputs": [
    {
     "data": {
      "text/plain": [
       "'a string'"
      ]
     },
     "execution_count": 24,
     "metadata": {},
     "output_type": "execute_result"
    }
   ],
   "source": [
    "s.lower()"
   ]
  },
  {
   "cell_type": "markdown",
   "metadata": {},
   "source": [
    "* it doesn’t look like there are any methods used here, but in fact the square bracket assignment notation is just a convenient interface to a method call\n",
    "    * Python calls the __setitem__ method under the hood\n",
    "* if you wanted to you could modify the __setitem__ method, so that square bracket assignment does something totally different\n",
    "    * be nice though"
   ]
  },
  {
   "cell_type": "code",
   "execution_count": 25,
   "metadata": {},
   "outputs": [
    {
     "data": {
      "text/plain": [
       "['aa', 'b']"
      ]
     },
     "execution_count": 25,
     "metadata": {},
     "output_type": "execute_result"
    }
   ],
   "source": [
    "x = ['a', 'b']\n",
    "x[0]='aa'\n",
    "#x.__setitem__(0, 'aa')  # Equivalent to x[0] = 'aa'\n",
    "x\n",
    "# in other lanaguages you would not be able to do it - encapsulation principle"
   ]
  },
  {
   "cell_type": "code",
   "execution_count": 27,
   "metadata": {},
   "outputs": [
    {
     "data": {
      "text/plain": [
       "'Set self[key] to value.'"
      ]
     },
     "execution_count": 27,
     "metadata": {},
     "output_type": "execute_result"
    }
   ],
   "source": [
    "x.__setitem__.__doc__"
   ]
  },
  {
   "cell_type": "code",
   "execution_count": 26,
   "metadata": {},
   "outputs": [],
   "source": [
    "def foo(x):\n",
    "    \"\"\"I tell you what foo does\"\"\" #docstring\n",
    "    return x**2\n"
   ]
  },
  {
   "cell_type": "code",
   "execution_count": 28,
   "metadata": {},
   "outputs": [
    {
     "name": "stdout",
     "output_type": "stream",
     "text": [
      "[<class 'function'>, 1980883247856, 'foo', 'I tell you what foo does', 9]\n"
     ]
    }
   ],
   "source": [
    "print([type(foo),\n",
    "      id(foo),\n",
    "      foo.__name__,\n",
    "      foo.__doc__,\n",
    "      foo.__call__(3)]) #foo(3)"
   ]
  },
  {
   "cell_type": "code",
   "execution_count": 29,
   "metadata": {},
   "outputs": [],
   "source": [
    "np.array='nothing'"
   ]
  },
  {
   "cell_type": "code",
   "execution_count": 30,
   "metadata": {},
   "outputs": [
    {
     "ename": "TypeError",
     "evalue": "'str' object is not callable",
     "output_type": "error",
     "traceback": [
      "\u001b[1;31m---------------------------------------------------------------------------\u001b[0m",
      "\u001b[1;31mTypeError\u001b[0m                                 Traceback (most recent call last)",
      "\u001b[1;32m<ipython-input-30-d7e18981b5ae>\u001b[0m in \u001b[0;36m<module>\u001b[1;34m\u001b[0m\n\u001b[1;32m----> 1\u001b[1;33m \u001b[0mnp\u001b[0m\u001b[1;33m.\u001b[0m\u001b[0marray\u001b[0m\u001b[1;33m(\u001b[0m\u001b[1;33m[\u001b[0m\u001b[1;36m1\u001b[0m\u001b[1;33m,\u001b[0m\u001b[1;36m23\u001b[0m\u001b[1;33m]\u001b[0m\u001b[1;33m)\u001b[0m\u001b[1;33m\u001b[0m\u001b[1;33m\u001b[0m\u001b[0m\n\u001b[0m",
      "\u001b[1;31mTypeError\u001b[0m: 'str' object is not callable"
     ]
    }
   ],
   "source": [
    "np.array([1,23])"
   ]
  },
  {
   "cell_type": "code",
   "execution_count": null,
   "metadata": {},
   "outputs": [],
   "source": []
  },
  {
   "cell_type": "code",
   "execution_count": 31,
   "metadata": {},
   "outputs": [
    {
     "name": "stdout",
     "output_type": "stream",
     "text": [
      "4\n",
      "crazy world\n"
     ]
    }
   ],
   "source": [
    "#demonstration of 'everything is an object'\n",
    "\n",
    "a = foo #save function to variable\n",
    "print(a(2)) #call this variable, which is in fact a reference to a class/function and pass it attribute? \n",
    "\n",
    "a.tmp = 'crazy world' #assign attribute to a function\n",
    "print(a.tmp)"
   ]
  },
  {
   "cell_type": "markdown",
   "metadata": {},
   "source": [
    "<img src=\"https://media.makeameme.org/created/say-what-5c473a.jpg\" height=\"100px\">"
   ]
  },
  {
   "cell_type": "markdown",
   "metadata": {},
   "source": [
    "## Classes\n",
    "\n",
    "* **class**: a blueprint for building objects\n",
    "    * own types of objects $\\approx$ usage of class definitions\n",
    "* class describes:\n",
    "    * what kind of data the class stores\n",
    "    * what methods it has for acting on these data \n",
    "* takes a little while to get used to the syntax\n",
    "* Often you can outline what will be done with **abstract** classes\n",
    "* the simplest class"
   ]
  },
  {
   "cell_type": "code",
   "execution_count": 32,
   "metadata": {},
   "outputs": [
    {
     "name": "stdout",
     "output_type": "stream",
     "text": [
      "<__main__.Simplicity object at 0x000001CD35DAF080>\n"
     ]
    }
   ],
   "source": [
    "class Simplicity:\n",
    "    pass  # No code means no bad code\n",
    "\n",
    "s = Simplicity() #instantiation \n",
    "print(s)"
   ]
  },
  {
   "cell_type": "markdown",
   "metadata": {},
   "source": [
    "* an **object** or **instance** is a realization of the class, created from the blueprint\n",
    "    * each instance has its own unique data\n",
    "    * methods set out in the class definition act on this (and other) data\n",
    "\n",
    "* Attributes are accessed via “dotted attribute notation”\n",
    "    * `object_name.data`\n",
    "    * `object_name.method_name()"
   ]
  },
  {
   "cell_type": "code",
   "execution_count": 33,
   "metadata": {},
   "outputs": [],
   "source": [
    "# object\n",
    "x = [1, 5, 4]\n",
    "# method (attribute)\n",
    "x.sort()\n",
    "# another attribute \n",
    "x.__class__;"
   ]
  },
  {
   "cell_type": "markdown",
   "metadata": {},
   "source": [
    "* `x` is an object or instance, created from the definition for Python lists, but with its own particular data\n",
    "* `x.sort()` and `x.__class__` are two attributes of `x`\n",
    "* `dir(x)` can be used to view all the attributes of `x`"
   ]
  },
  {
   "cell_type": "code",
   "execution_count": 34,
   "metadata": {},
   "outputs": [],
   "source": [
    "dir(x);"
   ]
  },
  {
   "cell_type": "code",
   "execution_count": null,
   "metadata": {},
   "outputs": [],
   "source": []
  },
  {
   "cell_type": "code",
   "execution_count": 35,
   "metadata": {},
   "outputs": [],
   "source": [
    "class Student: \n",
    "    \n",
    "    # we call this the constructor\n",
    "    def __init__(self): #see the self keyword\n",
    "        self.status = None # placeholder\n",
    "        self.did_well = None\n",
    "        \n",
    "    def study(self):\n",
    "        self.status = 'Wise'\n",
    "        self.did_well = True\n",
    "     \n",
    "    def procrastinate(self):\n",
    "        self.status = 'Dumb'\n",
    "        self.did_well = False   \n",
    "\n",
    "    def show_status(self):\n",
    "        print(f\"I have become {self.status}.\")\n"
   ]
  },
  {
   "cell_type": "markdown",
   "metadata": {},
   "source": [
    "* convention: capitalize class names (to differentiate them from functions, which are lowercase by convention)\n",
    "\n",
    "* `__init__` is a *constructor method* \n",
    "    * provides a recipe for how to build an instance of a class\n",
    "    * whenewer we create an instance of the class, this method will be called automatically\n",
    "    * calling `__init__` sets up a \"namespace\" to hold the instance data\n",
    "* methods `study` and `procrastinate` act on the instance data `status`"
   ]
  },
  {
   "cell_type": "code",
   "execution_count": 39,
   "metadata": {},
   "outputs": [
    {
     "name": "stdout",
     "output_type": "stream",
     "text": [
      "<class '__main__.Student'>\n"
     ]
    }
   ],
   "source": [
    "s = Student()\n",
    "print(type(s))"
   ]
  },
  {
   "cell_type": "code",
   "execution_count": 40,
   "metadata": {},
   "outputs": [
    {
     "name": "stdout",
     "output_type": "stream",
     "text": [
      "I have become None.\n",
      "None\n"
     ]
    }
   ],
   "source": [
    "s.show_status()\n",
    "print(s.did_well)"
   ]
  },
  {
   "cell_type": "code",
   "execution_count": 41,
   "metadata": {},
   "outputs": [],
   "source": [
    "s.procrastinate()"
   ]
  },
  {
   "cell_type": "code",
   "execution_count": 42,
   "metadata": {},
   "outputs": [
    {
     "name": "stdout",
     "output_type": "stream",
     "text": [
      "I have become Dumb.\n"
     ]
    }
   ],
   "source": [
    "s.show_status()"
   ]
  },
  {
   "cell_type": "code",
   "execution_count": 43,
   "metadata": {},
   "outputs": [],
   "source": [
    "s.status = 'I do not know'"
   ]
  },
  {
   "cell_type": "code",
   "execution_count": 44,
   "metadata": {},
   "outputs": [],
   "source": [
    "s.study()"
   ]
  },
  {
   "cell_type": "code",
   "execution_count": 45,
   "metadata": {},
   "outputs": [
    {
     "name": "stdout",
     "output_type": "stream",
     "text": [
      "I have become Wise.\n"
     ]
    }
   ],
   "source": [
    "s.show_status()"
   ]
  },
  {
   "cell_type": "markdown",
   "metadata": {},
   "source": [
    "* `s` is just a one instance\n",
    "* we can create multiple students ofc"
   ]
  },
  {
   "cell_type": "code",
   "execution_count": 46,
   "metadata": {},
   "outputs": [
    {
     "name": "stdout",
     "output_type": "stream",
     "text": [
      "I have become UFO.\n",
      "I have become Dumb.\n"
     ]
    }
   ],
   "source": [
    "Vitek = Student()\n",
    "Vincent = Student()\n",
    "\n",
    "Vitek.study()\n",
    "Vincent.procrastinate()\n",
    "\n",
    "Vitek.status = 'UFO' #breaking encapsulation\n",
    "\n",
    "Vitek.show_status()\n",
    "Vincent.show_status()"
   ]
  },
  {
   "cell_type": "markdown",
   "metadata": {},
   "source": [
    "* an instance of a class can take on any name a we choose\n",
    "* link between the instance name and the class: `self`\n",
    "    * `self` as a variable whose sole job is to learn the name of a particular instance\n",
    "* any instance data should be prepended with `self`\n",
    "* any method defined within the class should have self as its first argument\n",
    "* any method referenced within the class should be called as self.method_name\n",
    "\n",
    "* each instance stores its data in a separate namespace dictionary"
   ]
  },
  {
   "cell_type": "code",
   "execution_count": 47,
   "metadata": {},
   "outputs": [
    {
     "data": {
      "text/plain": [
       "{'status': 'UFO', 'did_well': True}"
      ]
     },
     "execution_count": 47,
     "metadata": {},
     "output_type": "execute_result"
    }
   ],
   "source": [
    "Vitek.__dict__"
   ]
  },
  {
   "cell_type": "markdown",
   "metadata": {},
   "source": [
    "* following are equivalent"
   ]
  },
  {
   "cell_type": "code",
   "execution_count": 52,
   "metadata": {},
   "outputs": [
    {
     "name": "stdout",
     "output_type": "stream",
     "text": [
      "I have become Dumb.\n"
     ]
    }
   ],
   "source": [
    "s.procrastinate()\n",
    "s.show_status()"
   ]
  },
  {
   "cell_type": "code",
   "execution_count": 54,
   "metadata": {},
   "outputs": [
    {
     "name": "stdout",
     "output_type": "stream",
     "text": [
      "I have become Wise.\n"
     ]
    }
   ],
   "source": [
    "#slightly advanced\n",
    "# each instance has class methods\n",
    "\n",
    "Student.study(Vitek)\n",
    "Student.show_status(Vitek)"
   ]
  },
  {
   "cell_type": "code",
   "execution_count": 60,
   "metadata": {},
   "outputs": [],
   "source": [
    "#very OOP like inheritance\n",
    "\n",
    "#PythonStudent as a child of Student\n",
    "# parent -> child (parent) -> child\n",
    "\n",
    "class PythonStudent(Student): \n",
    "    # we call this the constructor\n",
    "    \n",
    "    def __init__(self, name): #see no we can pass attribute\n",
    "        self.name = name\n",
    "        self.subject = 'Python'\n",
    "        \n",
    "    #Overriding a method\n",
    "    def show_status(self):\n",
    "        print(f\"I have become {self.status} in {self.subject}\")\n"
   ]
  },
  {
   "cell_type": "code",
   "execution_count": 62,
   "metadata": {},
   "outputs": [
    {
     "name": "stdout",
     "output_type": "stream",
     "text": [
      "I have become Wise in Python\n"
     ]
    }
   ],
   "source": [
    "MH = PythonStudent(\"Martin\")\n",
    "MH.study() #did not declare any study method in PythonStudent - where did it come from?\n",
    "\n",
    "MH.show_status() # A different print"
   ]
  },
  {
   "cell_type": "code",
   "execution_count": 63,
   "metadata": {},
   "outputs": [],
   "source": [
    "\n",
    "class IESStudent(PythonStudent):\n",
    "    \"\"\"I am a student of IES and can enroll to courses and tell you what I do\"\"\"\n",
    "    def __init__(self, name):\n",
    "        self.subjects = []\n",
    "        super().__init__(name) #call super class the one I inherit from\n",
    "\n",
    "    # setters\n",
    "    def enroll_in_class(self, class_name):\n",
    "        self.subjects.append(class_name)\n",
    "\n",
    "    def what_do_I_study(self):\n",
    "        if len(self.subjects) > 1:\n",
    "            print(f\"I study {','.join(self.subjects[:-1])} and {self.subjects[-1]}\")\n",
    "        elif len(self.subjects) == 1:\n",
    "            print(f\"I study {self.subjects[0]}\")\n",
    "        else:\n",
    "            print('I do nothing.')\n",
    "    #getters\n",
    "    def get_subjects(self):\n",
    "        return self.subjects"
   ]
  },
  {
   "cell_type": "code",
   "execution_count": 65,
   "metadata": {},
   "outputs": [
    {
     "name": "stdout",
     "output_type": "stream",
     "text": [
      "I study Python,AdvEcox and DS in R\n",
      "I have become Dumb in Python\n"
     ]
    }
   ],
   "source": [
    "stud = IESStudent('Eva')\n",
    "#stud.what_do_I_study()\n",
    "\n",
    "stud.enroll_in_class('Python')\n",
    "#stud.what_do_I_study()\n",
    "\n",
    "stud.enroll_in_class('AdvEcox')\n",
    "\n",
    "\n",
    "stud.enroll_in_class('DS in R')\n",
    "stud.what_do_I_study()\n",
    "\n",
    "stud.procrastinate()\n",
    "stud.show_status()\n"
   ]
  },
  {
   "cell_type": "code",
   "execution_count": null,
   "metadata": {},
   "outputs": [],
   "source": []
  },
  {
   "cell_type": "markdown",
   "metadata": {},
   "source": [
    "### Example of moving from procedural to OOP\n",
    "* usually we start with simple built-in data structures\n",
    "    * storing data in a few variables\n",
    "* with expanding program size we see that we are **passing the same set of related variables to different functions**\n",
    "    * time to think about grouping variables and functions into a class\n",
    "    \n",
    "**Example**\n",
    "* let's think about modelling polygons in 2D space\n",
    "* each polygon represented as a list of points\n",
    "* each point represented as a tuple (x,y), where x and y are coordinates"
   ]
  },
  {
   "cell_type": "code",
   "execution_count": 67,
   "metadata": {},
   "outputs": [],
   "source": [
    "square = [(1,1), (1,2), (2,2), (2,1)]"
   ]
  },
  {
   "cell_type": "markdown",
   "metadata": {},
   "source": [
    "* to calculate the perimeter, we need to calculate the [distance](https://en.wikipedia.org/wiki/Euclidean_distance) between two points"
   ]
  },
  {
   "cell_type": "code",
   "execution_count": 70,
   "metadata": {},
   "outputs": [],
   "source": [
    "import math\n",
    "\n",
    "def distance(p1, p2):\n",
    "    dist = math.sqrt(\n",
    "        (p1[0]-p2[0])**2 + (p1[1]-p2[1])**2\n",
    "        )\n",
    "    return dist\n",
    "\n",
    "def perimeter(polygon):\n",
    "    perimeter = 0\n",
    "    points = polygon + [polygon[0]]   \n",
    "    for i in range(len(polygon)):\n",
    "        perimeter += distance(points[i], points[i+1])\n",
    "    return perimeter"
   ]
  },
  {
   "cell_type": "code",
   "execution_count": 71,
   "metadata": {},
   "outputs": [
    {
     "data": {
      "text/plain": [
       "4.0"
      ]
     },
     "execution_count": 71,
     "metadata": {},
     "output_type": "execute_result"
    }
   ],
   "source": [
    "distance((1,1), (1,5))"
   ]
  },
  {
   "cell_type": "code",
   "execution_count": 72,
   "metadata": {},
   "outputs": [
    {
     "data": {
      "text/plain": [
       "4.0"
      ]
     },
     "execution_count": 72,
     "metadata": {},
     "output_type": "execute_result"
    }
   ],
   "source": [
    "perimeter(square)"
   ]
  },
  {
   "cell_type": "markdown",
   "metadata": {},
   "source": [
    "* thinking in an object-oriented way, we see that\n",
    "    * polygon class could encapsulate the list of points (data) and the perimeter function (behaviour)\n",
    "        * polygon is built of points. Polygon does not need to know the perimeter function. IT needs to know its points, as long as they can handle their arithmetic\n",
    "    * point class could encapsulate the coordinates (x,y) and the distance method\n",
    "    "
   ]
  },
  {
   "cell_type": "code",
   "execution_count": 73,
   "metadata": {},
   "outputs": [],
   "source": [
    "class Point:\n",
    "    \n",
    "    def __init__(self, x, y):\n",
    "        self.x = x\n",
    "        self.y = y\n",
    "\n",
    "    def distance(self, p2):\n",
    "        return math.sqrt((self.x-p2.x)**2 + (self.y-p2.y)**2)\n",
    "\n",
    "class Polygon:\n",
    "    \n",
    "    def __init__(self):\n",
    "        self.vertices = [] \n",
    "        \n",
    "    def add_point(self, point):\n",
    "        assert isinstance(point, Point), \"You need to add object of class Point\"\n",
    "        self.vertices.append(point)\n",
    "\n",
    "    def perimeter(self):\n",
    "        perimeter = 0\n",
    "        # add \"first\" point to the list of points defining polygon\n",
    "        points = self.vertices + [self.vertices[0]]    \n",
    "        for i in range(len(self.vertices)):\n",
    "            perimeter += points[i].distance(points[i+1])\n",
    "        return perimeter"
   ]
  },
  {
   "cell_type": "code",
   "execution_count": 74,
   "metadata": {},
   "outputs": [
    {
     "data": {
      "text/plain": [
       "'Return whether an object is an instance of a class or of a subclass thereof.\\n\\nA tuple, as in ``isinstance(x, (A, B, ...))``, may be given as the target to\\ncheck against. This is equivalent to ``isinstance(x, A) or isinstance(x, B)\\nor ...`` etc.'"
      ]
     },
     "execution_count": 74,
     "metadata": {},
     "output_type": "execute_result"
    }
   ],
   "source": [
    "isinstance.__doc__"
   ]
  },
  {
   "cell_type": "code",
   "execution_count": 76,
   "metadata": {},
   "outputs": [],
   "source": [
    "pol1 = Polygon()\n"
   ]
  },
  {
   "cell_type": "code",
   "execution_count": 77,
   "metadata": {},
   "outputs": [
    {
     "ename": "AssertionError",
     "evalue": "You need to add object of class Point",
     "output_type": "error",
     "traceback": [
      "\u001b[1;31m---------------------------------------------------------------------------\u001b[0m",
      "\u001b[1;31mAssertionError\u001b[0m                            Traceback (most recent call last)",
      "\u001b[1;32m<ipython-input-77-a027544aff5d>\u001b[0m in \u001b[0;36m<module>\u001b[1;34m\u001b[0m\n\u001b[1;32m----> 1\u001b[1;33m \u001b[0mpol1\u001b[0m\u001b[1;33m.\u001b[0m\u001b[0madd_point\u001b[0m\u001b[1;33m(\u001b[0m\u001b[1;36m1\u001b[0m\u001b[1;33m)\u001b[0m\u001b[1;33m\u001b[0m\u001b[1;33m\u001b[0m\u001b[0m\n\u001b[0m",
      "\u001b[1;32m<ipython-input-73-96765c9df676>\u001b[0m in \u001b[0;36madd_point\u001b[1;34m(self, point)\u001b[0m\n\u001b[0;32m     14\u001b[0m \u001b[1;33m\u001b[0m\u001b[0m\n\u001b[0;32m     15\u001b[0m     \u001b[1;32mdef\u001b[0m \u001b[0madd_point\u001b[0m\u001b[1;33m(\u001b[0m\u001b[0mself\u001b[0m\u001b[1;33m,\u001b[0m \u001b[0mpoint\u001b[0m\u001b[1;33m)\u001b[0m\u001b[1;33m:\u001b[0m\u001b[1;33m\u001b[0m\u001b[1;33m\u001b[0m\u001b[0m\n\u001b[1;32m---> 16\u001b[1;33m         \u001b[1;32massert\u001b[0m \u001b[0misinstance\u001b[0m\u001b[1;33m(\u001b[0m\u001b[0mpoint\u001b[0m\u001b[1;33m,\u001b[0m \u001b[0mPoint\u001b[0m\u001b[1;33m)\u001b[0m\u001b[1;33m,\u001b[0m \u001b[1;34m\"You need to add object of class Point\"\u001b[0m\u001b[1;33m\u001b[0m\u001b[1;33m\u001b[0m\u001b[0m\n\u001b[0m\u001b[0;32m     17\u001b[0m         \u001b[0mself\u001b[0m\u001b[1;33m.\u001b[0m\u001b[0mvertices\u001b[0m\u001b[1;33m.\u001b[0m\u001b[0mappend\u001b[0m\u001b[1;33m(\u001b[0m\u001b[0mpoint\u001b[0m\u001b[1;33m)\u001b[0m\u001b[1;33m\u001b[0m\u001b[1;33m\u001b[0m\u001b[0m\n\u001b[0;32m     18\u001b[0m \u001b[1;33m\u001b[0m\u001b[0m\n",
      "\u001b[1;31mAssertionError\u001b[0m: You need to add object of class Point"
     ]
    }
   ],
   "source": [
    "pol1.add_point(1)"
   ]
  },
  {
   "cell_type": "code",
   "execution_count": 79,
   "metadata": {},
   "outputs": [
    {
     "data": {
      "text/plain": [
       "4.0"
      ]
     },
     "execution_count": 79,
     "metadata": {},
     "output_type": "execute_result"
    }
   ],
   "source": [
    "# example of usage\n",
    "pol1 = Polygon()\n",
    "#list comprehension\n",
    "_ = [pol1.add_point(Point(x[0], x[1])) for x in square] #iterate and create new points\n",
    "\n",
    "pol1.perimeter()"
   ]
  },
  {
   "cell_type": "code",
   "execution_count": 80,
   "metadata": {},
   "outputs": [
    {
     "data": {
      "text/plain": [
       "4.0"
      ]
     },
     "execution_count": 80,
     "metadata": {},
     "output_type": "execute_result"
    }
   ],
   "source": [
    "# compare with the previous case\n",
    "sq = [(1,1), (1,2), (2,2), (2,1)]\n",
    "perimeter(sq)"
   ]
  },
  {
   "cell_type": "markdown",
   "metadata": {},
   "source": [
    "* 2 lines of code vs. 6 ... what is this OOP nonsense?\n",
    "    * code length is really not a good indicator of code complexity\n",
    "    \n",
    "* OOP is easier to read compared to the procedural code above\n",
    "    * how do we know what the list of tuples is supposed to represent\n",
    "    * what should we pass into the perimeter function? list of tuples?\n",
    "    * possible, but plenty of documentation necessary (might be much longer than the code itself)\n",
    "    * OOP is much clearer when working in **teams**\n",
    "    \n",
    "* OOP pretty self-documenting\n",
    "    * list of methods and parameters to see what the object does\n",
    "* if you are still not convinced, since our OOP case is too long, let's add some functionality to this class"
   ]
  },
  {
   "cell_type": "code",
   "execution_count": 81,
   "metadata": {},
   "outputs": [],
   "source": [
    "class Point:\n",
    "    \n",
    "    def __init__(self, x, y):\n",
    "        self.x = x\n",
    "        self.y = y\n",
    "\n",
    "    def distance(self, p2):\n",
    "        return math.sqrt((self.x-p2.x)**2 + (self.y-p2.y)**2)\n",
    "\n",
    "class Polygon:\n",
    "    \n",
    "    def __init__(self, points = []):\n",
    "        self.vertices = []\n",
    "        for point in points:\n",
    "            if isinstance(point, tuple):\n",
    "                point = Point(x = point[0], y = point[1])\n",
    "                self.add_point(point)\n",
    "        \n",
    "    def add_point(self, point):\n",
    "        self.vertices.append((point))\n",
    "\n",
    "    def perimeter(self):\n",
    "        perimeter = 0\n",
    "        \n",
    "        # add \"first\" point to the list of points defining polygon\n",
    "        points = self.vertices + [self.vertices[0]]    \n",
    "        for i in range(len(self.vertices)):\n",
    "            perimeter += points[i].distance(points[i+1])\n",
    "        return perimeter"
   ]
  },
  {
   "cell_type": "code",
   "execution_count": 82,
   "metadata": {},
   "outputs": [
    {
     "data": {
      "text/plain": [
       "4.0"
      ]
     },
     "execution_count": 82,
     "metadata": {},
     "output_type": "execute_result"
    }
   ],
   "source": [
    "square = Polygon(points = [(1,1), (1,2), (2,2), (2,1)])\n",
    "square.perimeter()"
   ]
  },
  {
   "cell_type": "markdown",
   "metadata": {},
   "source": [
    "Let's move to something little bit more interesting ... \n",
    "\n",
    "## OOP and OLS model\n",
    "\n",
    "* we'll build a class called LinearRegression\n",
    "    "
   ]
  },
  {
   "cell_type": "code",
   "execution_count": 4,
   "metadata": {},
   "outputs": [],
   "source": [
    "class LinearRegression:    \n",
    "    def __init__(self, fit_intercept = True):\n",
    "        # define instance data coef, intercept and _fit_intercept\n",
    "        self.coef_ = None # placeholder \n",
    "        self.intercept_ = None # placeholder  \n",
    "        self._fit_intercept = fit_intercept"
   ]
  },
  {
   "cell_type": "code",
   "execution_count": 5,
   "metadata": {},
   "outputs": [
    {
     "data": {
      "text/plain": [
       "\u001b[1;31mInit signature:\u001b[0m \u001b[0mLinearRegression\u001b[0m\u001b[1;33m(\u001b[0m\u001b[0mfit_intercept\u001b[0m\u001b[1;33m=\u001b[0m\u001b[1;32mTrue\u001b[0m\u001b[1;33m)\u001b[0m\u001b[1;33m\u001b[0m\u001b[1;33m\u001b[0m\u001b[0m\n",
       "\u001b[1;31mDocstring:\u001b[0m      <no docstring>\n",
       "\u001b[1;31mType:\u001b[0m           type\n",
       "\u001b[1;31mSubclasses:\u001b[0m     \n"
      ]
     },
     "metadata": {},
     "output_type": "display_data"
    }
   ],
   "source": [
    "?LinearRegression"
   ]
  },
  {
   "cell_type": "code",
   "execution_count": 6,
   "metadata": {},
   "outputs": [],
   "source": [
    "# lr and alr are (or will be) unique models\n",
    "lr = LinearRegression()\n",
    "alr = LinearRegression()"
   ]
  },
  {
   "cell_type": "code",
   "execution_count": 7,
   "metadata": {},
   "outputs": [],
   "source": [
    "import numpy as np\n",
    "\n",
    "class LinearRegression:\n",
    "    \n",
    "    def __init__(self, fit_intercept = True):\n",
    "        self.coef_ = None # placeholder \n",
    "        self.intercept_ = None # placeholder  \n",
    "        self._fit_intercept = fit_intercept\n",
    "        self.predictions = None\n",
    "    \n",
    "    def fit(self, X, y):\n",
    "        \"\"\"\n",
    "        Obtain coefficients using closed form solution.\n",
    "\n",
    "        Arguments:\n",
    "        X: 1D or 2D numpy array (cols are independent variables)\n",
    "        y: 1D numpy array (dependent variable)\n",
    "        \"\"\"\n",
    "        \n",
    "        # check if X is 1D or 2D array\n",
    "        if len(X.shape) == 1:\n",
    "            X = X.reshape(-1,1)\n",
    "            \n",
    "        # add bias if fit_intercept is True\n",
    "        if self._fit_intercept:\n",
    "            X = np.c_[np.ones(X.shape[0]), X]\n",
    "        \n",
    "        # closed form solution\n",
    "        xTx = np.dot(X.T, X)\n",
    "        inverse_xTx = np.linalg.inv(xTx)\n",
    "        xTy = np.dot(X.T, y)\n",
    "        coef = np.dot(inverse_xTx, xTy)\n",
    "        \n",
    "        # set attributes\n",
    "        if self._fit_intercept:\n",
    "            self.intercept_ = coef[0]\n",
    "            self.coef_ = coef[1:]\n",
    "        else:\n",
    "            self.intercept_ = 0\n",
    "            self.coef_ = coef\n",
    "    \n",
    "    def predict(self, X):\n",
    "            \n",
    "        \"\"\"\n",
    "        Model prediction given the data matrix.\n",
    "\n",
    "        Arguments:\n",
    "        X: 1D or 2D numpy array \n",
    "        \"\"\"\n",
    "\n",
    "        # check if X is 1D or 2D array\n",
    "        if len(X.shape) == 1:\n",
    "            X = X.reshape(-1,1) \n",
    "        self.predictions =  self.intercept_ + np.dot(X, self.coef_)\n",
    "        return self.predictions"
   ]
  },
  {
   "cell_type": "code",
   "execution_count": 8,
   "metadata": {},
   "outputs": [],
   "source": [
    "%matplotlib inline\n",
    "import matplotlib.pyplot as plt"
   ]
  },
  {
   "cell_type": "code",
   "execution_count": 9,
   "metadata": {},
   "outputs": [],
   "source": [
    "n = 100\n",
    "X = np.linspace(1,10,n)\n",
    "y = 0.35 * X + np.random.normal(0,1,n)\n",
    "\n",
    "#Q: how can I ensure we all get the same values?"
   ]
  },
  {
   "cell_type": "code",
   "execution_count": 10,
   "metadata": {},
   "outputs": [
    {
     "data": {
      "image/png": "[encoded data removed]",
      "text/plain": [
       "<Figure size 432x288 with 1 Axes>"
      ]
     },
     "metadata": {
      "needs_background": "light"
     },
     "output_type": "display_data"
    }
   ],
   "source": [
    "plt.scatter(X,y)\n",
    "plt.grid()\n",
    "plt.xlabel('X')\n",
    "plt.ylabel('y');"
   ]
  },
  {
   "cell_type": "code",
   "execution_count": 11,
   "metadata": {},
   "outputs": [],
   "source": [
    "# see how it works\n",
    "lr = LinearRegression()\n",
    "lr.fit(X, y)"
   ]
  },
  {
   "cell_type": "code",
   "execution_count": 12,
   "metadata": {},
   "outputs": [
    {
     "data": {
      "image/png": "[encoded data removed]",
      "text/plain": [
       "<Figure size 432x288 with 1 Axes>"
      ]
     },
     "metadata": {
      "needs_background": "light"
     },
     "output_type": "display_data"
    }
   ],
   "source": [
    "plt.scatter(X,y)\n",
    "plt.plot(X,lr.predict(X))\n",
    "plt.grid()\n",
    "plt.xlabel('X')\n",
    "plt.ylabel('y');"
   ]
  },
  {
   "cell_type": "code",
   "execution_count": 13,
   "metadata": {},
   "outputs": [
    {
     "data": {
      "text/plain": [
       "{'coef_': array([0.40485279]),\n",
       " 'intercept_': -0.44144945931173574,\n",
       " '_fit_intercept': True,\n",
       " 'predictions': array([-3.65966714e-02,  2.08127531e-04,  3.70129264e-02,  7.38177253e-02,\n",
       "         1.10622524e-01,  1.47427323e-01,  1.84232122e-01,  2.21036921e-01,\n",
       "         2.57841720e-01,  2.94646519e-01,  3.31451318e-01,  3.68256117e-01,\n",
       "         4.05060915e-01,  4.41865714e-01,  4.78670513e-01,  5.15475312e-01,\n",
       "         5.52280111e-01,  5.89084910e-01,  6.25889709e-01,  6.62694508e-01,\n",
       "         6.99499307e-01,  7.36304106e-01,  7.73108905e-01,  8.09913703e-01,\n",
       "         8.46718502e-01,  8.83523301e-01,  9.20328100e-01,  9.57132899e-01,\n",
       "         9.93937698e-01,  1.03074250e+00,  1.06754730e+00,  1.10435209e+00,\n",
       "         1.14115689e+00,  1.17796169e+00,  1.21476649e+00,  1.25157129e+00,\n",
       "         1.28837609e+00,  1.32518089e+00,  1.36198569e+00,  1.39879049e+00,\n",
       "         1.43559528e+00,  1.47240008e+00,  1.50920488e+00,  1.54600968e+00,\n",
       "         1.58281448e+00,  1.61961928e+00,  1.65642408e+00,  1.69322888e+00,\n",
       "         1.73003368e+00,  1.76683847e+00,  1.80364327e+00,  1.84044807e+00,\n",
       "         1.87725287e+00,  1.91405767e+00,  1.95086247e+00,  1.98766727e+00,\n",
       "         2.02447207e+00,  2.06127687e+00,  2.09808167e+00,  2.13488646e+00,\n",
       "         2.17169126e+00,  2.20849606e+00,  2.24530086e+00,  2.28210566e+00,\n",
       "         2.31891046e+00,  2.35571526e+00,  2.39252006e+00,  2.42932486e+00,\n",
       "         2.46612965e+00,  2.50293445e+00,  2.53973925e+00,  2.57654405e+00,\n",
       "         2.61334885e+00,  2.65015365e+00,  2.68695845e+00,  2.72376325e+00,\n",
       "         2.76056805e+00,  2.79737284e+00,  2.83417764e+00,  2.87098244e+00,\n",
       "         2.90778724e+00,  2.94459204e+00,  2.98139684e+00,  3.01820164e+00,\n",
       "         3.05500644e+00,  3.09181124e+00,  3.12861603e+00,  3.16542083e+00,\n",
       "         3.20222563e+00,  3.23903043e+00,  3.27583523e+00,  3.31264003e+00,\n",
       "         3.34944483e+00,  3.38624963e+00,  3.42305443e+00,  3.45985922e+00,\n",
       "         3.49666402e+00,  3.53346882e+00,  3.57027362e+00,  3.60707842e+00])}"
      ]
     },
     "execution_count": 13,
     "metadata": {},
     "output_type": "execute_result"
    }
   ],
   "source": [
    "lr.__dict__"
   ]
  },
  {
   "cell_type": "markdown",
   "metadata": {},
   "source": [
    "### Inheritance\n",
    "* defining a new class (*derived* or *child* class) from another class (*base* or *parent* class)\n",
    "    * reuse what you can instead of repeating yourself\n",
    "* derived class inherits features of the base class\n",
    "    * we can ofc add to it\n",
    "* let's define another class from which we will inherit"
   ]
  },
  {
   "cell_type": "code",
   "execution_count": 14,
   "metadata": {},
   "outputs": [],
   "source": [
    "class Metrics:\n",
    "    #Martin Hronec does not declaring variables\n",
    "    \n",
    "    def sse(self):\n",
    "        '''sum of squared errors'''\n",
    "        squared_errors = (self.target - self.predict(self.data)) ** 2 #although there is not self.data intialized, in Python, we can override it later\n",
    "        # is it a good thing? are there any cons?\n",
    "        \n",
    "        self.sq_error_ = np.sum(squared_errors)\n",
    "        return self.sq_error_\n",
    "        \n",
    "    def sst(self):\n",
    "        '''total sum of squared errors'''\n",
    "        avg_y = np.mean(self.target)\n",
    "        squared_errors = (self.target - avg_y) ** 2\n",
    "        self.sst_ = np.sum(squared_errors)\n",
    "        return self.sst_\n",
    "    \n",
    "    def r_squared(self):\n",
    "        '''r^2: coefficient of determination'''\n",
    "        self.r_sq_ = 1 - self.sse()/self.sst()\n",
    "        return self.r_sq_\n",
    "    \n",
    "    def adj_r_squared(self):\n",
    "        '''adjusted r^2'''\n",
    "        self.adj_r_sq_ = 1 - (self.sse()/self._dfe) / (self.sst()/self._dft)\n",
    "        return self.adj_r_sq_\n",
    "    \n",
    "    def mse(self):\n",
    "        '''mean squared error'''\n",
    "        self.mse_ = np.mean( (self.predict(self.data) - self.target) ** 2 )\n",
    "        return self.mse_"
   ]
  },
  {
   "cell_type": "markdown",
   "metadata": {},
   "source": [
    "* let's actually inherit something"
   ]
  },
  {
   "cell_type": "code",
   "execution_count": 15,
   "metadata": {},
   "outputs": [],
   "source": [
    "class LinearRegressionWithInheritance(Metrics):\n",
    "    \n",
    "    def __init__(self, fit_intercept=True):\n",
    "        self.coef_ = None\n",
    "        self.intercept_ = None\n",
    "        self._fit_intercept = fit_intercept\n",
    "        self.predictions = None\n",
    "        \n",
    "    def fit(self, X, y):\n",
    "        \"\"\"\n",
    "        Fit model coefficients.\n",
    "\n",
    "        Arguments:\n",
    "        X: 1D or 2D numpy array \n",
    "        y: 1D numpy array\n",
    "        \"\"\"\n",
    "        \n",
    "        self.data = X\n",
    "        self.target = y \n",
    "        \n",
    "        # check if X is 1D or 2D array\n",
    "        if len(X.shape) == 1:\n",
    "            X = X.reshape(-1,1)\n",
    "        \n",
    "        # add bias if fit_intercept is True\n",
    "        if self._fit_intercept:\n",
    "            X = np.c_[np.ones(X.shape[0]), X]\n",
    "        \n",
    "        # closed form solution\n",
    "        xTx = np.dot(X.T, X)\n",
    "        inverse_xTx = np.linalg.inv(xTx)\n",
    "        xTy = np.dot(X.T, y)\n",
    "        coef = np.dot(inverse_xTx, xTy)\n",
    "        \n",
    "        # set attributes\n",
    "        if self._fit_intercept:\n",
    "            self.intercept_ = coef[0]\n",
    "            self.coef_ = coef[1:]\n",
    "        else:\n",
    "            self.intercept_ = 0\n",
    "            self.coef_ = coef\n",
    "            \n",
    "    def predict(self, X):\n",
    "            \n",
    "        \"\"\"\n",
    "        Output model prediction.\n",
    "\n",
    "        Arguments:\n",
    "        X: 1D or 2D numpy array \n",
    "        \"\"\"\n",
    "\n",
    "        # check if X is 1D or 2D array\n",
    "        if len(X.shape) == 1:\n",
    "            X = X.reshape(-1,1) \n",
    "        self.predictions =  self.intercept_ + np.dot(X, self.coef_)\n",
    "        return self.predictions"
   ]
  },
  {
   "cell_type": "code",
   "execution_count": 16,
   "metadata": {},
   "outputs": [],
   "source": [
    "# see how it works\n",
    "lri = LinearRegressionWithInheritance()\n",
    "lri.fit(X, y)"
   ]
  },
  {
   "cell_type": "code",
   "execution_count": 17,
   "metadata": {},
   "outputs": [
    {
     "data": {
      "text/plain": [
       "{'coef_': array([0.40485279]),\n",
       " 'intercept_': -0.44144945931173574,\n",
       " '_fit_intercept': True,\n",
       " 'predictions': None,\n",
       " 'data': array([ 1.        ,  1.09090909,  1.18181818,  1.27272727,  1.36363636,\n",
       "         1.45454545,  1.54545455,  1.63636364,  1.72727273,  1.81818182,\n",
       "         1.90909091,  2.        ,  2.09090909,  2.18181818,  2.27272727,\n",
       "         2.36363636,  2.45454545,  2.54545455,  2.63636364,  2.72727273,\n",
       "         2.81818182,  2.90909091,  3.        ,  3.09090909,  3.18181818,\n",
       "         3.27272727,  3.36363636,  3.45454545,  3.54545455,  3.63636364,\n",
       "         3.72727273,  3.81818182,  3.90909091,  4.        ,  4.09090909,\n",
       "         4.18181818,  4.27272727,  4.36363636,  4.45454545,  4.54545455,\n",
       "         4.63636364,  4.72727273,  4.81818182,  4.90909091,  5.        ,\n",
       "         5.09090909,  5.18181818,  5.27272727,  5.36363636,  5.45454545,\n",
       "         5.54545455,  5.63636364,  5.72727273,  5.81818182,  5.90909091,\n",
       "         6.        ,  6.09090909,  6.18181818,  6.27272727,  6.36363636,\n",
       "         6.45454545,  6.54545455,  6.63636364,  6.72727273,  6.81818182,\n",
       "         6.90909091,  7.        ,  7.09090909,  7.18181818,  7.27272727,\n",
       "         7.36363636,  7.45454545,  7.54545455,  7.63636364,  7.72727273,\n",
       "         7.81818182,  7.90909091,  8.        ,  8.09090909,  8.18181818,\n",
       "         8.27272727,  8.36363636,  8.45454545,  8.54545455,  8.63636364,\n",
       "         8.72727273,  8.81818182,  8.90909091,  9.        ,  9.09090909,\n",
       "         9.18181818,  9.27272727,  9.36363636,  9.45454545,  9.54545455,\n",
       "         9.63636364,  9.72727273,  9.81818182,  9.90909091, 10.        ]),\n",
       " 'target': array([ 1.43918195e-01,  7.21904122e-01,  2.11656305e+00,  4.46780302e-01,\n",
       "        -6.00621108e-01, -1.02713227e+00, -9.89768885e-02,  6.18237314e-01,\n",
       "         2.20223862e-01, -8.29240519e-01, -1.59239044e+00,  4.19048811e-01,\n",
       "        -5.14014051e-01,  9.82280266e-01,  7.20176038e-01, -5.81982924e-03,\n",
       "         4.95150885e-01,  1.41497400e+00, -3.40175315e-01, -1.76011712e-01,\n",
       "        -1.39374447e+00,  5.65053767e-01,  2.28039559e+00,  6.42016724e-01,\n",
       "         2.30370951e+00,  7.57647178e-01,  1.16599443e+00,  1.15666239e+00,\n",
       "         3.37393502e+00,  1.22392118e+00,  4.88603759e-01,  1.04820671e+00,\n",
       "         1.03488310e+00,  7.86424139e-01,  2.35470329e+00,  3.41201972e-01,\n",
       "         1.44819395e+00,  6.76431484e-01,  1.56367942e+00,  9.19545120e-01,\n",
       "         2.41334477e+00,  2.21582766e+00,  1.59578058e+00,  1.94411046e+00,\n",
       "         1.89401699e+00,  3.49848751e+00,  2.32127258e+00,  2.36651179e+00,\n",
       "         1.26058133e+00,  7.69768412e-01,  9.88937571e-01,  2.27311630e-01,\n",
       "         1.97764137e+00,  2.33736074e+00,  2.09119373e+00,  1.37439969e+00,\n",
       "         7.03803516e-01,  1.85689365e+00,  2.68701857e+00,  3.17473005e+00,\n",
       "         1.83811082e+00,  2.30613076e+00,  2.39389979e+00, -6.97187804e-01,\n",
       "         2.23545997e+00,  3.23295468e+00,  3.95929346e+00,  1.31268429e+00,\n",
       "         2.60101106e+00,  3.84302450e+00,  3.03390554e+00,  2.02237299e+00,\n",
       "         2.78157580e+00,  2.56986317e+00,  3.38292259e+00,  1.92356067e+00,\n",
       "         2.54411963e+00,  4.44454067e+00,  1.76272071e+00,  1.61533414e+00,\n",
       "         4.82750520e-01,  5.53187982e+00,  3.29443497e+00,  2.26268374e+00,\n",
       "         3.98286985e+00,  3.42915666e+00,  2.92982015e+00,  4.04243518e+00,\n",
       "         3.15809056e+00,  5.82188282e+00,  1.62337687e+00,  3.97906821e+00,\n",
       "         3.34653711e+00,  2.79727300e+00,  3.71098107e+00,  1.93895815e+00,\n",
       "         4.74801008e+00,  3.86861946e+00,  2.57252969e+00,  2.34510052e+00])}"
      ]
     },
     "execution_count": 17,
     "metadata": {},
     "output_type": "execute_result"
    }
   ],
   "source": [
    "lri.__dict__"
   ]
  },
  {
   "cell_type": "code",
   "execution_count": 18,
   "metadata": {},
   "outputs": [
    {
     "data": {
      "text/plain": [
       "0.5234349519395247"
      ]
     },
     "execution_count": 18,
     "metadata": {},
     "output_type": "execute_result"
    }
   ],
   "source": [
    "lri.r_squared()"
   ]
  },
  {
   "cell_type": "markdown",
   "metadata": {},
   "source": [
    "* class can be derived from more than one base class in Python, so called multiple inheritance\n",
    "    * features of all the base classes are inherited into the derived class"
   ]
  },
  {
   "cell_type": "code",
   "execution_count": 19,
   "metadata": {},
   "outputs": [],
   "source": [
    "class Base1:\n",
    "    pass\n",
    "\n",
    "class Base2:\n",
    "    pass\n",
    "\n",
    "class MultiDerived(Base1, Base2):\n",
    "    pass"
   ]
  },
  {
   "cell_type": "markdown",
   "metadata": {},
   "source": [
    "* class can also inherit from an already derived class, so called *multilevel inheritance*"
   ]
  },
  {
   "cell_type": "code",
   "execution_count": 20,
   "metadata": {},
   "outputs": [],
   "source": [
    "class Base:\n",
    "    pass\n",
    "\n",
    "class Derived1(Base):\n",
    "    pass\n",
    "\n",
    "class Derived2(Derived1):\n",
    "    pass"
   ]
  },
  {
   "cell_type": "markdown",
   "metadata": {},
   "source": [
    "* every class in Python is derived from the class `object`"
   ]
  },
  {
   "cell_type": "code",
   "execution_count": 21,
   "metadata": {},
   "outputs": [
    {
     "data": {
      "text/plain": [
       "\u001b[1;31mInit signature:\u001b[0m \u001b[0mobject\u001b[0m\u001b[1;33m(\u001b[0m\u001b[1;33m)\u001b[0m\u001b[1;33m\u001b[0m\u001b[1;33m\u001b[0m\u001b[0m\n",
       "\u001b[1;31mDocstring:\u001b[0m      The most base type\n",
       "\u001b[1;31mType:\u001b[0m           type\n",
       "\u001b[1;31mSubclasses:\u001b[0m     type, weakref, weakcallableproxy, weakproxy, int, bytearray, bytes, list, NoneType, NotImplementedType, ...\n"
      ]
     },
     "metadata": {},
     "output_type": "display_data"
    }
   ],
   "source": [
    "?object"
   ]
  },
  {
   "cell_type": "markdown",
   "metadata": {},
   "source": [
    "## Notes\n",
    "\n",
    "* in the multiple inheritance scenario, any specified attribute is searched first in the current class\n",
    "    * if not found, the search continues into parent classes based on the depth, i.e. [MultiDerived, Base1, Base2, object]\n",
    "    * like \n",
    "* if we define the same method in base as well as derived class (but differently), i.e. **overriding methods**\n",
    "    * instances of the new class will have the new behavior and the instances of the existing class will have the old behavior\n",
    "           "
   ]
  },
  {
   "cell_type": "markdown",
   "metadata": {},
   "source": [
    "### Composition\n",
    "* imagine a class that needs to accumulate an arbitrary number of objects\n",
    "    * a list can do that, so we should subclass (inherit) list, right?\n",
    "        * list also support a number of other operations (iterate over the objects, sort, reverse, etc.)\n",
    "* do we need all those features?\n",
    "    * if no, our class should only contain a list (rather than fully inheriting from it)\n",
    "* **composition** is used when we want to use some aspect of another class without promising all of the features of that other class"
   ]
  },
  {
   "cell_type": "markdown",
   "metadata": {},
   "source": [
    "### Example of OOP in the real world\n",
    "* [statsmodels](https://www.statsmodels.org/dev/index.html) is a Python module for the estimation of statistical models, conducting statistical tests, etc.\n",
    "* let's look at its codebase"
   ]
  },
  {
   "cell_type": "markdown",
   "metadata": {},
   "source": [
    "## Docstrings in Python\n",
    "* **Python Docstring** is the documentation string (written as a first statement), part of the:\n",
    "    * class, module, function, method, etc.\n",
    "* a descriptive text written by a programmer mainly for themselves to know what the line of code or expression does\n",
    "* docstrings are accesible as the `doc` attribute in the Python objects (as well as the built-in `help()`\n",
    "* \"rules\" are only conventions really, based on the [PEP standard](https://www.python.org/dev/peps/pep-0008/), specifically [PEP 257](https://www.python.org/dev/peps/pep-0257/) dealing with *docstring* conventions\n",
    "    * PEP means Python Enhancement Proposals \n",
    "* *one-line* vs *multi-line* Docstring\n"
   ]
  },
  {
   "cell_type": "markdown",
   "metadata": {},
   "source": [
    "### One-liner"
   ]
  },
  {
   "cell_type": "code",
   "execution_count": 22,
   "metadata": {},
   "outputs": [],
   "source": [
    "def cube(a):\n",
    "    '''Returns the third power of number a.'''\n",
    "    return a**3"
   ]
  },
  {
   "cell_type": "code",
   "execution_count": 23,
   "metadata": {},
   "outputs": [
    {
     "data": {
      "text/plain": [
       "'Returns the third power of number a.'"
      ]
     },
     "execution_count": 23,
     "metadata": {},
     "output_type": "execute_result"
    }
   ],
   "source": [
    "cube.__doc__"
   ]
  },
  {
   "cell_type": "code",
   "execution_count": 24,
   "metadata": {},
   "outputs": [
    {
     "name": "stdout",
     "output_type": "stream",
     "text": [
      "Help on function cube in module __main__:\n",
      "\n",
      "cube(a)\n",
      "    Returns the third power of number a.\n",
      "\n"
     ]
    }
   ],
   "source": [
    "help(cube)"
   ]
  },
  {
   "cell_type": "markdown",
   "metadata": {},
   "source": [
    "* Some rules\n",
    "    * The line begins with a capital letter and end with a period.\n",
    "    * The closing quotes are on the same line as the opening quotes.\n",
    "    * There's no blank line either before or after the Docstring."
   ]
  },
  {
   "cell_type": "markdown",
   "metadata": {},
   "source": [
    "### Multi-liner"
   ]
  },
  {
   "cell_type": "code",
   "execution_count": 25,
   "metadata": {},
   "outputs": [],
   "source": [
    "def some_function(arg):\n",
    "    \"\"\"Summary or Description of the Function\n",
    "\n",
    "    Parameters:\n",
    "    arg (int): Description of arg\n",
    "\n",
    "    Returns:\n",
    "    int:Returning value\n",
    "\n",
    "   \"\"\"\n",
    "\n",
    "    return argument1"
   ]
  },
  {
   "cell_type": "code",
   "execution_count": 26,
   "metadata": {},
   "outputs": [
    {
     "name": "stdout",
     "output_type": "stream",
     "text": [
      "Summary or Description of the Function\n",
      "\n",
      "    Parameters:\n",
      "    arg (int): Description of arg\n",
      "\n",
      "    Returns:\n",
      "    int:Returning value\n",
      "\n",
      "   \n"
     ]
    }
   ],
   "source": [
    "print(some_function.__doc__)"
   ]
  },
  {
   "cell_type": "markdown",
   "metadata": {},
   "source": [
    "## Common Docstring Formats\n",
    "* many Docstrings format available\n",
    "    * good idea to use those easily recognized by the other programmers as well as Docstring parsers\n",
    "* use formatting type supported by [Sphinx](http://www.sphinx-doc.org/en/master/), Python documentation generator\n",
    "* the most common formats:\n",
    "\n",
    "| Type                    | Description                                                              |\n",
    "|-------------------------|--------------------------------------------------------------------------|\n",
    "| Numpy/Scipy Docstring   | Combination of reStructured and GoogleDocstrings and supported by Sphinx |\n",
    "| Pydoc                   | Standard documentation module for Python and supported by Sphinx         |\n",
    "| Google Docstring        | Easy and intuitive to use (used for the shorter docs)                    |"
   ]
  },
  {
   "cell_type": "code",
   "execution_count": 27,
   "metadata": {},
   "outputs": [
    {
     "name": "stdout",
     "output_type": "stream",
     "text": [
      "Help on function dot in module numpy:\n",
      "\n",
      "dot(...)\n",
      "    dot(a, b, out=None)\n",
      "    \n",
      "    Dot product of two arrays. Specifically,\n",
      "    \n",
      "    - If both `a` and `b` are 1-D arrays, it is inner product of vectors\n",
      "      (without complex conjugation).\n",
      "    \n",
      "    - If both `a` and `b` are 2-D arrays, it is matrix multiplication,\n",
      "      but using :func:`matmul` or ``a @ b`` is preferred.\n",
      "    \n",
      "    - If either `a` or `b` is 0-D (scalar), it is equivalent to :func:`multiply`\n",
      "      and using ``numpy.multiply(a, b)`` or ``a * b`` is preferred.\n",
      "    \n",
      "    - If `a` is an N-D array and `b` is a 1-D array, it is a sum product over\n",
      "      the last axis of `a` and `b`.\n",
      "    \n",
      "    - If `a` is an N-D array and `b` is an M-D array (where ``M>=2``), it is a\n",
      "      sum product over the last axis of `a` and the second-to-last axis of `b`::\n",
      "    \n",
      "        dot(a, b)[i,j,k,m] = sum(a[i,j,:] * b[k,:,m])\n",
      "    \n",
      "    Parameters\n",
      "    ----------\n",
      "    a : array_like\n",
      "        First argument.\n",
      "    b : array_like\n",
      "        Second argument.\n",
      "    out : ndarray, optional\n",
      "        Output argument. This must have the exact kind that would be returned\n",
      "        if it was not used. In particular, it must have the right type, must be\n",
      "        C-contiguous, and its dtype must be the dtype that would be returned\n",
      "        for `dot(a,b)`. This is a performance feature. Therefore, if these\n",
      "        conditions are not met, an exception is raised, instead of attempting\n",
      "        to be flexible.\n",
      "    \n",
      "    Returns\n",
      "    -------\n",
      "    output : ndarray\n",
      "        Returns the dot product of `a` and `b`.  If `a` and `b` are both\n",
      "        scalars or both 1-D arrays then a scalar is returned; otherwise\n",
      "        an array is returned.\n",
      "        If `out` is given, then it is returned.\n",
      "    \n",
      "    Raises\n",
      "    ------\n",
      "    ValueError\n",
      "        If the last dimension of `a` is not the same size as\n",
      "        the second-to-last dimension of `b`.\n",
      "    \n",
      "    See Also\n",
      "    --------\n",
      "    vdot : Complex-conjugating dot product.\n",
      "    tensordot : Sum products over arbitrary axes.\n",
      "    einsum : Einstein summation convention.\n",
      "    matmul : '@' operator as method with out parameter.\n",
      "    \n",
      "    Examples\n",
      "    --------\n",
      "    >>> np.dot(3, 4)\n",
      "    12\n",
      "    \n",
      "    Neither argument is complex-conjugated:\n",
      "    \n",
      "    >>> np.dot([2j, 3j], [2j, 3j])\n",
      "    (-13+0j)\n",
      "    \n",
      "    For 2-D arrays it is the matrix product:\n",
      "    \n",
      "    >>> a = [[1, 0], [0, 1]]\n",
      "    >>> b = [[4, 1], [2, 2]]\n",
      "    >>> np.dot(a, b)\n",
      "    array([[4, 1],\n",
      "           [2, 2]])\n",
      "    \n",
      "    >>> a = np.arange(3*4*5*6).reshape((3,4,5,6))\n",
      "    >>> b = np.arange(3*4*5*6)[::-1].reshape((5,4,6,3))\n",
      "    >>> np.dot(a, b)[2,3,2,1,2,2]\n",
      "    499128\n",
      "    >>> sum(a[2,3,2,:] * b[1,2,:,2])\n",
      "    499128\n",
      "\n"
     ]
    }
   ],
   "source": [
    "help(np.dot)"
   ]
  },
  {
   "cell_type": "code",
   "execution_count": null,
   "metadata": {},
   "outputs": [],
   "source": []
  }
 ],
 "metadata": {
  "kernelspec": {
   "display_name": "Python 3",
   "language": "python",
   "name": "python3"
  },
  "language_info": {
   "codemirror_mode": {
    "name": "ipython",
    "version": 3
   },
   "file_extension": ".py",
   "mimetype": "text/x-python",
   "name": "python",
   "nbconvert_exporter": "python",
   "pygments_lexer": "ipython3",
   "version": "3.7.3"
  }
 },
 "nbformat": 4,
 "nbformat_minor": 4
}
